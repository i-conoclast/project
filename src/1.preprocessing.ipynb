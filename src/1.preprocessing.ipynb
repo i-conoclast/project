{
 "cells": [
  {
   "cell_type": "code",
   "execution_count": 1,
   "outputs": [],
   "source": [
    "import pandas as pd\n",
    "import numpy as np\n",
    "\n",
    "import datetime\n",
    "from dateutil.parser import parse\n",
    "from sklearn.preprocessing import OneHotEncoder\n",
    "from sklearn.preprocessing import LabelEncoder\n",
    "ohe = OneHotEncoder()\n",
    "le = LabelEncoder()"
   ],
   "metadata": {
    "collapsed": false,
    "pycharm": {
     "name": "#%%\n"
    }
   }
  },
  {
   "cell_type": "code",
   "execution_count": 6,
   "outputs": [],
   "source": [
    "raw_path = '../data/1.raw_csv/'\n",
    "path = '../data/2.Preprocessed/'"
   ],
   "metadata": {
    "collapsed": false,
    "pycharm": {
     "name": "#%%\n"
    }
   }
  },
  {
   "cell_type": "markdown",
   "source": [
    "## Accounts"
   ],
   "metadata": {
    "collapsed": false
   }
  },
  {
   "cell_type": "code",
   "execution_count": 7,
   "outputs": [],
   "source": [
    "accounts = pd.read_csv(raw_path + 'accounts.csv')"
   ],
   "metadata": {
    "collapsed": false,
    "pycharm": {
     "name": "#%%\n"
    }
   }
  },
  {
   "cell_type": "markdown",
   "source": [
    "#### accounts: 최근 접속 일자 변환"
   ],
   "metadata": {
    "collapsed": false
   }
  },
  {
   "cell_type": "code",
   "execution_count": 8,
   "outputs": [],
   "source": [
    "accounts['last_login_dts'] = pd.to_datetime(accounts['last_login_dts']*1000000)\n",
    "accounts.dropna(inplace=True)"
   ],
   "metadata": {
    "collapsed": false,
    "pycharm": {
     "name": "#%%\n"
    }
   }
  },
  {
   "cell_type": "markdown",
   "source": [
    "#### accounts: gender 변환"
   ],
   "metadata": {
    "collapsed": false
   }
  },
  {
   "cell_type": "code",
   "execution_count": 9,
   "outputs": [
    {
     "data": {
      "text/plain": "array(['M', 'F', '-', '0'], dtype=object)"
     },
     "execution_count": 9,
     "metadata": {},
     "output_type": "execute_result"
    }
   ],
   "source": [
    "accounts.gender.unique()"
   ],
   "metadata": {
    "collapsed": false,
    "pycharm": {
     "name": "#%%\n"
    }
   }
  },
  {
   "cell_type": "code",
   "execution_count": 10,
   "outputs": [],
   "source": [
    "accounts['gender'].replace(to_replace = '-', value = np.nan, inplace = True)\n",
    "accounts['gender'].replace(to_replace = '0', value = np.nan, inplace = True)\n",
    "accounts.dropna(inplace=True)\n",
    "accounts = pd.get_dummies(accounts, columns=['gender'])"
   ],
   "metadata": {
    "collapsed": false,
    "pycharm": {
     "name": "#%%\n"
    }
   }
  },
  {
   "cell_type": "markdown",
   "source": [
    "#### accounts: age 결측처리"
   ],
   "metadata": {
    "collapsed": false
   }
  },
  {
   "cell_type": "code",
   "execution_count": 11,
   "outputs": [
    {
     "data": {
      "text/plain": "array([ 43.,  40.,  57.,  45.,  52.,  49.,  48.,  46.,  47.,  42.,  41.,\n        37.,  35.,  66.,  56.,  44.,  50.,  51.,  34.,  58.,  72.,  59.,\n        53.,  36.,  74.,  54.,  55.,  61.,  39.,  63.,  38.,  32.,  69.,\n        65.,  64.,  30.,  60.,  62.,  75.,  31.,  33.,  29.,  67.,  17.,\n        73.,  28.,  26.,  27.,  24.,  77.,  68.,  70.,  25.,  79.,  76.,\n        23.,  85.,  21.,  18.,  20.,  22.,  12.,  19.,  14.,  71.,  11.,\n        15., 100.,  16.,  81.,  13.,  -1.,  86.,  10.,  80.,   8.,   9.,\n        83.,  78.,  94.,  82.,  90.,  95.,  88.,   4.,  87.,  89.,  84.,\n        91.,  93.,  92.,  96.,  98.,  99.,   6.,   5.,  97.,   7.,   2.,\n         3.])"
     },
     "execution_count": 11,
     "metadata": {},
     "output_type": "execute_result"
    }
   ],
   "source": [
    "accounts.age.unique()"
   ],
   "metadata": {
    "collapsed": false,
    "pycharm": {
     "name": "#%%\n"
    }
   }
  },
  {
   "cell_type": "code",
   "execution_count": 12,
   "outputs": [],
   "source": [
    "accounts['age'].replace(to_replace = -1, value = np.nan, inplace = True) # 결측값 = -1\n",
    "accounts['age'] = accounts['age'].apply(lambda x : np.nan if x <=7 else x) # 7세 이하는 결측처리"
   ],
   "metadata": {
    "collapsed": false,
    "pycharm": {
     "name": "#%%\n"
    }
   }
  },
  {
   "cell_type": "code",
   "execution_count": 13,
   "outputs": [
    {
     "data": {
      "text/plain": "0"
     },
     "execution_count": 13,
     "metadata": {},
     "output_type": "execute_result"
    }
   ],
   "source": [
    "accounts.dropna(inplace=True)\n",
    "accounts['age'].isnull().sum()"
   ],
   "metadata": {
    "collapsed": false,
    "pycharm": {
     "name": "#%%\n"
    }
   }
  },
  {
   "cell_type": "markdown",
   "source": [
    "#### accounts: age 이산화"
   ],
   "metadata": {
    "collapsed": false,
    "pycharm": {
     "name": "#%% md\n"
    }
   }
  },
  {
   "cell_type": "code",
   "execution_count": 14,
   "outputs": [],
   "source": [
    "accounts['age'] = pd.cut(accounts['age'], [8, 12, 19, 30, 42, 51, 64, np.inf],\n",
    "                        labels=['0', '1', '2', '3', '4', '5', '6'], right=False)"
   ],
   "metadata": {
    "collapsed": false,
    "pycharm": {
     "name": "#%%\n"
    }
   }
  },
  {
   "cell_type": "code",
   "execution_count": 60,
   "outputs": [],
   "source": [
    "accounts = pd.get_dummies(accounts, columns=['age'])"
   ],
   "metadata": {
    "collapsed": false,
    "pycharm": {
     "name": "#%%\n"
    }
   }
  },
  {
   "cell_type": "markdown",
   "source": [
    "#### accounts: 주소"
   ],
   "metadata": {
    "collapsed": false
   }
  },
  {
   "cell_type": "code",
   "execution_count": 15,
   "outputs": [
    {
     "data": {
      "text/plain": "'경기도'"
     },
     "execution_count": 15,
     "metadata": {},
     "output_type": "execute_result"
    }
   ],
   "source": [
    "accounts['address'][0].split(' ')[0]"
   ],
   "metadata": {
    "collapsed": false,
    "pycharm": {
     "name": "#%%\n"
    }
   }
  },
  {
   "cell_type": "code",
   "execution_count": 16,
   "outputs": [],
   "source": [
    "# 수도권만 1, 나머지 0으로 설정\n",
    "accounts['address_is'] = accounts['address'].apply(lambda x: 0 if '경기' in x.split(' ')[0] else 1  if '인천' in x.split(' ')[0] else 1 if '서울' in x.split(' ')[0] else 1)"
   ],
   "metadata": {
    "collapsed": false,
    "pycharm": {
     "name": "#%%\n"
    }
   }
  },
  {
   "cell_type": "code",
   "execution_count": 17,
   "outputs": [
    {
     "data": {
      "text/plain": "0"
     },
     "execution_count": 17,
     "metadata": {},
     "output_type": "execute_result"
    }
   ],
   "source": [
    "accounts.dropna(inplace=True)\n",
    "accounts['address_is'].isnull().sum()"
   ],
   "metadata": {
    "collapsed": false,
    "pycharm": {
     "name": "#%%\n"
    }
   }
  },
  {
   "cell_type": "code",
   "execution_count": 58,
   "outputs": [],
   "source": [
    "accounts = pd.get_dummies(accounts, columns=['address_is'])"
   ],
   "metadata": {
    "collapsed": false,
    "pycharm": {
     "name": "#%%\n"
    }
   }
  },
  {
   "cell_type": "code",
   "execution_count": 63,
   "outputs": [],
   "source": [
    "gen_col = [col for col in accounts.columns if col.startswith('gender')]\n",
    "add_col = [col for col in accounts.columns if col.startswith('address_is')]\n",
    "age_col = [col for col in accounts.columns if col.startswith('age')]"
   ],
   "metadata": {
    "collapsed": false,
    "pycharm": {
     "name": "#%%\n"
    }
   }
  },
  {
   "cell_type": "markdown",
   "source": [
    "#### 저장"
   ],
   "metadata": {
    "collapsed": false
   }
  },
  {
   "cell_type": "code",
   "execution_count": 67,
   "outputs": [],
   "source": [
    "accounts = accounts[['account_id', 'last_login_dts'] + gen_col + add_col + age_col]\n",
    "accounts.to_csv(path + 'accounts_preprocessed.csv',encoding='utf-8', index=None)"
   ],
   "metadata": {
    "collapsed": false,
    "pycharm": {
     "name": "#%%\n"
    }
   }
  },
  {
   "cell_type": "markdown",
   "source": [
    "## Orders"
   ],
   "metadata": {
    "collapsed": false
   }
  },
  {
   "cell_type": "markdown",
   "source": [
    "### orders: java시간 변환"
   ],
   "metadata": {
    "collapsed": false
   }
  },
  {
   "cell_type": "code",
   "execution_count": 19,
   "outputs": [],
   "source": [
    "orders = pd.read_csv(raw_path + 'orders.csv')"
   ],
   "metadata": {
    "collapsed": false,
    "pycharm": {
     "name": "#%%\n"
    }
   }
  },
  {
   "cell_type": "code",
   "execution_count": 22,
   "outputs": [],
   "source": [
    "def invert_javatime(javatime):\n",
    "  seconds = javatime / 1000\n",
    "  sub_seconds = (javatime % 1000.0) / 1000.0\n",
    "  date = datetime.datetime.fromtimestamp(seconds + sub_seconds)\n",
    "  return date"
   ],
   "metadata": {
    "collapsed": false,
    "pycharm": {
     "name": "#%%\n"
    }
   }
  },
  {
   "cell_type": "code",
   "execution_count": 23,
   "outputs": [
    {
     "data": {
      "text/plain": "datetime.datetime(2020, 5, 14, 11, 40, 16, 380000)"
     },
     "execution_count": 23,
     "metadata": {},
     "output_type": "execute_result"
    }
   ],
   "source": [
    "java_timestamp = 1589424016190\n",
    "invert_javatime(java_timestamp)"
   ],
   "metadata": {
    "collapsed": false,
    "pycharm": {
     "name": "#%%\n"
    }
   }
  },
  {
   "cell_type": "code",
   "execution_count": 24,
   "outputs": [
    {
     "data": {
      "text/plain": "          order_id  account_id  product_id    price              created_at\n0        218519157      100777    84936431  10800.0 2020-03-27 10:41:36.286\n1        221364615      100777    23116461   6300.0 2020-05-03 18:31:28.266\n2        218519157      100777    86641767  14850.0 2020-03-27 10:41:36.286\n3        223489288      100777     6315392  10800.0 2020-06-03 14:21:50.474\n4        218519157      100777    85010480  43200.0 2020-03-27 10:41:36.286\n...            ...         ...         ...      ...                     ...\n8382509  223843200    16987547     3799797   9000.0 2020-06-08 23:50:52.854\n8382510  223850682    16988206    73776838  18000.0 2020-06-09 07:09:55.166\n8382511  223871729    16989204    90496918  66600.0 2020-06-09 13:48:23.986\n8382512  223887913    16990132     7217755  12600.0 2020-06-09 18:12:26.054\n8382513  223901153    16990839    80223743  25200.0 2020-06-09 22:29:11.200\n\n[8382514 rows x 5 columns]",
      "text/html": "<div>\n<style scoped>\n    .dataframe tbody tr th:only-of-type {\n        vertical-align: middle;\n    }\n\n    .dataframe tbody tr th {\n        vertical-align: top;\n    }\n\n    .dataframe thead th {\n        text-align: right;\n    }\n</style>\n<table border=\"1\" class=\"dataframe\">\n  <thead>\n    <tr style=\"text-align: right;\">\n      <th></th>\n      <th>order_id</th>\n      <th>account_id</th>\n      <th>product_id</th>\n      <th>price</th>\n      <th>created_at</th>\n    </tr>\n  </thead>\n  <tbody>\n    <tr>\n      <th>0</th>\n      <td>218519157</td>\n      <td>100777</td>\n      <td>84936431</td>\n      <td>10800.0</td>\n      <td>2020-03-27 10:41:36.286</td>\n    </tr>\n    <tr>\n      <th>1</th>\n      <td>221364615</td>\n      <td>100777</td>\n      <td>23116461</td>\n      <td>6300.0</td>\n      <td>2020-05-03 18:31:28.266</td>\n    </tr>\n    <tr>\n      <th>2</th>\n      <td>218519157</td>\n      <td>100777</td>\n      <td>86641767</td>\n      <td>14850.0</td>\n      <td>2020-03-27 10:41:36.286</td>\n    </tr>\n    <tr>\n      <th>3</th>\n      <td>223489288</td>\n      <td>100777</td>\n      <td>6315392</td>\n      <td>10800.0</td>\n      <td>2020-06-03 14:21:50.474</td>\n    </tr>\n    <tr>\n      <th>4</th>\n      <td>218519157</td>\n      <td>100777</td>\n      <td>85010480</td>\n      <td>43200.0</td>\n      <td>2020-03-27 10:41:36.286</td>\n    </tr>\n    <tr>\n      <th>...</th>\n      <td>...</td>\n      <td>...</td>\n      <td>...</td>\n      <td>...</td>\n      <td>...</td>\n    </tr>\n    <tr>\n      <th>8382509</th>\n      <td>223843200</td>\n      <td>16987547</td>\n      <td>3799797</td>\n      <td>9000.0</td>\n      <td>2020-06-08 23:50:52.854</td>\n    </tr>\n    <tr>\n      <th>8382510</th>\n      <td>223850682</td>\n      <td>16988206</td>\n      <td>73776838</td>\n      <td>18000.0</td>\n      <td>2020-06-09 07:09:55.166</td>\n    </tr>\n    <tr>\n      <th>8382511</th>\n      <td>223871729</td>\n      <td>16989204</td>\n      <td>90496918</td>\n      <td>66600.0</td>\n      <td>2020-06-09 13:48:23.986</td>\n    </tr>\n    <tr>\n      <th>8382512</th>\n      <td>223887913</td>\n      <td>16990132</td>\n      <td>7217755</td>\n      <td>12600.0</td>\n      <td>2020-06-09 18:12:26.054</td>\n    </tr>\n    <tr>\n      <th>8382513</th>\n      <td>223901153</td>\n      <td>16990839</td>\n      <td>80223743</td>\n      <td>25200.0</td>\n      <td>2020-06-09 22:29:11.200</td>\n    </tr>\n  </tbody>\n</table>\n<p>8382514 rows × 5 columns</p>\n</div>"
     },
     "execution_count": 24,
     "metadata": {},
     "output_type": "execute_result"
    }
   ],
   "source": [
    "orders['created_at'] = orders['created_at'].apply(lambda x : invert_javatime(x))\n",
    "orders"
   ],
   "metadata": {
    "collapsed": false,
    "pycharm": {
     "name": "#%%\n"
    }
   }
  },
  {
   "cell_type": "markdown",
   "source": [
    "### 저장"
   ],
   "metadata": {
    "collapsed": false
   }
  },
  {
   "cell_type": "code",
   "execution_count": 25,
   "outputs": [],
   "source": [
    "orders.to_csv(path+'orders_preprocessed.csv',encoding='utf-8')"
   ],
   "metadata": {
    "collapsed": false,
    "pycharm": {
     "name": "#%%\n"
    }
   }
  },
  {
   "cell_type": "markdown",
   "source": [
    "## Products"
   ],
   "metadata": {
    "collapsed": false
   }
  },
  {
   "cell_type": "code",
   "execution_count": 26,
   "outputs": [],
   "source": [
    "products = pd.read_csv(raw_path+'products.csv',dtype={'published_at':str})"
   ],
   "metadata": {
    "collapsed": false,
    "pycharm": {
     "name": "#%%\n"
    }
   }
  },
  {
   "cell_type": "code",
   "execution_count": 27,
   "outputs": [],
   "source": [
    "products = products[products['published_at'].notna()]"
   ],
   "metadata": {
    "collapsed": false,
    "pycharm": {
     "name": "#%%\n"
    }
   }
  },
  {
   "cell_type": "markdown",
   "source": [
    "### products: 출판일 전처리(date형식)"
   ],
   "metadata": {
    "collapsed": false
   }
  },
  {
   "cell_type": "code",
   "execution_count": 28,
   "outputs": [],
   "source": [
    "products['published_at'] = products['published_at'].apply(lambda x : x[0:8] if type(x) == 'str' else x)\n",
    "products['published_at'] = products['published_at'].apply(lambda x : x.strip() if type(x) == 'str' else x)\n",
    "products['published_at'] = products['published_at'].apply(lambda x : '20991231' if len(x) <8 else x)\n",
    "products['published_at'] = products['published_at'].astype(str)\n",
    "products['published_at'] = products['published_at'].apply(lambda x : '20991231' if int(x[4:6]) >= 13 else x )\n",
    "products['published_at'] = products['published_at'].apply(lambda x : '20991231' if int(x) <= 19000000 else x)"
   ],
   "metadata": {
    "collapsed": false,
    "pycharm": {
     "name": "#%%\n"
    }
   }
  },
  {
   "cell_type": "code",
   "execution_count": 29,
   "outputs": [],
   "source": [
    "products['published_at'] = products['published_at'].apply(lambda x : parse(x) )"
   ],
   "metadata": {
    "collapsed": false,
    "pycharm": {
     "name": "#%%\n"
    }
   }
  },
  {
   "cell_type": "code",
   "execution_count": 30,
   "outputs": [],
   "source": [
    "products = products[products['published_at'].isin(pd.date_range('1800-01-01', '2020-12-31'))]"
   ],
   "metadata": {
    "collapsed": false,
    "pycharm": {
     "name": "#%%\n"
    }
   }
  },
  {
   "cell_type": "markdown",
   "source": [
    "### products: 출판일 이산화"
   ],
   "metadata": {
    "collapsed": false
   }
  },
  {
   "cell_type": "code",
   "execution_count": 31,
   "outputs": [],
   "source": [
    "default_date = '2020-05-01'\n",
    "def date_range(days=None, default_date='2020-05-01'):\n",
    "    default_date = pd.to_datetime(default_date)\n",
    "    delta = datetime.timedelta(days=days)\n",
    "    before_date = default_date - delta\n",
    "    after_date = default_date + delta\n",
    "    return pd.date_range(before_date, after_date, periods=2)"
   ],
   "metadata": {
    "collapsed": false,
    "pycharm": {
     "name": "#%%\n"
    }
   }
  },
  {
   "cell_type": "code",
   "execution_count": 32,
   "outputs": [],
   "source": [
    "products['pub'] = 4\n",
    "products.loc[products[products['published_at'].isin(date_range(days=1095))].index,'pub'] = 3\n",
    "products.loc[products[products['published_at'].isin(date_range(days=365))].index,'pub'] = 2\n",
    "products.loc[products[products['published_at'].isin(date_range(days=180))].index,'pub'] = 1\n",
    "products.loc[products[products['published_at'].isin(date_range(days=90))].index,'pub'] = 0"
   ],
   "metadata": {
    "collapsed": false,
    "pycharm": {
     "name": "#%%\n"
    }
   }
  },
  {
   "cell_type": "code",
   "execution_count": 33,
   "outputs": [],
   "source": [
    "products = pd.get_dummies(products, columns=['pub'])"
   ],
   "metadata": {
    "collapsed": false,
    "pycharm": {
     "name": "#%%\n"
    }
   }
  },
  {
   "cell_type": "markdown",
   "source": [
    "### products: 카테고리ID 전처리"
   ],
   "metadata": {
    "collapsed": false
   }
  },
  {
   "cell_type": "code",
   "execution_count": 34,
   "outputs": [],
   "source": [
    "products['category_id'] = products['category_id'].astype(str)"
   ],
   "metadata": {
    "collapsed": false,
    "pycharm": {
     "name": "#%%\n"
    }
   }
  },
  {
   "cell_type": "code",
   "execution_count": 35,
   "outputs": [],
   "source": [
    "products['category_id'] = products['category_id'].apply(lambda x: x[2:4] if len(x) > 3 else (x+((4-len(x))*'0'))[2:4])"
   ],
   "metadata": {
    "collapsed": false,
    "pycharm": {
     "name": "#%%\n"
    }
   }
  },
  {
   "cell_type": "code",
   "execution_count": 36,
   "outputs": [],
   "source": [
    "products = products[products['category_id'] != '00']\n",
    "products = pd.get_dummies(products, columns=['category_id'])"
   ],
   "metadata": {
    "collapsed": false,
    "pycharm": {
     "name": "#%%\n"
    }
   }
  },
  {
   "cell_type": "markdown",
   "source": [
    "### products: 가격대 이상치 처리 및 이산화"
   ],
   "metadata": {
    "collapsed": false
   }
  },
  {
   "cell_type": "code",
   "execution_count": 37,
   "outputs": [],
   "source": [
    "condition1 = products['shop_price']>3500000.0 # 3500000 만원 이상은 고서적, 일반인들이 구매하지 않을 종류의 책들, 300000~3500000 가격의 책들은 대부분 전집에 해당\n",
    "condition2 = products['shop_price']<1000.0 # 1000 미만은 사은품 등의 다른 제품들이 혼재"
   ],
   "metadata": {
    "collapsed": false,
    "pycharm": {
     "name": "#%%\n"
    }
   }
  },
  {
   "cell_type": "code",
   "execution_count": 38,
   "outputs": [],
   "source": [
    "products = products[~condition1 & ~condition2]\n",
    "products = products[products['shop_price'] != 0.0]"
   ],
   "metadata": {
    "collapsed": false,
    "pycharm": {
     "name": "#%%\n"
    }
   }
  },
  {
   "cell_type": "code",
   "execution_count": 39,
   "outputs": [],
   "source": [
    "products['shop_price'] = pd.qcut(products['shop_price'], 4, labels=['0', '1', '2', '3'])"
   ],
   "metadata": {
    "collapsed": false,
    "pycharm": {
     "name": "#%%\n"
    }
   }
  },
  {
   "cell_type": "code",
   "execution_count": 40,
   "outputs": [],
   "source": [
    "products = pd.get_dummies(products, columns=['shop_price'])"
   ],
   "metadata": {
    "collapsed": false,
    "pycharm": {
     "name": "#%%\n"
    }
   }
  },
  {
   "cell_type": "code",
   "execution_count": 41,
   "outputs": [],
   "source": [
    "products.to_csv(path+'products_preprocessed.csv',encoding='utf-8', index=None)"
   ],
   "metadata": {
    "collapsed": false,
    "pycharm": {
     "name": "#%%\n"
    }
   }
  },
  {
   "cell_type": "markdown",
   "source": [
    "## click"
   ],
   "metadata": {
    "collapsed": false
   }
  },
  {
   "cell_type": "code",
   "execution_count": 42,
   "outputs": [],
   "source": [
    "click = pd.read_csv(raw_path+'log.csv')"
   ],
   "metadata": {
    "collapsed": false,
    "pycharm": {
     "name": "#%%\n"
    }
   }
  },
  {
   "cell_type": "code",
   "execution_count": 43,
   "outputs": [
    {
     "name": "stdout",
     "output_type": "stream",
     "text": [
      "(30113602, 6)\n"
     ]
    },
    {
     "data": {
      "text/plain": "   Unnamed: 0    request_date_time  account_id device_type  product_id  \\\n0           0  2020-03-14 10:39:45      101496           M    88429694   \n1           1  2020-03-24 15:33:35      101496           M    64694842   \n2           2  2019-12-31 09:54:33      101496           M    81503945   \n3           3  2019-12-31 09:52:14      101496           M    84434768   \n4           4  2019-12-31 09:52:25      101496           M    81503945   \n\n   before_product_id  \n0                  0  \n1                  0  \n2                  0  \n3                  0  \n4                  0  ",
      "text/html": "<div>\n<style scoped>\n    .dataframe tbody tr th:only-of-type {\n        vertical-align: middle;\n    }\n\n    .dataframe tbody tr th {\n        vertical-align: top;\n    }\n\n    .dataframe thead th {\n        text-align: right;\n    }\n</style>\n<table border=\"1\" class=\"dataframe\">\n  <thead>\n    <tr style=\"text-align: right;\">\n      <th></th>\n      <th>Unnamed: 0</th>\n      <th>request_date_time</th>\n      <th>account_id</th>\n      <th>device_type</th>\n      <th>product_id</th>\n      <th>before_product_id</th>\n    </tr>\n  </thead>\n  <tbody>\n    <tr>\n      <th>0</th>\n      <td>0</td>\n      <td>2020-03-14 10:39:45</td>\n      <td>101496</td>\n      <td>M</td>\n      <td>88429694</td>\n      <td>0</td>\n    </tr>\n    <tr>\n      <th>1</th>\n      <td>1</td>\n      <td>2020-03-24 15:33:35</td>\n      <td>101496</td>\n      <td>M</td>\n      <td>64694842</td>\n      <td>0</td>\n    </tr>\n    <tr>\n      <th>2</th>\n      <td>2</td>\n      <td>2019-12-31 09:54:33</td>\n      <td>101496</td>\n      <td>M</td>\n      <td>81503945</td>\n      <td>0</td>\n    </tr>\n    <tr>\n      <th>3</th>\n      <td>3</td>\n      <td>2019-12-31 09:52:14</td>\n      <td>101496</td>\n      <td>M</td>\n      <td>84434768</td>\n      <td>0</td>\n    </tr>\n    <tr>\n      <th>4</th>\n      <td>4</td>\n      <td>2019-12-31 09:52:25</td>\n      <td>101496</td>\n      <td>M</td>\n      <td>81503945</td>\n      <td>0</td>\n    </tr>\n  </tbody>\n</table>\n</div>"
     },
     "execution_count": 43,
     "metadata": {},
     "output_type": "execute_result"
    }
   ],
   "source": [
    "print(click.shape)\n",
    "click.head()"
   ],
   "metadata": {
    "collapsed": false,
    "pycharm": {
     "name": "#%%\n"
    }
   }
  },
  {
   "cell_type": "markdown",
   "source": [
    "### click: device_type 원핫인코딩"
   ],
   "metadata": {
    "collapsed": false
   }
  },
  {
   "cell_type": "code",
   "execution_count": 44,
   "outputs": [],
   "source": [
    "click = pd.get_dummies(click, columns=['device_type'])"
   ],
   "metadata": {
    "collapsed": false,
    "pycharm": {
     "name": "#%%\n"
    }
   }
  },
  {
   "cell_type": "code",
   "execution_count": 45,
   "outputs": [
    {
     "data": {
      "text/plain": "Unnamed: 0           0\nrequest_date_time    0\naccount_id           0\nproduct_id           0\nbefore_product_id    0\ndevice_type_M        0\ndevice_type_P        0\ndtype: int64"
     },
     "execution_count": 45,
     "metadata": {},
     "output_type": "execute_result"
    }
   ],
   "source": [
    "click.isnull().sum()"
   ],
   "metadata": {
    "collapsed": false,
    "pycharm": {
     "name": "#%%\n"
    }
   }
  },
  {
   "cell_type": "code",
   "execution_count": 46,
   "outputs": [],
   "source": [
    "click.to_csv(path+'click.csv',encoding='utf-8', index=None)"
   ],
   "metadata": {
    "collapsed": false,
    "pycharm": {
     "name": "#%%\n"
    }
   }
  },
  {
   "cell_type": "markdown",
   "source": [
    "## click & orders"
   ],
   "metadata": {
    "collapsed": false
   }
  },
  {
   "cell_type": "markdown",
   "source": [
    "### click & orders: orders 중 click없이 구매한 데이터(외부 사이트 이용) 삭제하기\n",
    "* click 데이터 크기가 방대하여 절반만 사용한 관계로 더 적어짐"
   ],
   "metadata": {
    "collapsed": false
   }
  },
  {
   "cell_type": "code",
   "execution_count": 47,
   "outputs": [],
   "source": [
    "orders = pd.read_csv(path+'orders_preprocessed.csv',encoding='utf-8')"
   ],
   "metadata": {
    "collapsed": false,
    "pycharm": {
     "name": "#%%\n"
    }
   }
  },
  {
   "cell_type": "code",
   "execution_count": 48,
   "outputs": [],
   "source": [
    "order_check_account = click['account_id'].unique().tolist()\n",
    "order_check_product = click['product_id'].unique().tolist()"
   ],
   "metadata": {
    "collapsed": false,
    "pycharm": {
     "name": "#%%\n"
    }
   }
  },
  {
   "cell_type": "code",
   "execution_count": 49,
   "outputs": [
    {
     "data": {
      "text/plain": "(8382514, 6)"
     },
     "execution_count": 49,
     "metadata": {},
     "output_type": "execute_result"
    }
   ],
   "source": [
    "orders.shape"
   ],
   "metadata": {
    "collapsed": false,
    "pycharm": {
     "name": "#%%\n"
    }
   }
  },
  {
   "cell_type": "code",
   "execution_count": 50,
   "outputs": [],
   "source": [
    "order_check_1 = orders[orders['product_id'].isin(order_check_product)]"
   ],
   "metadata": {
    "collapsed": false,
    "pycharm": {
     "name": "#%%\n"
    }
   }
  },
  {
   "cell_type": "code",
   "execution_count": 51,
   "outputs": [
    {
     "data": {
      "text/plain": "(8344774, 6)"
     },
     "execution_count": 51,
     "metadata": {},
     "output_type": "execute_result"
    }
   ],
   "source": [
    "order_check_1.shape"
   ],
   "metadata": {
    "collapsed": false,
    "pycharm": {
     "name": "#%%\n"
    }
   }
  },
  {
   "cell_type": "code",
   "execution_count": 52,
   "outputs": [],
   "source": [
    "order_check_2 = order_check_1[order_check_1['account_id'].isin(order_check_account)]"
   ],
   "metadata": {
    "collapsed": false,
    "pycharm": {
     "name": "#%%\n"
    }
   }
  },
  {
   "cell_type": "code",
   "execution_count": 53,
   "outputs": [
    {
     "data": {
      "text/plain": "(4035057, 6)"
     },
     "execution_count": 53,
     "metadata": {},
     "output_type": "execute_result"
    }
   ],
   "source": [
    "order_check_2.shape"
   ],
   "metadata": {
    "collapsed": false,
    "pycharm": {
     "name": "#%%\n"
    }
   }
  },
  {
   "cell_type": "code",
   "execution_count": 54,
   "outputs": [],
   "source": [
    "order_check_2 = order_check_2.iloc[:,1:]"
   ],
   "metadata": {
    "collapsed": false,
    "pycharm": {
     "name": "#%%\n"
    }
   }
  },
  {
   "cell_type": "code",
   "execution_count": 55,
   "outputs": [],
   "source": [
    "order_check_2.to_csv(path+'orders_only_in_clicks.csv',encoding='utf-8', index=None)"
   ],
   "metadata": {
    "collapsed": false,
    "pycharm": {
     "name": "#%%\n"
    }
   }
  },
  {
   "cell_type": "code",
   "execution_count": null,
   "outputs": [],
   "source": [],
   "metadata": {
    "collapsed": false,
    "pycharm": {
     "name": "#%%\n"
    }
   }
  }
 ],
 "metadata": {
  "kernelspec": {
   "display_name": "Python 3",
   "language": "python",
   "name": "python3"
  },
  "language_info": {
   "codemirror_mode": {
    "name": "ipython",
    "version": 2
   },
   "file_extension": ".py",
   "mimetype": "text/x-python",
   "name": "python",
   "nbconvert_exporter": "python",
   "pygments_lexer": "ipython2",
   "version": "2.7.6"
  }
 },
 "nbformat": 4,
 "nbformat_minor": 0
}