{
 "cells": [
  {
   "cell_type": "markdown",
   "source": [
    "## Feature Engineering"
   ],
   "metadata": {
    "collapsed": false
   }
  },
  {
   "cell_type": "code",
   "execution_count": 43,
   "outputs": [],
   "source": [
    "import pandas as pd\n",
    "pd.options.display.float_format = '{:.2f}'.format\n",
    "from sklearn.preprocessing import LabelEncoder, OneHotEncoder\n",
    "le = LabelEncoder()\n",
    "ohe = OneHotEncoder()"
   ],
   "metadata": {
    "collapsed": false,
    "pycharm": {
     "name": "#%%\n"
    }
   }
  },
  {
   "cell_type": "code",
   "execution_count": 5,
   "outputs": [],
   "source": [
    "pre_path = '../data/2.Preprocessed/'\n",
    "path = '../data/3.Feature_Engineered/'"
   ],
   "metadata": {
    "collapsed": false,
    "pycharm": {
     "name": "#%%\n"
    }
   }
  },
  {
   "cell_type": "markdown",
   "source": [
    "### 유저의 주문 기반 신구 선호도\n",
    "유저가 주문한 책 중에 2020년 출판된 도서가 많은지"
   ],
   "metadata": {
    "collapsed": false
   }
  },
  {
   "cell_type": "markdown",
   "source": [
    "#### products: 2020년에 출판된 도서는 모두 예전 도서로 취급"
   ],
   "metadata": {
    "collapsed": false
   }
  },
  {
   "cell_type": "code",
   "execution_count": 39,
   "outputs": [],
   "source": [
    "products = pd.read_csv(pre_path+'products_preprocessed.csv',dtype={'category_id':str})"
   ],
   "metadata": {
    "collapsed": false,
    "pycharm": {
     "name": "#%%\n"
    }
   }
  },
  {
   "cell_type": "code",
   "execution_count": 34,
   "outputs": [],
   "source": [
    "products['pub_newold'] = products['published_at'].astype(str).apply(lambda x: 1 if x[0:4] == '2020' else 0)"
   ],
   "metadata": {
    "collapsed": false,
    "pycharm": {
     "name": "#%%\n"
    }
   }
  },
  {
   "cell_type": "code",
   "execution_count": 35,
   "outputs": [
    {
     "data": {
      "text/plain": "product_id        0\nproduct_name      0\npublished_at      0\nmaker_name        0\npub_0             0\npub_1             0\npub_2             0\npub_3             0\npub_4             0\ncategory_id_01    0\ncategory_id_02    0\ncategory_id_03    0\ncategory_id_04    0\ncategory_id_05    0\ncategory_id_06    0\ncategory_id_07    0\ncategory_id_08    0\ncategory_id_09    0\ncategory_id_10    0\ncategory_id_11    0\ncategory_id_12    0\ncategory_id_13    0\ncategory_id_14    0\ncategory_id_15    0\ncategory_id_16    0\ncategory_id_17    0\ncategory_id_18    0\ncategory_id_19    0\ncategory_id_20    0\ncategory_id_22    0\ncategory_id_23    0\ncategory_id_25    0\ncategory_id_26    0\ncategory_id_27    0\ncategory_id_28    0\ncategory_id_29    0\ncategory_id_30    0\ncategory_id_31    0\ncategory_id_33    0\ncategory_id_34    0\nshop_price_0      0\nshop_price_1      0\nshop_price_2      0\nshop_price_3      0\npub_newold        0\ndtype: int64"
     },
     "execution_count": 35,
     "metadata": {},
     "output_type": "execute_result"
    }
   ],
   "source": [
    "products.dropna(inplace=True) #maker name에 na 존재\n",
    "products.isnull().sum()"
   ],
   "metadata": {
    "collapsed": false,
    "pycharm": {
     "name": "#%%\n"
    }
   }
  },
  {
   "cell_type": "markdown",
   "source": [
    "#### product + order"
   ],
   "metadata": {
    "collapsed": false
   }
  },
  {
   "cell_type": "code",
   "execution_count": 40,
   "outputs": [],
   "source": [
    "orders = pd.read_csv(pre_path+'orders_only_in_clicks.csv')"
   ],
   "metadata": {
    "collapsed": false,
    "pycharm": {
     "name": "#%%\n"
    }
   }
  },
  {
   "cell_type": "code",
   "execution_count": 37,
   "outputs": [],
   "source": [
    "orders['created_at']= orders['created_at'].astype('datetime64[ns]')"
   ],
   "metadata": {
    "collapsed": false,
    "pycharm": {
     "name": "#%%\n"
    }
   }
  },
  {
   "cell_type": "code",
   "execution_count": 38,
   "outputs": [],
   "source": [
    "orders_products = pd.merge(orders, products, on='product_id',how='left')"
   ],
   "metadata": {
    "collapsed": false,
    "pycharm": {
     "name": "#%%\n"
    }
   }
  },
  {
   "cell_type": "code",
   "execution_count": 39,
   "outputs": [
    {
     "name": "stdout",
     "output_type": "stream",
     "text": [
      "order_id             0\n",
      "account_id           0\n",
      "product_id           0\n",
      "price                0\n",
      "created_at           0\n",
      "product_name      2157\n",
      "published_at      2157\n",
      "maker_name        2157\n",
      "pub_0             2157\n",
      "pub_1             2157\n",
      "pub_2             2157\n",
      "pub_3             2157\n",
      "pub_4             2157\n",
      "category_id_01    2157\n",
      "category_id_02    2157\n",
      "category_id_03    2157\n",
      "category_id_04    2157\n",
      "category_id_05    2157\n",
      "category_id_06    2157\n",
      "category_id_07    2157\n",
      "category_id_08    2157\n",
      "category_id_09    2157\n",
      "category_id_10    2157\n",
      "category_id_11    2157\n",
      "category_id_12    2157\n",
      "category_id_13    2157\n",
      "category_id_14    2157\n",
      "category_id_15    2157\n",
      "category_id_16    2157\n",
      "category_id_17    2157\n",
      "category_id_18    2157\n",
      "category_id_19    2157\n",
      "category_id_20    2157\n",
      "category_id_22    2157\n",
      "category_id_23    2157\n",
      "category_id_25    2157\n",
      "category_id_26    2157\n",
      "category_id_27    2157\n",
      "category_id_28    2157\n",
      "category_id_29    2157\n",
      "category_id_30    2157\n",
      "category_id_31    2157\n",
      "category_id_33    2157\n",
      "category_id_34    2157\n",
      "shop_price_0      2157\n",
      "shop_price_1      2157\n",
      "shop_price_2      2157\n",
      "shop_price_3      2157\n",
      "pub_newold        2157\n",
      "dtype: int64\n"
     ]
    }
   ],
   "source": [
    "print(orders_products.isnull().sum())\n",
    "orders_products.dropna(inplace=True)"
   ],
   "metadata": {
    "collapsed": false,
    "pycharm": {
     "name": "#%%\n"
    }
   }
  },
  {
   "cell_type": "markdown",
   "source": [
    "#### preference: mean을 통해 신구선호도 집계, 1에 가까울 수록 신규도서 선호 (train)"
   ],
   "metadata": {
    "collapsed": false
   }
  },
  {
   "cell_type": "code",
   "execution_count": 40,
   "outputs": [],
   "source": [
    "preference = pd.DataFrame(orders_products.groupby('account_id')['pub_newold'].agg('mean')).reset_index()\n",
    "preference.rename(columns = {'pub_newold':'new_preference'}, inplace=True)"
   ],
   "metadata": {
    "collapsed": false,
    "pycharm": {
     "name": "#%%\n"
    }
   }
  },
  {
   "cell_type": "code",
   "execution_count": 41,
   "outputs": [
    {
     "data": {
      "text/plain": "        account_id  new_preference\n0           100004            0.09\n1           100033            0.33\n2           100039            0.07\n3           100040            1.00\n4           100058            0.00\n...            ...             ...\n796078    16960360            1.00\n796079    16960378            0.00\n796080    16960382            0.00\n796081    16960413            1.00\n796082    16960430            0.00\n\n[796083 rows x 2 columns]",
      "text/html": "<div>\n<style scoped>\n    .dataframe tbody tr th:only-of-type {\n        vertical-align: middle;\n    }\n\n    .dataframe tbody tr th {\n        vertical-align: top;\n    }\n\n    .dataframe thead th {\n        text-align: right;\n    }\n</style>\n<table border=\"1\" class=\"dataframe\">\n  <thead>\n    <tr style=\"text-align: right;\">\n      <th></th>\n      <th>account_id</th>\n      <th>new_preference</th>\n    </tr>\n  </thead>\n  <tbody>\n    <tr>\n      <th>0</th>\n      <td>100004</td>\n      <td>0.09</td>\n    </tr>\n    <tr>\n      <th>1</th>\n      <td>100033</td>\n      <td>0.33</td>\n    </tr>\n    <tr>\n      <th>2</th>\n      <td>100039</td>\n      <td>0.07</td>\n    </tr>\n    <tr>\n      <th>3</th>\n      <td>100040</td>\n      <td>1.00</td>\n    </tr>\n    <tr>\n      <th>4</th>\n      <td>100058</td>\n      <td>0.00</td>\n    </tr>\n    <tr>\n      <th>...</th>\n      <td>...</td>\n      <td>...</td>\n    </tr>\n    <tr>\n      <th>796078</th>\n      <td>16960360</td>\n      <td>1.00</td>\n    </tr>\n    <tr>\n      <th>796079</th>\n      <td>16960378</td>\n      <td>0.00</td>\n    </tr>\n    <tr>\n      <th>796080</th>\n      <td>16960382</td>\n      <td>0.00</td>\n    </tr>\n    <tr>\n      <th>796081</th>\n      <td>16960413</td>\n      <td>1.00</td>\n    </tr>\n    <tr>\n      <th>796082</th>\n      <td>16960430</td>\n      <td>0.00</td>\n    </tr>\n  </tbody>\n</table>\n<p>796083 rows × 2 columns</p>\n</div>"
     },
     "execution_count": 41,
     "metadata": {},
     "output_type": "execute_result"
    }
   ],
   "source": [
    "preference"
   ],
   "metadata": {
    "collapsed": false,
    "pycharm": {
     "name": "#%%\n"
    }
   }
  },
  {
   "cell_type": "code",
   "execution_count": 42,
   "outputs": [],
   "source": [
    "orders_preference = pd.merge(orders, preference, on='account_id', how='left')"
   ],
   "metadata": {
    "collapsed": false,
    "pycharm": {
     "name": "#%%\n"
    }
   }
  },
  {
   "cell_type": "code",
   "execution_count": 44,
   "outputs": [
    {
     "data": {
      "text/plain": "<AxesSubplot:>"
     },
     "execution_count": 44,
     "metadata": {},
     "output_type": "execute_result"
    },
    {
     "data": {
      "text/plain": "<Figure size 432x288 with 1 Axes>",
      "image/png": "[encoded data removed]"
     },
     "metadata": {
      "needs_background": "light"
     },
     "output_type": "display_data"
    }
   ],
   "source": [
    "orders_preference.new_preference.hist()"
   ],
   "metadata": {
    "collapsed": false,
    "pycharm": {
     "name": "#%%\n"
    }
   }
  },
  {
   "cell_type": "markdown",
   "source": [
    "#### preference: 0.5 기준으로 0, 1로 바꿈"
   ],
   "metadata": {
    "collapsed": false
   }
  },
  {
   "cell_type": "code",
   "execution_count": 45,
   "outputs": [],
   "source": [
    "orders_preference['new_pref'] = orders_preference['new_preference'].apply(lambda x: 1 if x>=0.5 else 0)"
   ],
   "metadata": {
    "collapsed": false,
    "pycharm": {
     "name": "#%%\n"
    }
   }
  },
  {
   "cell_type": "code",
   "execution_count": 49,
   "outputs": [],
   "source": [
    "orders_preference.to_csv(path+'orders_preference_train.csv',encoding='utf-8', index=None)"
   ],
   "metadata": {
    "collapsed": false,
    "pycharm": {
     "name": "#%%\n"
    }
   }
  },
  {
   "cell_type": "markdown",
   "source": [
    "### 유저의 클릭 기반 신구 선호도\n",
    "유저가 클릭한 책 중에 2020년에 출판된 책의 비율이 많은지"
   ],
   "metadata": {
    "collapsed": false
   }
  },
  {
   "cell_type": "markdown",
   "source": [
    "#### click: 3월 1일 ~ 4월 30일, 그리고 3월 1일 이전 데이터(train) / 5월 1일 이후 데이터 (test)"
   ],
   "metadata": {
    "collapsed": false
   }
  },
  {
   "cell_type": "code",
   "execution_count": 21,
   "outputs": [],
   "source": [
    "click = pd.read_csv(pre_path+'click.csv')"
   ],
   "metadata": {
    "collapsed": false,
    "pycharm": {
     "name": "#%%\n"
    }
   }
  },
  {
   "cell_type": "code",
   "execution_count": null,
   "outputs": [],
   "source": [
    "click['request_date_time'] = click['request_date_time'].astype('datetime64[ns]')"
   ],
   "metadata": {
    "collapsed": false,
    "pycharm": {
     "name": "#%%\n"
    }
   }
  },
  {
   "cell_type": "markdown",
   "source": [
    "#### click + product (train, test)"
   ],
   "metadata": {
    "collapsed": false
   }
  },
  {
   "cell_type": "code",
   "execution_count": 52,
   "outputs": [],
   "source": [
    "click_product = pd.merge(click,products,on='product_id',how='left')\n",
    "click_product.dropna(inplace=True)"
   ],
   "metadata": {
    "collapsed": false,
    "pycharm": {
     "name": "#%%\n"
    }
   }
  },
  {
   "cell_type": "markdown",
   "source": [
    "#### preference: mean을 통해 신규선호도 집계, 1에 가까울수록 신규도서 선호 (train, test)"
   ],
   "metadata": {
    "collapsed": false
   }
  },
  {
   "cell_type": "code",
   "execution_count": 53,
   "outputs": [],
   "source": [
    "preference = pd.DataFrame(click_product.groupby('account_id')['pub_newold'].agg('mean')).reset_index()\n",
    "preference.rename(columns = {'pub_newold':'new_preference'}, inplace=True)"
   ],
   "metadata": {
    "collapsed": false,
    "pycharm": {
     "name": "#%%\n"
    }
   }
  },
  {
   "cell_type": "markdown",
   "source": [
    "#### product + click + preference (train, test)"
   ],
   "metadata": {
    "collapsed": false
   }
  },
  {
   "cell_type": "code",
   "execution_count": 54,
   "outputs": [],
   "source": [
    "click_preference = pd.merge(click_product,preference, on='account_id',how='left')"
   ],
   "metadata": {
    "collapsed": false,
    "pycharm": {
     "name": "#%%\n"
    }
   }
  },
  {
   "cell_type": "code",
   "execution_count": 55,
   "outputs": [
    {
     "data": {
      "text/plain": "<AxesSubplot:>"
     },
     "execution_count": 55,
     "metadata": {},
     "output_type": "execute_result"
    },
    {
     "data": {
      "text/plain": "<Figure size 432x288 with 1 Axes>",
      "image/png": "[encoded data removed]"
     },
     "metadata": {
      "needs_background": "light"
     },
     "output_type": "display_data"
    }
   ],
   "source": [
    "click_preference.new_preference.hist()"
   ],
   "metadata": {
    "collapsed": false,
    "pycharm": {
     "name": "#%%\n"
    }
   }
  },
  {
   "cell_type": "markdown",
   "source": [
    "#### preference: 0.5 기준 0,1 로 바꿈"
   ],
   "metadata": {
    "collapsed": false
   }
  },
  {
   "cell_type": "code",
   "execution_count": null,
   "outputs": [],
   "source": [
    "click_preference['new_pref'] = click_preference['new_preference'].apply(lambda x: 1 if x>=0.5 else 0)"
   ],
   "metadata": {
    "collapsed": false,
    "pycharm": {
     "name": "#%%\n"
    }
   }
  },
  {
   "cell_type": "code",
   "execution_count": 56,
   "outputs": [],
   "source": [
    "click_preference.to_csv(path+'click_preference.csv',encoding='utf-8', index=None)"
   ],
   "metadata": {
    "collapsed": false,
    "pycharm": {
     "name": "#%%\n"
    }
   }
  },
  {
   "cell_type": "markdown",
   "source": [
    "### 활동시간"
   ],
   "metadata": {
    "collapsed": false
   }
  },
  {
   "cell_type": "code",
   "execution_count": 12,
   "outputs": [],
   "source": [
    "users = pd.read_csv(pre_path+'accounts_preprocessed.csv',encoding='utf-8')"
   ],
   "metadata": {
    "collapsed": false,
    "pycharm": {
     "name": "#%%\n"
    }
   }
  },
  {
   "cell_type": "code",
   "execution_count": 68,
   "outputs": [],
   "source": [
    "click['time'] = click['request_date_time'].str.slice(start=11, stop=13)\n",
    "click['day'] = click['request_date_time'].str.slice(start=0,stop=11)"
   ],
   "metadata": {
    "collapsed": false,
    "pycharm": {
     "name": "#%%\n"
    }
   }
  },
  {
   "cell_type": "markdown",
   "source": [
    "#### 활동시간대"
   ],
   "metadata": {
    "collapsed": false
   }
  },
  {
   "cell_type": "code",
   "execution_count": 79,
   "outputs": [],
   "source": [
    "click['click_time'] = click['time'].apply(lambda x:'day' if int(x) in list(range(6,19)) else 'night')"
   ],
   "metadata": {
    "collapsed": false,
    "pycharm": {
     "name": "#%%\n"
    }
   }
  },
  {
   "cell_type": "code",
   "execution_count": 80,
   "outputs": [],
   "source": [
    "click = pd.get_dummies(click, columns=['click_time'])"
   ],
   "metadata": {
    "collapsed": false,
    "pycharm": {
     "name": "#%%\n"
    }
   }
  },
  {
   "cell_type": "code",
   "execution_count": 82,
   "outputs": [],
   "source": [
    "ct_grp = click.groupby('account_id')"
   ],
   "metadata": {
    "collapsed": false,
    "pycharm": {
     "name": "#%%\n"
    }
   }
  },
  {
   "cell_type": "code",
   "execution_count": 85,
   "outputs": [],
   "source": [
    "acc_times = ct_grp.sum().iloc[:,[4,5]]"
   ],
   "metadata": {
    "collapsed": false,
    "pycharm": {
     "name": "#%%\n"
    }
   }
  },
  {
   "cell_type": "code",
   "execution_count": 86,
   "outputs": [],
   "source": [
    "acc_times.to_csv(path+'user_activity_times.csv') #only_activitiy_times_0623.csv"
   ],
   "metadata": {
    "collapsed": false,
    "pycharm": {
     "name": "#%%\n"
    }
   }
  },
  {
   "cell_type": "markdown",
   "source": [
    "#### 활동 요일"
   ],
   "metadata": {
    "collapsed": false
   }
  },
  {
   "cell_type": "code",
   "execution_count": null,
   "outputs": [],
   "source": [
    "click = click.sort_values(by=['account_id'])"
   ],
   "metadata": {
    "collapsed": false,
    "pycharm": {
     "name": "#%%\n"
    }
   }
  },
  {
   "cell_type": "code",
   "execution_count": 91,
   "outputs": [],
   "source": [
    "click['week_day'] = pd.to_datetime(click.day).dt.day_name()"
   ],
   "metadata": {
    "collapsed": false,
    "pycharm": {
     "name": "#%%\n"
    }
   }
  },
  {
   "cell_type": "code",
   "execution_count": null,
   "outputs": [],
   "source": [
    "#clicks.to_csv('./clicks_day_time_weekday_0624.csv')"
   ],
   "metadata": {
    "collapsed": false,
    "pycharm": {
     "name": "#%%\n"
    }
   }
  },
  {
   "cell_type": "markdown",
   "source": [
    "#### 활동 주말 vs 평일"
   ],
   "metadata": {
    "collapsed": false
   }
  },
  {
   "cell_type": "code",
   "execution_count": 92,
   "outputs": [],
   "source": [
    "click['weekend'] = click['week_day'].apply(lambda x: 1 if x in ['Sunday','Saturday'] else 0)"
   ],
   "metadata": {
    "collapsed": false,
    "pycharm": {
     "name": "#%%\n"
    }
   }
  },
  {
   "cell_type": "code",
   "execution_count": 95,
   "outputs": [],
   "source": [
    "click = pd.get_dummies(click, columns=['weekend'])"
   ],
   "metadata": {
    "collapsed": false,
    "pycharm": {
     "name": "#%%\n"
    }
   }
  },
  {
   "cell_type": "markdown",
   "source": [
    "#### 활동 시간 비율"
   ],
   "metadata": {
    "collapsed": false
   }
  },
  {
   "cell_type": "code",
   "execution_count": 100,
   "outputs": [],
   "source": [
    "user_click_agg = click.drop('week_day', axis=1)\n",
    "user_click_sum = user_click_agg.groupby('account_id').sum().iloc[:, -4:]"
   ],
   "metadata": {
    "collapsed": false,
    "pycharm": {
     "name": "#%%\n"
    }
   }
  },
  {
   "cell_type": "code",
   "execution_count": 103,
   "outputs": [],
   "source": [
    "user_click_sum['day_ratio'] = user_click_sum.apply(lambda x:x['click_time_day'] / (x['click_time_day'] + x['click_time_night']), axis=1)\n",
    "user_click_sum['weekend_ratio'] = user_click_sum.apply(lambda x:x['weekend_1'] / (x['weekend_0'] + x['weekend_1']), axis=1)"
   ],
   "metadata": {
    "collapsed": false,
    "pycharm": {
     "name": "#%%\n"
    }
   }
  },
  {
   "cell_type": "code",
   "execution_count": 104,
   "outputs": [
    {
     "data": {
      "text/plain": "            click_time_day  click_time_night  weekend_0  weekend_1  day_ratio  \\\naccount_id                                                                      \n100004               14.00             27.00      30.00      11.00       0.34   \n100033               65.00              9.00      46.00      28.00       0.88   \n100039               70.00             59.00      97.00      32.00       0.54   \n100040                2.00              0.00       0.00       2.00       1.00   \n100058               57.00             59.00     110.00       6.00       0.49   \n...                    ...               ...        ...        ...        ...   \n16960360              0.00              1.00       0.00       1.00       0.00   \n16960378              0.00              4.00       0.00       4.00       0.00   \n16960382              0.00              1.00       0.00       1.00       0.00   \n16960413              0.00              2.00       0.00       2.00       0.00   \n16960430              0.00              1.00       0.00       1.00       0.00   \n\n            weekend_ratio  \naccount_id                 \n100004               0.27  \n100033               0.38  \n100039               0.25  \n100040               1.00  \n100058               0.05  \n...                   ...  \n16960360             1.00  \n16960378             1.00  \n16960382             1.00  \n16960413             1.00  \n16960430             1.00  \n\n[797096 rows x 6 columns]",
      "text/html": "<div>\n<style scoped>\n    .dataframe tbody tr th:only-of-type {\n        vertical-align: middle;\n    }\n\n    .dataframe tbody tr th {\n        vertical-align: top;\n    }\n\n    .dataframe thead th {\n        text-align: right;\n    }\n</style>\n<table border=\"1\" class=\"dataframe\">\n  <thead>\n    <tr style=\"text-align: right;\">\n      <th></th>\n      <th>click_time_day</th>\n      <th>click_time_night</th>\n      <th>weekend_0</th>\n      <th>weekend_1</th>\n      <th>day_ratio</th>\n      <th>weekend_ratio</th>\n    </tr>\n    <tr>\n      <th>account_id</th>\n      <th></th>\n      <th></th>\n      <th></th>\n      <th></th>\n      <th></th>\n      <th></th>\n    </tr>\n  </thead>\n  <tbody>\n    <tr>\n      <th>100004</th>\n      <td>14.00</td>\n      <td>27.00</td>\n      <td>30.00</td>\n      <td>11.00</td>\n      <td>0.34</td>\n      <td>0.27</td>\n    </tr>\n    <tr>\n      <th>100033</th>\n      <td>65.00</td>\n      <td>9.00</td>\n      <td>46.00</td>\n      <td>28.00</td>\n      <td>0.88</td>\n      <td>0.38</td>\n    </tr>\n    <tr>\n      <th>100039</th>\n      <td>70.00</td>\n      <td>59.00</td>\n      <td>97.00</td>\n      <td>32.00</td>\n      <td>0.54</td>\n      <td>0.25</td>\n    </tr>\n    <tr>\n      <th>100040</th>\n      <td>2.00</td>\n      <td>0.00</td>\n      <td>0.00</td>\n      <td>2.00</td>\n      <td>1.00</td>\n      <td>1.00</td>\n    </tr>\n    <tr>\n      <th>100058</th>\n      <td>57.00</td>\n      <td>59.00</td>\n      <td>110.00</td>\n      <td>6.00</td>\n      <td>0.49</td>\n      <td>0.05</td>\n    </tr>\n    <tr>\n      <th>...</th>\n      <td>...</td>\n      <td>...</td>\n      <td>...</td>\n      <td>...</td>\n      <td>...</td>\n      <td>...</td>\n    </tr>\n    <tr>\n      <th>16960360</th>\n      <td>0.00</td>\n      <td>1.00</td>\n      <td>0.00</td>\n      <td>1.00</td>\n      <td>0.00</td>\n      <td>1.00</td>\n    </tr>\n    <tr>\n      <th>16960378</th>\n      <td>0.00</td>\n      <td>4.00</td>\n      <td>0.00</td>\n      <td>4.00</td>\n      <td>0.00</td>\n      <td>1.00</td>\n    </tr>\n    <tr>\n      <th>16960382</th>\n      <td>0.00</td>\n      <td>1.00</td>\n      <td>0.00</td>\n      <td>1.00</td>\n      <td>0.00</td>\n      <td>1.00</td>\n    </tr>\n    <tr>\n      <th>16960413</th>\n      <td>0.00</td>\n      <td>2.00</td>\n      <td>0.00</td>\n      <td>2.00</td>\n      <td>0.00</td>\n      <td>1.00</td>\n    </tr>\n    <tr>\n      <th>16960430</th>\n      <td>0.00</td>\n      <td>1.00</td>\n      <td>0.00</td>\n      <td>1.00</td>\n      <td>0.00</td>\n      <td>1.00</td>\n    </tr>\n  </tbody>\n</table>\n<p>797096 rows × 6 columns</p>\n</div>"
     },
     "execution_count": 104,
     "metadata": {},
     "output_type": "execute_result"
    }
   ],
   "source": [
    "user_click_sum"
   ],
   "metadata": {
    "collapsed": false,
    "pycharm": {
     "name": "#%%\n"
    }
   }
  },
  {
   "cell_type": "code",
   "source": [
    "user_click_sum.to_csv(path+'user_click_activitytimes.csv', index=None)"
   ],
   "metadata": {
    "collapsed": false,
    "pycharm": {
     "name": "#%%\n"
    }
   },
   "execution_count": 105,
   "outputs": []
  },
  {
   "cell_type": "markdown",
   "source": [
    "### 카테고리 선호도"
   ],
   "metadata": {
    "collapsed": false
   }
  },
  {
   "cell_type": "code",
   "execution_count": 9,
   "outputs": [
    {
     "data": {
      "text/plain": "     request_date_time  account_id  product_id  before_product_id  \\\n0  2020-03-14 10:39:45      101496    88429694                  0   \n1  2020-03-24 15:33:35      101496    64694842                  0   \n2  2019-12-31 09:54:33      101496    81503945                  0   \n3  2019-12-31 09:52:14      101496    84434768                  0   \n4  2019-12-31 09:52:25      101496    81503945                  0   \n\n   device_type_M  device_type_P                           product_name  \\\n0              1              0                                   먼 바다   \n1              1              0                                 당신이 옳다   \n2              1              0  [예스리커버] 1일 1페이지, 세상에서 가장 짧은 교양 수업 365   \n3              1              0                 오늘도 펭수 내일도 펭수 (꽃눈 에디션)   \n4              1              0  [예스리커버] 1일 1페이지, 세상에서 가장 짧은 교양 수업 365   \n\n          published_at maker_name  pub_0  ...  category_id_30  category_id_31  \\\n0  2020-02-17 00:00:00         해냄    0.0  ...             0.0             0.0   \n1  2018-10-10 00:00:00         해냄    0.0  ...             0.0             0.0   \n2  2019-10-30 00:00:00     위즈덤하우스    0.0  ...             0.0             0.0   \n3  2019-12-19 00:00:00          놀    0.0  ...             0.0             0.0   \n4  2019-10-30 00:00:00     위즈덤하우스    0.0  ...             0.0             0.0   \n\n   category_id_33  category_id_34  shop_price_0  shop_price_1  shop_price_2  \\\n0             1.0             0.0           0.0           0.0           1.0   \n1             0.0             0.0           0.0           0.0           1.0   \n2             0.0             0.0           0.0           0.0           1.0   \n3             0.0             1.0           0.0           0.0           1.0   \n4             0.0             0.0           0.0           0.0           1.0   \n\n   shop_price_3  pub_newold  new_preference  \n0           0.0         1.0        0.258621  \n1           0.0         0.0        0.258621  \n2           0.0         0.0        0.258621  \n3           0.0         0.0        0.258621  \n4           0.0         0.0        0.258621  \n\n[5 rows x 51 columns]",
      "text/html": "<div>\n<style scoped>\n    .dataframe tbody tr th:only-of-type {\n        vertical-align: middle;\n    }\n\n    .dataframe tbody tr th {\n        vertical-align: top;\n    }\n\n    .dataframe thead th {\n        text-align: right;\n    }\n</style>\n<table border=\"1\" class=\"dataframe\">\n  <thead>\n    <tr style=\"text-align: right;\">\n      <th></th>\n      <th>request_date_time</th>\n      <th>account_id</th>\n      <th>product_id</th>\n      <th>before_product_id</th>\n      <th>device_type_M</th>\n      <th>device_type_P</th>\n      <th>product_name</th>\n      <th>published_at</th>\n      <th>maker_name</th>\n      <th>pub_0</th>\n      <th>...</th>\n      <th>category_id_30</th>\n      <th>category_id_31</th>\n      <th>category_id_33</th>\n      <th>category_id_34</th>\n      <th>shop_price_0</th>\n      <th>shop_price_1</th>\n      <th>shop_price_2</th>\n      <th>shop_price_3</th>\n      <th>pub_newold</th>\n      <th>new_preference</th>\n    </tr>\n  </thead>\n  <tbody>\n    <tr>\n      <th>0</th>\n      <td>2020-03-14 10:39:45</td>\n      <td>101496</td>\n      <td>88429694</td>\n      <td>0</td>\n      <td>1</td>\n      <td>0</td>\n      <td>먼 바다</td>\n      <td>2020-02-17 00:00:00</td>\n      <td>해냄</td>\n      <td>0.0</td>\n      <td>...</td>\n      <td>0.0</td>\n      <td>0.0</td>\n      <td>1.0</td>\n      <td>0.0</td>\n      <td>0.0</td>\n      <td>0.0</td>\n      <td>1.0</td>\n      <td>0.0</td>\n      <td>1.0</td>\n      <td>0.258621</td>\n    </tr>\n    <tr>\n      <th>1</th>\n      <td>2020-03-24 15:33:35</td>\n      <td>101496</td>\n      <td>64694842</td>\n      <td>0</td>\n      <td>1</td>\n      <td>0</td>\n      <td>당신이 옳다</td>\n      <td>2018-10-10 00:00:00</td>\n      <td>해냄</td>\n      <td>0.0</td>\n      <td>...</td>\n      <td>0.0</td>\n      <td>0.0</td>\n      <td>0.0</td>\n      <td>0.0</td>\n      <td>0.0</td>\n      <td>0.0</td>\n      <td>1.0</td>\n      <td>0.0</td>\n      <td>0.0</td>\n      <td>0.258621</td>\n    </tr>\n    <tr>\n      <th>2</th>\n      <td>2019-12-31 09:54:33</td>\n      <td>101496</td>\n      <td>81503945</td>\n      <td>0</td>\n      <td>1</td>\n      <td>0</td>\n      <td>[예스리커버] 1일 1페이지, 세상에서 가장 짧은 교양 수업 365</td>\n      <td>2019-10-30 00:00:00</td>\n      <td>위즈덤하우스</td>\n      <td>0.0</td>\n      <td>...</td>\n      <td>0.0</td>\n      <td>0.0</td>\n      <td>0.0</td>\n      <td>0.0</td>\n      <td>0.0</td>\n      <td>0.0</td>\n      <td>1.0</td>\n      <td>0.0</td>\n      <td>0.0</td>\n      <td>0.258621</td>\n    </tr>\n    <tr>\n      <th>3</th>\n      <td>2019-12-31 09:52:14</td>\n      <td>101496</td>\n      <td>84434768</td>\n      <td>0</td>\n      <td>1</td>\n      <td>0</td>\n      <td>오늘도 펭수 내일도 펭수 (꽃눈 에디션)</td>\n      <td>2019-12-19 00:00:00</td>\n      <td>놀</td>\n      <td>0.0</td>\n      <td>...</td>\n      <td>0.0</td>\n      <td>0.0</td>\n      <td>0.0</td>\n      <td>1.0</td>\n      <td>0.0</td>\n      <td>0.0</td>\n      <td>1.0</td>\n      <td>0.0</td>\n      <td>0.0</td>\n      <td>0.258621</td>\n    </tr>\n    <tr>\n      <th>4</th>\n      <td>2019-12-31 09:52:25</td>\n      <td>101496</td>\n      <td>81503945</td>\n      <td>0</td>\n      <td>1</td>\n      <td>0</td>\n      <td>[예스리커버] 1일 1페이지, 세상에서 가장 짧은 교양 수업 365</td>\n      <td>2019-10-30 00:00:00</td>\n      <td>위즈덤하우스</td>\n      <td>0.0</td>\n      <td>...</td>\n      <td>0.0</td>\n      <td>0.0</td>\n      <td>0.0</td>\n      <td>0.0</td>\n      <td>0.0</td>\n      <td>0.0</td>\n      <td>1.0</td>\n      <td>0.0</td>\n      <td>0.0</td>\n      <td>0.258621</td>\n    </tr>\n  </tbody>\n</table>\n<p>5 rows × 51 columns</p>\n</div>"
     },
     "execution_count": 9,
     "metadata": {},
     "output_type": "execute_result"
    }
   ],
   "source": [
    "click_pro = pd.read_csv(path+'user_click_new_preference.csv')\n",
    "click_pro.head()"
   ],
   "metadata": {
    "collapsed": false,
    "pycharm": {
     "name": "#%%\n"
    }
   }
  },
  {
   "cell_type": "code",
   "execution_count": 10,
   "outputs": [],
   "source": [
    "cate_cols = [col for col in click_pro.columns if col.startswith('category')]\n",
    "cate_click_pro = click_pro[['account_id', 'product_id'] + cate_cols]"
   ],
   "metadata": {
    "collapsed": false,
    "pycharm": {
     "name": "#%%\n"
    }
   }
  },
  {
   "cell_type": "code",
   "execution_count": 13,
   "outputs": [],
   "source": [
    "user_click_pro = pd.merge(users, cate_click_pro, how='left', on='account_id')"
   ],
   "metadata": {
    "collapsed": false,
    "pycharm": {
     "name": "#%%\n"
    }
   }
  },
  {
   "cell_type": "code",
   "execution_count": 14,
   "outputs": [
    {
     "data": {
      "text/plain": "            gender_M  gender_F  age  address_is    product_id  category_id_01  \\\naccount_id                                                                      \n100001             1         0    4           0  0.000000e+00             0.0   \n100004             0        41  164           0  2.985000e+09             1.0   \n100014             0         1    4           1  0.000000e+00             0.0   \n100018             0         1    4           1  0.000000e+00             0.0   \n100020             1         0    5           1  0.000000e+00             0.0   \n...              ...       ...  ...         ...           ...             ...   \n16991185           1         0    3           0  0.000000e+00             0.0   \n16991193           1         0    2           1  0.000000e+00             0.0   \n16991195           1         0    3           1  0.000000e+00             0.0   \n16991207           1         0    2           1  0.000000e+00             0.0   \n16991217           0         1    2           0  0.000000e+00             0.0   \n\n            category_id_02  category_id_03  category_id_04  category_id_05  \\\naccount_id                                                                   \n100001                 0.0             0.0             0.0             0.0   \n100004                 0.0            17.0             0.0             1.0   \n100014                 0.0             0.0             0.0             0.0   \n100018                 0.0             0.0             0.0             0.0   \n100020                 0.0             0.0             0.0             0.0   \n...                    ...             ...             ...             ...   \n16991185               0.0             0.0             0.0             0.0   \n16991193               0.0             0.0             0.0             0.0   \n16991195               0.0             0.0             0.0             0.0   \n16991207               0.0             0.0             0.0             0.0   \n16991217               0.0             0.0             0.0             0.0   \n\n            ...  category_id_23  category_id_25  category_id_26  \\\naccount_id  ...                                                   \n100001      ...             0.0             0.0             0.0   \n100004      ...             0.0             1.0             0.0   \n100014      ...             0.0             0.0             0.0   \n100018      ...             0.0             0.0             0.0   \n100020      ...             0.0             0.0             0.0   \n...         ...             ...             ...             ...   \n16991185    ...             0.0             0.0             0.0   \n16991193    ...             0.0             0.0             0.0   \n16991195    ...             0.0             0.0             0.0   \n16991207    ...             0.0             0.0             0.0   \n16991217    ...             0.0             0.0             0.0   \n\n            category_id_27  category_id_28  category_id_29  category_id_30  \\\naccount_id                                                                   \n100001                 0.0             0.0             0.0             0.0   \n100004                 3.0             0.0             0.0             0.0   \n100014                 0.0             0.0             0.0             0.0   \n100018                 0.0             0.0             0.0             0.0   \n100020                 0.0             0.0             0.0             0.0   \n...                    ...             ...             ...             ...   \n16991185               0.0             0.0             0.0             0.0   \n16991193               0.0             0.0             0.0             0.0   \n16991195               0.0             0.0             0.0             0.0   \n16991207               0.0             0.0             0.0             0.0   \n16991217               0.0             0.0             0.0             0.0   \n\n            category_id_31  category_id_33  category_id_34  \naccount_id                                                  \n100001                 0.0             0.0             0.0  \n100004                 0.0             7.0             2.0  \n100014                 0.0             0.0             0.0  \n100018                 0.0             0.0             0.0  \n100020                 0.0             0.0             0.0  \n...                    ...             ...             ...  \n16991185               0.0             0.0             0.0  \n16991193               0.0             0.0             0.0  \n16991195               0.0             0.0             0.0  \n16991207               0.0             0.0             0.0  \n16991217               0.0             0.0             0.0  \n\n[1668999 rows x 36 columns]",
      "text/html": "<div>\n<style scoped>\n    .dataframe tbody tr th:only-of-type {\n        vertical-align: middle;\n    }\n\n    .dataframe tbody tr th {\n        vertical-align: top;\n    }\n\n    .dataframe thead th {\n        text-align: right;\n    }\n</style>\n<table border=\"1\" class=\"dataframe\">\n  <thead>\n    <tr style=\"text-align: right;\">\n      <th></th>\n      <th>gender_M</th>\n      <th>gender_F</th>\n      <th>age</th>\n      <th>address_is</th>\n      <th>product_id</th>\n      <th>category_id_01</th>\n      <th>category_id_02</th>\n      <th>category_id_03</th>\n      <th>category_id_04</th>\n      <th>category_id_05</th>\n      <th>...</th>\n      <th>category_id_23</th>\n      <th>category_id_25</th>\n      <th>category_id_26</th>\n      <th>category_id_27</th>\n      <th>category_id_28</th>\n      <th>category_id_29</th>\n      <th>category_id_30</th>\n      <th>category_id_31</th>\n      <th>category_id_33</th>\n      <th>category_id_34</th>\n    </tr>\n    <tr>\n      <th>account_id</th>\n      <th></th>\n      <th></th>\n      <th></th>\n      <th></th>\n      <th></th>\n      <th></th>\n      <th></th>\n      <th></th>\n      <th></th>\n      <th></th>\n      <th></th>\n      <th></th>\n      <th></th>\n      <th></th>\n      <th></th>\n      <th></th>\n      <th></th>\n      <th></th>\n      <th></th>\n      <th></th>\n      <th></th>\n    </tr>\n  </thead>\n  <tbody>\n    <tr>\n      <th>100001</th>\n      <td>1</td>\n      <td>0</td>\n      <td>4</td>\n      <td>0</td>\n      <td>0.000000e+00</td>\n      <td>0.0</td>\n      <td>0.0</td>\n      <td>0.0</td>\n      <td>0.0</td>\n      <td>0.0</td>\n      <td>...</td>\n      <td>0.0</td>\n      <td>0.0</td>\n      <td>0.0</td>\n      <td>0.0</td>\n      <td>0.0</td>\n      <td>0.0</td>\n      <td>0.0</td>\n      <td>0.0</td>\n      <td>0.0</td>\n      <td>0.0</td>\n    </tr>\n    <tr>\n      <th>100004</th>\n      <td>0</td>\n      <td>41</td>\n      <td>164</td>\n      <td>0</td>\n      <td>2.985000e+09</td>\n      <td>1.0</td>\n      <td>0.0</td>\n      <td>17.0</td>\n      <td>0.0</td>\n      <td>1.0</td>\n      <td>...</td>\n      <td>0.0</td>\n      <td>1.0</td>\n      <td>0.0</td>\n      <td>3.0</td>\n      <td>0.0</td>\n      <td>0.0</td>\n      <td>0.0</td>\n      <td>0.0</td>\n      <td>7.0</td>\n      <td>2.0</td>\n    </tr>\n    <tr>\n      <th>100014</th>\n      <td>0</td>\n      <td>1</td>\n      <td>4</td>\n      <td>1</td>\n      <td>0.000000e+00</td>\n      <td>0.0</td>\n      <td>0.0</td>\n      <td>0.0</td>\n      <td>0.0</td>\n      <td>0.0</td>\n      <td>...</td>\n      <td>0.0</td>\n      <td>0.0</td>\n      <td>0.0</td>\n      <td>0.0</td>\n      <td>0.0</td>\n      <td>0.0</td>\n      <td>0.0</td>\n      <td>0.0</td>\n      <td>0.0</td>\n      <td>0.0</td>\n    </tr>\n    <tr>\n      <th>100018</th>\n      <td>0</td>\n      <td>1</td>\n      <td>4</td>\n      <td>1</td>\n      <td>0.000000e+00</td>\n      <td>0.0</td>\n      <td>0.0</td>\n      <td>0.0</td>\n      <td>0.0</td>\n      <td>0.0</td>\n      <td>...</td>\n      <td>0.0</td>\n      <td>0.0</td>\n      <td>0.0</td>\n      <td>0.0</td>\n      <td>0.0</td>\n      <td>0.0</td>\n      <td>0.0</td>\n      <td>0.0</td>\n      <td>0.0</td>\n      <td>0.0</td>\n    </tr>\n    <tr>\n      <th>100020</th>\n      <td>1</td>\n      <td>0</td>\n      <td>5</td>\n      <td>1</td>\n      <td>0.000000e+00</td>\n      <td>0.0</td>\n      <td>0.0</td>\n      <td>0.0</td>\n      <td>0.0</td>\n      <td>0.0</td>\n      <td>...</td>\n      <td>0.0</td>\n      <td>0.0</td>\n      <td>0.0</td>\n      <td>0.0</td>\n      <td>0.0</td>\n      <td>0.0</td>\n      <td>0.0</td>\n      <td>0.0</td>\n      <td>0.0</td>\n      <td>0.0</td>\n    </tr>\n    <tr>\n      <th>...</th>\n      <td>...</td>\n      <td>...</td>\n      <td>...</td>\n      <td>...</td>\n      <td>...</td>\n      <td>...</td>\n      <td>...</td>\n      <td>...</td>\n      <td>...</td>\n      <td>...</td>\n      <td>...</td>\n      <td>...</td>\n      <td>...</td>\n      <td>...</td>\n      <td>...</td>\n      <td>...</td>\n      <td>...</td>\n      <td>...</td>\n      <td>...</td>\n      <td>...</td>\n      <td>...</td>\n    </tr>\n    <tr>\n      <th>16991185</th>\n      <td>1</td>\n      <td>0</td>\n      <td>3</td>\n      <td>0</td>\n      <td>0.000000e+00</td>\n      <td>0.0</td>\n      <td>0.0</td>\n      <td>0.0</td>\n      <td>0.0</td>\n      <td>0.0</td>\n      <td>...</td>\n      <td>0.0</td>\n      <td>0.0</td>\n      <td>0.0</td>\n      <td>0.0</td>\n      <td>0.0</td>\n      <td>0.0</td>\n      <td>0.0</td>\n      <td>0.0</td>\n      <td>0.0</td>\n      <td>0.0</td>\n    </tr>\n    <tr>\n      <th>16991193</th>\n      <td>1</td>\n      <td>0</td>\n      <td>2</td>\n      <td>1</td>\n      <td>0.000000e+00</td>\n      <td>0.0</td>\n      <td>0.0</td>\n      <td>0.0</td>\n      <td>0.0</td>\n      <td>0.0</td>\n      <td>...</td>\n      <td>0.0</td>\n      <td>0.0</td>\n      <td>0.0</td>\n      <td>0.0</td>\n      <td>0.0</td>\n      <td>0.0</td>\n      <td>0.0</td>\n      <td>0.0</td>\n      <td>0.0</td>\n      <td>0.0</td>\n    </tr>\n    <tr>\n      <th>16991195</th>\n      <td>1</td>\n      <td>0</td>\n      <td>3</td>\n      <td>1</td>\n      <td>0.000000e+00</td>\n      <td>0.0</td>\n      <td>0.0</td>\n      <td>0.0</td>\n      <td>0.0</td>\n      <td>0.0</td>\n      <td>...</td>\n      <td>0.0</td>\n      <td>0.0</td>\n      <td>0.0</td>\n      <td>0.0</td>\n      <td>0.0</td>\n      <td>0.0</td>\n      <td>0.0</td>\n      <td>0.0</td>\n      <td>0.0</td>\n      <td>0.0</td>\n    </tr>\n    <tr>\n      <th>16991207</th>\n      <td>1</td>\n      <td>0</td>\n      <td>2</td>\n      <td>1</td>\n      <td>0.000000e+00</td>\n      <td>0.0</td>\n      <td>0.0</td>\n      <td>0.0</td>\n      <td>0.0</td>\n      <td>0.0</td>\n      <td>...</td>\n      <td>0.0</td>\n      <td>0.0</td>\n      <td>0.0</td>\n      <td>0.0</td>\n      <td>0.0</td>\n      <td>0.0</td>\n      <td>0.0</td>\n      <td>0.0</td>\n      <td>0.0</td>\n      <td>0.0</td>\n    </tr>\n    <tr>\n      <th>16991217</th>\n      <td>0</td>\n      <td>1</td>\n      <td>2</td>\n      <td>0</td>\n      <td>0.000000e+00</td>\n      <td>0.0</td>\n      <td>0.0</td>\n      <td>0.0</td>\n      <td>0.0</td>\n      <td>0.0</td>\n      <td>...</td>\n      <td>0.0</td>\n      <td>0.0</td>\n      <td>0.0</td>\n      <td>0.0</td>\n      <td>0.0</td>\n      <td>0.0</td>\n      <td>0.0</td>\n      <td>0.0</td>\n      <td>0.0</td>\n      <td>0.0</td>\n    </tr>\n  </tbody>\n</table>\n<p>1668999 rows × 36 columns</p>\n</div>"
     },
     "execution_count": 14,
     "metadata": {},
     "output_type": "execute_result"
    }
   ],
   "source": [
    "user_click_pro_sum = user_click_pro.groupby('account_id').sum()\n",
    "user_click_pro_sum"
   ],
   "metadata": {
    "collapsed": false,
    "pycharm": {
     "name": "#%%\n"
    }
   }
  },
  {
   "cell_type": "code",
   "execution_count": 16,
   "outputs": [],
   "source": [
    "user_click_pro_sum.iloc[:, 5:] = user_click_pro_sum.iloc[:, 5:].div(user_click_pro_sum.iloc[:, 5:].sum(axis=1), axis='index').fillna(0)"
   ],
   "metadata": {
    "collapsed": false,
    "pycharm": {
     "name": "#%%\n"
    }
   }
  },
  {
   "cell_type": "code",
   "source": [
    "user_click_pro_sum.to_csv(path+'user_click_cat_preference.csv')"
   ],
   "metadata": {
    "collapsed": false,
    "pycharm": {
     "name": "#%%\n"
    }
   },
   "execution_count": 19,
   "outputs": []
  },
  {
   "cell_type": "markdown",
   "source": [
    "### 관여도"
   ],
   "metadata": {
    "collapsed": false
   }
  },
  {
   "cell_type": "markdown",
   "source": [
    "#### click"
   ],
   "metadata": {
    "collapsed": false
   }
  },
  {
   "cell_type": "code",
   "execution_count": 26,
   "outputs": [],
   "source": [
    "account_click_count = click.groupby('account_id').count().iloc[:, 0]"
   ],
   "metadata": {
    "collapsed": false,
    "pycharm": {
     "name": "#%%\n"
    }
   }
  },
  {
   "cell_type": "code",
   "execution_count": 27,
   "outputs": [],
   "source": [
    "account_click_count.to_csv(path + 'account_click_count.csv', index=None)"
   ],
   "metadata": {
    "collapsed": false,
    "pycharm": {
     "name": "#%%\n"
    }
   }
  },
  {
   "cell_type": "markdown",
   "source": [
    "#### order"
   ],
   "metadata": {
    "collapsed": false
   }
  },
  {
   "cell_type": "code",
   "execution_count": 32,
   "outputs": [],
   "source": [
    "account_order_count = orders.groupby('account_id').count()['order_id']"
   ],
   "metadata": {
    "collapsed": false,
    "pycharm": {
     "name": "#%%\n"
    }
   }
  },
  {
   "cell_type": "code",
   "execution_count": 34,
   "outputs": [],
   "source": [
    "account_order_count.to_csv('account_order_count.csv', index=None)"
   ],
   "metadata": {
    "collapsed": false,
    "pycharm": {
     "name": "#%%\n"
    }
   }
  },
  {
   "cell_type": "markdown",
   "source": [
    "#### 관여도 (클릭수 / 주문수)"
   ],
   "metadata": {
    "collapsed": false
   }
  },
  {
   "cell_type": "code",
   "execution_count": 38,
   "outputs": [],
   "source": [
    "inv = account_click_count.div(account_order_count, axis='index').reset_index().rename({0:'involvement'}, axis=1)\n",
    "inv.to_csv('user_involvement.csv', index=None)"
   ],
   "metadata": {
    "collapsed": false,
    "pycharm": {
     "name": "#%%\n"
    }
   }
  },
  {
   "cell_type": "markdown",
   "source": [
    "### bestseller"
   ],
   "metadata": {
    "collapsed": false
   }
  },
  {
   "cell_type": "code",
   "execution_count": 52,
   "outputs": [],
   "source": [
    "products['category_id'] = products[cate_cols].idxmax(axis=1).str[-2:]"
   ],
   "metadata": {
    "collapsed": false,
    "pycharm": {
     "name": "#%%\n"
    }
   }
  },
  {
   "cell_type": "code",
   "execution_count": 54,
   "outputs": [],
   "source": [
    "#order, product 데이터 merge\n",
    "pro_pre = products[['category_id','product_id']]\n",
    "best = pd.merge(orders, pro_pre, on='product_id', how='left')\n",
    "best.isnull().sum()\n",
    "best.dropna(inplace=True)"
   ],
   "metadata": {
    "collapsed": false,
    "pycharm": {
     "name": "#%%\n"
    }
   }
  },
  {
   "cell_type": "code",
   "execution_count": 55,
   "outputs": [
    {
     "data": {
      "text/plain": "    order_id  account_id  product_id    price               created_at  \\\n0  222798861      104533    89967507 48600.00  2020-05-24 22:16:05.020   \n1  217109953      104533      234373 18000.00  2020-03-11 22:59:53.880   \n2  220523812      106728    38972963 12600.00  2020-04-21 17:15:15.880   \n3  220523812      106728    69645132  9000.00  2020-04-21 17:15:15.880   \n4  216465952      106728     8157957 13320.00  2020-03-04 18:19:32.886   \n\n  category_id  \n0          13  \n1          13  \n2          03  \n3          03  \n4          33  ",
      "text/html": "<div>\n<style scoped>\n    .dataframe tbody tr th:only-of-type {\n        vertical-align: middle;\n    }\n\n    .dataframe tbody tr th {\n        vertical-align: top;\n    }\n\n    .dataframe thead th {\n        text-align: right;\n    }\n</style>\n<table border=\"1\" class=\"dataframe\">\n  <thead>\n    <tr style=\"text-align: right;\">\n      <th></th>\n      <th>order_id</th>\n      <th>account_id</th>\n      <th>product_id</th>\n      <th>price</th>\n      <th>created_at</th>\n      <th>category_id</th>\n    </tr>\n  </thead>\n  <tbody>\n    <tr>\n      <th>0</th>\n      <td>222798861</td>\n      <td>104533</td>\n      <td>89967507</td>\n      <td>48600.00</td>\n      <td>2020-05-24 22:16:05.020</td>\n      <td>13</td>\n    </tr>\n    <tr>\n      <th>1</th>\n      <td>217109953</td>\n      <td>104533</td>\n      <td>234373</td>\n      <td>18000.00</td>\n      <td>2020-03-11 22:59:53.880</td>\n      <td>13</td>\n    </tr>\n    <tr>\n      <th>2</th>\n      <td>220523812</td>\n      <td>106728</td>\n      <td>38972963</td>\n      <td>12600.00</td>\n      <td>2020-04-21 17:15:15.880</td>\n      <td>03</td>\n    </tr>\n    <tr>\n      <th>3</th>\n      <td>220523812</td>\n      <td>106728</td>\n      <td>69645132</td>\n      <td>9000.00</td>\n      <td>2020-04-21 17:15:15.880</td>\n      <td>03</td>\n    </tr>\n    <tr>\n      <th>4</th>\n      <td>216465952</td>\n      <td>106728</td>\n      <td>8157957</td>\n      <td>13320.00</td>\n      <td>2020-03-04 18:19:32.886</td>\n      <td>33</td>\n    </tr>\n  </tbody>\n</table>\n</div>"
     },
     "execution_count": 55,
     "metadata": {},
     "output_type": "execute_result"
    }
   ],
   "source": [
    "best.head()"
   ],
   "metadata": {
    "collapsed": false,
    "pycharm": {
     "name": "#%%\n"
    }
   }
  },
  {
   "cell_type": "code",
   "execution_count": 56,
   "outputs": [],
   "source": [
    "#created_at(주문일) count하여 특정 카테고리 내 특정 도서 구매량 비교\n",
    "best_by_category = pd.DataFrame(best.groupby(['category_id','product_id']).count()['created_at']).sort_values('created_at', ascending=False)\n",
    "\n"
   ],
   "metadata": {
    "collapsed": false,
    "pycharm": {
     "name": "#%%\n"
    }
   }
  },
  {
   "cell_type": "code",
   "execution_count": 57,
   "outputs": [
    {
     "data": {
      "text/plain": "                        created_at\ncategory_id product_id            \n22          89309569         12233\n03          85927912          8961\n27          89512708          8910\n            89484458          8794\n03          85927903          8610\n...                            ...\n16          90232736             1\n            90228077             1\n            90224661             1\n05          4170526              1\n01          9130                 1\n\n[229221 rows x 1 columns]",
      "text/html": "<div>\n<style scoped>\n    .dataframe tbody tr th:only-of-type {\n        vertical-align: middle;\n    }\n\n    .dataframe tbody tr th {\n        vertical-align: top;\n    }\n\n    .dataframe thead th {\n        text-align: right;\n    }\n</style>\n<table border=\"1\" class=\"dataframe\">\n  <thead>\n    <tr style=\"text-align: right;\">\n      <th></th>\n      <th></th>\n      <th>created_at</th>\n    </tr>\n    <tr>\n      <th>category_id</th>\n      <th>product_id</th>\n      <th></th>\n    </tr>\n  </thead>\n  <tbody>\n    <tr>\n      <th>22</th>\n      <th>89309569</th>\n      <td>12233</td>\n    </tr>\n    <tr>\n      <th>03</th>\n      <th>85927912</th>\n      <td>8961</td>\n    </tr>\n    <tr>\n      <th rowspan=\"2\" valign=\"top\">27</th>\n      <th>89512708</th>\n      <td>8910</td>\n    </tr>\n    <tr>\n      <th>89484458</th>\n      <td>8794</td>\n    </tr>\n    <tr>\n      <th>03</th>\n      <th>85927903</th>\n      <td>8610</td>\n    </tr>\n    <tr>\n      <th>...</th>\n      <th>...</th>\n      <td>...</td>\n    </tr>\n    <tr>\n      <th rowspan=\"3\" valign=\"top\">16</th>\n      <th>90232736</th>\n      <td>1</td>\n    </tr>\n    <tr>\n      <th>90228077</th>\n      <td>1</td>\n    </tr>\n    <tr>\n      <th>90224661</th>\n      <td>1</td>\n    </tr>\n    <tr>\n      <th>05</th>\n      <th>4170526</th>\n      <td>1</td>\n    </tr>\n    <tr>\n      <th>01</th>\n      <th>9130</th>\n      <td>1</td>\n    </tr>\n  </tbody>\n</table>\n<p>229221 rows × 1 columns</p>\n</div>"
     },
     "execution_count": 57,
     "metadata": {},
     "output_type": "execute_result"
    }
   ],
   "source": [
    "best_by_category"
   ],
   "metadata": {
    "collapsed": false,
    "pycharm": {
     "name": "#%%\n"
    }
   }
  },
  {
   "cell_type": "code",
   "execution_count": 58,
   "outputs": [],
   "source": [
    "#주문량이 가장 많은 순대로 200권 선정(리스트)\n",
    "best200_nocat = best_by_category.sort_values(['created_at'],ascending=False)[0:200].reset_index()['product_id'].tolist()\n",
    "\n"
   ],
   "metadata": {
    "collapsed": false,
    "pycharm": {
     "name": "#%%\n"
    }
   }
  },
  {
   "cell_type": "code",
   "execution_count": 90,
   "outputs": [],
   "source": [
    "cat_best24_list = []\n",
    "for i in range(0, 24):\n",
    "    category_best24 = best_by_category.sort_values(['category_id', 'created_at'], ascending=False).unstack(level=0).iloc[:, i].sort_values(ascending=False)[:24].index.to_list()\n",
    "    cat_best24_list.extend(category_best24)\n"
   ],
   "metadata": {
    "collapsed": false,
    "pycharm": {
     "name": "#%%\n"
    }
   }
  },
  {
   "cell_type": "code",
   "execution_count": 94,
   "outputs": [
    {
     "data": {
      "text/plain": "200"
     },
     "execution_count": 94,
     "metadata": {},
     "output_type": "execute_result"
    }
   ],
   "source": [
    "products['best200'] = products['product_id'].apply(lambda x:1 if x in best200_nocat else 0)\n",
    "len(products[products['best200']==1])"
   ],
   "metadata": {
    "collapsed": false,
    "pycharm": {
     "name": "#%%\n"
    }
   }
  },
  {
   "cell_type": "code",
   "execution_count": 95,
   "outputs": [
    {
     "data": {
      "text/plain": "576"
     },
     "execution_count": 95,
     "metadata": {},
     "output_type": "execute_result"
    }
   ],
   "source": [
    "products['bestcat24'] = products['product_id'].apply(lambda x:1 if x in cat_best24_list else 0)\n",
    "len(products[products['bestcat24']==1])"
   ],
   "metadata": {
    "collapsed": false,
    "pycharm": {
     "name": "#%%\n"
    }
   }
  },
  {
   "cell_type": "code",
   "execution_count": 103,
   "outputs": [],
   "source": [
    "#products.drop('category_id', axis=1, inplace=True)\n",
    "products.to_csv(path+'bestseller_product.csv', index=None)"
   ],
   "metadata": {
    "collapsed": false,
    "pycharm": {
     "name": "#%%\n"
    }
   }
  },
  {
   "cell_type": "code",
   "execution_count": 102,
   "outputs": [
    {
     "data": {
      "text/plain": "'../data/3.Feature_Engineered/'"
     },
     "execution_count": 102,
     "metadata": {},
     "output_type": "execute_result"
    }
   ],
   "source": [
    "path"
   ],
   "metadata": {
    "collapsed": false,
    "pycharm": {
     "name": "#%%\n"
    }
   }
  },
  {
   "cell_type": "code",
   "execution_count": null,
   "outputs": [],
   "source": [],
   "metadata": {
    "collapsed": false,
    "pycharm": {
     "name": "#%%\n"
    }
   }
  }
 ],
 "metadata": {
  "kernelspec": {
   "display_name": "Python 3",
   "language": "python",
   "name": "python3"
  },
  "language_info": {
   "codemirror_mode": {
    "name": "ipython",
    "version": 2
   },
   "file_extension": ".py",
   "mimetype": "text/x-python",
   "name": "python",
   "nbconvert_exporter": "python",
   "pygments_lexer": "ipython2",
   "version": "2.7.6"
  }
 },
 "nbformat": 4,
 "nbformat_minor": 0
}