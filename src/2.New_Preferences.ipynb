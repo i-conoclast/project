{
 "cells": [
  {
   "cell_type": "code",
   "execution_count": 1,
   "metadata": {
    "id": "XigI9esp2Ath",
    "executionInfo": {
     "status": "ok",
     "timestamp": 1648090440301,
     "user_tz": -540,
     "elapsed": 5,
     "user": {
      "displayName": "‍이상래[ 학부졸업 / 일어일문학과 ]",
      "photoUrl": "https://lh3.googleusercontent.com/a/default-user=s64",
      "userId": "01842756657580376258"
     }
    }
   },
   "outputs": [],
   "source": [
    "import pandas as pd\n",
    "import numpy as np\n",
    "import os\n",
    "import datetime"
   ]
  },
  {
   "cell_type": "code",
   "execution_count": null,
   "metadata": {
    "id": "VRS5QEyf2Atk"
   },
   "outputs": [],
   "source": [
    "import pandas as pd\n",
    "import numpy as np\n",
    "import cudf\n",
    "import dask\n",
    "import dask_cudf"
   ]
  },
  {
   "cell_type": "code",
   "execution_count": null,
   "metadata": {
    "id": "MBOKJr-C2Atk",
    "outputId": "52ed35cd-d2a5-43eb-d651-303b06e5224d"
   },
   "outputs": [
    {
     "data": {
      "text/plain": [
       "'/home/yes24/capstone/추천알고리즘/preprocessed'"
      ]
     },
     "execution_count": 3,
     "metadata": {},
     "output_type": "execute_result"
    }
   ],
   "source": [
    "os.getcwd()\n"
   ]
  },
  {
   "cell_type": "markdown",
   "metadata": {
    "id": "-yfKBg8N2Atl"
   },
   "source": [
    "## 신구선호도"
   ]
  },
  {
   "cell_type": "code",
   "execution_count": null,
   "metadata": {
    "id": "wZYwTnvH2Atm"
   },
   "outputs": [],
   "source": []
  },
  {
   "cell_type": "code",
   "source": [
    "from google.colab import drive\n",
    "drive.mount('/content/drive/')"
   ],
   "metadata": {
    "id": "r5K6iSBM2FlH"
   },
   "execution_count": null,
   "outputs": []
  },
  {
   "cell_type": "code",
   "execution_count": 10,
   "metadata": {
    "id": "WQ9DC00M2Atm",
    "executionInfo": {
     "status": "ok",
     "timestamp": 1648090606223,
     "user_tz": -540,
     "elapsed": 410,
     "user": {
      "displayName": "‍이상래[ 학부졸업 / 일어일문학과 ]",
      "photoUrl": "https://lh3.googleusercontent.com/a/default-user=s64",
      "userId": "01842756657580376258"
     }
    }
   },
   "outputs": [],
   "source": [
    "os.chdir('/content/drive/MyDrive/sora/python/YES24/!code')"
   ]
  },
  {
   "cell_type": "code",
   "execution_count": 2,
   "metadata": {
    "id": "ZgImGExI2Atm",
    "executionInfo": {
     "status": "ok",
     "timestamp": 1648090581447,
     "user_tz": -540,
     "elapsed": 5236,
     "user": {
      "displayName": "‍이상래[ 학부졸업 / 일어일문학과 ]",
      "photoUrl": "https://lh3.googleusercontent.com/a/default-user=s64",
      "userId": "01842756657580376258"
     }
    }
   },
   "outputs": [],
   "source": [
    "pro = pd.read_csv('pro_preprocessed_0623.csv')"
   ]
  },
  {
   "cell_type": "code",
   "execution_count": null,
   "metadata": {
    "scrolled": true,
    "id": "ug8FY-Ko2Atn",
    "outputId": "391a3298-3960-49dd-ac32-467f5343a7c7"
   },
   "outputs": [
    {
     "data": {
      "text/plain": [
       "'1954'"
      ]
     },
     "execution_count": 5,
     "metadata": {},
     "output_type": "execute_result"
    }
   ],
   "source": [
    "pro['published_at'][0][0:4]"
   ]
  },
  {
   "cell_type": "code",
   "execution_count": 3,
   "metadata": {
    "id": "ooJNAmQE2Atn",
    "executionInfo": {
     "status": "ok",
     "timestamp": 1648090587950,
     "user_tz": -540,
     "elapsed": 1521,
     "user": {
      "displayName": "‍이상래[ 학부졸업 / 일어일문학과 ]",
      "photoUrl": "https://lh3.googleusercontent.com/a/default-user=s64",
      "userId": "01842756657580376258"
     }
    }
   },
   "outputs": [],
   "source": [
    "pro['pub_newold'] = pro['published_at'].apply(lambda x: 1 if x[0:4] == '2020' else 0)"
   ]
  },
  {
   "cell_type": "code",
   "execution_count": 4,
   "metadata": {
    "id": "vkpxe-2O2Ato",
    "executionInfo": {
     "status": "ok",
     "timestamp": 1648090588747,
     "user_tz": -540,
     "elapsed": 799,
     "user": {
      "displayName": "‍이상래[ 학부졸업 / 일어일문학과 ]",
      "photoUrl": "https://lh3.googleusercontent.com/a/default-user=s64",
      "userId": "01842756657580376258"
     }
    }
   },
   "outputs": [],
   "source": [
    "pro = pro.drop(columns=pro.columns[0])"
   ]
  },
  {
   "cell_type": "code",
   "execution_count": 5,
   "metadata": {
    "colab": {
     "base_uri": "https://localhost:8080/",
     "height": 537
    },
    "id": "1GTsO0Kx2Ato",
    "executionInfo": {
     "status": "ok",
     "timestamp": 1648090590505,
     "user_tz": -540,
     "elapsed": 4,
     "user": {
      "displayName": "‍이상래[ 학부졸업 / 일어일문학과 ]",
      "photoUrl": "https://lh3.googleusercontent.com/a/default-user=s64",
      "userId": "01842756657580376258"
     }
    },
    "outputId": "001e35e2-72af-4342-bff9-77033e7eab06"
   },
   "outputs": [
    {
     "data": {
      "text/plain": "           index  product_id        product_name  category_id published_at  \\\n0         335076     3105289           잠언과 영적 권고          7.0   1954-10-20   \n1        1136875      117972         한국만주관계사의 연구          9.0   1954-10-31   \n2        1134782      115797        교주 춘향전 : 개정판          5.0   1957-10-31   \n3        1139963      122607        말틴 루터 생애와 사상          7.0   1960-04-30   \n4        1140065      122710      말틴루터 소교리문답서 해설          7.0   1960-04-30   \n...          ...         ...                 ...          ...          ...   \n1724599   495262    61513793           드론촬영 편집실무          2.0   2020-06-10   \n1724600    61511    90328005  MBA English Basics         11.0   2020-06-10   \n1724601    65298    90445341    넷플릭스의 클라우드 엔지니어링          2.0   2020-06-10   \n1724602    62978    90375387   빌 브라이슨의 틀리기 쉬운 영어         11.0   2020-06-10   \n1724603   809579    48705510      누구나 쉽게 하는 특수미용          1.0   2020-06-10   \n\n         shop_price maker_name  pub_newold  \n0            4000.0     가톨릭출판사           0  \n1            4000.0      을유문화사           0  \n2            3000.0      을유문화사           0  \n3            5000.0      컨콜디아사           0  \n4            5500.0      컨콜디아사           0  \n...             ...        ...         ...  \n1724599     25000.0     크라운출판사           1  \n1724600     17800.0      한올출판사           1  \n1724601     25000.0        예문사           1  \n1724602     15000.0       문학동네           1  \n1724603     25000.0     크라운출판사           1  \n\n[1724604 rows x 8 columns]",
      "text/html": "<div>\n<style scoped>\n    .dataframe tbody tr th:only-of-type {\n        vertical-align: middle;\n    }\n\n    .dataframe tbody tr th {\n        vertical-align: top;\n    }\n\n    .dataframe thead th {\n        text-align: right;\n    }\n</style>\n<table border=\"1\" class=\"dataframe\">\n  <thead>\n    <tr style=\"text-align: right;\">\n      <th></th>\n      <th>index</th>\n      <th>product_id</th>\n      <th>product_name</th>\n      <th>category_id</th>\n      <th>published_at</th>\n      <th>shop_price</th>\n      <th>maker_name</th>\n      <th>pub_newold</th>\n    </tr>\n  </thead>\n  <tbody>\n    <tr>\n      <th>0</th>\n      <td>335076</td>\n      <td>3105289</td>\n      <td>잠언과 영적 권고</td>\n      <td>7.0</td>\n      <td>1954-10-20</td>\n      <td>4000.0</td>\n      <td>가톨릭출판사</td>\n      <td>0</td>\n    </tr>\n    <tr>\n      <th>1</th>\n      <td>1136875</td>\n      <td>117972</td>\n      <td>한국만주관계사의 연구</td>\n      <td>9.0</td>\n      <td>1954-10-31</td>\n      <td>4000.0</td>\n      <td>을유문화사</td>\n      <td>0</td>\n    </tr>\n    <tr>\n      <th>2</th>\n      <td>1134782</td>\n      <td>115797</td>\n      <td>교주 춘향전 : 개정판</td>\n      <td>5.0</td>\n      <td>1957-10-31</td>\n      <td>3000.0</td>\n      <td>을유문화사</td>\n      <td>0</td>\n    </tr>\n    <tr>\n      <th>3</th>\n      <td>1139963</td>\n      <td>122607</td>\n      <td>말틴 루터 생애와 사상</td>\n      <td>7.0</td>\n      <td>1960-04-30</td>\n      <td>5000.0</td>\n      <td>컨콜디아사</td>\n      <td>0</td>\n    </tr>\n    <tr>\n      <th>4</th>\n      <td>1140065</td>\n      <td>122710</td>\n      <td>말틴루터 소교리문답서 해설</td>\n      <td>7.0</td>\n      <td>1960-04-30</td>\n      <td>5500.0</td>\n      <td>컨콜디아사</td>\n      <td>0</td>\n    </tr>\n    <tr>\n      <th>...</th>\n      <td>...</td>\n      <td>...</td>\n      <td>...</td>\n      <td>...</td>\n      <td>...</td>\n      <td>...</td>\n      <td>...</td>\n      <td>...</td>\n    </tr>\n    <tr>\n      <th>1724599</th>\n      <td>495262</td>\n      <td>61513793</td>\n      <td>드론촬영 편집실무</td>\n      <td>2.0</td>\n      <td>2020-06-10</td>\n      <td>25000.0</td>\n      <td>크라운출판사</td>\n      <td>1</td>\n    </tr>\n    <tr>\n      <th>1724600</th>\n      <td>61511</td>\n      <td>90328005</td>\n      <td>MBA English Basics</td>\n      <td>11.0</td>\n      <td>2020-06-10</td>\n      <td>17800.0</td>\n      <td>한올출판사</td>\n      <td>1</td>\n    </tr>\n    <tr>\n      <th>1724601</th>\n      <td>65298</td>\n      <td>90445341</td>\n      <td>넷플릭스의 클라우드 엔지니어링</td>\n      <td>2.0</td>\n      <td>2020-06-10</td>\n      <td>25000.0</td>\n      <td>예문사</td>\n      <td>1</td>\n    </tr>\n    <tr>\n      <th>1724602</th>\n      <td>62978</td>\n      <td>90375387</td>\n      <td>빌 브라이슨의 틀리기 쉬운 영어</td>\n      <td>11.0</td>\n      <td>2020-06-10</td>\n      <td>15000.0</td>\n      <td>문학동네</td>\n      <td>1</td>\n    </tr>\n    <tr>\n      <th>1724603</th>\n      <td>809579</td>\n      <td>48705510</td>\n      <td>누구나 쉽게 하는 특수미용</td>\n      <td>1.0</td>\n      <td>2020-06-10</td>\n      <td>25000.0</td>\n      <td>크라운출판사</td>\n      <td>1</td>\n    </tr>\n  </tbody>\n</table>\n<p>1724604 rows × 8 columns</p>\n</div>"
     },
     "execution_count": 5,
     "metadata": {},
     "output_type": "execute_result"
    }
   ],
   "source": [
    "pro"
   ]
  },
  {
   "cell_type": "code",
   "execution_count": 6,
   "metadata": {
    "id": "OElmdwCm2Ato",
    "executionInfo": {
     "status": "ok",
     "timestamp": 1648090619418,
     "user_tz": -540,
     "elapsed": 9770,
     "user": {
      "displayName": "‍이상래[ 학부졸업 / 일어일문학과 ]",
      "photoUrl": "https://lh3.googleusercontent.com/a/default-user=s64",
      "userId": "01842756657580376258"
     }
    }
   },
   "outputs": [],
   "source": [
    "order = pd.read_csv('orders_preprocessed_0623.csv')"
   ]
  },
  {
   "cell_type": "code",
   "execution_count": 7,
   "metadata": {
    "id": "enpoNJW02Atp",
    "executionInfo": {
     "status": "ok",
     "timestamp": 1648090624048,
     "user_tz": -540,
     "elapsed": 429,
     "user": {
      "displayName": "‍이상래[ 학부졸업 / 일어일문학과 ]",
      "photoUrl": "https://lh3.googleusercontent.com/a/default-user=s64",
      "userId": "01842756657580376258"
     }
    }
   },
   "outputs": [],
   "source": [
    "order.drop(columns= order.columns[0],inplace=True)"
   ]
  },
  {
   "cell_type": "code",
   "execution_count": 8,
   "metadata": {
    "colab": {
     "base_uri": "https://localhost:8080/",
     "height": 423
    },
    "id": "yAB_oxmF2Atp",
    "executionInfo": {
     "status": "ok",
     "timestamp": 1648090625340,
     "user_tz": -540,
     "elapsed": 4,
     "user": {
      "displayName": "‍이상래[ 학부졸업 / 일어일문학과 ]",
      "photoUrl": "https://lh3.googleusercontent.com/a/default-user=s64",
      "userId": "01842756657580376258"
     }
    },
    "outputId": "e54292e4-f7f2-4c9e-d7ed-bf7cd877d796"
   },
   "outputs": [
    {
     "data": {
      "text/plain": "          order_id  account_id  product_id    price               created_at\n0        222100083      101307      164108   9000.0  2020-05-14 11:40:16.380\n1        217486577      101307     5193211  12600.0  2020-03-16 13:22:19.646\n2        219762355      101307    89846594  11610.0  2020-04-11 22:51:05.034\n3        222711844      101307     5822521   8820.0  2020-05-23 14:05:09.360\n4        222564324      101307    90247432  13500.0  2020-05-21 00:10:50.980\n...            ...         ...         ...      ...                      ...\n8382509  223890751    16990255    89317795  19800.0  2020-06-09 19:15:15.294\n8382510  223890751    16990255    58081328  12350.0  2020-06-09 19:15:15.294\n8382511  223900776    16990928    61779464  12420.0  2020-06-09 22:23:28.474\n8382512  223900776    16990928    90266627  13500.0  2020-06-09 22:23:28.474\n8382513  223900776    16990928    72339717  12420.0  2020-06-09 22:23:28.474\n\n[8382514 rows x 5 columns]",
      "text/html": "<div>\n<style scoped>\n    .dataframe tbody tr th:only-of-type {\n        vertical-align: middle;\n    }\n\n    .dataframe tbody tr th {\n        vertical-align: top;\n    }\n\n    .dataframe thead th {\n        text-align: right;\n    }\n</style>\n<table border=\"1\" class=\"dataframe\">\n  <thead>\n    <tr style=\"text-align: right;\">\n      <th></th>\n      <th>order_id</th>\n      <th>account_id</th>\n      <th>product_id</th>\n      <th>price</th>\n      <th>created_at</th>\n    </tr>\n  </thead>\n  <tbody>\n    <tr>\n      <th>0</th>\n      <td>222100083</td>\n      <td>101307</td>\n      <td>164108</td>\n      <td>9000.0</td>\n      <td>2020-05-14 11:40:16.380</td>\n    </tr>\n    <tr>\n      <th>1</th>\n      <td>217486577</td>\n      <td>101307</td>\n      <td>5193211</td>\n      <td>12600.0</td>\n      <td>2020-03-16 13:22:19.646</td>\n    </tr>\n    <tr>\n      <th>2</th>\n      <td>219762355</td>\n      <td>101307</td>\n      <td>89846594</td>\n      <td>11610.0</td>\n      <td>2020-04-11 22:51:05.034</td>\n    </tr>\n    <tr>\n      <th>3</th>\n      <td>222711844</td>\n      <td>101307</td>\n      <td>5822521</td>\n      <td>8820.0</td>\n      <td>2020-05-23 14:05:09.360</td>\n    </tr>\n    <tr>\n      <th>4</th>\n      <td>222564324</td>\n      <td>101307</td>\n      <td>90247432</td>\n      <td>13500.0</td>\n      <td>2020-05-21 00:10:50.980</td>\n    </tr>\n    <tr>\n      <th>...</th>\n      <td>...</td>\n      <td>...</td>\n      <td>...</td>\n      <td>...</td>\n      <td>...</td>\n    </tr>\n    <tr>\n      <th>8382509</th>\n      <td>223890751</td>\n      <td>16990255</td>\n      <td>89317795</td>\n      <td>19800.0</td>\n      <td>2020-06-09 19:15:15.294</td>\n    </tr>\n    <tr>\n      <th>8382510</th>\n      <td>223890751</td>\n      <td>16990255</td>\n      <td>58081328</td>\n      <td>12350.0</td>\n      <td>2020-06-09 19:15:15.294</td>\n    </tr>\n    <tr>\n      <th>8382511</th>\n      <td>223900776</td>\n      <td>16990928</td>\n      <td>61779464</td>\n      <td>12420.0</td>\n      <td>2020-06-09 22:23:28.474</td>\n    </tr>\n    <tr>\n      <th>8382512</th>\n      <td>223900776</td>\n      <td>16990928</td>\n      <td>90266627</td>\n      <td>13500.0</td>\n      <td>2020-06-09 22:23:28.474</td>\n    </tr>\n    <tr>\n      <th>8382513</th>\n      <td>223900776</td>\n      <td>16990928</td>\n      <td>72339717</td>\n      <td>12420.0</td>\n      <td>2020-06-09 22:23:28.474</td>\n    </tr>\n  </tbody>\n</table>\n<p>8382514 rows × 5 columns</p>\n</div>"
     },
     "execution_count": 8,
     "metadata": {},
     "output_type": "execute_result"
    }
   ],
   "source": [
    "order"
   ]
  },
  {
   "cell_type": "code",
   "execution_count": 9,
   "metadata": {
    "id": "LpAxg0Xa2Atp",
    "executionInfo": {
     "status": "ok",
     "timestamp": 1648090636649,
     "user_tz": -540,
     "elapsed": 9454,
     "user": {
      "displayName": "‍이상래[ 학부졸업 / 일어일문학과 ]",
      "photoUrl": "https://lh3.googleusercontent.com/a/default-user=s64",
      "userId": "01842756657580376258"
     }
    }
   },
   "outputs": [],
   "source": [
    "order['created_at']= order['created_at'].astype('datetime64[ns]')"
   ]
  },
  {
   "cell_type": "code",
   "execution_count": 10,
   "metadata": {
    "colab": {
     "base_uri": "https://localhost:8080/"
    },
    "id": "AAasdR1V2Atp",
    "executionInfo": {
     "status": "ok",
     "timestamp": 1648090636649,
     "user_tz": -540,
     "elapsed": 7,
     "user": {
      "displayName": "‍이상래[ 학부졸업 / 일어일문학과 ]",
      "photoUrl": "https://lh3.googleusercontent.com/a/default-user=s64",
      "userId": "01842756657580376258"
     }
    },
    "outputId": "a226e822-fbaa-4ca2-faa8-f63850f6679b"
   },
   "outputs": [
    {
     "data": {
      "text/plain": "datetime.date(2020, 5, 14)"
     },
     "execution_count": 10,
     "metadata": {},
     "output_type": "execute_result"
    }
   ],
   "source": [
    "order['created_at'][0].date()"
   ]
  },
  {
   "cell_type": "code",
   "execution_count": 11,
   "metadata": {
    "id": "zjzTkmLm2Atp",
    "executionInfo": {
     "status": "ok",
     "timestamp": 1648090637937,
     "user_tz": -540,
     "elapsed": 2,
     "user": {
      "displayName": "‍이상래[ 학부졸업 / 일어일문학과 ]",
      "photoUrl": "https://lh3.googleusercontent.com/a/default-user=s64",
      "userId": "01842756657580376258"
     }
    }
   },
   "outputs": [],
   "source": [
    "d = datetime.date(2020, 4, 30)"
   ]
  },
  {
   "cell_type": "code",
   "execution_count": 12,
   "metadata": {
    "id": "uXNVWvvG2Atp",
    "outputId": "dd204a13-1b79-492c-8f0f-eb141613cc77"
   },
   "outputs": [
    {
     "data": {
      "text/plain": "False"
     },
     "execution_count": 12,
     "metadata": {},
     "output_type": "execute_result"
    }
   ],
   "source": [
    "order['created_at'][0].date() < d"
   ]
  },
  {
   "cell_type": "code",
   "execution_count": 13,
   "metadata": {
    "id": "i_4k4a842Atq",
    "executionInfo": {
     "status": "ok",
     "timestamp": 1648090671923,
     "user_tz": -540,
     "elapsed": 33987,
     "user": {
      "displayName": "‍이상래[ 학부졸업 / 일어일문학과 ]",
      "photoUrl": "https://lh3.googleusercontent.com/a/default-user=s64",
      "userId": "01842756657580376258"
     }
    }
   },
   "outputs": [],
   "source": [
    "order['train'] = order['created_at'].apply(lambda x: np.nan if x.date() > d else x)"
   ]
  },
  {
   "cell_type": "code",
   "execution_count": 14,
   "metadata": {
    "id": "5n9-iJbG2Atq",
    "executionInfo": {
     "status": "ok",
     "timestamp": 1648090672553,
     "user_tz": -540,
     "elapsed": 634,
     "user": {
      "displayName": "‍이상래[ 학부졸업 / 일어일문학과 ]",
      "photoUrl": "https://lh3.googleusercontent.com/a/default-user=s64",
      "userId": "01842756657580376258"
     }
    }
   },
   "outputs": [],
   "source": [
    "order.dropna(inplace=True)"
   ]
  },
  {
   "cell_type": "code",
   "execution_count": 15,
   "metadata": {
    "colab": {
     "base_uri": "https://localhost:8080/",
     "height": 423
    },
    "id": "0GV5_-Oj2Atq",
    "executionInfo": {
     "status": "ok",
     "timestamp": 1648090672553,
     "user_tz": -540,
     "elapsed": 7,
     "user": {
      "displayName": "‍이상래[ 학부졸업 / 일어일문학과 ]",
      "photoUrl": "https://lh3.googleusercontent.com/a/default-user=s64",
      "userId": "01842756657580376258"
     }
    },
    "outputId": "527262ae-a6cb-45a6-fdfa-9e179499f8d0"
   },
   "outputs": [
    {
     "data": {
      "text/plain": "          order_id  account_id  product_id    price              created_at  \\\n1        217486577      101307     5193211  12600.0 2020-03-16 13:22:19.646   \n2        219762355      101307    89846594  11610.0 2020-04-11 22:51:05.034   \n5        217665548      101307    60495586  20700.0 2020-03-17 22:33:25.006   \n6        218317559      101307    89499323  16200.0 2020-03-24 22:04:33.420   \n7        219800180      101307    86429868  19800.0 2020-04-12 16:52:26.380   \n...            ...         ...         ...      ...                     ...   \n8382100  221154200    16828708    11863664  16200.0 2020-04-30 03:28:19.614   \n8382101  221102738    16829171    36881272  13000.0 2020-04-29 11:14:15.420   \n8382102  221128418    16831673     3260741  24300.0 2020-04-29 17:36:16.154   \n8382104  221179296    16835619    58308549  23400.0 2020-04-30 16:23:18.840   \n8382105  221191493    16836562    81537314  11250.0 2020-04-30 20:51:27.980   \n\n                          train  \n1       2020-03-16 13:22:19.646  \n2       2020-04-11 22:51:05.034  \n5       2020-03-17 22:33:25.006  \n6       2020-03-24 22:04:33.420  \n7       2020-04-12 16:52:26.380  \n...                         ...  \n8382100 2020-04-30 03:28:19.614  \n8382101 2020-04-29 11:14:15.420  \n8382102 2020-04-29 17:36:16.154  \n8382104 2020-04-30 16:23:18.840  \n8382105 2020-04-30 20:51:27.980  \n\n[5761152 rows x 6 columns]",
      "text/html": "<div>\n<style scoped>\n    .dataframe tbody tr th:only-of-type {\n        vertical-align: middle;\n    }\n\n    .dataframe tbody tr th {\n        vertical-align: top;\n    }\n\n    .dataframe thead th {\n        text-align: right;\n    }\n</style>\n<table border=\"1\" class=\"dataframe\">\n  <thead>\n    <tr style=\"text-align: right;\">\n      <th></th>\n      <th>order_id</th>\n      <th>account_id</th>\n      <th>product_id</th>\n      <th>price</th>\n      <th>created_at</th>\n      <th>train</th>\n    </tr>\n  </thead>\n  <tbody>\n    <tr>\n      <th>1</th>\n      <td>217486577</td>\n      <td>101307</td>\n      <td>5193211</td>\n      <td>12600.0</td>\n      <td>2020-03-16 13:22:19.646</td>\n      <td>2020-03-16 13:22:19.646</td>\n    </tr>\n    <tr>\n      <th>2</th>\n      <td>219762355</td>\n      <td>101307</td>\n      <td>89846594</td>\n      <td>11610.0</td>\n      <td>2020-04-11 22:51:05.034</td>\n      <td>2020-04-11 22:51:05.034</td>\n    </tr>\n    <tr>\n      <th>5</th>\n      <td>217665548</td>\n      <td>101307</td>\n      <td>60495586</td>\n      <td>20700.0</td>\n      <td>2020-03-17 22:33:25.006</td>\n      <td>2020-03-17 22:33:25.006</td>\n    </tr>\n    <tr>\n      <th>6</th>\n      <td>218317559</td>\n      <td>101307</td>\n      <td>89499323</td>\n      <td>16200.0</td>\n      <td>2020-03-24 22:04:33.420</td>\n      <td>2020-03-24 22:04:33.420</td>\n    </tr>\n    <tr>\n      <th>7</th>\n      <td>219800180</td>\n      <td>101307</td>\n      <td>86429868</td>\n      <td>19800.0</td>\n      <td>2020-04-12 16:52:26.380</td>\n      <td>2020-04-12 16:52:26.380</td>\n    </tr>\n    <tr>\n      <th>...</th>\n      <td>...</td>\n      <td>...</td>\n      <td>...</td>\n      <td>...</td>\n      <td>...</td>\n      <td>...</td>\n    </tr>\n    <tr>\n      <th>8382100</th>\n      <td>221154200</td>\n      <td>16828708</td>\n      <td>11863664</td>\n      <td>16200.0</td>\n      <td>2020-04-30 03:28:19.614</td>\n      <td>2020-04-30 03:28:19.614</td>\n    </tr>\n    <tr>\n      <th>8382101</th>\n      <td>221102738</td>\n      <td>16829171</td>\n      <td>36881272</td>\n      <td>13000.0</td>\n      <td>2020-04-29 11:14:15.420</td>\n      <td>2020-04-29 11:14:15.420</td>\n    </tr>\n    <tr>\n      <th>8382102</th>\n      <td>221128418</td>\n      <td>16831673</td>\n      <td>3260741</td>\n      <td>24300.0</td>\n      <td>2020-04-29 17:36:16.154</td>\n      <td>2020-04-29 17:36:16.154</td>\n    </tr>\n    <tr>\n      <th>8382104</th>\n      <td>221179296</td>\n      <td>16835619</td>\n      <td>58308549</td>\n      <td>23400.0</td>\n      <td>2020-04-30 16:23:18.840</td>\n      <td>2020-04-30 16:23:18.840</td>\n    </tr>\n    <tr>\n      <th>8382105</th>\n      <td>221191493</td>\n      <td>16836562</td>\n      <td>81537314</td>\n      <td>11250.0</td>\n      <td>2020-04-30 20:51:27.980</td>\n      <td>2020-04-30 20:51:27.980</td>\n    </tr>\n  </tbody>\n</table>\n<p>5761152 rows × 6 columns</p>\n</div>"
     },
     "execution_count": 15,
     "metadata": {},
     "output_type": "execute_result"
    }
   ],
   "source": [
    "order"
   ]
  },
  {
   "cell_type": "code",
   "execution_count": 20,
   "metadata": {
    "id": "dcVSVelU2Atq",
    "executionInfo": {
     "status": "ok",
     "timestamp": 1648090675650,
     "user_tz": -540,
     "elapsed": 3101,
     "user": {
      "displayName": "‍이상래[ 학부졸업 / 일어일문학과 ]",
      "photoUrl": "https://lh3.googleusercontent.com/a/default-user=s64",
      "userId": "01842756657580376258"
     }
    }
   },
   "outputs": [],
   "source": [
    "order_pre = pd.merge(order, pro, on='product_id',how='left')"
   ]
  },
  {
   "cell_type": "code",
   "execution_count": null,
   "metadata": {
    "id": "tBDJYS4V2Atr",
    "outputId": "d4441087-3543-488f-b7a8-cd582a04ef8f"
   },
   "outputs": [
    {
     "data": {
      "text/html": [
       "<div>\n",
       "<style scoped>\n",
       "    .dataframe tbody tr th:only-of-type {\n",
       "        vertical-align: middle;\n",
       "    }\n",
       "\n",
       "    .dataframe tbody tr th {\n",
       "        vertical-align: top;\n",
       "    }\n",
       "\n",
       "    .dataframe thead th {\n",
       "        text-align: right;\n",
       "    }\n",
       "</style>\n",
       "<table border=\"1\" class=\"dataframe\">\n",
       "  <thead>\n",
       "    <tr style=\"text-align: right;\">\n",
       "      <th></th>\n",
       "      <th>order_id</th>\n",
       "      <th>account_id</th>\n",
       "      <th>product_id</th>\n",
       "      <th>price</th>\n",
       "      <th>created_at</th>\n",
       "      <th>train</th>\n",
       "      <th>index</th>\n",
       "      <th>product_name</th>\n",
       "      <th>category_id</th>\n",
       "      <th>published_at</th>\n",
       "      <th>shop_price</th>\n",
       "      <th>maker_name</th>\n",
       "      <th>pub_newold</th>\n",
       "    </tr>\n",
       "  </thead>\n",
       "  <tbody>\n",
       "    <tr>\n",
       "      <th>0</th>\n",
       "      <td>217486577</td>\n",
       "      <td>101307</td>\n",
       "      <td>5193211</td>\n",
       "      <td>12600.0</td>\n",
       "      <td>2020-03-16 13:22:19.646</td>\n",
       "      <td>2020-03-16 13:22:19.646</td>\n",
       "      <td>833174.0</td>\n",
       "      <td>약사 버블워니가 만드는 천연비누</td>\n",
       "      <td>23.0</td>\n",
       "      <td>2011-06-02</td>\n",
       "      <td>14000.0</td>\n",
       "      <td>중앙북스(books)</td>\n",
       "      <td>0.0</td>\n",
       "    </tr>\n",
       "    <tr>\n",
       "      <th>1</th>\n",
       "      <td>219762355</td>\n",
       "      <td>101307</td>\n",
       "      <td>89846594</td>\n",
       "      <td>11610.0</td>\n",
       "      <td>2020-04-11 22:51:05.034</td>\n",
       "      <td>2020-04-11 22:51:05.034</td>\n",
       "      <td>677084.0</td>\n",
       "      <td>프리드먼은 왜 헬리콥터로 돈을 뿌리자고 했을까</td>\n",
       "      <td>13.0</td>\n",
       "      <td>2020-04-03</td>\n",
       "      <td>12900.0</td>\n",
       "      <td>미래를소유한사람들</td>\n",
       "      <td>1.0</td>\n",
       "    </tr>\n",
       "    <tr>\n",
       "      <th>2</th>\n",
       "      <td>217665548</td>\n",
       "      <td>101307</td>\n",
       "      <td>60495586</td>\n",
       "      <td>20700.0</td>\n",
       "      <td>2020-03-17 22:33:25.006</td>\n",
       "      <td>2020-03-17 22:33:25.006</td>\n",
       "      <td>220399.0</td>\n",
       "      <td>독백의 천연비누 완전정복</td>\n",
       "      <td>23.0</td>\n",
       "      <td>2018-04-23</td>\n",
       "      <td>23000.0</td>\n",
       "      <td>좋은땅</td>\n",
       "      <td>0.0</td>\n",
       "    </tr>\n",
       "    <tr>\n",
       "      <th>3</th>\n",
       "      <td>218317559</td>\n",
       "      <td>101307</td>\n",
       "      <td>89499323</td>\n",
       "      <td>16200.0</td>\n",
       "      <td>2020-03-24 22:04:33.420</td>\n",
       "      <td>2020-03-24 22:04:33.420</td>\n",
       "      <td>670893.0</td>\n",
       "      <td>쉼 없이 걸어 촛불을 만났다</td>\n",
       "      <td>9.0</td>\n",
       "      <td>2020-03-11</td>\n",
       "      <td>18000.0</td>\n",
       "      <td>21세기북스</td>\n",
       "      <td>1.0</td>\n",
       "    </tr>\n",
       "    <tr>\n",
       "      <th>4</th>\n",
       "      <td>219800180</td>\n",
       "      <td>101307</td>\n",
       "      <td>86429868</td>\n",
       "      <td>19800.0</td>\n",
       "      <td>2020-04-12 16:52:26.380</td>\n",
       "      <td>2020-04-12 16:52:26.380</td>\n",
       "      <td>50365.0</td>\n",
       "      <td>더 위험한 과학책</td>\n",
       "      <td>20.0</td>\n",
       "      <td>2020-01-20</td>\n",
       "      <td>22000.0</td>\n",
       "      <td>시공사</td>\n",
       "      <td>1.0</td>\n",
       "    </tr>\n",
       "    <tr>\n",
       "      <th>...</th>\n",
       "      <td>...</td>\n",
       "      <td>...</td>\n",
       "      <td>...</td>\n",
       "      <td>...</td>\n",
       "      <td>...</td>\n",
       "      <td>...</td>\n",
       "      <td>...</td>\n",
       "      <td>...</td>\n",
       "      <td>...</td>\n",
       "      <td>...</td>\n",
       "      <td>...</td>\n",
       "      <td>...</td>\n",
       "      <td>...</td>\n",
       "    </tr>\n",
       "    <tr>\n",
       "      <th>5761147</th>\n",
       "      <td>221154200</td>\n",
       "      <td>16828708</td>\n",
       "      <td>11863664</td>\n",
       "      <td>16200.0</td>\n",
       "      <td>2020-04-30 03:28:19.614</td>\n",
       "      <td>2020-04-30 03:28:19.614</td>\n",
       "      <td>920098.0</td>\n",
       "      <td>XGT 사용자 중심 PLC입문</td>\n",
       "      <td>4.0</td>\n",
       "      <td>2014-01-15</td>\n",
       "      <td>18000.0</td>\n",
       "      <td>일진사</td>\n",
       "      <td>0.0</td>\n",
       "    </tr>\n",
       "    <tr>\n",
       "      <th>5761148</th>\n",
       "      <td>221102738</td>\n",
       "      <td>16829171</td>\n",
       "      <td>36881272</td>\n",
       "      <td>13000.0</td>\n",
       "      <td>2020-04-29 11:14:15.420</td>\n",
       "      <td>2020-04-29 11:14:15.420</td>\n",
       "      <td>1507083.0</td>\n",
       "      <td>결혼과 가족생활</td>\n",
       "      <td>4.0</td>\n",
       "      <td>2017-02-28</td>\n",
       "      <td>13000.0</td>\n",
       "      <td>시그마프레스</td>\n",
       "      <td>0.0</td>\n",
       "    </tr>\n",
       "    <tr>\n",
       "      <th>5761149</th>\n",
       "      <td>221128418</td>\n",
       "      <td>16831673</td>\n",
       "      <td>3260741</td>\n",
       "      <td>24300.0</td>\n",
       "      <td>2020-04-29 17:36:16.154</td>\n",
       "      <td>2020-04-29 17:36:16.154</td>\n",
       "      <td>353359.0</td>\n",
       "      <td>3030 English 세트</td>\n",
       "      <td>11.0</td>\n",
       "      <td>2008-10-28</td>\n",
       "      <td>27000.0</td>\n",
       "      <td>김영사</td>\n",
       "      <td>0.0</td>\n",
       "    </tr>\n",
       "    <tr>\n",
       "      <th>5761150</th>\n",
       "      <td>221179296</td>\n",
       "      <td>16835619</td>\n",
       "      <td>58308549</td>\n",
       "      <td>23400.0</td>\n",
       "      <td>2020-04-30 16:23:18.840</td>\n",
       "      <td>2020-04-30 16:23:18.840</td>\n",
       "      <td>1024793.0</td>\n",
       "      <td>삶을 변화시키는 감사 메모</td>\n",
       "      <td>22.0</td>\n",
       "      <td>2018-02-20</td>\n",
       "      <td>13000.0</td>\n",
       "      <td>마음세상</td>\n",
       "      <td>0.0</td>\n",
       "    </tr>\n",
       "    <tr>\n",
       "      <th>5761151</th>\n",
       "      <td>221191493</td>\n",
       "      <td>16836562</td>\n",
       "      <td>81537314</td>\n",
       "      <td>11250.0</td>\n",
       "      <td>2020-04-30 20:51:27.980</td>\n",
       "      <td>2020-04-30 20:51:27.980</td>\n",
       "      <td>885626.0</td>\n",
       "      <td>손쉬운 고전문학 (2020년)</td>\n",
       "      <td>3.0</td>\n",
       "      <td>2019-10-16</td>\n",
       "      <td>12500.0</td>\n",
       "      <td>미래엔</td>\n",
       "      <td>0.0</td>\n",
       "    </tr>\n",
       "  </tbody>\n",
       "</table>\n",
       "<p>5761152 rows × 13 columns</p>\n",
       "</div>"
      ],
      "text/plain": [
       "          order_id  account_id  product_id    price              created_at  \\\n",
       "0        217486577      101307     5193211  12600.0 2020-03-16 13:22:19.646   \n",
       "1        219762355      101307    89846594  11610.0 2020-04-11 22:51:05.034   \n",
       "2        217665548      101307    60495586  20700.0 2020-03-17 22:33:25.006   \n",
       "3        218317559      101307    89499323  16200.0 2020-03-24 22:04:33.420   \n",
       "4        219800180      101307    86429868  19800.0 2020-04-12 16:52:26.380   \n",
       "...            ...         ...         ...      ...                     ...   \n",
       "5761147  221154200    16828708    11863664  16200.0 2020-04-30 03:28:19.614   \n",
       "5761148  221102738    16829171    36881272  13000.0 2020-04-29 11:14:15.420   \n",
       "5761149  221128418    16831673     3260741  24300.0 2020-04-29 17:36:16.154   \n",
       "5761150  221179296    16835619    58308549  23400.0 2020-04-30 16:23:18.840   \n",
       "5761151  221191493    16836562    81537314  11250.0 2020-04-30 20:51:27.980   \n",
       "\n",
       "                          train      index               product_name  \\\n",
       "0       2020-03-16 13:22:19.646   833174.0          약사 버블워니가 만드는 천연비누   \n",
       "1       2020-04-11 22:51:05.034   677084.0  프리드먼은 왜 헬리콥터로 돈을 뿌리자고 했을까   \n",
       "2       2020-03-17 22:33:25.006   220399.0              독백의 천연비누 완전정복   \n",
       "3       2020-03-24 22:04:33.420   670893.0            쉼 없이 걸어 촛불을 만났다   \n",
       "4       2020-04-12 16:52:26.380    50365.0                  더 위험한 과학책   \n",
       "...                         ...        ...                        ...   \n",
       "5761147 2020-04-30 03:28:19.614   920098.0           XGT 사용자 중심 PLC입문   \n",
       "5761148 2020-04-29 11:14:15.420  1507083.0                   결혼과 가족생활   \n",
       "5761149 2020-04-29 17:36:16.154   353359.0            3030 English 세트   \n",
       "5761150 2020-04-30 16:23:18.840  1024793.0             삶을 변화시키는 감사 메모   \n",
       "5761151 2020-04-30 20:51:27.980   885626.0           손쉬운 고전문학 (2020년)   \n",
       "\n",
       "         category_id published_at  shop_price   maker_name  pub_newold  \n",
       "0               23.0   2011-06-02     14000.0  중앙북스(books)         0.0  \n",
       "1               13.0   2020-04-03     12900.0    미래를소유한사람들         1.0  \n",
       "2               23.0   2018-04-23     23000.0          좋은땅         0.0  \n",
       "3                9.0   2020-03-11     18000.0       21세기북스         1.0  \n",
       "4               20.0   2020-01-20     22000.0          시공사         1.0  \n",
       "...              ...          ...         ...          ...         ...  \n",
       "5761147          4.0   2014-01-15     18000.0          일진사         0.0  \n",
       "5761148          4.0   2017-02-28     13000.0       시그마프레스         0.0  \n",
       "5761149         11.0   2008-10-28     27000.0          김영사         0.0  \n",
       "5761150         22.0   2018-02-20     13000.0         마음세상         0.0  \n",
       "5761151          3.0   2019-10-16     12500.0          미래엔         0.0  \n",
       "\n",
       "[5761152 rows x 13 columns]"
      ]
     },
     "execution_count": 20,
     "metadata": {},
     "output_type": "execute_result"
    }
   ],
   "source": [
    "order_pre"
   ]
  },
  {
   "cell_type": "code",
   "execution_count": 16,
   "metadata": {
    "id": "SuuQTZtI2Atr",
    "outputId": "b65a49cc-4e18-41d5-cc9d-89b1bff7afc4"
   },
   "outputs": [
    {
     "ename": "NameError",
     "evalue": "name 'order_pre' is not defined",
     "output_type": "error",
     "traceback": [
      "\u001B[0;31m---------------------------------------------------------------------------\u001B[0m",
      "\u001B[0;31mNameError\u001B[0m                                 Traceback (most recent call last)",
      "\u001B[0;32m/var/folders/hr/gb6mblx17c92hbbhpn97s24m0000gn/T/ipykernel_7618/4267799801.py\u001B[0m in \u001B[0;36m<module>\u001B[0;34m\u001B[0m\n\u001B[0;32m----> 1\u001B[0;31m \u001B[0morder_pre\u001B[0m\u001B[0;34m.\u001B[0m\u001B[0misnull\u001B[0m\u001B[0;34m(\u001B[0m\u001B[0;34m)\u001B[0m\u001B[0;34m.\u001B[0m\u001B[0msum\u001B[0m\u001B[0;34m(\u001B[0m\u001B[0;34m)\u001B[0m\u001B[0;34m\u001B[0m\u001B[0;34m\u001B[0m\u001B[0m\n\u001B[0m",
      "\u001B[0;31mNameError\u001B[0m: name 'order_pre' is not defined"
     ]
    }
   ],
   "source": [
    "order_pre.isnull().sum()"
   ]
  },
  {
   "cell_type": "code",
   "execution_count": null,
   "metadata": {
    "id": "UbkaRCGw2Atr",
    "executionInfo": {
     "status": "ok",
     "timestamp": 1648090677531,
     "user_tz": -540,
     "elapsed": 1884,
     "user": {
      "displayName": "‍이상래[ 학부졸업 / 일어일문학과 ]",
      "photoUrl": "https://lh3.googleusercontent.com/a/default-user=s64",
      "userId": "01842756657580376258"
     }
    }
   },
   "outputs": [],
   "source": [
    "order_pre.dropna(inplace=True)"
   ]
  },
  {
   "cell_type": "code",
   "source": [
    "order_pre"
   ],
   "metadata": {
    "colab": {
     "base_uri": "https://localhost:8080/",
     "height": 678
    },
    "id": "VCRVW5kg3BnQ",
    "executionInfo": {
     "status": "ok",
     "timestamp": 1648090689604,
     "user_tz": -540,
     "elapsed": 536,
     "user": {
      "displayName": "‍이상래[ 학부졸업 / 일어일문학과 ]",
      "photoUrl": "https://lh3.googleusercontent.com/a/default-user=s64",
      "userId": "01842756657580376258"
     }
    },
    "outputId": "c8cbff69-2f2d-4037-ba53-e28156f7f567"
   },
   "execution_count": null,
   "outputs": []
  },
  {
   "cell_type": "code",
   "execution_count": 22,
   "metadata": {
    "id": "-QOjOmM_2Atr",
    "executionInfo": {
     "status": "ok",
     "timestamp": 1648090678572,
     "user_tz": -540,
     "elapsed": 1045,
     "user": {
      "displayName": "‍이상래[ 학부졸업 / 일어일문학과 ]",
      "photoUrl": "https://lh3.googleusercontent.com/a/default-user=s64",
      "userId": "01842756657580376258"
     }
    }
   },
   "outputs": [],
   "source": [
    "pref_or = pd.DataFrame(order_pre.groupby('account_id')['pub_newold'].agg('mean'))"
   ]
  },
  {
   "cell_type": "code",
   "execution_count": null,
   "metadata": {
    "id": "M4NMoIj02Atr"
   },
   "outputs": [],
   "source": [
    "pref_or.reset_index(inplace=True)\n",
    "pref_or.rename(columns = {'pub_newold':'new_preference'}, inplace=True)"
   ]
  },
  {
   "cell_type": "code",
   "execution_count": null,
   "metadata": {
    "id": "w8p83Py22Atr",
    "outputId": "fc71eeb4-d7fd-4e6f-f092-8ce42a59ea9b"
   },
   "outputs": [
    {
     "data": {
      "text/html": [
       "<div>\n",
       "<style scoped>\n",
       "    .dataframe tbody tr th:only-of-type {\n",
       "        vertical-align: middle;\n",
       "    }\n",
       "\n",
       "    .dataframe tbody tr th {\n",
       "        vertical-align: top;\n",
       "    }\n",
       "\n",
       "    .dataframe thead th {\n",
       "        text-align: right;\n",
       "    }\n",
       "</style>\n",
       "<table border=\"1\" class=\"dataframe\">\n",
       "  <thead>\n",
       "    <tr style=\"text-align: right;\">\n",
       "      <th></th>\n",
       "      <th>account_id</th>\n",
       "      <th>new_preference</th>\n",
       "    </tr>\n",
       "  </thead>\n",
       "  <tbody>\n",
       "    <tr>\n",
       "      <th>0</th>\n",
       "      <td>100001</td>\n",
       "      <td>0.380952</td>\n",
       "    </tr>\n",
       "    <tr>\n",
       "      <th>1</th>\n",
       "      <td>100004</td>\n",
       "      <td>0.000000</td>\n",
       "    </tr>\n",
       "    <tr>\n",
       "      <th>2</th>\n",
       "      <td>100018</td>\n",
       "      <td>0.000000</td>\n",
       "    </tr>\n",
       "    <tr>\n",
       "      <th>3</th>\n",
       "      <td>100020</td>\n",
       "      <td>0.000000</td>\n",
       "    </tr>\n",
       "    <tr>\n",
       "      <th>4</th>\n",
       "      <td>100033</td>\n",
       "      <td>0.333333</td>\n",
       "    </tr>\n",
       "    <tr>\n",
       "      <th>...</th>\n",
       "      <td>...</td>\n",
       "      <td>...</td>\n",
       "    </tr>\n",
       "    <tr>\n",
       "      <th>1383426</th>\n",
       "      <td>16837167</td>\n",
       "      <td>0.000000</td>\n",
       "    </tr>\n",
       "    <tr>\n",
       "      <th>1383427</th>\n",
       "      <td>16837191</td>\n",
       "      <td>0.000000</td>\n",
       "    </tr>\n",
       "    <tr>\n",
       "      <th>1383428</th>\n",
       "      <td>16837193</td>\n",
       "      <td>1.000000</td>\n",
       "    </tr>\n",
       "    <tr>\n",
       "      <th>1383429</th>\n",
       "      <td>16837205</td>\n",
       "      <td>0.000000</td>\n",
       "    </tr>\n",
       "    <tr>\n",
       "      <th>1383430</th>\n",
       "      <td>16837207</td>\n",
       "      <td>0.000000</td>\n",
       "    </tr>\n",
       "  </tbody>\n",
       "</table>\n",
       "<p>1383431 rows × 2 columns</p>\n",
       "</div>"
      ],
      "text/plain": [
       "         account_id  new_preference\n",
       "0            100001        0.380952\n",
       "1            100004        0.000000\n",
       "2            100018        0.000000\n",
       "3            100020        0.000000\n",
       "4            100033        0.333333\n",
       "...             ...             ...\n",
       "1383426    16837167        0.000000\n",
       "1383427    16837191        0.000000\n",
       "1383428    16837193        1.000000\n",
       "1383429    16837205        0.000000\n",
       "1383430    16837207        0.000000\n",
       "\n",
       "[1383431 rows x 2 columns]"
      ]
     },
     "execution_count": 29,
     "metadata": {},
     "output_type": "execute_result"
    }
   ],
   "source": [
    "pref_or"
   ]
  },
  {
   "cell_type": "code",
   "execution_count": null,
   "metadata": {
    "id": "WdwKDsp32Ats"
   },
   "outputs": [],
   "source": [
    "order_pref = pd.merge(order, pref_or, on='account_id',how='left')"
   ]
  },
  {
   "cell_type": "code",
   "execution_count": null,
   "metadata": {
    "id": "2mQAw8Fs2Ats",
    "outputId": "09f2dc55-f501-4cee-b707-77cf0699e17d"
   },
   "outputs": [
    {
     "data": {
      "text/html": [
       "<div>\n",
       "<style scoped>\n",
       "    .dataframe tbody tr th:only-of-type {\n",
       "        vertical-align: middle;\n",
       "    }\n",
       "\n",
       "    .dataframe tbody tr th {\n",
       "        vertical-align: top;\n",
       "    }\n",
       "\n",
       "    .dataframe thead th {\n",
       "        text-align: right;\n",
       "    }\n",
       "</style>\n",
       "<table border=\"1\" class=\"dataframe\">\n",
       "  <thead>\n",
       "    <tr style=\"text-align: right;\">\n",
       "      <th></th>\n",
       "      <th>order_id</th>\n",
       "      <th>account_id</th>\n",
       "      <th>product_id</th>\n",
       "      <th>price</th>\n",
       "      <th>created_at</th>\n",
       "      <th>train</th>\n",
       "      <th>new_preference</th>\n",
       "    </tr>\n",
       "  </thead>\n",
       "  <tbody>\n",
       "    <tr>\n",
       "      <th>0</th>\n",
       "      <td>217486577</td>\n",
       "      <td>101307</td>\n",
       "      <td>5193211</td>\n",
       "      <td>12600.0</td>\n",
       "      <td>2020-03-16 13:22:19.646</td>\n",
       "      <td>2020-03-16 13:22:19.646</td>\n",
       "      <td>0.3</td>\n",
       "    </tr>\n",
       "    <tr>\n",
       "      <th>1</th>\n",
       "      <td>219762355</td>\n",
       "      <td>101307</td>\n",
       "      <td>89846594</td>\n",
       "      <td>11610.0</td>\n",
       "      <td>2020-04-11 22:51:05.034</td>\n",
       "      <td>2020-04-11 22:51:05.034</td>\n",
       "      <td>0.3</td>\n",
       "    </tr>\n",
       "    <tr>\n",
       "      <th>2</th>\n",
       "      <td>217665548</td>\n",
       "      <td>101307</td>\n",
       "      <td>60495586</td>\n",
       "      <td>20700.0</td>\n",
       "      <td>2020-03-17 22:33:25.006</td>\n",
       "      <td>2020-03-17 22:33:25.006</td>\n",
       "      <td>0.3</td>\n",
       "    </tr>\n",
       "    <tr>\n",
       "      <th>3</th>\n",
       "      <td>218317559</td>\n",
       "      <td>101307</td>\n",
       "      <td>89499323</td>\n",
       "      <td>16200.0</td>\n",
       "      <td>2020-03-24 22:04:33.420</td>\n",
       "      <td>2020-03-24 22:04:33.420</td>\n",
       "      <td>0.3</td>\n",
       "    </tr>\n",
       "    <tr>\n",
       "      <th>4</th>\n",
       "      <td>219800180</td>\n",
       "      <td>101307</td>\n",
       "      <td>86429868</td>\n",
       "      <td>19800.0</td>\n",
       "      <td>2020-04-12 16:52:26.380</td>\n",
       "      <td>2020-04-12 16:52:26.380</td>\n",
       "      <td>0.3</td>\n",
       "    </tr>\n",
       "    <tr>\n",
       "      <th>...</th>\n",
       "      <td>...</td>\n",
       "      <td>...</td>\n",
       "      <td>...</td>\n",
       "      <td>...</td>\n",
       "      <td>...</td>\n",
       "      <td>...</td>\n",
       "      <td>...</td>\n",
       "    </tr>\n",
       "    <tr>\n",
       "      <th>5761147</th>\n",
       "      <td>221154200</td>\n",
       "      <td>16828708</td>\n",
       "      <td>11863664</td>\n",
       "      <td>16200.0</td>\n",
       "      <td>2020-04-30 03:28:19.614</td>\n",
       "      <td>2020-04-30 03:28:19.614</td>\n",
       "      <td>0.0</td>\n",
       "    </tr>\n",
       "    <tr>\n",
       "      <th>5761148</th>\n",
       "      <td>221102738</td>\n",
       "      <td>16829171</td>\n",
       "      <td>36881272</td>\n",
       "      <td>13000.0</td>\n",
       "      <td>2020-04-29 11:14:15.420</td>\n",
       "      <td>2020-04-29 11:14:15.420</td>\n",
       "      <td>0.0</td>\n",
       "    </tr>\n",
       "    <tr>\n",
       "      <th>5761149</th>\n",
       "      <td>221128418</td>\n",
       "      <td>16831673</td>\n",
       "      <td>3260741</td>\n",
       "      <td>24300.0</td>\n",
       "      <td>2020-04-29 17:36:16.154</td>\n",
       "      <td>2020-04-29 17:36:16.154</td>\n",
       "      <td>0.0</td>\n",
       "    </tr>\n",
       "    <tr>\n",
       "      <th>5761150</th>\n",
       "      <td>221179296</td>\n",
       "      <td>16835619</td>\n",
       "      <td>58308549</td>\n",
       "      <td>23400.0</td>\n",
       "      <td>2020-04-30 16:23:18.840</td>\n",
       "      <td>2020-04-30 16:23:18.840</td>\n",
       "      <td>0.0</td>\n",
       "    </tr>\n",
       "    <tr>\n",
       "      <th>5761151</th>\n",
       "      <td>221191493</td>\n",
       "      <td>16836562</td>\n",
       "      <td>81537314</td>\n",
       "      <td>11250.0</td>\n",
       "      <td>2020-04-30 20:51:27.980</td>\n",
       "      <td>2020-04-30 20:51:27.980</td>\n",
       "      <td>0.0</td>\n",
       "    </tr>\n",
       "  </tbody>\n",
       "</table>\n",
       "<p>5761152 rows × 7 columns</p>\n",
       "</div>"
      ],
      "text/plain": [
       "          order_id  account_id  product_id    price              created_at  \\\n",
       "0        217486577      101307     5193211  12600.0 2020-03-16 13:22:19.646   \n",
       "1        219762355      101307    89846594  11610.0 2020-04-11 22:51:05.034   \n",
       "2        217665548      101307    60495586  20700.0 2020-03-17 22:33:25.006   \n",
       "3        218317559      101307    89499323  16200.0 2020-03-24 22:04:33.420   \n",
       "4        219800180      101307    86429868  19800.0 2020-04-12 16:52:26.380   \n",
       "...            ...         ...         ...      ...                     ...   \n",
       "5761147  221154200    16828708    11863664  16200.0 2020-04-30 03:28:19.614   \n",
       "5761148  221102738    16829171    36881272  13000.0 2020-04-29 11:14:15.420   \n",
       "5761149  221128418    16831673     3260741  24300.0 2020-04-29 17:36:16.154   \n",
       "5761150  221179296    16835619    58308549  23400.0 2020-04-30 16:23:18.840   \n",
       "5761151  221191493    16836562    81537314  11250.0 2020-04-30 20:51:27.980   \n",
       "\n",
       "                          train  new_preference  \n",
       "0       2020-03-16 13:22:19.646             0.3  \n",
       "1       2020-04-11 22:51:05.034             0.3  \n",
       "2       2020-03-17 22:33:25.006             0.3  \n",
       "3       2020-03-24 22:04:33.420             0.3  \n",
       "4       2020-04-12 16:52:26.380             0.3  \n",
       "...                         ...             ...  \n",
       "5761147 2020-04-30 03:28:19.614             0.0  \n",
       "5761148 2020-04-29 11:14:15.420             0.0  \n",
       "5761149 2020-04-29 17:36:16.154             0.0  \n",
       "5761150 2020-04-30 16:23:18.840             0.0  \n",
       "5761151 2020-04-30 20:51:27.980             0.0  \n",
       "\n",
       "[5761152 rows x 7 columns]"
      ]
     },
     "execution_count": 31,
     "metadata": {},
     "output_type": "execute_result"
    }
   ],
   "source": [
    "order_pref"
   ]
  },
  {
   "cell_type": "code",
   "execution_count": null,
   "metadata": {
    "id": "txj2liY72Ats",
    "outputId": "52891389-e29e-45b8-b556-fd6b3e307592"
   },
   "outputs": [
    {
     "data": {
      "text/plain": [
       "<matplotlib.axes._subplots.AxesSubplot at 0x7fabe62524e0>"
      ]
     },
     "execution_count": 32,
     "metadata": {},
     "output_type": "execute_result"
    },
    {
     "data": {
      "image/png": "[encoded data removed]",
      "text/plain": [
       "<Figure size 432x288 with 1 Axes>"
      ]
     },
     "metadata": {
      "needs_background": "light"
     },
     "output_type": "display_data"
    }
   ],
   "source": [
    "order_pref['new_preference'].hist()"
   ]
  },
  {
   "cell_type": "code",
   "execution_count": null,
   "metadata": {
    "id": "qOlPiBfO2Ats"
   },
   "outputs": [],
   "source": [
    "order_pref.to_csv('test1.csv')"
   ]
  },
  {
   "cell_type": "code",
   "execution_count": 53,
   "metadata": {
    "id": "MIhSy5EK2Ats",
    "executionInfo": {
     "status": "ok",
     "timestamp": 1648090802981,
     "user_tz": -540,
     "elapsed": 88360,
     "user": {
      "displayName": "‍이상래[ 학부졸업 / 일어일문학과 ]",
      "photoUrl": "https://lh3.googleusercontent.com/a/default-user=s64",
      "userId": "01842756657580376258"
     }
    }
   },
   "outputs": [],
   "source": [
    "click = pd.read_csv('click_preprocessed.csv')"
   ]
  },
  {
   "cell_type": "code",
   "execution_count": 19,
   "metadata": {
    "colab": {
     "base_uri": "https://localhost:8080/",
     "height": 423
    },
    "id": "xoS6v27z2Ats",
    "executionInfo": {
     "status": "ok",
     "timestamp": 1648090803742,
     "user_tz": -540,
     "elapsed": 766,
     "user": {
      "displayName": "‍이상래[ 학부졸업 / 일어일문학과 ]",
      "photoUrl": "https://lh3.googleusercontent.com/a/default-user=s64",
      "userId": "01842756657580376258"
     }
    },
    "outputId": "4382cc88-5b95-493a-81b9-1b32eceb22c0"
   },
   "outputs": [
    {
     "data": {
      "text/plain": "          Unnamed: 0    request_date_time  account_id  device_type  \\\n0                  0  2019-12-17 16:28:21      101773            1   \n1                  1  2019-12-12 14:53:54      101773            1   \n2                  2  2020-01-20 10:16:00      101773            1   \n3                  3  2020-05-15 12:51:08      101773            1   \n4                  4  2020-05-01 08:46:22      101773            1   \n...              ...                  ...         ...          ...   \n60265425    60265425  2020-05-31 15:05:50    16957892            0   \n60265426    60265426  2020-05-31 15:02:27    16957892            0   \n60265427    60265427  2020-05-31 15:02:33    16957892            0   \n60265428    60265428  2020-05-31 15:04:04    16957892            0   \n60265429    60265429  2020-05-31 15:22:07    16958175            0   \n\n          product_id  before_product_id  \n0           84909620                  0  \n1           72252570           80131060  \n2           79648760                  0  \n3           84659792                  0  \n4           59737522                  0  \n...              ...                ...  \n60265425    11534367                  0  \n60265426    85432240                  0  \n60265427    85432240                  0  \n60265428     4781359                  0  \n60265429    84769733                  0  \n\n[60265430 rows x 6 columns]",
      "text/html": "<div>\n<style scoped>\n    .dataframe tbody tr th:only-of-type {\n        vertical-align: middle;\n    }\n\n    .dataframe tbody tr th {\n        vertical-align: top;\n    }\n\n    .dataframe thead th {\n        text-align: right;\n    }\n</style>\n<table border=\"1\" class=\"dataframe\">\n  <thead>\n    <tr style=\"text-align: right;\">\n      <th></th>\n      <th>Unnamed: 0</th>\n      <th>request_date_time</th>\n      <th>account_id</th>\n      <th>device_type</th>\n      <th>product_id</th>\n      <th>before_product_id</th>\n    </tr>\n  </thead>\n  <tbody>\n    <tr>\n      <th>0</th>\n      <td>0</td>\n      <td>2019-12-17 16:28:21</td>\n      <td>101773</td>\n      <td>1</td>\n      <td>84909620</td>\n      <td>0</td>\n    </tr>\n    <tr>\n      <th>1</th>\n      <td>1</td>\n      <td>2019-12-12 14:53:54</td>\n      <td>101773</td>\n      <td>1</td>\n      <td>72252570</td>\n      <td>80131060</td>\n    </tr>\n    <tr>\n      <th>2</th>\n      <td>2</td>\n      <td>2020-01-20 10:16:00</td>\n      <td>101773</td>\n      <td>1</td>\n      <td>79648760</td>\n      <td>0</td>\n    </tr>\n    <tr>\n      <th>3</th>\n      <td>3</td>\n      <td>2020-05-15 12:51:08</td>\n      <td>101773</td>\n      <td>1</td>\n      <td>84659792</td>\n      <td>0</td>\n    </tr>\n    <tr>\n      <th>4</th>\n      <td>4</td>\n      <td>2020-05-01 08:46:22</td>\n      <td>101773</td>\n      <td>1</td>\n      <td>59737522</td>\n      <td>0</td>\n    </tr>\n    <tr>\n      <th>...</th>\n      <td>...</td>\n      <td>...</td>\n      <td>...</td>\n      <td>...</td>\n      <td>...</td>\n      <td>...</td>\n    </tr>\n    <tr>\n      <th>60265425</th>\n      <td>60265425</td>\n      <td>2020-05-31 15:05:50</td>\n      <td>16957892</td>\n      <td>0</td>\n      <td>11534367</td>\n      <td>0</td>\n    </tr>\n    <tr>\n      <th>60265426</th>\n      <td>60265426</td>\n      <td>2020-05-31 15:02:27</td>\n      <td>16957892</td>\n      <td>0</td>\n      <td>85432240</td>\n      <td>0</td>\n    </tr>\n    <tr>\n      <th>60265427</th>\n      <td>60265427</td>\n      <td>2020-05-31 15:02:33</td>\n      <td>16957892</td>\n      <td>0</td>\n      <td>85432240</td>\n      <td>0</td>\n    </tr>\n    <tr>\n      <th>60265428</th>\n      <td>60265428</td>\n      <td>2020-05-31 15:04:04</td>\n      <td>16957892</td>\n      <td>0</td>\n      <td>4781359</td>\n      <td>0</td>\n    </tr>\n    <tr>\n      <th>60265429</th>\n      <td>60265429</td>\n      <td>2020-05-31 15:22:07</td>\n      <td>16958175</td>\n      <td>0</td>\n      <td>84769733</td>\n      <td>0</td>\n    </tr>\n  </tbody>\n</table>\n<p>60265430 rows × 6 columns</p>\n</div>"
     },
     "execution_count": 19,
     "metadata": {},
     "output_type": "execute_result"
    }
   ],
   "source": [
    "click"
   ]
  },
  {
   "cell_type": "code",
   "execution_count": 54,
   "metadata": {
    "id": "xGO-_ehS2Ats",
    "executionInfo": {
     "status": "ok",
     "timestamp": 1648090815684,
     "user_tz": -540,
     "elapsed": 11944,
     "user": {
      "displayName": "‍이상래[ 학부졸업 / 일어일문학과 ]",
      "photoUrl": "https://lh3.googleusercontent.com/a/default-user=s64",
      "userId": "01842756657580376258"
     }
    }
   },
   "outputs": [],
   "source": [
    "click['request_date_time'] = click['request_date_time'].astype('datetime64[ns]')"
   ]
  },
  {
   "cell_type": "code",
   "execution_count": 55,
   "metadata": {
    "id": "iznhUHyu2Ats",
    "executionInfo": {
     "status": "ok",
     "timestamp": 1648090815684,
     "user_tz": -540,
     "elapsed": 2,
     "user": {
      "displayName": "‍이상래[ 학부졸업 / 일어일문학과 ]",
      "photoUrl": "https://lh3.googleusercontent.com/a/default-user=s64",
      "userId": "01842756657580376258"
     }
    }
   },
   "outputs": [],
   "source": [
    "d = datetime.date(2020, 3, 1)\n",
    "e = datetime.date(2020, 5, 1)\n",
    "\n",
    "\n",
    "\n"
   ]
  },
  {
   "cell_type": "code",
   "execution_count": 56,
   "metadata": {
    "id": "QepHANVo2Ats",
    "executionInfo": {
     "status": "ok",
     "timestamp": 1648090816503,
     "user_tz": -540,
     "elapsed": 820,
     "user": {
      "displayName": "‍이상래[ 학부졸업 / 일어일문학과 ]",
      "photoUrl": "https://lh3.googleusercontent.com/a/default-user=s64",
      "userId": "01842756657580376258"
     }
    }
   },
   "outputs": [],
   "source": [
    "click.drop(columns=click.columns[0],inplace=True)"
   ]
  },
  {
   "cell_type": "code",
   "execution_count": 23,
   "metadata": {
    "colab": {
     "base_uri": "https://localhost:8080/",
     "height": 423
    },
    "id": "7pkDGA7J2Ats",
    "executionInfo": {
     "status": "ok",
     "timestamp": 1648090817748,
     "user_tz": -540,
     "elapsed": 1246,
     "user": {
      "displayName": "‍이상래[ 학부졸업 / 일어일문학과 ]",
      "photoUrl": "https://lh3.googleusercontent.com/a/default-user=s64",
      "userId": "01842756657580376258"
     }
    },
    "outputId": "cbaf9c9a-3a47-4fb2-ddd5-a0445b7739a2"
   },
   "outputs": [
    {
     "data": {
      "text/plain": "           request_date_time  account_id  device_type  product_id  \\\n0        2019-12-17 16:28:21      101773            1    84909620   \n1        2019-12-12 14:53:54      101773            1    72252570   \n2        2020-01-20 10:16:00      101773            1    79648760   \n3        2020-05-15 12:51:08      101773            1    84659792   \n4        2020-05-01 08:46:22      101773            1    59737522   \n...                      ...         ...          ...         ...   \n60265425 2020-05-31 15:05:50    16957892            0    11534367   \n60265426 2020-05-31 15:02:27    16957892            0    85432240   \n60265427 2020-05-31 15:02:33    16957892            0    85432240   \n60265428 2020-05-31 15:04:04    16957892            0     4781359   \n60265429 2020-05-31 15:22:07    16958175            0    84769733   \n\n          before_product_id  \n0                         0  \n1                  80131060  \n2                         0  \n3                         0  \n4                         0  \n...                     ...  \n60265425                  0  \n60265426                  0  \n60265427                  0  \n60265428                  0  \n60265429                  0  \n\n[60265430 rows x 5 columns]",
      "text/html": "<div>\n<style scoped>\n    .dataframe tbody tr th:only-of-type {\n        vertical-align: middle;\n    }\n\n    .dataframe tbody tr th {\n        vertical-align: top;\n    }\n\n    .dataframe thead th {\n        text-align: right;\n    }\n</style>\n<table border=\"1\" class=\"dataframe\">\n  <thead>\n    <tr style=\"text-align: right;\">\n      <th></th>\n      <th>request_date_time</th>\n      <th>account_id</th>\n      <th>device_type</th>\n      <th>product_id</th>\n      <th>before_product_id</th>\n    </tr>\n  </thead>\n  <tbody>\n    <tr>\n      <th>0</th>\n      <td>2019-12-17 16:28:21</td>\n      <td>101773</td>\n      <td>1</td>\n      <td>84909620</td>\n      <td>0</td>\n    </tr>\n    <tr>\n      <th>1</th>\n      <td>2019-12-12 14:53:54</td>\n      <td>101773</td>\n      <td>1</td>\n      <td>72252570</td>\n      <td>80131060</td>\n    </tr>\n    <tr>\n      <th>2</th>\n      <td>2020-01-20 10:16:00</td>\n      <td>101773</td>\n      <td>1</td>\n      <td>79648760</td>\n      <td>0</td>\n    </tr>\n    <tr>\n      <th>3</th>\n      <td>2020-05-15 12:51:08</td>\n      <td>101773</td>\n      <td>1</td>\n      <td>84659792</td>\n      <td>0</td>\n    </tr>\n    <tr>\n      <th>4</th>\n      <td>2020-05-01 08:46:22</td>\n      <td>101773</td>\n      <td>1</td>\n      <td>59737522</td>\n      <td>0</td>\n    </tr>\n    <tr>\n      <th>...</th>\n      <td>...</td>\n      <td>...</td>\n      <td>...</td>\n      <td>...</td>\n      <td>...</td>\n    </tr>\n    <tr>\n      <th>60265425</th>\n      <td>2020-05-31 15:05:50</td>\n      <td>16957892</td>\n      <td>0</td>\n      <td>11534367</td>\n      <td>0</td>\n    </tr>\n    <tr>\n      <th>60265426</th>\n      <td>2020-05-31 15:02:27</td>\n      <td>16957892</td>\n      <td>0</td>\n      <td>85432240</td>\n      <td>0</td>\n    </tr>\n    <tr>\n      <th>60265427</th>\n      <td>2020-05-31 15:02:33</td>\n      <td>16957892</td>\n      <td>0</td>\n      <td>85432240</td>\n      <td>0</td>\n    </tr>\n    <tr>\n      <th>60265428</th>\n      <td>2020-05-31 15:04:04</td>\n      <td>16957892</td>\n      <td>0</td>\n      <td>4781359</td>\n      <td>0</td>\n    </tr>\n    <tr>\n      <th>60265429</th>\n      <td>2020-05-31 15:22:07</td>\n      <td>16958175</td>\n      <td>0</td>\n      <td>84769733</td>\n      <td>0</td>\n    </tr>\n  </tbody>\n</table>\n<p>60265430 rows × 5 columns</p>\n</div>"
     },
     "execution_count": 23,
     "metadata": {},
     "output_type": "execute_result"
    }
   ],
   "source": [
    "click"
   ]
  },
  {
   "cell_type": "code",
   "execution_count": 57,
   "metadata": {
    "id": "tZRr_V1x2Att"
   },
   "outputs": [],
   "source": [
    "click['train'] = click['request_date_time'].apply(lambda x: np.nan if x.date() < d else x )\n"
   ]
  },
  {
   "cell_type": "code",
   "execution_count": 58,
   "metadata": {
    "id": "gXdiAJNm2Att"
   },
   "outputs": [],
   "source": [
    "click.dropna(inplace=True)"
   ]
  },
  {
   "cell_type": "code",
   "execution_count": 26,
   "metadata": {
    "id": "5lfybbCT2Att"
   },
   "outputs": [],
   "source": [
    "click['train'] = click['request_date_time'].apply(lambda x: np.nan if x.date() < e else x )"
   ]
  },
  {
   "cell_type": "code",
   "execution_count": 27,
   "metadata": {
    "id": "bKBOGDmk2Att",
    "outputId": "b6099543-b293-49d1-b52d-64e4486ed96d"
   },
   "outputs": [
    {
     "data": {
      "text/plain": "           request_date_time  account_id  device_type  product_id  \\\n41       2020-04-14 17:22:25      102377            0    89873199   \n44       2020-04-14 17:23:35      102377            0    89341581   \n55       2020-04-20 21:18:07      102377            0    87037841   \n59       2020-03-02 22:21:11      103638            0    87606910   \n60       2020-03-17 22:12:30      103638            0    60755509   \n...                      ...         ...          ...         ...   \n60265425 2020-05-31 15:05:50    16957892            0    11534367   \n60265426 2020-05-31 15:02:27    16957892            0    85432240   \n60265427 2020-05-31 15:02:33    16957892            0    85432240   \n60265428 2020-05-31 15:04:04    16957892            0     4781359   \n60265429 2020-05-31 15:22:07    16958175            0    84769733   \n\n          before_product_id               train  \n41                        0                 NaT  \n44                        0                 NaT  \n55                        0                 NaT  \n59                        0                 NaT  \n60                        0                 NaT  \n...                     ...                 ...  \n60265425                  0 2020-05-31 15:05:50  \n60265426                  0 2020-05-31 15:02:27  \n60265427                  0 2020-05-31 15:02:33  \n60265428                  0 2020-05-31 15:04:04  \n60265429                  0 2020-05-31 15:22:07  \n\n[35076204 rows x 6 columns]",
      "text/html": "<div>\n<style scoped>\n    .dataframe tbody tr th:only-of-type {\n        vertical-align: middle;\n    }\n\n    .dataframe tbody tr th {\n        vertical-align: top;\n    }\n\n    .dataframe thead th {\n        text-align: right;\n    }\n</style>\n<table border=\"1\" class=\"dataframe\">\n  <thead>\n    <tr style=\"text-align: right;\">\n      <th></th>\n      <th>request_date_time</th>\n      <th>account_id</th>\n      <th>device_type</th>\n      <th>product_id</th>\n      <th>before_product_id</th>\n      <th>train</th>\n    </tr>\n  </thead>\n  <tbody>\n    <tr>\n      <th>41</th>\n      <td>2020-04-14 17:22:25</td>\n      <td>102377</td>\n      <td>0</td>\n      <td>89873199</td>\n      <td>0</td>\n      <td>NaT</td>\n    </tr>\n    <tr>\n      <th>44</th>\n      <td>2020-04-14 17:23:35</td>\n      <td>102377</td>\n      <td>0</td>\n      <td>89341581</td>\n      <td>0</td>\n      <td>NaT</td>\n    </tr>\n    <tr>\n      <th>55</th>\n      <td>2020-04-20 21:18:07</td>\n      <td>102377</td>\n      <td>0</td>\n      <td>87037841</td>\n      <td>0</td>\n      <td>NaT</td>\n    </tr>\n    <tr>\n      <th>59</th>\n      <td>2020-03-02 22:21:11</td>\n      <td>103638</td>\n      <td>0</td>\n      <td>87606910</td>\n      <td>0</td>\n      <td>NaT</td>\n    </tr>\n    <tr>\n      <th>60</th>\n      <td>2020-03-17 22:12:30</td>\n      <td>103638</td>\n      <td>0</td>\n      <td>60755509</td>\n      <td>0</td>\n      <td>NaT</td>\n    </tr>\n    <tr>\n      <th>...</th>\n      <td>...</td>\n      <td>...</td>\n      <td>...</td>\n      <td>...</td>\n      <td>...</td>\n      <td>...</td>\n    </tr>\n    <tr>\n      <th>60265425</th>\n      <td>2020-05-31 15:05:50</td>\n      <td>16957892</td>\n      <td>0</td>\n      <td>11534367</td>\n      <td>0</td>\n      <td>2020-05-31 15:05:50</td>\n    </tr>\n    <tr>\n      <th>60265426</th>\n      <td>2020-05-31 15:02:27</td>\n      <td>16957892</td>\n      <td>0</td>\n      <td>85432240</td>\n      <td>0</td>\n      <td>2020-05-31 15:02:27</td>\n    </tr>\n    <tr>\n      <th>60265427</th>\n      <td>2020-05-31 15:02:33</td>\n      <td>16957892</td>\n      <td>0</td>\n      <td>85432240</td>\n      <td>0</td>\n      <td>2020-05-31 15:02:33</td>\n    </tr>\n    <tr>\n      <th>60265428</th>\n      <td>2020-05-31 15:04:04</td>\n      <td>16957892</td>\n      <td>0</td>\n      <td>4781359</td>\n      <td>0</td>\n      <td>2020-05-31 15:04:04</td>\n    </tr>\n    <tr>\n      <th>60265429</th>\n      <td>2020-05-31 15:22:07</td>\n      <td>16958175</td>\n      <td>0</td>\n      <td>84769733</td>\n      <td>0</td>\n      <td>2020-05-31 15:22:07</td>\n    </tr>\n  </tbody>\n</table>\n<p>35076204 rows × 6 columns</p>\n</div>"
     },
     "execution_count": 27,
     "metadata": {},
     "output_type": "execute_result"
    }
   ],
   "source": [
    "click[10:]"
   ]
  },
  {
   "cell_type": "code",
   "execution_count": 28,
   "metadata": {
    "id": "867oKqx52Att"
   },
   "outputs": [],
   "source": [
    "click.dropna(inplace=True)"
   ]
  },
  {
   "cell_type": "code",
   "execution_count": null,
   "metadata": {
    "id": "nhM1Oh5l2Att",
    "outputId": "98bcf538-4d6a-4f09-ca8f-2373851b4437"
   },
   "outputs": [],
   "source": [
    "click"
   ]
  },
  {
   "cell_type": "code",
   "execution_count": 59,
   "metadata": {
    "id": "OTYFf49_2Att"
   },
   "outputs": [],
   "source": [
    "click_pre = pd.merge(click, pro, on='product_id',how='left')"
   ]
  },
  {
   "cell_type": "code",
   "execution_count": 30,
   "metadata": {
    "scrolled": true,
    "id": "cu9acZ1u2Att",
    "outputId": "ebb84142-f1dd-4f22-db7f-5d180022e95b"
   },
   "outputs": [
    {
     "data": {
      "text/plain": "    request_date_time  account_id  device_type  product_id  before_product_id  \\\n0 2020-05-15 12:51:08      101773            1    84659792                  0   \n1 2020-05-01 08:46:22      101773            1    59737522                  0   \n2 2020-05-15 12:57:16      101773            1    86895523                  0   \n3 2020-05-20 13:40:57      101773            1    81503945                  0   \n4 2020-05-15 12:49:26      101773            1    81503945                  0   \n\n                train      index                           product_name  \\\n0 2020-05-15 12:51:08  1718804.0                  지적 대화를 위한 넓고 얕은 지식 제로   \n1 2020-05-01 08:46:22  1484975.0                              유턴후 직진입니다   \n2 2020-05-15 12:57:16    51989.0                         날씨가 좋으면 찾아가겠어요   \n3 2020-05-20 13:40:57   884611.0  [예스리커버] 1일 1페이지, 세상에서 가장 짧은 교양 수업 365   \n4 2020-05-15 12:49:26   884611.0  [예스리커버] 1일 1페이지, 세상에서 가장 짧은 교양 수업 365   \n\n   category_id published_at  shop_price maker_name  pub_newold  \n0         14.0   2019-12-24     19800.0        웨일북         0.0  \n1         33.0   2018-04-20      7000.0         다향         0.0  \n2         33.0   2020-02-01     13800.0        시공사         1.0  \n3         14.0   2019-10-30     16000.0     위즈덤하우스         0.0  \n4         14.0   2019-10-30     16000.0     위즈덤하우스         0.0  ",
      "text/html": "<div>\n<style scoped>\n    .dataframe tbody tr th:only-of-type {\n        vertical-align: middle;\n    }\n\n    .dataframe tbody tr th {\n        vertical-align: top;\n    }\n\n    .dataframe thead th {\n        text-align: right;\n    }\n</style>\n<table border=\"1\" class=\"dataframe\">\n  <thead>\n    <tr style=\"text-align: right;\">\n      <th></th>\n      <th>request_date_time</th>\n      <th>account_id</th>\n      <th>device_type</th>\n      <th>product_id</th>\n      <th>before_product_id</th>\n      <th>train</th>\n      <th>index</th>\n      <th>product_name</th>\n      <th>category_id</th>\n      <th>published_at</th>\n      <th>shop_price</th>\n      <th>maker_name</th>\n      <th>pub_newold</th>\n    </tr>\n  </thead>\n  <tbody>\n    <tr>\n      <th>0</th>\n      <td>2020-05-15 12:51:08</td>\n      <td>101773</td>\n      <td>1</td>\n      <td>84659792</td>\n      <td>0</td>\n      <td>2020-05-15 12:51:08</td>\n      <td>1718804.0</td>\n      <td>지적 대화를 위한 넓고 얕은 지식 제로</td>\n      <td>14.0</td>\n      <td>2019-12-24</td>\n      <td>19800.0</td>\n      <td>웨일북</td>\n      <td>0.0</td>\n    </tr>\n    <tr>\n      <th>1</th>\n      <td>2020-05-01 08:46:22</td>\n      <td>101773</td>\n      <td>1</td>\n      <td>59737522</td>\n      <td>0</td>\n      <td>2020-05-01 08:46:22</td>\n      <td>1484975.0</td>\n      <td>유턴후 직진입니다</td>\n      <td>33.0</td>\n      <td>2018-04-20</td>\n      <td>7000.0</td>\n      <td>다향</td>\n      <td>0.0</td>\n    </tr>\n    <tr>\n      <th>2</th>\n      <td>2020-05-15 12:57:16</td>\n      <td>101773</td>\n      <td>1</td>\n      <td>86895523</td>\n      <td>0</td>\n      <td>2020-05-15 12:57:16</td>\n      <td>51989.0</td>\n      <td>날씨가 좋으면 찾아가겠어요</td>\n      <td>33.0</td>\n      <td>2020-02-01</td>\n      <td>13800.0</td>\n      <td>시공사</td>\n      <td>1.0</td>\n    </tr>\n    <tr>\n      <th>3</th>\n      <td>2020-05-20 13:40:57</td>\n      <td>101773</td>\n      <td>1</td>\n      <td>81503945</td>\n      <td>0</td>\n      <td>2020-05-20 13:40:57</td>\n      <td>884611.0</td>\n      <td>[예스리커버] 1일 1페이지, 세상에서 가장 짧은 교양 수업 365</td>\n      <td>14.0</td>\n      <td>2019-10-30</td>\n      <td>16000.0</td>\n      <td>위즈덤하우스</td>\n      <td>0.0</td>\n    </tr>\n    <tr>\n      <th>4</th>\n      <td>2020-05-15 12:49:26</td>\n      <td>101773</td>\n      <td>1</td>\n      <td>81503945</td>\n      <td>0</td>\n      <td>2020-05-15 12:49:26</td>\n      <td>884611.0</td>\n      <td>[예스리커버] 1일 1페이지, 세상에서 가장 짧은 교양 수업 365</td>\n      <td>14.0</td>\n      <td>2019-10-30</td>\n      <td>16000.0</td>\n      <td>위즈덤하우스</td>\n      <td>0.0</td>\n    </tr>\n  </tbody>\n</table>\n</div>"
     },
     "execution_count": 30,
     "metadata": {},
     "output_type": "execute_result"
    }
   ],
   "source": [
    "click_pre.head()"
   ]
  },
  {
   "cell_type": "code",
   "execution_count": null,
   "metadata": {
    "id": "5DRls4Ai2Att"
   },
   "outputs": [],
   "source": [
    "click_pre.to_csv('click_preprocessed_0_newpreference_may.csv', index=None)"
   ]
  },
  {
   "cell_type": "code",
   "execution_count": 60,
   "metadata": {
    "id": "MplL1JnX2Att"
   },
   "outputs": [
    {
     "ename": "FileNotFoundError",
     "evalue": "[Errno 2] No such file or directory: 'click_preprocessed_0_newpreference.csv'",
     "output_type": "error",
     "traceback": [
      "\u001B[0;31m---------------------------------------------------------------------------\u001B[0m",
      "\u001B[0;31mFileNotFoundError\u001B[0m                         Traceback (most recent call last)",
      "\u001B[0;32m/var/folders/hr/gb6mblx17c92hbbhpn97s24m0000gn/T/ipykernel_7618/2010913662.py\u001B[0m in \u001B[0;36m<module>\u001B[0;34m\u001B[0m\n\u001B[0;32m----> 1\u001B[0;31m \u001B[0mclick_pre\u001B[0m \u001B[0;34m=\u001B[0m \u001B[0mpd\u001B[0m\u001B[0;34m.\u001B[0m\u001B[0mread_csv\u001B[0m\u001B[0;34m(\u001B[0m\u001B[0;34m'click_preprocessed_0_newpreference.csv'\u001B[0m\u001B[0;34m)\u001B[0m\u001B[0;34m\u001B[0m\u001B[0;34m\u001B[0m\u001B[0m\n\u001B[0m",
      "\u001B[0;32m~/miniforge3/envs/m1_py38tf2/lib/python3.8/site-packages/pandas/util/_decorators.py\u001B[0m in \u001B[0;36mwrapper\u001B[0;34m(*args, **kwargs)\u001B[0m\n\u001B[1;32m    309\u001B[0m                     \u001B[0mstacklevel\u001B[0m\u001B[0;34m=\u001B[0m\u001B[0mstacklevel\u001B[0m\u001B[0;34m,\u001B[0m\u001B[0;34m\u001B[0m\u001B[0;34m\u001B[0m\u001B[0m\n\u001B[1;32m    310\u001B[0m                 )\n\u001B[0;32m--> 311\u001B[0;31m             \u001B[0;32mreturn\u001B[0m \u001B[0mfunc\u001B[0m\u001B[0;34m(\u001B[0m\u001B[0;34m*\u001B[0m\u001B[0margs\u001B[0m\u001B[0;34m,\u001B[0m \u001B[0;34m**\u001B[0m\u001B[0mkwargs\u001B[0m\u001B[0;34m)\u001B[0m\u001B[0;34m\u001B[0m\u001B[0;34m\u001B[0m\u001B[0m\n\u001B[0m\u001B[1;32m    312\u001B[0m \u001B[0;34m\u001B[0m\u001B[0m\n\u001B[1;32m    313\u001B[0m         \u001B[0;32mreturn\u001B[0m \u001B[0mwrapper\u001B[0m\u001B[0;34m\u001B[0m\u001B[0;34m\u001B[0m\u001B[0m\n",
      "\u001B[0;32m~/miniforge3/envs/m1_py38tf2/lib/python3.8/site-packages/pandas/io/parsers/readers.py\u001B[0m in \u001B[0;36mread_csv\u001B[0;34m(filepath_or_buffer, sep, delimiter, header, names, index_col, usecols, squeeze, prefix, mangle_dupe_cols, dtype, engine, converters, true_values, false_values, skipinitialspace, skiprows, skipfooter, nrows, na_values, keep_default_na, na_filter, verbose, skip_blank_lines, parse_dates, infer_datetime_format, keep_date_col, date_parser, dayfirst, cache_dates, iterator, chunksize, compression, thousands, decimal, lineterminator, quotechar, quoting, doublequote, escapechar, comment, encoding, encoding_errors, dialect, error_bad_lines, warn_bad_lines, on_bad_lines, delim_whitespace, low_memory, memory_map, float_precision, storage_options)\u001B[0m\n\u001B[1;32m    584\u001B[0m     \u001B[0mkwds\u001B[0m\u001B[0;34m.\u001B[0m\u001B[0mupdate\u001B[0m\u001B[0;34m(\u001B[0m\u001B[0mkwds_defaults\u001B[0m\u001B[0;34m)\u001B[0m\u001B[0;34m\u001B[0m\u001B[0;34m\u001B[0m\u001B[0m\n\u001B[1;32m    585\u001B[0m \u001B[0;34m\u001B[0m\u001B[0m\n\u001B[0;32m--> 586\u001B[0;31m     \u001B[0;32mreturn\u001B[0m \u001B[0m_read\u001B[0m\u001B[0;34m(\u001B[0m\u001B[0mfilepath_or_buffer\u001B[0m\u001B[0;34m,\u001B[0m \u001B[0mkwds\u001B[0m\u001B[0;34m)\u001B[0m\u001B[0;34m\u001B[0m\u001B[0;34m\u001B[0m\u001B[0m\n\u001B[0m\u001B[1;32m    587\u001B[0m \u001B[0;34m\u001B[0m\u001B[0m\n\u001B[1;32m    588\u001B[0m \u001B[0;34m\u001B[0m\u001B[0m\n",
      "\u001B[0;32m~/miniforge3/envs/m1_py38tf2/lib/python3.8/site-packages/pandas/io/parsers/readers.py\u001B[0m in \u001B[0;36m_read\u001B[0;34m(filepath_or_buffer, kwds)\u001B[0m\n\u001B[1;32m    480\u001B[0m \u001B[0;34m\u001B[0m\u001B[0m\n\u001B[1;32m    481\u001B[0m     \u001B[0;31m# Create the parser.\u001B[0m\u001B[0;34m\u001B[0m\u001B[0;34m\u001B[0m\u001B[0;34m\u001B[0m\u001B[0m\n\u001B[0;32m--> 482\u001B[0;31m     \u001B[0mparser\u001B[0m \u001B[0;34m=\u001B[0m \u001B[0mTextFileReader\u001B[0m\u001B[0;34m(\u001B[0m\u001B[0mfilepath_or_buffer\u001B[0m\u001B[0;34m,\u001B[0m \u001B[0;34m**\u001B[0m\u001B[0mkwds\u001B[0m\u001B[0;34m)\u001B[0m\u001B[0;34m\u001B[0m\u001B[0;34m\u001B[0m\u001B[0m\n\u001B[0m\u001B[1;32m    483\u001B[0m \u001B[0;34m\u001B[0m\u001B[0m\n\u001B[1;32m    484\u001B[0m     \u001B[0;32mif\u001B[0m \u001B[0mchunksize\u001B[0m \u001B[0;32mor\u001B[0m \u001B[0miterator\u001B[0m\u001B[0;34m:\u001B[0m\u001B[0;34m\u001B[0m\u001B[0;34m\u001B[0m\u001B[0m\n",
      "\u001B[0;32m~/miniforge3/envs/m1_py38tf2/lib/python3.8/site-packages/pandas/io/parsers/readers.py\u001B[0m in \u001B[0;36m__init__\u001B[0;34m(self, f, engine, **kwds)\u001B[0m\n\u001B[1;32m    809\u001B[0m             \u001B[0mself\u001B[0m\u001B[0;34m.\u001B[0m\u001B[0moptions\u001B[0m\u001B[0;34m[\u001B[0m\u001B[0;34m\"has_index_names\"\u001B[0m\u001B[0;34m]\u001B[0m \u001B[0;34m=\u001B[0m \u001B[0mkwds\u001B[0m\u001B[0;34m[\u001B[0m\u001B[0;34m\"has_index_names\"\u001B[0m\u001B[0;34m]\u001B[0m\u001B[0;34m\u001B[0m\u001B[0;34m\u001B[0m\u001B[0m\n\u001B[1;32m    810\u001B[0m \u001B[0;34m\u001B[0m\u001B[0m\n\u001B[0;32m--> 811\u001B[0;31m         \u001B[0mself\u001B[0m\u001B[0;34m.\u001B[0m\u001B[0m_engine\u001B[0m \u001B[0;34m=\u001B[0m \u001B[0mself\u001B[0m\u001B[0;34m.\u001B[0m\u001B[0m_make_engine\u001B[0m\u001B[0;34m(\u001B[0m\u001B[0mself\u001B[0m\u001B[0;34m.\u001B[0m\u001B[0mengine\u001B[0m\u001B[0;34m)\u001B[0m\u001B[0;34m\u001B[0m\u001B[0;34m\u001B[0m\u001B[0m\n\u001B[0m\u001B[1;32m    812\u001B[0m \u001B[0;34m\u001B[0m\u001B[0m\n\u001B[1;32m    813\u001B[0m     \u001B[0;32mdef\u001B[0m \u001B[0mclose\u001B[0m\u001B[0;34m(\u001B[0m\u001B[0mself\u001B[0m\u001B[0;34m)\u001B[0m\u001B[0;34m:\u001B[0m\u001B[0;34m\u001B[0m\u001B[0;34m\u001B[0m\u001B[0m\n",
      "\u001B[0;32m~/miniforge3/envs/m1_py38tf2/lib/python3.8/site-packages/pandas/io/parsers/readers.py\u001B[0m in \u001B[0;36m_make_engine\u001B[0;34m(self, engine)\u001B[0m\n\u001B[1;32m   1038\u001B[0m             )\n\u001B[1;32m   1039\u001B[0m         \u001B[0;31m# error: Too many arguments for \"ParserBase\"\u001B[0m\u001B[0;34m\u001B[0m\u001B[0;34m\u001B[0m\u001B[0;34m\u001B[0m\u001B[0m\n\u001B[0;32m-> 1040\u001B[0;31m         \u001B[0;32mreturn\u001B[0m \u001B[0mmapping\u001B[0m\u001B[0;34m[\u001B[0m\u001B[0mengine\u001B[0m\u001B[0;34m]\u001B[0m\u001B[0;34m(\u001B[0m\u001B[0mself\u001B[0m\u001B[0;34m.\u001B[0m\u001B[0mf\u001B[0m\u001B[0;34m,\u001B[0m \u001B[0;34m**\u001B[0m\u001B[0mself\u001B[0m\u001B[0;34m.\u001B[0m\u001B[0moptions\u001B[0m\u001B[0;34m)\u001B[0m  \u001B[0;31m# type: ignore[call-arg]\u001B[0m\u001B[0;34m\u001B[0m\u001B[0;34m\u001B[0m\u001B[0m\n\u001B[0m\u001B[1;32m   1041\u001B[0m \u001B[0;34m\u001B[0m\u001B[0m\n\u001B[1;32m   1042\u001B[0m     \u001B[0;32mdef\u001B[0m \u001B[0m_failover_to_python\u001B[0m\u001B[0;34m(\u001B[0m\u001B[0mself\u001B[0m\u001B[0;34m)\u001B[0m\u001B[0;34m:\u001B[0m\u001B[0;34m\u001B[0m\u001B[0;34m\u001B[0m\u001B[0m\n",
      "\u001B[0;32m~/miniforge3/envs/m1_py38tf2/lib/python3.8/site-packages/pandas/io/parsers/c_parser_wrapper.py\u001B[0m in \u001B[0;36m__init__\u001B[0;34m(self, src, **kwds)\u001B[0m\n\u001B[1;32m     49\u001B[0m \u001B[0;34m\u001B[0m\u001B[0m\n\u001B[1;32m     50\u001B[0m         \u001B[0;31m# open handles\u001B[0m\u001B[0;34m\u001B[0m\u001B[0;34m\u001B[0m\u001B[0;34m\u001B[0m\u001B[0m\n\u001B[0;32m---> 51\u001B[0;31m         \u001B[0mself\u001B[0m\u001B[0;34m.\u001B[0m\u001B[0m_open_handles\u001B[0m\u001B[0;34m(\u001B[0m\u001B[0msrc\u001B[0m\u001B[0;34m,\u001B[0m \u001B[0mkwds\u001B[0m\u001B[0;34m)\u001B[0m\u001B[0;34m\u001B[0m\u001B[0;34m\u001B[0m\u001B[0m\n\u001B[0m\u001B[1;32m     52\u001B[0m         \u001B[0;32massert\u001B[0m \u001B[0mself\u001B[0m\u001B[0;34m.\u001B[0m\u001B[0mhandles\u001B[0m \u001B[0;32mis\u001B[0m \u001B[0;32mnot\u001B[0m \u001B[0;32mNone\u001B[0m\u001B[0;34m\u001B[0m\u001B[0;34m\u001B[0m\u001B[0m\n\u001B[1;32m     53\u001B[0m \u001B[0;34m\u001B[0m\u001B[0m\n",
      "\u001B[0;32m~/miniforge3/envs/m1_py38tf2/lib/python3.8/site-packages/pandas/io/parsers/base_parser.py\u001B[0m in \u001B[0;36m_open_handles\u001B[0;34m(self, src, kwds)\u001B[0m\n\u001B[1;32m    220\u001B[0m         \u001B[0mLet\u001B[0m \u001B[0mthe\u001B[0m \u001B[0mreaders\u001B[0m \u001B[0mopen\u001B[0m \u001B[0mIOHandles\u001B[0m \u001B[0mafter\u001B[0m \u001B[0mthey\u001B[0m \u001B[0mare\u001B[0m \u001B[0mdone\u001B[0m \u001B[0;32mwith\u001B[0m \u001B[0mtheir\u001B[0m \u001B[0mpotential\u001B[0m \u001B[0mraises\u001B[0m\u001B[0;34m.\u001B[0m\u001B[0;34m\u001B[0m\u001B[0;34m\u001B[0m\u001B[0m\n\u001B[1;32m    221\u001B[0m         \"\"\"\n\u001B[0;32m--> 222\u001B[0;31m         self.handles = get_handle(\n\u001B[0m\u001B[1;32m    223\u001B[0m             \u001B[0msrc\u001B[0m\u001B[0;34m,\u001B[0m\u001B[0;34m\u001B[0m\u001B[0;34m\u001B[0m\u001B[0m\n\u001B[1;32m    224\u001B[0m             \u001B[0;34m\"r\"\u001B[0m\u001B[0;34m,\u001B[0m\u001B[0;34m\u001B[0m\u001B[0;34m\u001B[0m\u001B[0m\n",
      "\u001B[0;32m~/miniforge3/envs/m1_py38tf2/lib/python3.8/site-packages/pandas/io/common.py\u001B[0m in \u001B[0;36mget_handle\u001B[0;34m(path_or_buf, mode, encoding, compression, memory_map, is_text, errors, storage_options)\u001B[0m\n\u001B[1;32m    700\u001B[0m         \u001B[0;32mif\u001B[0m \u001B[0mioargs\u001B[0m\u001B[0;34m.\u001B[0m\u001B[0mencoding\u001B[0m \u001B[0;32mand\u001B[0m \u001B[0;34m\"b\"\u001B[0m \u001B[0;32mnot\u001B[0m \u001B[0;32min\u001B[0m \u001B[0mioargs\u001B[0m\u001B[0;34m.\u001B[0m\u001B[0mmode\u001B[0m\u001B[0;34m:\u001B[0m\u001B[0;34m\u001B[0m\u001B[0;34m\u001B[0m\u001B[0m\n\u001B[1;32m    701\u001B[0m             \u001B[0;31m# Encoding\u001B[0m\u001B[0;34m\u001B[0m\u001B[0;34m\u001B[0m\u001B[0;34m\u001B[0m\u001B[0m\n\u001B[0;32m--> 702\u001B[0;31m             handle = open(\n\u001B[0m\u001B[1;32m    703\u001B[0m                 \u001B[0mhandle\u001B[0m\u001B[0;34m,\u001B[0m\u001B[0;34m\u001B[0m\u001B[0;34m\u001B[0m\u001B[0m\n\u001B[1;32m    704\u001B[0m                 \u001B[0mioargs\u001B[0m\u001B[0;34m.\u001B[0m\u001B[0mmode\u001B[0m\u001B[0;34m,\u001B[0m\u001B[0;34m\u001B[0m\u001B[0;34m\u001B[0m\u001B[0m\n",
      "\u001B[0;31mFileNotFoundError\u001B[0m: [Errno 2] No such file or directory: 'click_preprocessed_0_newpreference.csv'"
     ]
    }
   ],
   "source": [
    "click_pre = pd.read_csv('click_preprocessed_0_newpreference.csv')"
   ]
  },
  {
   "cell_type": "code",
   "execution_count": null,
   "metadata": {
    "id": "BAqEuQFB2Att",
    "outputId": "e1e0a963-2bc4-4555-8f00-7c178b436678"
   },
   "outputs": [
    {
     "data": {
      "text/html": [
       "<div>\n",
       "<style scoped>\n",
       "    .dataframe tbody tr th:only-of-type {\n",
       "        vertical-align: middle;\n",
       "    }\n",
       "\n",
       "    .dataframe tbody tr th {\n",
       "        vertical-align: top;\n",
       "    }\n",
       "\n",
       "    .dataframe thead th {\n",
       "        text-align: right;\n",
       "    }\n",
       "</style>\n",
       "<table border=\"1\" class=\"dataframe\">\n",
       "  <thead>\n",
       "    <tr style=\"text-align: right;\">\n",
       "      <th></th>\n",
       "      <th>request_date_time</th>\n",
       "      <th>account_id</th>\n",
       "      <th>device_type</th>\n",
       "      <th>product_id</th>\n",
       "      <th>before_product_id</th>\n",
       "      <th>train</th>\n",
       "      <th>product_name</th>\n",
       "      <th>category_id</th>\n",
       "      <th>published_at</th>\n",
       "      <th>shop_price</th>\n",
       "      <th>maker_name</th>\n",
       "      <th>pub_newold</th>\n",
       "    </tr>\n",
       "  </thead>\n",
       "  <tbody>\n",
       "    <tr>\n",
       "      <th>0</th>\n",
       "      <td>2020-05-15 12:51:08</td>\n",
       "      <td>101773</td>\n",
       "      <td>1</td>\n",
       "      <td>84659792</td>\n",
       "      <td>0</td>\n",
       "      <td>2020-05-15 12:51:08</td>\n",
       "      <td>지적 대화를 위한 넓고 얕은 지식 제로</td>\n",
       "      <td>14.0</td>\n",
       "      <td>2019-12-24</td>\n",
       "      <td>19800.0</td>\n",
       "      <td>웨일북</td>\n",
       "      <td>0.0</td>\n",
       "    </tr>\n",
       "    <tr>\n",
       "      <th>1</th>\n",
       "      <td>2020-05-01 08:46:22</td>\n",
       "      <td>101773</td>\n",
       "      <td>1</td>\n",
       "      <td>59737522</td>\n",
       "      <td>0</td>\n",
       "      <td>2020-05-01 08:46:22</td>\n",
       "      <td>유턴후 직진입니다</td>\n",
       "      <td>33.0</td>\n",
       "      <td>2018-04-20</td>\n",
       "      <td>7000.0</td>\n",
       "      <td>다향</td>\n",
       "      <td>0.0</td>\n",
       "    </tr>\n",
       "    <tr>\n",
       "      <th>2</th>\n",
       "      <td>2020-05-15 12:57:16</td>\n",
       "      <td>101773</td>\n",
       "      <td>1</td>\n",
       "      <td>86895523</td>\n",
       "      <td>0</td>\n",
       "      <td>2020-05-15 12:57:16</td>\n",
       "      <td>날씨가 좋으면 찾아가겠어요</td>\n",
       "      <td>33.0</td>\n",
       "      <td>2020-02-01</td>\n",
       "      <td>13800.0</td>\n",
       "      <td>시공사</td>\n",
       "      <td>1.0</td>\n",
       "    </tr>\n",
       "    <tr>\n",
       "      <th>3</th>\n",
       "      <td>2020-05-20 13:40:57</td>\n",
       "      <td>101773</td>\n",
       "      <td>1</td>\n",
       "      <td>81503945</td>\n",
       "      <td>0</td>\n",
       "      <td>2020-05-20 13:40:57</td>\n",
       "      <td>[예스리커버] 1일 1페이지, 세상에서 가장 짧은 교양 수업 365</td>\n",
       "      <td>14.0</td>\n",
       "      <td>2019-10-30</td>\n",
       "      <td>16000.0</td>\n",
       "      <td>위즈덤하우스</td>\n",
       "      <td>0.0</td>\n",
       "    </tr>\n",
       "    <tr>\n",
       "      <th>4</th>\n",
       "      <td>2020-05-15 12:49:26</td>\n",
       "      <td>101773</td>\n",
       "      <td>1</td>\n",
       "      <td>81503945</td>\n",
       "      <td>0</td>\n",
       "      <td>2020-05-15 12:49:26</td>\n",
       "      <td>[예스리커버] 1일 1페이지, 세상에서 가장 짧은 교양 수업 365</td>\n",
       "      <td>14.0</td>\n",
       "      <td>2019-10-30</td>\n",
       "      <td>16000.0</td>\n",
       "      <td>위즈덤하우스</td>\n",
       "      <td>0.0</td>\n",
       "    </tr>\n",
       "    <tr>\n",
       "      <th>...</th>\n",
       "      <td>...</td>\n",
       "      <td>...</td>\n",
       "      <td>...</td>\n",
       "      <td>...</td>\n",
       "      <td>...</td>\n",
       "      <td>...</td>\n",
       "      <td>...</td>\n",
       "      <td>...</td>\n",
       "      <td>...</td>\n",
       "      <td>...</td>\n",
       "      <td>...</td>\n",
       "      <td>...</td>\n",
       "    </tr>\n",
       "    <tr>\n",
       "      <th>9351306</th>\n",
       "      <td>2020-05-31 15:05:50</td>\n",
       "      <td>16957892</td>\n",
       "      <td>0</td>\n",
       "      <td>11534367</td>\n",
       "      <td>0</td>\n",
       "      <td>2020-05-31 15:05:50</td>\n",
       "      <td>미리 배우는 초등 한국사 1</td>\n",
       "      <td>27.0</td>\n",
       "      <td>2013-11-30</td>\n",
       "      <td>12500.0</td>\n",
       "      <td>주류성어린이</td>\n",
       "      <td>0.0</td>\n",
       "    </tr>\n",
       "    <tr>\n",
       "      <th>9351307</th>\n",
       "      <td>2020-05-31 15:02:27</td>\n",
       "      <td>16957892</td>\n",
       "      <td>0</td>\n",
       "      <td>85432240</td>\n",
       "      <td>0</td>\n",
       "      <td>2020-05-31 15:02:27</td>\n",
       "      <td>초고필 지금 한국사를 해야 할 때 1권 (선사 시대~고려)</td>\n",
       "      <td>29.0</td>\n",
       "      <td>2019-12-30</td>\n",
       "      <td>12000.0</td>\n",
       "      <td>동아출판</td>\n",
       "      <td>0.0</td>\n",
       "    </tr>\n",
       "    <tr>\n",
       "      <th>9351308</th>\n",
       "      <td>2020-05-31 15:02:33</td>\n",
       "      <td>16957892</td>\n",
       "      <td>0</td>\n",
       "      <td>85432240</td>\n",
       "      <td>0</td>\n",
       "      <td>2020-05-31 15:02:33</td>\n",
       "      <td>초고필 지금 한국사를 해야 할 때 1권 (선사 시대~고려)</td>\n",
       "      <td>29.0</td>\n",
       "      <td>2019-12-30</td>\n",
       "      <td>12000.0</td>\n",
       "      <td>동아출판</td>\n",
       "      <td>0.0</td>\n",
       "    </tr>\n",
       "    <tr>\n",
       "      <th>9351309</th>\n",
       "      <td>2020-05-31 15:04:04</td>\n",
       "      <td>16957892</td>\n",
       "      <td>0</td>\n",
       "      <td>4781359</td>\n",
       "      <td>0</td>\n",
       "      <td>2020-05-31 15:04:04</td>\n",
       "      <td>초등학교 선생님이 함께 모여 쓴 한국사 이야기 3</td>\n",
       "      <td>27.0</td>\n",
       "      <td>2011-03-01</td>\n",
       "      <td>11000.0</td>\n",
       "      <td>늘푸른아이들</td>\n",
       "      <td>0.0</td>\n",
       "    </tr>\n",
       "    <tr>\n",
       "      <th>9351310</th>\n",
       "      <td>2020-05-31 15:22:07</td>\n",
       "      <td>16958175</td>\n",
       "      <td>0</td>\n",
       "      <td>84769733</td>\n",
       "      <td>0</td>\n",
       "      <td>2020-05-31 15:22:07</td>\n",
       "      <td>2020 합격예감 EBS 물류관리사 단기완성</td>\n",
       "      <td>1.0</td>\n",
       "      <td>2020-01-15</td>\n",
       "      <td>38000.0</td>\n",
       "      <td>신지원</td>\n",
       "      <td>1.0</td>\n",
       "    </tr>\n",
       "  </tbody>\n",
       "</table>\n",
       "<p>9351311 rows × 12 columns</p>\n",
       "</div>"
      ],
      "text/plain": [
       "          request_date_time  account_id  device_type  product_id  \\\n",
       "0       2020-05-15 12:51:08      101773            1    84659792   \n",
       "1       2020-05-01 08:46:22      101773            1    59737522   \n",
       "2       2020-05-15 12:57:16      101773            1    86895523   \n",
       "3       2020-05-20 13:40:57      101773            1    81503945   \n",
       "4       2020-05-15 12:49:26      101773            1    81503945   \n",
       "...                     ...         ...          ...         ...   \n",
       "9351306 2020-05-31 15:05:50    16957892            0    11534367   \n",
       "9351307 2020-05-31 15:02:27    16957892            0    85432240   \n",
       "9351308 2020-05-31 15:02:33    16957892            0    85432240   \n",
       "9351309 2020-05-31 15:04:04    16957892            0     4781359   \n",
       "9351310 2020-05-31 15:22:07    16958175            0    84769733   \n",
       "\n",
       "         before_product_id               train  \\\n",
       "0                        0 2020-05-15 12:51:08   \n",
       "1                        0 2020-05-01 08:46:22   \n",
       "2                        0 2020-05-15 12:57:16   \n",
       "3                        0 2020-05-20 13:40:57   \n",
       "4                        0 2020-05-15 12:49:26   \n",
       "...                    ...                 ...   \n",
       "9351306                  0 2020-05-31 15:05:50   \n",
       "9351307                  0 2020-05-31 15:02:27   \n",
       "9351308                  0 2020-05-31 15:02:33   \n",
       "9351309                  0 2020-05-31 15:04:04   \n",
       "9351310                  0 2020-05-31 15:22:07   \n",
       "\n",
       "                                  product_name  category_id published_at  \\\n",
       "0                        지적 대화를 위한 넓고 얕은 지식 제로         14.0   2019-12-24   \n",
       "1                                    유턴후 직진입니다         33.0   2018-04-20   \n",
       "2                               날씨가 좋으면 찾아가겠어요         33.0   2020-02-01   \n",
       "3        [예스리커버] 1일 1페이지, 세상에서 가장 짧은 교양 수업 365         14.0   2019-10-30   \n",
       "4        [예스리커버] 1일 1페이지, 세상에서 가장 짧은 교양 수업 365         14.0   2019-10-30   \n",
       "...                                        ...          ...          ...   \n",
       "9351306                        미리 배우는 초등 한국사 1         27.0   2013-11-30   \n",
       "9351307       초고필 지금 한국사를 해야 할 때 1권 (선사 시대~고려)         29.0   2019-12-30   \n",
       "9351308       초고필 지금 한국사를 해야 할 때 1권 (선사 시대~고려)         29.0   2019-12-30   \n",
       "9351309            초등학교 선생님이 함께 모여 쓴 한국사 이야기 3         27.0   2011-03-01   \n",
       "9351310               2020 합격예감 EBS 물류관리사 단기완성          1.0   2020-01-15   \n",
       "\n",
       "         shop_price maker_name  pub_newold  \n",
       "0           19800.0        웨일북         0.0  \n",
       "1            7000.0         다향         0.0  \n",
       "2           13800.0        시공사         1.0  \n",
       "3           16000.0     위즈덤하우스         0.0  \n",
       "4           16000.0     위즈덤하우스         0.0  \n",
       "...             ...        ...         ...  \n",
       "9351306     12500.0     주류성어린이         0.0  \n",
       "9351307     12000.0       동아출판         0.0  \n",
       "9351308     12000.0       동아출판         0.0  \n",
       "9351309     11000.0     늘푸른아이들         0.0  \n",
       "9351310     38000.0        신지원         1.0  \n",
       "\n",
       "[9351311 rows x 12 columns]"
      ]
     },
     "execution_count": 41,
     "metadata": {},
     "output_type": "execute_result"
    }
   ],
   "source": [
    "click_pre"
   ]
  },
  {
   "cell_type": "code",
   "execution_count": 61,
   "metadata": {
    "id": "9wbnpdYn2Att",
    "outputId": "faf09d13-b4aa-4807-ca6a-07a13a90d117"
   },
   "outputs": [
    {
     "data": {
      "text/plain": "request_date_time        0\naccount_id               0\ndevice_type              0\nproduct_id               0\nbefore_product_id        0\ntrain                    0\nindex                52894\nproduct_name         52894\ncategory_id          55061\npublished_at         52894\nshop_price           52894\nmaker_name           52894\npub_newold           52894\ndtype: int64"
     },
     "execution_count": 61,
     "metadata": {},
     "output_type": "execute_result"
    }
   ],
   "source": [
    "click_pre.isnull().sum()"
   ]
  },
  {
   "cell_type": "code",
   "execution_count": 62,
   "metadata": {
    "id": "ONu_WtSb2Att"
   },
   "outputs": [],
   "source": [
    "click_pre = click_pre.drop(columns=click_pre.columns[0])"
   ]
  },
  {
   "cell_type": "code",
   "execution_count": 63,
   "metadata": {
    "id": "vrflrmRs2Att"
   },
   "outputs": [],
   "source": [
    "click_pre.dropna(inplace=True)"
   ]
  },
  {
   "cell_type": "code",
   "execution_count": 64,
   "metadata": {
    "id": "W8jbJ77u2Att"
   },
   "outputs": [],
   "source": [
    "click_pre.drop(columns='index',inplace=True)"
   ]
  },
  {
   "cell_type": "code",
   "execution_count": 65,
   "metadata": {
    "id": "EYt2RR5n2Atu"
   },
   "outputs": [
    {
     "data": {
      "text/plain": "          account_id  device_type  product_id  before_product_id  \\\n18182289    10545677            0    82439977                  0   \n16735675     5416528            0      340773                  0   \n4894863     12778604            0    72250469                  0   \n1057752       142255            0    85927975                  0   \n33171592     1428619            0    74834536           69609421   \n...              ...          ...         ...                ...   \n9374107      6261677            0    85103628                  0   \n7799845      5215938            1    87512858                  0   \n11201365    13480370            0    90164277                  0   \n27301593    12050401            0    90088015                  0   \n8596085       525145            0    38419295                  0   \n\n                       train                    product_name  category_id  \\\n18182289 2020-03-01 00:00:00       2020 Xistory 자이스토리 고2 수학1          3.0   \n16735675 2020-03-01 00:00:00                             징비록         15.0   \n4894863  2020-03-01 00:00:00           2019 해커스경찰 최신기출문제집 형법          1.0   \n1057752  2020-03-01 00:00:00  EBS 수능특강 사회탐구영역 생활과 윤리 (2020년)          3.0   \n33171592 2020-03-01 00:00:01  NIGHTS BEFORE NIGHT 초회 한정 BOX판          8.0   \n...                      ...                             ...          ...   \n9374107  2020-05-31 23:56:44             놀면서 배우는 단위와 측정 플레이북         27.0   \n7799845  2020-05-31 23:56:44              2020 이동기 영어 기적의 특강          1.0   \n11201365 2020-05-31 23:56:45         이윤기의 그리스 로마 신화 (특별 합본판)         33.0   \n27301593 2020-05-31 23:56:45                         대치동 독서법         17.0   \n8596085  2020-05-31 23:56:45   신사고 SSEN 쎈 고등 수학 (상) (2020년용)          3.0   \n\n         published_at  shop_price maker_name  pub_newold  \n18182289   2019-12-01     15800.0      수경출판사         0.0  \n16735675   2014-11-20     11900.0       서해문집         0.0  \n4894863    2019-05-02     32900.0      해커스경찰         0.0  \n1057752    2020-01-13      6000.0   한국교육방송공사         1.0  \n33171592   2019-07-30     14000.0       조은세상         0.0  \n...               ...         ...        ...         ...  \n9374107    2019-12-27     12000.0        다락원         0.0  \n7799845    2020-02-14     14000.0    에스티유니타스         1.0  \n11201365   2020-05-04     39800.0    웅진지식하우스         1.0  \n27301593   2020-05-08     16500.0      일상과이상         1.0  \n8596085    2017-04-05     14500.0     좋은책신사고         0.0  \n\n[35021153 rows x 11 columns]",
      "text/html": "<div>\n<style scoped>\n    .dataframe tbody tr th:only-of-type {\n        vertical-align: middle;\n    }\n\n    .dataframe tbody tr th {\n        vertical-align: top;\n    }\n\n    .dataframe thead th {\n        text-align: right;\n    }\n</style>\n<table border=\"1\" class=\"dataframe\">\n  <thead>\n    <tr style=\"text-align: right;\">\n      <th></th>\n      <th>account_id</th>\n      <th>device_type</th>\n      <th>product_id</th>\n      <th>before_product_id</th>\n      <th>train</th>\n      <th>product_name</th>\n      <th>category_id</th>\n      <th>published_at</th>\n      <th>shop_price</th>\n      <th>maker_name</th>\n      <th>pub_newold</th>\n    </tr>\n  </thead>\n  <tbody>\n    <tr>\n      <th>18182289</th>\n      <td>10545677</td>\n      <td>0</td>\n      <td>82439977</td>\n      <td>0</td>\n      <td>2020-03-01 00:00:00</td>\n      <td>2020 Xistory 자이스토리 고2 수학1</td>\n      <td>3.0</td>\n      <td>2019-12-01</td>\n      <td>15800.0</td>\n      <td>수경출판사</td>\n      <td>0.0</td>\n    </tr>\n    <tr>\n      <th>16735675</th>\n      <td>5416528</td>\n      <td>0</td>\n      <td>340773</td>\n      <td>0</td>\n      <td>2020-03-01 00:00:00</td>\n      <td>징비록</td>\n      <td>15.0</td>\n      <td>2014-11-20</td>\n      <td>11900.0</td>\n      <td>서해문집</td>\n      <td>0.0</td>\n    </tr>\n    <tr>\n      <th>4894863</th>\n      <td>12778604</td>\n      <td>0</td>\n      <td>72250469</td>\n      <td>0</td>\n      <td>2020-03-01 00:00:00</td>\n      <td>2019 해커스경찰 최신기출문제집 형법</td>\n      <td>1.0</td>\n      <td>2019-05-02</td>\n      <td>32900.0</td>\n      <td>해커스경찰</td>\n      <td>0.0</td>\n    </tr>\n    <tr>\n      <th>1057752</th>\n      <td>142255</td>\n      <td>0</td>\n      <td>85927975</td>\n      <td>0</td>\n      <td>2020-03-01 00:00:00</td>\n      <td>EBS 수능특강 사회탐구영역 생활과 윤리 (2020년)</td>\n      <td>3.0</td>\n      <td>2020-01-13</td>\n      <td>6000.0</td>\n      <td>한국교육방송공사</td>\n      <td>1.0</td>\n    </tr>\n    <tr>\n      <th>33171592</th>\n      <td>1428619</td>\n      <td>0</td>\n      <td>74834536</td>\n      <td>69609421</td>\n      <td>2020-03-01 00:00:01</td>\n      <td>NIGHTS BEFORE NIGHT 초회 한정 BOX판</td>\n      <td>8.0</td>\n      <td>2019-07-30</td>\n      <td>14000.0</td>\n      <td>조은세상</td>\n      <td>0.0</td>\n    </tr>\n    <tr>\n      <th>...</th>\n      <td>...</td>\n      <td>...</td>\n      <td>...</td>\n      <td>...</td>\n      <td>...</td>\n      <td>...</td>\n      <td>...</td>\n      <td>...</td>\n      <td>...</td>\n      <td>...</td>\n      <td>...</td>\n    </tr>\n    <tr>\n      <th>9374107</th>\n      <td>6261677</td>\n      <td>0</td>\n      <td>85103628</td>\n      <td>0</td>\n      <td>2020-05-31 23:56:44</td>\n      <td>놀면서 배우는 단위와 측정 플레이북</td>\n      <td>27.0</td>\n      <td>2019-12-27</td>\n      <td>12000.0</td>\n      <td>다락원</td>\n      <td>0.0</td>\n    </tr>\n    <tr>\n      <th>7799845</th>\n      <td>5215938</td>\n      <td>1</td>\n      <td>87512858</td>\n      <td>0</td>\n      <td>2020-05-31 23:56:44</td>\n      <td>2020 이동기 영어 기적의 특강</td>\n      <td>1.0</td>\n      <td>2020-02-14</td>\n      <td>14000.0</td>\n      <td>에스티유니타스</td>\n      <td>1.0</td>\n    </tr>\n    <tr>\n      <th>11201365</th>\n      <td>13480370</td>\n      <td>0</td>\n      <td>90164277</td>\n      <td>0</td>\n      <td>2020-05-31 23:56:45</td>\n      <td>이윤기의 그리스 로마 신화 (특별 합본판)</td>\n      <td>33.0</td>\n      <td>2020-05-04</td>\n      <td>39800.0</td>\n      <td>웅진지식하우스</td>\n      <td>1.0</td>\n    </tr>\n    <tr>\n      <th>27301593</th>\n      <td>12050401</td>\n      <td>0</td>\n      <td>90088015</td>\n      <td>0</td>\n      <td>2020-05-31 23:56:45</td>\n      <td>대치동 독서법</td>\n      <td>17.0</td>\n      <td>2020-05-08</td>\n      <td>16500.0</td>\n      <td>일상과이상</td>\n      <td>1.0</td>\n    </tr>\n    <tr>\n      <th>8596085</th>\n      <td>525145</td>\n      <td>0</td>\n      <td>38419295</td>\n      <td>0</td>\n      <td>2020-05-31 23:56:45</td>\n      <td>신사고 SSEN 쎈 고등 수학 (상) (2020년용)</td>\n      <td>3.0</td>\n      <td>2017-04-05</td>\n      <td>14500.0</td>\n      <td>좋은책신사고</td>\n      <td>0.0</td>\n    </tr>\n  </tbody>\n</table>\n<p>35021153 rows × 11 columns</p>\n</div>"
     },
     "execution_count": 65,
     "metadata": {},
     "output_type": "execute_result"
    }
   ],
   "source": [
    "click_pre.sort_values(['train'])"
   ]
  },
  {
   "cell_type": "code",
   "execution_count": 66,
   "outputs": [],
   "source": [
    "click_pre.to_csv(\"click_preference_groupbybefore.csv\")"
   ],
   "metadata": {
    "collapsed": false,
    "pycharm": {
     "name": "#%%\n"
    }
   }
  },
  {
   "cell_type": "code",
   "execution_count": 67,
   "metadata": {
    "id": "TlFHamUO2Atu"
   },
   "outputs": [],
   "source": [
    "pref = pd.DataFrame(click_pre.groupby('account_id')['pub_newold'].agg('mean'))"
   ]
  },
  {
   "cell_type": "code",
   "execution_count": 68,
   "metadata": {
    "id": "1O0ZXyIF2Atu"
   },
   "outputs": [],
   "source": [
    "pref.reset_index(inplace=True)"
   ]
  },
  {
   "cell_type": "code",
   "execution_count": 69,
   "metadata": {
    "id": "yGys0wGM2Atu"
   },
   "outputs": [],
   "source": [
    "pref.rename(columns = {'pub_newold':'new_preference'}, inplace=True)"
   ]
  },
  {
   "cell_type": "code",
   "execution_count": 70,
   "metadata": {
    "id": "2SZRJCku2Atu",
    "outputId": "fcf4b6f9-9355-4131-c9c6-887e42f0c62c"
   },
   "outputs": [
    {
     "data": {
      "text/plain": "         account_id  new_preference\n0            100001        0.448454\n1            100004        0.090909\n2            100014        1.000000\n3            100018        0.000000\n4            100020        0.272727\n...             ...             ...\n1548631    16960408        0.000000\n1548632    16960413        1.000000\n1548633    16960422        1.000000\n1548634    16960424        1.000000\n1548635    16960430        0.000000\n\n[1548636 rows x 2 columns]",
      "text/html": "<div>\n<style scoped>\n    .dataframe tbody tr th:only-of-type {\n        vertical-align: middle;\n    }\n\n    .dataframe tbody tr th {\n        vertical-align: top;\n    }\n\n    .dataframe thead th {\n        text-align: right;\n    }\n</style>\n<table border=\"1\" class=\"dataframe\">\n  <thead>\n    <tr style=\"text-align: right;\">\n      <th></th>\n      <th>account_id</th>\n      <th>new_preference</th>\n    </tr>\n  </thead>\n  <tbody>\n    <tr>\n      <th>0</th>\n      <td>100001</td>\n      <td>0.448454</td>\n    </tr>\n    <tr>\n      <th>1</th>\n      <td>100004</td>\n      <td>0.090909</td>\n    </tr>\n    <tr>\n      <th>2</th>\n      <td>100014</td>\n      <td>1.000000</td>\n    </tr>\n    <tr>\n      <th>3</th>\n      <td>100018</td>\n      <td>0.000000</td>\n    </tr>\n    <tr>\n      <th>4</th>\n      <td>100020</td>\n      <td>0.272727</td>\n    </tr>\n    <tr>\n      <th>...</th>\n      <td>...</td>\n      <td>...</td>\n    </tr>\n    <tr>\n      <th>1548631</th>\n      <td>16960408</td>\n      <td>0.000000</td>\n    </tr>\n    <tr>\n      <th>1548632</th>\n      <td>16960413</td>\n      <td>1.000000</td>\n    </tr>\n    <tr>\n      <th>1548633</th>\n      <td>16960422</td>\n      <td>1.000000</td>\n    </tr>\n    <tr>\n      <th>1548634</th>\n      <td>16960424</td>\n      <td>1.000000</td>\n    </tr>\n    <tr>\n      <th>1548635</th>\n      <td>16960430</td>\n      <td>0.000000</td>\n    </tr>\n  </tbody>\n</table>\n<p>1548636 rows × 2 columns</p>\n</div>"
     },
     "execution_count": 70,
     "metadata": {},
     "output_type": "execute_result"
    }
   ],
   "source": [
    "pref"
   ]
  },
  {
   "cell_type": "code",
   "execution_count": 42,
   "metadata": {
    "id": "sd8khwdg2Atu",
    "outputId": "e4de72b2-3fb8-4d4e-abe0-411bc448e70b"
   },
   "outputs": [
    {
     "data": {
      "text/plain": "        account_id  new_preference\n0           100001        0.616667\n1           100020        0.375000\n2           100037        0.250000\n3           100040        1.000000\n4           100058        0.281250\n...            ...             ...\n854431    16960408        0.000000\n854432    16960413        1.000000\n854433    16960422        1.000000\n854434    16960424        1.000000\n854435    16960430        0.000000\n\n[854436 rows x 2 columns]",
      "text/html": "<div>\n<style scoped>\n    .dataframe tbody tr th:only-of-type {\n        vertical-align: middle;\n    }\n\n    .dataframe tbody tr th {\n        vertical-align: top;\n    }\n\n    .dataframe thead th {\n        text-align: right;\n    }\n</style>\n<table border=\"1\" class=\"dataframe\">\n  <thead>\n    <tr style=\"text-align: right;\">\n      <th></th>\n      <th>account_id</th>\n      <th>new_preference</th>\n    </tr>\n  </thead>\n  <tbody>\n    <tr>\n      <th>0</th>\n      <td>100001</td>\n      <td>0.616667</td>\n    </tr>\n    <tr>\n      <th>1</th>\n      <td>100020</td>\n      <td>0.375000</td>\n    </tr>\n    <tr>\n      <th>2</th>\n      <td>100037</td>\n      <td>0.250000</td>\n    </tr>\n    <tr>\n      <th>3</th>\n      <td>100040</td>\n      <td>1.000000</td>\n    </tr>\n    <tr>\n      <th>4</th>\n      <td>100058</td>\n      <td>0.281250</td>\n    </tr>\n    <tr>\n      <th>...</th>\n      <td>...</td>\n      <td>...</td>\n    </tr>\n    <tr>\n      <th>854431</th>\n      <td>16960408</td>\n      <td>0.000000</td>\n    </tr>\n    <tr>\n      <th>854432</th>\n      <td>16960413</td>\n      <td>1.000000</td>\n    </tr>\n    <tr>\n      <th>854433</th>\n      <td>16960422</td>\n      <td>1.000000</td>\n    </tr>\n    <tr>\n      <th>854434</th>\n      <td>16960424</td>\n      <td>1.000000</td>\n    </tr>\n    <tr>\n      <th>854435</th>\n      <td>16960430</td>\n      <td>0.000000</td>\n    </tr>\n  </tbody>\n</table>\n<p>854436 rows × 2 columns</p>\n</div>"
     },
     "execution_count": 42,
     "metadata": {},
     "output_type": "execute_result"
    }
   ],
   "source": [
    "pref"
   ]
  },
  {
   "cell_type": "code",
   "execution_count": 43,
   "metadata": {
    "id": "ACu_-tm-2Atu",
    "outputId": "fda1f370-576b-4c8b-d195-37d1e5312791"
   },
   "outputs": [
    {
     "data": {
      "text/plain": "         account_id  device_type  product_id  before_product_id  \\\n0            101773            1    84659792                  0   \n1            101773            1    59737522                  0   \n2            101773            1    86895523                  0   \n3            101773            1    81503945                  0   \n4            101773            1    81503945                  0   \n...             ...          ...         ...                ...   \n9351306    16957892            0    11534367                  0   \n9351307    16957892            0    85432240                  0   \n9351308    16957892            0    85432240                  0   \n9351309    16957892            0     4781359                  0   \n9351310    16958175            0    84769733                  0   \n\n                      train                           product_name  \\\n0       2020-05-15 12:51:08                  지적 대화를 위한 넓고 얕은 지식 제로   \n1       2020-05-01 08:46:22                              유턴후 직진입니다   \n2       2020-05-15 12:57:16                         날씨가 좋으면 찾아가겠어요   \n3       2020-05-20 13:40:57  [예스리커버] 1일 1페이지, 세상에서 가장 짧은 교양 수업 365   \n4       2020-05-15 12:49:26  [예스리커버] 1일 1페이지, 세상에서 가장 짧은 교양 수업 365   \n...                     ...                                    ...   \n9351306 2020-05-31 15:05:50                        미리 배우는 초등 한국사 1   \n9351307 2020-05-31 15:02:27       초고필 지금 한국사를 해야 할 때 1권 (선사 시대~고려)   \n9351308 2020-05-31 15:02:33       초고필 지금 한국사를 해야 할 때 1권 (선사 시대~고려)   \n9351309 2020-05-31 15:04:04            초등학교 선생님이 함께 모여 쓴 한국사 이야기 3   \n9351310 2020-05-31 15:22:07               2020 합격예감 EBS 물류관리사 단기완성   \n\n         category_id published_at  shop_price maker_name  pub_newold  \n0               14.0   2019-12-24     19800.0        웨일북         0.0  \n1               33.0   2018-04-20      7000.0         다향         0.0  \n2               33.0   2020-02-01     13800.0        시공사         1.0  \n3               14.0   2019-10-30     16000.0     위즈덤하우스         0.0  \n4               14.0   2019-10-30     16000.0     위즈덤하우스         0.0  \n...              ...          ...         ...        ...         ...  \n9351306         27.0   2013-11-30     12500.0     주류성어린이         0.0  \n9351307         29.0   2019-12-30     12000.0       동아출판         0.0  \n9351308         29.0   2019-12-30     12000.0       동아출판         0.0  \n9351309         27.0   2011-03-01     11000.0     늘푸른아이들         0.0  \n9351310          1.0   2020-01-15     38000.0        신지원         1.0  \n\n[9315516 rows x 11 columns]",
      "text/html": "<div>\n<style scoped>\n    .dataframe tbody tr th:only-of-type {\n        vertical-align: middle;\n    }\n\n    .dataframe tbody tr th {\n        vertical-align: top;\n    }\n\n    .dataframe thead th {\n        text-align: right;\n    }\n</style>\n<table border=\"1\" class=\"dataframe\">\n  <thead>\n    <tr style=\"text-align: right;\">\n      <th></th>\n      <th>account_id</th>\n      <th>device_type</th>\n      <th>product_id</th>\n      <th>before_product_id</th>\n      <th>train</th>\n      <th>product_name</th>\n      <th>category_id</th>\n      <th>published_at</th>\n      <th>shop_price</th>\n      <th>maker_name</th>\n      <th>pub_newold</th>\n    </tr>\n  </thead>\n  <tbody>\n    <tr>\n      <th>0</th>\n      <td>101773</td>\n      <td>1</td>\n      <td>84659792</td>\n      <td>0</td>\n      <td>2020-05-15 12:51:08</td>\n      <td>지적 대화를 위한 넓고 얕은 지식 제로</td>\n      <td>14.0</td>\n      <td>2019-12-24</td>\n      <td>19800.0</td>\n      <td>웨일북</td>\n      <td>0.0</td>\n    </tr>\n    <tr>\n      <th>1</th>\n      <td>101773</td>\n      <td>1</td>\n      <td>59737522</td>\n      <td>0</td>\n      <td>2020-05-01 08:46:22</td>\n      <td>유턴후 직진입니다</td>\n      <td>33.0</td>\n      <td>2018-04-20</td>\n      <td>7000.0</td>\n      <td>다향</td>\n      <td>0.0</td>\n    </tr>\n    <tr>\n      <th>2</th>\n      <td>101773</td>\n      <td>1</td>\n      <td>86895523</td>\n      <td>0</td>\n      <td>2020-05-15 12:57:16</td>\n      <td>날씨가 좋으면 찾아가겠어요</td>\n      <td>33.0</td>\n      <td>2020-02-01</td>\n      <td>13800.0</td>\n      <td>시공사</td>\n      <td>1.0</td>\n    </tr>\n    <tr>\n      <th>3</th>\n      <td>101773</td>\n      <td>1</td>\n      <td>81503945</td>\n      <td>0</td>\n      <td>2020-05-20 13:40:57</td>\n      <td>[예스리커버] 1일 1페이지, 세상에서 가장 짧은 교양 수업 365</td>\n      <td>14.0</td>\n      <td>2019-10-30</td>\n      <td>16000.0</td>\n      <td>위즈덤하우스</td>\n      <td>0.0</td>\n    </tr>\n    <tr>\n      <th>4</th>\n      <td>101773</td>\n      <td>1</td>\n      <td>81503945</td>\n      <td>0</td>\n      <td>2020-05-15 12:49:26</td>\n      <td>[예스리커버] 1일 1페이지, 세상에서 가장 짧은 교양 수업 365</td>\n      <td>14.0</td>\n      <td>2019-10-30</td>\n      <td>16000.0</td>\n      <td>위즈덤하우스</td>\n      <td>0.0</td>\n    </tr>\n    <tr>\n      <th>...</th>\n      <td>...</td>\n      <td>...</td>\n      <td>...</td>\n      <td>...</td>\n      <td>...</td>\n      <td>...</td>\n      <td>...</td>\n      <td>...</td>\n      <td>...</td>\n      <td>...</td>\n      <td>...</td>\n    </tr>\n    <tr>\n      <th>9351306</th>\n      <td>16957892</td>\n      <td>0</td>\n      <td>11534367</td>\n      <td>0</td>\n      <td>2020-05-31 15:05:50</td>\n      <td>미리 배우는 초등 한국사 1</td>\n      <td>27.0</td>\n      <td>2013-11-30</td>\n      <td>12500.0</td>\n      <td>주류성어린이</td>\n      <td>0.0</td>\n    </tr>\n    <tr>\n      <th>9351307</th>\n      <td>16957892</td>\n      <td>0</td>\n      <td>85432240</td>\n      <td>0</td>\n      <td>2020-05-31 15:02:27</td>\n      <td>초고필 지금 한국사를 해야 할 때 1권 (선사 시대~고려)</td>\n      <td>29.0</td>\n      <td>2019-12-30</td>\n      <td>12000.0</td>\n      <td>동아출판</td>\n      <td>0.0</td>\n    </tr>\n    <tr>\n      <th>9351308</th>\n      <td>16957892</td>\n      <td>0</td>\n      <td>85432240</td>\n      <td>0</td>\n      <td>2020-05-31 15:02:33</td>\n      <td>초고필 지금 한국사를 해야 할 때 1권 (선사 시대~고려)</td>\n      <td>29.0</td>\n      <td>2019-12-30</td>\n      <td>12000.0</td>\n      <td>동아출판</td>\n      <td>0.0</td>\n    </tr>\n    <tr>\n      <th>9351309</th>\n      <td>16957892</td>\n      <td>0</td>\n      <td>4781359</td>\n      <td>0</td>\n      <td>2020-05-31 15:04:04</td>\n      <td>초등학교 선생님이 함께 모여 쓴 한국사 이야기 3</td>\n      <td>27.0</td>\n      <td>2011-03-01</td>\n      <td>11000.0</td>\n      <td>늘푸른아이들</td>\n      <td>0.0</td>\n    </tr>\n    <tr>\n      <th>9351310</th>\n      <td>16958175</td>\n      <td>0</td>\n      <td>84769733</td>\n      <td>0</td>\n      <td>2020-05-31 15:22:07</td>\n      <td>2020 합격예감 EBS 물류관리사 단기완성</td>\n      <td>1.0</td>\n      <td>2020-01-15</td>\n      <td>38000.0</td>\n      <td>신지원</td>\n      <td>1.0</td>\n    </tr>\n  </tbody>\n</table>\n<p>9315516 rows × 11 columns</p>\n</div>"
     },
     "execution_count": 43,
     "metadata": {},
     "output_type": "execute_result"
    }
   ],
   "source": [
    "click_pre"
   ]
  },
  {
   "cell_type": "code",
   "execution_count": 97,
   "metadata": {
    "id": "e-82bUDw2Atu"
   },
   "outputs": [],
   "source": [
    "click_pref = pd.merge(click_pre, pref, on='account_id',how='left')"
   ]
  },
  {
   "cell_type": "code",
   "execution_count": 98,
   "metadata": {
    "id": "PSXJ_Crl2Atu",
    "outputId": "6aa9dab9-3492-4ede-cc93-f5b0c8d991fd"
   },
   "outputs": [
    {
     "data": {
      "text/plain": "          account_id  device_type  product_id  before_product_id  \\\n0             101773            1    84659792                  0   \n1             101773            1    59737522                  0   \n2             101773            1    86895523                  0   \n3             101773            1    81503945                  0   \n4             101773            1    73164325                  0   \n...              ...          ...         ...                ...   \n35021148    16957892            0    11534367                  0   \n35021149    16957892            0    85432240                  0   \n35021150    16957892            0    85432240                  0   \n35021151    16957892            0     4781359                  0   \n35021152    16958175            0    84769733                  0   \n\n                       train                           product_name  \\\n0        2020-05-15 12:51:08                  지적 대화를 위한 넓고 얕은 지식 제로   \n1        2020-05-01 08:46:22                              유턴후 직진입니다   \n2        2020-05-15 12:57:16                         날씨가 좋으면 찾아가겠어요   \n3        2020-05-20 13:40:57  [예스리커버] 1일 1페이지, 세상에서 가장 짧은 교양 수업 365   \n4        2020-03-09 09:00:20                   완자 고등 물리학 2 (2020년용)   \n...                      ...                                    ...   \n35021148 2020-05-31 15:05:50                        미리 배우는 초등 한국사 1   \n35021149 2020-05-31 15:02:27       초고필 지금 한국사를 해야 할 때 1권 (선사 시대~고려)   \n35021150 2020-05-31 15:02:33       초고필 지금 한국사를 해야 할 때 1권 (선사 시대~고려)   \n35021151 2020-05-31 15:04:04            초등학교 선생님이 함께 모여 쓴 한국사 이야기 3   \n35021152 2020-05-31 15:22:07               2020 합격예감 EBS 물류관리사 단기완성   \n\n          category_id published_at  shop_price maker_name  pub_newold  \\\n0                14.0   2019-12-24     19800.0        웨일북         0.0   \n1                33.0   2018-04-20      7000.0         다향         0.0   \n2                33.0   2020-02-01     13800.0        시공사         1.0   \n3                14.0   2019-10-30     16000.0     위즈덤하우스         0.0   \n4                 3.0   2019-05-01     20000.0       비상교육         0.0   \n...               ...          ...         ...        ...         ...   \n35021148         27.0   2013-11-30     12500.0     주류성어린이         0.0   \n35021149         29.0   2019-12-30     12000.0       동아출판         0.0   \n35021150         29.0   2019-12-30     12000.0       동아출판         0.0   \n35021151         27.0   2011-03-01     11000.0     늘푸른아이들         0.0   \n35021152          1.0   2020-01-15     38000.0        신지원         1.0   \n\n          new_preference  \n0               0.285714  \n1               0.285714  \n2               0.285714  \n3               0.285714  \n4               0.285714  \n...                  ...  \n35021148        0.178571  \n35021149        0.178571  \n35021150        0.178571  \n35021151        0.178571  \n35021152        1.000000  \n\n[35021153 rows x 12 columns]",
      "text/html": "<div>\n<style scoped>\n    .dataframe tbody tr th:only-of-type {\n        vertical-align: middle;\n    }\n\n    .dataframe tbody tr th {\n        vertical-align: top;\n    }\n\n    .dataframe thead th {\n        text-align: right;\n    }\n</style>\n<table border=\"1\" class=\"dataframe\">\n  <thead>\n    <tr style=\"text-align: right;\">\n      <th></th>\n      <th>account_id</th>\n      <th>device_type</th>\n      <th>product_id</th>\n      <th>before_product_id</th>\n      <th>train</th>\n      <th>product_name</th>\n      <th>category_id</th>\n      <th>published_at</th>\n      <th>shop_price</th>\n      <th>maker_name</th>\n      <th>pub_newold</th>\n      <th>new_preference</th>\n    </tr>\n  </thead>\n  <tbody>\n    <tr>\n      <th>0</th>\n      <td>101773</td>\n      <td>1</td>\n      <td>84659792</td>\n      <td>0</td>\n      <td>2020-05-15 12:51:08</td>\n      <td>지적 대화를 위한 넓고 얕은 지식 제로</td>\n      <td>14.0</td>\n      <td>2019-12-24</td>\n      <td>19800.0</td>\n      <td>웨일북</td>\n      <td>0.0</td>\n      <td>0.285714</td>\n    </tr>\n    <tr>\n      <th>1</th>\n      <td>101773</td>\n      <td>1</td>\n      <td>59737522</td>\n      <td>0</td>\n      <td>2020-05-01 08:46:22</td>\n      <td>유턴후 직진입니다</td>\n      <td>33.0</td>\n      <td>2018-04-20</td>\n      <td>7000.0</td>\n      <td>다향</td>\n      <td>0.0</td>\n      <td>0.285714</td>\n    </tr>\n    <tr>\n      <th>2</th>\n      <td>101773</td>\n      <td>1</td>\n      <td>86895523</td>\n      <td>0</td>\n      <td>2020-05-15 12:57:16</td>\n      <td>날씨가 좋으면 찾아가겠어요</td>\n      <td>33.0</td>\n      <td>2020-02-01</td>\n      <td>13800.0</td>\n      <td>시공사</td>\n      <td>1.0</td>\n      <td>0.285714</td>\n    </tr>\n    <tr>\n      <th>3</th>\n      <td>101773</td>\n      <td>1</td>\n      <td>81503945</td>\n      <td>0</td>\n      <td>2020-05-20 13:40:57</td>\n      <td>[예스리커버] 1일 1페이지, 세상에서 가장 짧은 교양 수업 365</td>\n      <td>14.0</td>\n      <td>2019-10-30</td>\n      <td>16000.0</td>\n      <td>위즈덤하우스</td>\n      <td>0.0</td>\n      <td>0.285714</td>\n    </tr>\n    <tr>\n      <th>4</th>\n      <td>101773</td>\n      <td>1</td>\n      <td>73164325</td>\n      <td>0</td>\n      <td>2020-03-09 09:00:20</td>\n      <td>완자 고등 물리학 2 (2020년용)</td>\n      <td>3.0</td>\n      <td>2019-05-01</td>\n      <td>20000.0</td>\n      <td>비상교육</td>\n      <td>0.0</td>\n      <td>0.285714</td>\n    </tr>\n    <tr>\n      <th>...</th>\n      <td>...</td>\n      <td>...</td>\n      <td>...</td>\n      <td>...</td>\n      <td>...</td>\n      <td>...</td>\n      <td>...</td>\n      <td>...</td>\n      <td>...</td>\n      <td>...</td>\n      <td>...</td>\n      <td>...</td>\n    </tr>\n    <tr>\n      <th>35021148</th>\n      <td>16957892</td>\n      <td>0</td>\n      <td>11534367</td>\n      <td>0</td>\n      <td>2020-05-31 15:05:50</td>\n      <td>미리 배우는 초등 한국사 1</td>\n      <td>27.0</td>\n      <td>2013-11-30</td>\n      <td>12500.0</td>\n      <td>주류성어린이</td>\n      <td>0.0</td>\n      <td>0.178571</td>\n    </tr>\n    <tr>\n      <th>35021149</th>\n      <td>16957892</td>\n      <td>0</td>\n      <td>85432240</td>\n      <td>0</td>\n      <td>2020-05-31 15:02:27</td>\n      <td>초고필 지금 한국사를 해야 할 때 1권 (선사 시대~고려)</td>\n      <td>29.0</td>\n      <td>2019-12-30</td>\n      <td>12000.0</td>\n      <td>동아출판</td>\n      <td>0.0</td>\n      <td>0.178571</td>\n    </tr>\n    <tr>\n      <th>35021150</th>\n      <td>16957892</td>\n      <td>0</td>\n      <td>85432240</td>\n      <td>0</td>\n      <td>2020-05-31 15:02:33</td>\n      <td>초고필 지금 한국사를 해야 할 때 1권 (선사 시대~고려)</td>\n      <td>29.0</td>\n      <td>2019-12-30</td>\n      <td>12000.0</td>\n      <td>동아출판</td>\n      <td>0.0</td>\n      <td>0.178571</td>\n    </tr>\n    <tr>\n      <th>35021151</th>\n      <td>16957892</td>\n      <td>0</td>\n      <td>4781359</td>\n      <td>0</td>\n      <td>2020-05-31 15:04:04</td>\n      <td>초등학교 선생님이 함께 모여 쓴 한국사 이야기 3</td>\n      <td>27.0</td>\n      <td>2011-03-01</td>\n      <td>11000.0</td>\n      <td>늘푸른아이들</td>\n      <td>0.0</td>\n      <td>0.178571</td>\n    </tr>\n    <tr>\n      <th>35021152</th>\n      <td>16958175</td>\n      <td>0</td>\n      <td>84769733</td>\n      <td>0</td>\n      <td>2020-05-31 15:22:07</td>\n      <td>2020 합격예감 EBS 물류관리사 단기완성</td>\n      <td>1.0</td>\n      <td>2020-01-15</td>\n      <td>38000.0</td>\n      <td>신지원</td>\n      <td>1.0</td>\n      <td>1.000000</td>\n    </tr>\n  </tbody>\n</table>\n<p>35021153 rows × 12 columns</p>\n</div>"
     },
     "execution_count": 98,
     "metadata": {},
     "output_type": "execute_result"
    }
   ],
   "source": [
    "click_pref"
   ]
  },
  {
   "cell_type": "code",
   "execution_count": 99,
   "metadata": {
    "id": "8AjI3sb22Atu",
    "outputId": "752cb0e8-0c1a-4d82-f11f-4ec455a239c9"
   },
   "outputs": [
    {
     "data": {
      "text/plain": "account_id           0\ndevice_type          0\nproduct_id           0\nbefore_product_id    0\ntrain                0\nproduct_name         0\ncategory_id          0\npublished_at         0\nshop_price           0\nmaker_name           0\npub_newold           0\nnew_preference       0\ndtype: int64"
     },
     "execution_count": 99,
     "metadata": {},
     "output_type": "execute_result"
    }
   ],
   "source": [
    "click_pref.isnull().sum()"
   ]
  },
  {
   "cell_type": "code",
   "execution_count": 74,
   "metadata": {
    "id": "p-23QJCE2Atu"
   },
   "outputs": [],
   "source": [
    "click_pref.dropna(inplace=True)"
   ]
  },
  {
   "cell_type": "code",
   "execution_count": 105,
   "outputs": [],
   "source": [
    "click_pref.reset_index(drop=True, inplace=True)"
   ],
   "metadata": {
    "collapsed": false,
    "pycharm": {
     "name": "#%%\n"
    }
   }
  },
  {
   "cell_type": "code",
   "execution_count": 108,
   "outputs": [],
   "source": [
    "click_pref = click_pref.where(click_pref['train'] < pd.to_datetime('2020-05-01'))"
   ],
   "metadata": {
    "collapsed": false,
    "pycharm": {
     "name": "#%%\n"
    }
   }
  },
  {
   "cell_type": "code",
   "execution_count": 109,
   "metadata": {
    "id": "aKpAa6Hd2Atu"
   },
   "outputs": [],
   "source": [
    "click_pref_fin = click_pref.groupby('account_id').mean()"
   ]
  },
  {
   "cell_type": "code",
   "execution_count": 110,
   "metadata": {
    "id": "hVSmP9iG2Atu"
   },
   "outputs": [],
   "source": [
    "click_pref_fin.reset_index(inplace=True)"
   ]
  },
  {
   "cell_type": "code",
   "execution_count": 111,
   "metadata": {
    "id": "nBZxnfEt2Atu",
    "outputId": "d2e23f89-6f9e-4a06-c52f-bbd3f271e683"
   },
   "outputs": [
    {
     "data": {
      "text/plain": "         account_id  device_type    product_id  before_product_id  \\\n0          100001.0          0.0  6.799639e+07       1.347969e+07   \n1          100004.0          0.0  6.730744e+07       2.427023e+07   \n2          100014.0          0.0  8.990398e+07       0.000000e+00   \n3          100018.0          0.0  7.745835e+07       4.264982e+07   \n4          100020.0          0.0  6.669382e+07       0.000000e+00   \n...             ...          ...           ...                ...   \n1363441  16837205.0          0.0  6.112346e+07       1.301209e+07   \n1363442  16837207.0          0.0  6.403668e+07       0.000000e+00   \n1363443  16837210.0          0.0  6.658141e+07       0.000000e+00   \n1363444  16837213.0          0.0  1.552359e+07       0.000000e+00   \n1363445  16837224.0          0.0  7.380819e+07       2.915340e+07   \n\n         category_id    shop_price  pub_newold  new_preference  \n0          14.044776  15270.895522    0.373134        0.448454  \n1           4.909091  16318.181818    0.090909        0.090909  \n2          13.000000  16000.000000    1.000000        1.000000  \n3           2.000000  25444.444444    0.000000        0.000000  \n4          22.666667  14200.000000    0.000000        0.272727  \n...              ...           ...         ...             ...  \n1363441     5.200000  14300.000000    0.200000        0.142857  \n1363442     3.000000  16933.333333    0.000000        0.000000  \n1363443     4.000000  45000.000000    0.000000        0.000000  \n1363444    11.000000  22000.000000    0.000000        0.000000  \n1363445    13.000000  19000.000000    0.500000        0.333333  \n\n[1363446 rows x 8 columns]",
      "text/html": "<div>\n<style scoped>\n    .dataframe tbody tr th:only-of-type {\n        vertical-align: middle;\n    }\n\n    .dataframe tbody tr th {\n        vertical-align: top;\n    }\n\n    .dataframe thead th {\n        text-align: right;\n    }\n</style>\n<table border=\"1\" class=\"dataframe\">\n  <thead>\n    <tr style=\"text-align: right;\">\n      <th></th>\n      <th>account_id</th>\n      <th>device_type</th>\n      <th>product_id</th>\n      <th>before_product_id</th>\n      <th>category_id</th>\n      <th>shop_price</th>\n      <th>pub_newold</th>\n      <th>new_preference</th>\n    </tr>\n  </thead>\n  <tbody>\n    <tr>\n      <th>0</th>\n      <td>100001.0</td>\n      <td>0.0</td>\n      <td>6.799639e+07</td>\n      <td>1.347969e+07</td>\n      <td>14.044776</td>\n      <td>15270.895522</td>\n      <td>0.373134</td>\n      <td>0.448454</td>\n    </tr>\n    <tr>\n      <th>1</th>\n      <td>100004.0</td>\n      <td>0.0</td>\n      <td>6.730744e+07</td>\n      <td>2.427023e+07</td>\n      <td>4.909091</td>\n      <td>16318.181818</td>\n      <td>0.090909</td>\n      <td>0.090909</td>\n    </tr>\n    <tr>\n      <th>2</th>\n      <td>100014.0</td>\n      <td>0.0</td>\n      <td>8.990398e+07</td>\n      <td>0.000000e+00</td>\n      <td>13.000000</td>\n      <td>16000.000000</td>\n      <td>1.000000</td>\n      <td>1.000000</td>\n    </tr>\n    <tr>\n      <th>3</th>\n      <td>100018.0</td>\n      <td>0.0</td>\n      <td>7.745835e+07</td>\n      <td>4.264982e+07</td>\n      <td>2.000000</td>\n      <td>25444.444444</td>\n      <td>0.000000</td>\n      <td>0.000000</td>\n    </tr>\n    <tr>\n      <th>4</th>\n      <td>100020.0</td>\n      <td>0.0</td>\n      <td>6.669382e+07</td>\n      <td>0.000000e+00</td>\n      <td>22.666667</td>\n      <td>14200.000000</td>\n      <td>0.000000</td>\n      <td>0.272727</td>\n    </tr>\n    <tr>\n      <th>...</th>\n      <td>...</td>\n      <td>...</td>\n      <td>...</td>\n      <td>...</td>\n      <td>...</td>\n      <td>...</td>\n      <td>...</td>\n      <td>...</td>\n    </tr>\n    <tr>\n      <th>1363441</th>\n      <td>16837205.0</td>\n      <td>0.0</td>\n      <td>6.112346e+07</td>\n      <td>1.301209e+07</td>\n      <td>5.200000</td>\n      <td>14300.000000</td>\n      <td>0.200000</td>\n      <td>0.142857</td>\n    </tr>\n    <tr>\n      <th>1363442</th>\n      <td>16837207.0</td>\n      <td>0.0</td>\n      <td>6.403668e+07</td>\n      <td>0.000000e+00</td>\n      <td>3.000000</td>\n      <td>16933.333333</td>\n      <td>0.000000</td>\n      <td>0.000000</td>\n    </tr>\n    <tr>\n      <th>1363443</th>\n      <td>16837210.0</td>\n      <td>0.0</td>\n      <td>6.658141e+07</td>\n      <td>0.000000e+00</td>\n      <td>4.000000</td>\n      <td>45000.000000</td>\n      <td>0.000000</td>\n      <td>0.000000</td>\n    </tr>\n    <tr>\n      <th>1363444</th>\n      <td>16837213.0</td>\n      <td>0.0</td>\n      <td>1.552359e+07</td>\n      <td>0.000000e+00</td>\n      <td>11.000000</td>\n      <td>22000.000000</td>\n      <td>0.000000</td>\n      <td>0.000000</td>\n    </tr>\n    <tr>\n      <th>1363445</th>\n      <td>16837224.0</td>\n      <td>0.0</td>\n      <td>7.380819e+07</td>\n      <td>2.915340e+07</td>\n      <td>13.000000</td>\n      <td>19000.000000</td>\n      <td>0.500000</td>\n      <td>0.333333</td>\n    </tr>\n  </tbody>\n</table>\n<p>1363446 rows × 8 columns</p>\n</div>"
     },
     "execution_count": 111,
     "metadata": {},
     "output_type": "execute_result"
    }
   ],
   "source": [
    "click_pref_fin"
   ]
  },
  {
   "cell_type": "code",
   "execution_count": null,
   "metadata": {
    "id": "KNeutFsh2Atu",
    "outputId": "aa4534ca-5aa5-43b4-fadc-5d7532d7c516"
   },
   "outputs": [
    {
     "data": {
      "text/plain": [
       "<matplotlib.axes._subplots.AxesSubplot at 0x7faaa951e128>"
      ]
     },
     "execution_count": 89,
     "metadata": {},
     "output_type": "execute_result"
    },
    {
     "data": {
      "image/png": "[encoded data removed]",
      "text/plain": [
       "<Figure size 432x288 with 1 Axes>"
      ]
     },
     "metadata": {
      "needs_background": "light"
     },
     "output_type": "display_data"
    }
   ],
   "source": [
    "click_pref['new_preference'].hist()"
   ]
  },
  {
   "cell_type": "code",
   "execution_count": null,
   "metadata": {
    "id": "7BKkQQ5S2Atv"
   },
   "outputs": [],
   "source": [
    "order_pref['new_preference'].hist()"
   ]
  },
  {
   "cell_type": "code",
   "execution_count": null,
   "metadata": {
    "id": "K5mD6XPq2Atv",
    "outputId": "ad31587f-fa67-4a7b-aee1-87245ae3f705"
   },
   "outputs": [
    {
     "data": {
      "text/plain": [
       "count   26037720.00\n",
       "mean           0.26\n",
       "std            0.23\n",
       "min            0.00\n",
       "25%            0.09\n",
       "50%            0.20\n",
       "75%            0.37\n",
       "max            1.00\n",
       "Name: new_preference, dtype: float64"
      ]
     },
     "execution_count": 92,
     "metadata": {},
     "output_type": "execute_result"
    }
   ],
   "source": [
    "click_pref['new_preference'].describe()"
   ]
  },
  {
   "cell_type": "code",
   "execution_count": 96,
   "outputs": [
    {
     "data": {
      "text/plain": "Empty DataFrame\nColumns: [account_id, device_type, product_id, before_product_id, train, product_name, category_id, published_at, shop_price, maker_name, pub_newold, new_preference]\nIndex: []",
      "text/html": "<div>\n<style scoped>\n    .dataframe tbody tr th:only-of-type {\n        vertical-align: middle;\n    }\n\n    .dataframe tbody tr th {\n        vertical-align: top;\n    }\n\n    .dataframe thead th {\n        text-align: right;\n    }\n</style>\n<table border=\"1\" class=\"dataframe\">\n  <thead>\n    <tr style=\"text-align: right;\">\n      <th></th>\n      <th>account_id</th>\n      <th>device_type</th>\n      <th>product_id</th>\n      <th>before_product_id</th>\n      <th>train</th>\n      <th>product_name</th>\n      <th>category_id</th>\n      <th>published_at</th>\n      <th>shop_price</th>\n      <th>maker_name</th>\n      <th>pub_newold</th>\n      <th>new_preference</th>\n    </tr>\n  </thead>\n  <tbody>\n  </tbody>\n</table>\n</div>"
     },
     "execution_count": 96,
     "metadata": {},
     "output_type": "execute_result"
    }
   ],
   "source": [
    "click_pref"
   ],
   "metadata": {
    "collapsed": false,
    "pycharm": {
     "name": "#%%\n"
    }
   }
  },
  {
   "cell_type": "code",
   "execution_count": null,
   "metadata": {
    "id": "JMEuIGtZ2Atv"
   },
   "outputs": [],
   "source": [
    "pd.options.display.float_format = '{:.2f}'.format"
   ]
  },
  {
   "cell_type": "code",
   "execution_count": 112,
   "metadata": {
    "id": "jU2Wn0hL2Atv"
   },
   "outputs": [
    {
     "ename": "NameError",
     "evalue": "name 'order_pref' is not defined",
     "output_type": "error",
     "traceback": [
      "\u001B[0;31m---------------------------------------------------------------------------\u001B[0m",
      "\u001B[0;31mNameError\u001B[0m                                 Traceback (most recent call last)",
      "\u001B[0;32m/var/folders/hr/gb6mblx17c92hbbhpn97s24m0000gn/T/ipykernel_7618/1344974071.py\u001B[0m in \u001B[0;36m<module>\u001B[0;34m\u001B[0m\n\u001B[0;32m----> 1\u001B[0;31m \u001B[0morder_pref\u001B[0m\u001B[0;34m[\u001B[0m\u001B[0;34m'new_pref'\u001B[0m\u001B[0;34m]\u001B[0m \u001B[0;34m=\u001B[0m \u001B[0morder_pref\u001B[0m\u001B[0;34m[\u001B[0m\u001B[0;34m'new_preference'\u001B[0m\u001B[0;34m]\u001B[0m\u001B[0;34m.\u001B[0m\u001B[0mapply\u001B[0m\u001B[0;34m(\u001B[0m\u001B[0;32mlambda\u001B[0m \u001B[0mx\u001B[0m\u001B[0;34m:\u001B[0m \u001B[0;36m1\u001B[0m \u001B[0;32mif\u001B[0m \u001B[0mx\u001B[0m\u001B[0;34m>=\u001B[0m\u001B[0;36m0.5\u001B[0m \u001B[0;32melse\u001B[0m \u001B[0;36m0\u001B[0m\u001B[0;34m)\u001B[0m\u001B[0;34m\u001B[0m\u001B[0;34m\u001B[0m\u001B[0m\n\u001B[0m",
      "\u001B[0;31mNameError\u001B[0m: name 'order_pref' is not defined"
     ]
    }
   ],
   "source": [
    "order_pref['new_pref'] = order_pref['new_preference'].apply(lambda x: 1 if x>=0.5 else 0)"
   ]
  },
  {
   "cell_type": "code",
   "execution_count": null,
   "metadata": {
    "id": "jLX5yA8g2Atv"
   },
   "outputs": [],
   "source": [
    "order_pref.drop(columns=order_pref.columns[0], inplace=True)"
   ]
  },
  {
   "cell_type": "code",
   "execution_count": null,
   "metadata": {
    "id": "kZ7x5e_r2Atv"
   },
   "outputs": [],
   "source": [
    "order_pref"
   ]
  },
  {
   "cell_type": "code",
   "execution_count": 113,
   "metadata": {
    "id": "qT87QCER2Atv"
   },
   "outputs": [],
   "source": [
    "click_pref_fin.to_csv('click_newpreference.csv',index=None)"
   ]
  },
  {
   "cell_type": "code",
   "execution_count": 116,
   "metadata": {
    "id": "r-V8JWAz2Atv",
    "outputId": "6e108f9c-89eb-4a74-922a-3b6e7134cb24"
   },
   "outputs": [
    {
     "data": {
      "text/plain": "         account_id  device_type    product_id  before_product_id  \\\n0          100001.0          0.0  6.799639e+07       1.347969e+07   \n1          100004.0          0.0  6.730744e+07       2.427023e+07   \n2          100014.0          0.0  8.990398e+07       0.000000e+00   \n3          100018.0          0.0  7.745835e+07       4.264982e+07   \n4          100020.0          0.0  6.669382e+07       0.000000e+00   \n...             ...          ...           ...                ...   \n1363441  16837205.0          0.0  6.112346e+07       1.301209e+07   \n1363442  16837207.0          0.0  6.403668e+07       0.000000e+00   \n1363443  16837210.0          0.0  6.658141e+07       0.000000e+00   \n1363444  16837213.0          0.0  1.552359e+07       0.000000e+00   \n1363445  16837224.0          0.0  7.380819e+07       2.915340e+07   \n\n         category_id    shop_price  pub_newold  new_preference  \n0          14.044776  15270.895522    0.373134        0.448454  \n1           4.909091  16318.181818    0.090909        0.090909  \n2          13.000000  16000.000000    1.000000        1.000000  \n3           2.000000  25444.444444    0.000000        0.000000  \n4          22.666667  14200.000000    0.000000        0.272727  \n...              ...           ...         ...             ...  \n1363441     5.200000  14300.000000    0.200000        0.142857  \n1363442     3.000000  16933.333333    0.000000        0.000000  \n1363443     4.000000  45000.000000    0.000000        0.000000  \n1363444    11.000000  22000.000000    0.000000        0.000000  \n1363445    13.000000  19000.000000    0.500000        0.333333  \n\n[1363446 rows x 8 columns]",
      "text/html": "<div>\n<style scoped>\n    .dataframe tbody tr th:only-of-type {\n        vertical-align: middle;\n    }\n\n    .dataframe tbody tr th {\n        vertical-align: top;\n    }\n\n    .dataframe thead th {\n        text-align: right;\n    }\n</style>\n<table border=\"1\" class=\"dataframe\">\n  <thead>\n    <tr style=\"text-align: right;\">\n      <th></th>\n      <th>account_id</th>\n      <th>device_type</th>\n      <th>product_id</th>\n      <th>before_product_id</th>\n      <th>category_id</th>\n      <th>shop_price</th>\n      <th>pub_newold</th>\n      <th>new_preference</th>\n    </tr>\n  </thead>\n  <tbody>\n    <tr>\n      <th>0</th>\n      <td>100001.0</td>\n      <td>0.0</td>\n      <td>6.799639e+07</td>\n      <td>1.347969e+07</td>\n      <td>14.044776</td>\n      <td>15270.895522</td>\n      <td>0.373134</td>\n      <td>0.448454</td>\n    </tr>\n    <tr>\n      <th>1</th>\n      <td>100004.0</td>\n      <td>0.0</td>\n      <td>6.730744e+07</td>\n      <td>2.427023e+07</td>\n      <td>4.909091</td>\n      <td>16318.181818</td>\n      <td>0.090909</td>\n      <td>0.090909</td>\n    </tr>\n    <tr>\n      <th>2</th>\n      <td>100014.0</td>\n      <td>0.0</td>\n      <td>8.990398e+07</td>\n      <td>0.000000e+00</td>\n      <td>13.000000</td>\n      <td>16000.000000</td>\n      <td>1.000000</td>\n      <td>1.000000</td>\n    </tr>\n    <tr>\n      <th>3</th>\n      <td>100018.0</td>\n      <td>0.0</td>\n      <td>7.745835e+07</td>\n      <td>4.264982e+07</td>\n      <td>2.000000</td>\n      <td>25444.444444</td>\n      <td>0.000000</td>\n      <td>0.000000</td>\n    </tr>\n    <tr>\n      <th>4</th>\n      <td>100020.0</td>\n      <td>0.0</td>\n      <td>6.669382e+07</td>\n      <td>0.000000e+00</td>\n      <td>22.666667</td>\n      <td>14200.000000</td>\n      <td>0.000000</td>\n      <td>0.272727</td>\n    </tr>\n    <tr>\n      <th>...</th>\n      <td>...</td>\n      <td>...</td>\n      <td>...</td>\n      <td>...</td>\n      <td>...</td>\n      <td>...</td>\n      <td>...</td>\n      <td>...</td>\n    </tr>\n    <tr>\n      <th>1363441</th>\n      <td>16837205.0</td>\n      <td>0.0</td>\n      <td>6.112346e+07</td>\n      <td>1.301209e+07</td>\n      <td>5.200000</td>\n      <td>14300.000000</td>\n      <td>0.200000</td>\n      <td>0.142857</td>\n    </tr>\n    <tr>\n      <th>1363442</th>\n      <td>16837207.0</td>\n      <td>0.0</td>\n      <td>6.403668e+07</td>\n      <td>0.000000e+00</td>\n      <td>3.000000</td>\n      <td>16933.333333</td>\n      <td>0.000000</td>\n      <td>0.000000</td>\n    </tr>\n    <tr>\n      <th>1363443</th>\n      <td>16837210.0</td>\n      <td>0.0</td>\n      <td>6.658141e+07</td>\n      <td>0.000000e+00</td>\n      <td>4.000000</td>\n      <td>45000.000000</td>\n      <td>0.000000</td>\n      <td>0.000000</td>\n    </tr>\n    <tr>\n      <th>1363444</th>\n      <td>16837213.0</td>\n      <td>0.0</td>\n      <td>1.552359e+07</td>\n      <td>0.000000e+00</td>\n      <td>11.000000</td>\n      <td>22000.000000</td>\n      <td>0.000000</td>\n      <td>0.000000</td>\n    </tr>\n    <tr>\n      <th>1363445</th>\n      <td>16837224.0</td>\n      <td>0.0</td>\n      <td>7.380819e+07</td>\n      <td>2.915340e+07</td>\n      <td>13.000000</td>\n      <td>19000.000000</td>\n      <td>0.500000</td>\n      <td>0.333333</td>\n    </tr>\n  </tbody>\n</table>\n<p>1363446 rows × 8 columns</p>\n</div>"
     },
     "execution_count": 116,
     "metadata": {},
     "output_type": "execute_result"
    }
   ],
   "source": [
    "click_pref_fin"
   ]
  },
  {
   "cell_type": "code",
   "execution_count": 115,
   "metadata": {
    "id": "tGTuvmiU2Atv"
   },
   "outputs": [],
   "source": [
    "click_pref_fin = pd.read_csv('click_newpreference.csv')"
   ]
  },
  {
   "cell_type": "code",
   "execution_count": 117,
   "metadata": {
    "id": "H0--C6ir2Atv"
   },
   "outputs": [],
   "source": [
    "click_pref_fin['new_pref'] = click_pref_fin['new_preference'].apply(lambda x:1 if x>=0.5 else 0) "
   ]
  },
  {
   "cell_type": "code",
   "execution_count": 118,
   "metadata": {
    "id": "mLxfRDHh2Atv"
   },
   "outputs": [],
   "source": [
    "click_pref_fin.to_csv('click_newpreference_onehot.csv', index=False)"
   ]
  },
  {
   "cell_type": "markdown",
   "metadata": {
    "id": "fDf58xM52Atv"
   },
   "source": [
    "## 카테고리선호도(클릭)"
   ]
  },
  {
   "cell_type": "code",
   "execution_count": null,
   "metadata": {
    "id": "TbfPnRmh2Atv"
   },
   "outputs": [],
   "source": [
    "import pandas as pd\n",
    "import numpy as np\n",
    "import cudf\n",
    "import dask\n",
    "import dask_cudf"
   ]
  },
  {
   "cell_type": "code",
   "execution_count": null,
   "metadata": {
    "id": "xanKRN9s2Atv"
   },
   "outputs": [],
   "source": [
    "from dask.distributed import Client, LocalCluster\n",
    "cluster = LocalCluster()\n",
    "client = Client(cluster)"
   ]
  },
  {
   "cell_type": "code",
   "execution_count": null,
   "metadata": {
    "id": "2N4yQjcr2Atv"
   },
   "outputs": [],
   "source": [
    "\n",
    "client.run(cudf.set_allocator, \"managed\")  # Uses managed memory instead of \"default\""
   ]
  },
  {
   "cell_type": "code",
   "execution_count": null,
   "metadata": {
    "id": "5S3H0MVz2Atw"
   },
   "outputs": [],
   "source": [
    "pro = pd.read_csv('pro_preprocessed_0623.csv')\n",
    "\n",
    "pro"
   ]
  },
  {
   "cell_type": "code",
   "execution_count": null,
   "metadata": {
    "id": "bXJjDhlk2Atw"
   },
   "outputs": [],
   "source": [
    "dummies = pd.get_dummies(pro['category_id'],prefix='category')"
   ]
  },
  {
   "cell_type": "code",
   "execution_count": null,
   "metadata": {
    "id": "voWKef5K2Atw"
   },
   "outputs": [],
   "source": [
    "pro_pre = pd.concat([pro, dummies], axis=1)"
   ]
  },
  {
   "cell_type": "code",
   "execution_count": null,
   "metadata": {
    "id": "L-htQccL2Atw"
   },
   "outputs": [],
   "source": [
    "pro_pre = cudf.DataFrame.from_pandas(pro_pre)"
   ]
  },
  {
   "cell_type": "code",
   "execution_count": null,
   "metadata": {
    "id": "QVE2EwyO2Atw"
   },
   "outputs": [],
   "source": [
    "pro_pre = dask_cudf.from_cudf(pro_pre,npartitions=12)"
   ]
  },
  {
   "cell_type": "code",
   "execution_count": null,
   "metadata": {
    "id": "S7OAfmaI2Atw"
   },
   "outputs": [],
   "source": [
    "pro_pre"
   ]
  },
  {
   "cell_type": "code",
   "execution_count": null,
   "metadata": {
    "id": "pLfAx_wU2Atw"
   },
   "outputs": [],
   "source": [
    "click = dask_cudf.read_csv('click_preprocessed.csv')\n",
    "click"
   ]
  },
  {
   "cell_type": "code",
   "execution_count": null,
   "metadata": {
    "id": "dYEYdMtb2Atw"
   },
   "outputs": [],
   "source": [
    "df_1 = dask_cudf.from_cudf(click,npartitions=3)\n",
    "#df_1 = df_1.map_partitions(lambda df: df.query('a>1'))\n",
    "df_2 = dask_cudf.from_cudf(pro_pre,npartitions=3)\n",
    "#df_2 = df_2.map_partitions(lambda df: df.query('a>1'))"
   ]
  },
  {
   "cell_type": "code",
   "execution_count": null,
   "metadata": {
    "id": "vpH_hrIy2Atw"
   },
   "outputs": [],
   "source": [
    "help(df_1.divisions)"
   ]
  },
  {
   "cell_type": "code",
   "execution_count": null,
   "metadata": {
    "id": "VuZdmlDo2Atw"
   },
   "outputs": [],
   "source": [
    "df_1"
   ]
  },
  {
   "cell_type": "code",
   "execution_count": null,
   "metadata": {
    "id": "vFHSHK3L2Atw"
   },
   "outputs": [],
   "source": [
    "df_2"
   ]
  },
  {
   "cell_type": "code",
   "execution_count": null,
   "metadata": {
    "id": "_C5U5YmP2Atw"
   },
   "outputs": [],
   "source": [
    "click.join(pro_pre,how='left').compute()"
   ]
  },
  {
   "cell_type": "code",
   "execution_count": null,
   "metadata": {
    "id": "owQAPDz42Atw"
   },
   "outputs": [],
   "source": [
    ""
   ]
  },
  {
   "cell_type": "code",
   "execution_count": null,
   "metadata": {
    "id": "pC8T5ltB2Atw"
   },
   "outputs": [],
   "source": [
    "click_pre = cudf.(click, pro_pre, on='product_id', how='left')"
   ]
  },
  {
   "cell_type": "code",
   "execution_count": null,
   "metadata": {
    "id": "ks_7oJyf2Atw"
   },
   "outputs": [],
   "source": [
    "click = cudf.read_csv('maker_dummies.csv')"
   ]
  },
  {
   "cell_type": "code",
   "execution_count": null,
   "metadata": {
    "id": "XGIt_Qbq2Atw"
   },
   "outputs": [],
   "source": [
    "help(click)"
   ]
  },
  {
   "cell_type": "code",
   "execution_count": null,
   "metadata": {
    "id": "svt7lf4i2Atw"
   },
   "outputs": [],
   "source": [
    ""
   ]
  }
 ],
 "metadata": {
  "kernelspec": {
   "display_name": "Python 3",
   "language": "python",
   "name": "python3"
  },
  "language_info": {
   "codemirror_mode": {
    "name": "ipython",
    "version": 3
   },
   "file_extension": ".py",
   "mimetype": "text/x-python",
   "name": "python",
   "nbconvert_exporter": "python",
   "pygments_lexer": "ipython3",
   "version": "3.7.6"
  },
  "colab": {
   "name": "2.New_Preferences.ipynb",
   "provenance": []
  }
 },
 "nbformat": 4,
 "nbformat_minor": 0
}