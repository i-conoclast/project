{
 "cells": [
  {
   "cell_type": "code",
   "execution_count": 1,
   "metadata": {
    "collapsed": true
   },
   "outputs": [],
   "source": [
    "import pandas as pd"
   ]
  },
  {
   "cell_type": "code",
   "execution_count": 29,
   "outputs": [],
   "source": [
    "pre_path = '../data/2.Preprocessed/'\n",
    "old_path = '../data/3.Feature_Engineered/'\n",
    "new_path = '../data/4.Merged/'"
   ],
   "metadata": {
    "collapsed": false,
    "pycharm": {
     "name": "#%%\n"
    }
   }
  },
  {
   "cell_type": "markdown",
   "source": [
    "# 유저"
   ],
   "metadata": {
    "collapsed": false,
    "pycharm": {
     "name": "#%% md\n"
    }
   }
  },
  {
   "cell_type": "code",
   "execution_count": 54,
   "outputs": [
    {
     "data": {
      "text/plain": "         account_id                 last_login_dts  gender_M  gender_F  \\\n0            100986  2020-04-10 04:06:03.000000000         1         0   \n1            102793  2020-04-11 09:10:04.000000000         0         1   \n2            102960  2019-12-05 23:02:47.000000000         0         1   \n3            106535  2020-01-14 01:51:32.000000000         0         1   \n4            106783  2020-04-21 07:04:51.000000000         0         1   \n...             ...                            ...       ...       ...   \n1668994    16983810  2020-06-10 06:22:49.696999936         0         1   \n1668995    16984005  2020-06-09 00:18:40.000000000         1         0   \n1668996    16987220  2020-06-08 13:17:30.000000000         1         0   \n1668997    16988602  2020-06-09 01:22:59.000000000         0         1   \n1668998    16990270  2020-06-10 10:15:40.000000000         0         1   \n\n         address_is_0  address_is_1  age_0  age_1  age_2  age_3  age_4  age_5  \\\n0                   1             0      0      0      0      0      1      0   \n1                   0             1      0      0      0      1      0      0   \n2                   0             1      0      0      0      0      0      1   \n3                   0             1      0      0      0      0      1      0   \n4                   0             1      0      0      0      1      0      0   \n...               ...           ...    ...    ...    ...    ...    ...    ...   \n1668994             0             1      0      0      1      0      0      0   \n1668995             1             0      0      0      0      1      0      0   \n1668996             0             1      0      0      0      0      1      0   \n1668997             0             1      0      0      0      1      0      0   \n1668998             0             1      0      0      1      0      0      0   \n\n         age_6  \n0            0  \n1            0  \n2            0  \n3            0  \n4            0  \n...        ...  \n1668994      0  \n1668995      0  \n1668996      0  \n1668997      0  \n1668998      0  \n\n[1668999 rows x 13 columns]",
      "text/html": "<div>\n<style scoped>\n    .dataframe tbody tr th:only-of-type {\n        vertical-align: middle;\n    }\n\n    .dataframe tbody tr th {\n        vertical-align: top;\n    }\n\n    .dataframe thead th {\n        text-align: right;\n    }\n</style>\n<table border=\"1\" class=\"dataframe\">\n  <thead>\n    <tr style=\"text-align: right;\">\n      <th></th>\n      <th>account_id</th>\n      <th>last_login_dts</th>\n      <th>gender_M</th>\n      <th>gender_F</th>\n      <th>address_is_0</th>\n      <th>address_is_1</th>\n      <th>age_0</th>\n      <th>age_1</th>\n      <th>age_2</th>\n      <th>age_3</th>\n      <th>age_4</th>\n      <th>age_5</th>\n      <th>age_6</th>\n    </tr>\n  </thead>\n  <tbody>\n    <tr>\n      <th>0</th>\n      <td>100986</td>\n      <td>2020-04-10 04:06:03.000000000</td>\n      <td>1</td>\n      <td>0</td>\n      <td>1</td>\n      <td>0</td>\n      <td>0</td>\n      <td>0</td>\n      <td>0</td>\n      <td>0</td>\n      <td>1</td>\n      <td>0</td>\n      <td>0</td>\n    </tr>\n    <tr>\n      <th>1</th>\n      <td>102793</td>\n      <td>2020-04-11 09:10:04.000000000</td>\n      <td>0</td>\n      <td>1</td>\n      <td>0</td>\n      <td>1</td>\n      <td>0</td>\n      <td>0</td>\n      <td>0</td>\n      <td>1</td>\n      <td>0</td>\n      <td>0</td>\n      <td>0</td>\n    </tr>\n    <tr>\n      <th>2</th>\n      <td>102960</td>\n      <td>2019-12-05 23:02:47.000000000</td>\n      <td>0</td>\n      <td>1</td>\n      <td>0</td>\n      <td>1</td>\n      <td>0</td>\n      <td>0</td>\n      <td>0</td>\n      <td>0</td>\n      <td>0</td>\n      <td>1</td>\n      <td>0</td>\n    </tr>\n    <tr>\n      <th>3</th>\n      <td>106535</td>\n      <td>2020-01-14 01:51:32.000000000</td>\n      <td>0</td>\n      <td>1</td>\n      <td>0</td>\n      <td>1</td>\n      <td>0</td>\n      <td>0</td>\n      <td>0</td>\n      <td>0</td>\n      <td>1</td>\n      <td>0</td>\n      <td>0</td>\n    </tr>\n    <tr>\n      <th>4</th>\n      <td>106783</td>\n      <td>2020-04-21 07:04:51.000000000</td>\n      <td>0</td>\n      <td>1</td>\n      <td>0</td>\n      <td>1</td>\n      <td>0</td>\n      <td>0</td>\n      <td>0</td>\n      <td>1</td>\n      <td>0</td>\n      <td>0</td>\n      <td>0</td>\n    </tr>\n    <tr>\n      <th>...</th>\n      <td>...</td>\n      <td>...</td>\n      <td>...</td>\n      <td>...</td>\n      <td>...</td>\n      <td>...</td>\n      <td>...</td>\n      <td>...</td>\n      <td>...</td>\n      <td>...</td>\n      <td>...</td>\n      <td>...</td>\n      <td>...</td>\n    </tr>\n    <tr>\n      <th>1668994</th>\n      <td>16983810</td>\n      <td>2020-06-10 06:22:49.696999936</td>\n      <td>0</td>\n      <td>1</td>\n      <td>0</td>\n      <td>1</td>\n      <td>0</td>\n      <td>0</td>\n      <td>1</td>\n      <td>0</td>\n      <td>0</td>\n      <td>0</td>\n      <td>0</td>\n    </tr>\n    <tr>\n      <th>1668995</th>\n      <td>16984005</td>\n      <td>2020-06-09 00:18:40.000000000</td>\n      <td>1</td>\n      <td>0</td>\n      <td>1</td>\n      <td>0</td>\n      <td>0</td>\n      <td>0</td>\n      <td>0</td>\n      <td>1</td>\n      <td>0</td>\n      <td>0</td>\n      <td>0</td>\n    </tr>\n    <tr>\n      <th>1668996</th>\n      <td>16987220</td>\n      <td>2020-06-08 13:17:30.000000000</td>\n      <td>1</td>\n      <td>0</td>\n      <td>0</td>\n      <td>1</td>\n      <td>0</td>\n      <td>0</td>\n      <td>0</td>\n      <td>0</td>\n      <td>1</td>\n      <td>0</td>\n      <td>0</td>\n    </tr>\n    <tr>\n      <th>1668997</th>\n      <td>16988602</td>\n      <td>2020-06-09 01:22:59.000000000</td>\n      <td>0</td>\n      <td>1</td>\n      <td>0</td>\n      <td>1</td>\n      <td>0</td>\n      <td>0</td>\n      <td>0</td>\n      <td>1</td>\n      <td>0</td>\n      <td>0</td>\n      <td>0</td>\n    </tr>\n    <tr>\n      <th>1668998</th>\n      <td>16990270</td>\n      <td>2020-06-10 10:15:40.000000000</td>\n      <td>0</td>\n      <td>1</td>\n      <td>0</td>\n      <td>1</td>\n      <td>0</td>\n      <td>0</td>\n      <td>1</td>\n      <td>0</td>\n      <td>0</td>\n      <td>0</td>\n      <td>0</td>\n    </tr>\n  </tbody>\n</table>\n<p>1668999 rows × 13 columns</p>\n</div>"
     },
     "execution_count": 54,
     "metadata": {},
     "output_type": "execute_result"
    }
   ],
   "source": [
    "users = pd.read_csv(pre_path + 'accounts_preprocessed.csv')\n",
    "users"
   ],
   "metadata": {
    "collapsed": false,
    "pycharm": {
     "name": "#%%\n"
    }
   }
  },
  {
   "cell_type": "code",
   "execution_count": 55,
   "outputs": [],
   "source": [
    "userdf_mergelist = []"
   ],
   "metadata": {
    "collapsed": false,
    "pycharm": {
     "name": "#%%\n"
    }
   }
  },
  {
   "cell_type": "markdown",
   "source": [
    "## 신구 선호도"
   ],
   "metadata": {
    "collapsed": false,
    "pycharm": {
     "name": "#%% md\n"
    }
   }
  },
  {
   "cell_type": "markdown",
   "source": [
    "### 주문 기반 신구 선호도"
   ],
   "metadata": {
    "collapsed": false,
    "pycharm": {
     "name": "#%% md\n"
    }
   }
  },
  {
   "cell_type": "code",
   "execution_count": 67,
   "outputs": [],
   "source": [
    "orders_newpref= pd.read_csv(old_path+'user_orders_new_preference.csv')"
   ],
   "metadata": {
    "collapsed": false,
    "pycharm": {
     "name": "#%%\n"
    }
   }
  },
  {
   "cell_type": "markdown",
   "source": [
    "### 클릭 기반 신구 선호도"
   ],
   "metadata": {
    "collapsed": false,
    "pycharm": {
     "name": "#%% md\n"
    }
   }
  },
  {
   "cell_type": "code",
   "execution_count": 68,
   "outputs": [],
   "source": [
    "clicks_newpref = pd.read_csv(old_path+'user_click_new_preference.csv')"
   ],
   "metadata": {
    "collapsed": false,
    "pycharm": {
     "name": "#%%\n"
    }
   }
  },
  {
   "cell_type": "code",
   "execution_count": 69,
   "outputs": [],
   "source": [
    "newpref = orders_newpref.copy()\n",
    "newpref['new_preference'] = (0.7*orders_newpref['new_preference']) + (0.3 *clicks_newpref['new_preference'])"
   ],
   "metadata": {
    "collapsed": false,
    "pycharm": {
     "name": "#%%\n"
    }
   }
  },
  {
   "cell_type": "code",
   "execution_count": 70,
   "outputs": [
    {
     "data": {
      "text/plain": "        account_id  new_preference\n0           100004        0.107539\n1           100033        0.395495\n2           100039        0.084884\n3           100040        1.000000\n4           100058        0.067241\n...            ...             ...\n796387    16960360        0.751064\n796388    16960378        0.000000\n796389    16960382        0.000000\n796390    16960413        1.000000\n796391    16960430        0.000000\n\n[796392 rows x 2 columns]",
      "text/html": "<div>\n<style scoped>\n    .dataframe tbody tr th:only-of-type {\n        vertical-align: middle;\n    }\n\n    .dataframe tbody tr th {\n        vertical-align: top;\n    }\n\n    .dataframe thead th {\n        text-align: right;\n    }\n</style>\n<table border=\"1\" class=\"dataframe\">\n  <thead>\n    <tr style=\"text-align: right;\">\n      <th></th>\n      <th>account_id</th>\n      <th>new_preference</th>\n    </tr>\n  </thead>\n  <tbody>\n    <tr>\n      <th>0</th>\n      <td>100004</td>\n      <td>0.107539</td>\n    </tr>\n    <tr>\n      <th>1</th>\n      <td>100033</td>\n      <td>0.395495</td>\n    </tr>\n    <tr>\n      <th>2</th>\n      <td>100039</td>\n      <td>0.084884</td>\n    </tr>\n    <tr>\n      <th>3</th>\n      <td>100040</td>\n      <td>1.000000</td>\n    </tr>\n    <tr>\n      <th>4</th>\n      <td>100058</td>\n      <td>0.067241</td>\n    </tr>\n    <tr>\n      <th>...</th>\n      <td>...</td>\n      <td>...</td>\n    </tr>\n    <tr>\n      <th>796387</th>\n      <td>16960360</td>\n      <td>0.751064</td>\n    </tr>\n    <tr>\n      <th>796388</th>\n      <td>16960378</td>\n      <td>0.000000</td>\n    </tr>\n    <tr>\n      <th>796389</th>\n      <td>16960382</td>\n      <td>0.000000</td>\n    </tr>\n    <tr>\n      <th>796390</th>\n      <td>16960413</td>\n      <td>1.000000</td>\n    </tr>\n    <tr>\n      <th>796391</th>\n      <td>16960430</td>\n      <td>0.000000</td>\n    </tr>\n  </tbody>\n</table>\n<p>796392 rows × 2 columns</p>\n</div>"
     },
     "execution_count": 70,
     "metadata": {},
     "output_type": "execute_result"
    }
   ],
   "source": [
    "newpref"
   ],
   "metadata": {
    "collapsed": false,
    "pycharm": {
     "name": "#%%\n"
    }
   }
  },
  {
   "cell_type": "code",
   "execution_count": 71,
   "outputs": [],
   "source": [
    "userdf_mergelist.append(newpref)"
   ],
   "metadata": {
    "collapsed": false,
    "pycharm": {
     "name": "#%%\n"
    }
   }
  },
  {
   "cell_type": "markdown",
   "source": [
    "## 활동시간"
   ],
   "metadata": {
    "collapsed": false,
    "pycharm": {
     "name": "#%% md\n"
    }
   }
  },
  {
   "cell_type": "code",
   "execution_count": 72,
   "outputs": [],
   "source": [
    "user_click_acttime = pd.read_csv(old_path + 'user_click_activitytimes.csv')\n",
    "userdf_mergelist.append(user_click_acttime)"
   ],
   "metadata": {
    "collapsed": false,
    "pycharm": {
     "name": "#%%\n"
    }
   }
  },
  {
   "cell_type": "markdown",
   "source": [
    "## 카테고리 선호도"
   ],
   "metadata": {
    "collapsed": false,
    "pycharm": {
     "name": "#%% md\n"
    }
   }
  },
  {
   "cell_type": "code",
   "execution_count": 73,
   "outputs": [],
   "source": [
    "user_cate_pref = pd.read_csv(old_path + 'user_click_cat_preference.csv')\n",
    "userdf_mergelist.append(user_cate_pref)"
   ],
   "metadata": {
    "collapsed": false,
    "pycharm": {
     "name": "#%%\n"
    }
   }
  },
  {
   "cell_type": "markdown",
   "source": [
    "## 관여도"
   ],
   "metadata": {
    "collapsed": false
   }
  },
  {
   "cell_type": "code",
   "execution_count": 74,
   "outputs": [],
   "source": [
    "user_inv = pd.read_csv(old_path + 'user_involvement.csv')\n",
    "userdf_mergelist.append(user_inv)"
   ],
   "metadata": {
    "collapsed": false,
    "pycharm": {
     "name": "#%%\n"
    }
   }
  },
  {
   "cell_type": "code",
   "execution_count": 75,
   "outputs": [],
   "source": [
    "for df in userdf_mergelist:\n",
    "    users = pd.merge(users, df, how='left', on='account_id')"
   ],
   "metadata": {
    "collapsed": false,
    "pycharm": {
     "name": "#%%\n"
    }
   }
  },
  {
   "cell_type": "code",
   "execution_count": 77,
   "outputs": [],
   "source": [
    "users.to_csv(new_path + 'fed_users.csv', index=None)"
   ],
   "metadata": {
    "collapsed": false,
    "pycharm": {
     "name": "#%%\n"
    }
   }
  },
  {
   "cell_type": "markdown",
   "source": [
    "# 책상품"
   ],
   "metadata": {
    "collapsed": false,
    "pycharm": {
     "name": "#%% md\n"
    }
   }
  },
  {
   "cell_type": "code",
   "execution_count": 44,
   "outputs": [
    {
     "data": {
      "text/plain": "         product_id                                       product_name  \\\n0          43528701  Slim 베스트 굿데이 성경 (개역개정4판/새찬송가합본/지퍼식/주석(단색)/반달색인...   \n1          43528730                        바이오메디컬 엔지니어를 위한 생체 신호 측정 실습   \n2          43528779  Slim 베스트 굿데이 성경 (개역개정4판/새찬송가합본/지퍼식/주석(단색)/반달색인...   \n3          43528822  Slim 베스트 굿데이 성경 (개역개정4판/새찬송가합본/지퍼식/주석(단색)/반달색인...   \n4          43528824                                      황종희가 꿈꾸는 도덕정치   \n...             ...                                                ...   \n1673525    85352665                           2020 임성래의 쉽게 쓴 품질경영기사 필기   \n1673526    85353942                              파고다 HSK 5급 종합서 최신 개정판   \n1673527    85354052                        2020 고시넷 2주완성 사회조사분석사 2급 필기   \n1673528    85354327                              이시원의 영어 대모험 1 : 인칭대명사   \n1673529    85354780                                               민법공방   \n\n                published_at    maker_name  pub_0  pub_1  pub_2  pub_3  pub_4  \\\n0        2017-02-25 00:00:00        생명의말씀사      0      0      0      0      1   \n1        2017-06-26 00:00:00      계명대학교출판부      0      0      0      0      1   \n2        2017-02-25 00:00:00        생명의말씀사      0      0      0      0      1   \n3        2017-02-25 00:00:00        생명의말씀사      0      0      0      0      1   \n4        2017-06-25 00:00:00    서울대학교출판문화원      0      0      0      0      1   \n...                      ...           ...    ...    ...    ...    ...    ...   \n1673525  2020-01-06 00:00:00           성안당      0      0      0      0      1   \n1673526  2020-01-02 00:00:00  PAGODA Books      0      0      0      0      1   \n1673527  2020-01-10 00:00:00           고시넷      0      0      0      0      1   \n1673528  2020-01-08 00:00:00           아울북      0      0      0      0      1   \n1673529  2019-12-30 00:00:00           윌비스      0      0      0      0      1   \n\n         category_id_01  ...  category_id_28  category_id_29  category_id_30  \\\n0                     0  ...               0               0               0   \n1                     0  ...               0               0               0   \n2                     0  ...               0               0               0   \n3                     0  ...               0               0               0   \n4                     0  ...               0               0               0   \n...                 ...  ...             ...             ...             ...   \n1673525               1  ...               0               0               0   \n1673526               0  ...               0               0               0   \n1673527               1  ...               0               0               0   \n1673528               0  ...               0               0               0   \n1673529               1  ...               0               0               0   \n\n         category_id_31  category_id_33  category_id_34  shop_price_0  \\\n0                     0               0               0             0   \n1                     0               0               0             0   \n2                     0               0               0             0   \n3                     0               0               0             0   \n4                     0               0               0             0   \n...                 ...             ...             ...           ...   \n1673525               0               0               0             0   \n1673526               0               0               0             0   \n1673527               0               0               0             0   \n1673528               0               0               0             0   \n1673529               0               0               0             0   \n\n         shop_price_1  shop_price_2  shop_price_3  \n0                   0             0             1  \n1                   0             0             1  \n2                   0             0             1  \n3                   0             0             1  \n4                   0             0             1  \n...               ...           ...           ...  \n1673525             0             0             1  \n1673526             0             0             1  \n1673527             0             0             1  \n1673528             1             0             0  \n1673529             0             0             1  \n\n[1673530 rows x 44 columns]",
      "text/html": "<div>\n<style scoped>\n    .dataframe tbody tr th:only-of-type {\n        vertical-align: middle;\n    }\n\n    .dataframe tbody tr th {\n        vertical-align: top;\n    }\n\n    .dataframe thead th {\n        text-align: right;\n    }\n</style>\n<table border=\"1\" class=\"dataframe\">\n  <thead>\n    <tr style=\"text-align: right;\">\n      <th></th>\n      <th>product_id</th>\n      <th>product_name</th>\n      <th>published_at</th>\n      <th>maker_name</th>\n      <th>pub_0</th>\n      <th>pub_1</th>\n      <th>pub_2</th>\n      <th>pub_3</th>\n      <th>pub_4</th>\n      <th>category_id_01</th>\n      <th>...</th>\n      <th>category_id_28</th>\n      <th>category_id_29</th>\n      <th>category_id_30</th>\n      <th>category_id_31</th>\n      <th>category_id_33</th>\n      <th>category_id_34</th>\n      <th>shop_price_0</th>\n      <th>shop_price_1</th>\n      <th>shop_price_2</th>\n      <th>shop_price_3</th>\n    </tr>\n  </thead>\n  <tbody>\n    <tr>\n      <th>0</th>\n      <td>43528701</td>\n      <td>Slim 베스트 굿데이 성경 (개역개정4판/새찬송가합본/지퍼식/주석(단색)/반달색인...</td>\n      <td>2017-02-25 00:00:00</td>\n      <td>생명의말씀사</td>\n      <td>0</td>\n      <td>0</td>\n      <td>0</td>\n      <td>0</td>\n      <td>1</td>\n      <td>0</td>\n      <td>...</td>\n      <td>0</td>\n      <td>0</td>\n      <td>0</td>\n      <td>0</td>\n      <td>0</td>\n      <td>0</td>\n      <td>0</td>\n      <td>0</td>\n      <td>0</td>\n      <td>1</td>\n    </tr>\n    <tr>\n      <th>1</th>\n      <td>43528730</td>\n      <td>바이오메디컬 엔지니어를 위한 생체 신호 측정 실습</td>\n      <td>2017-06-26 00:00:00</td>\n      <td>계명대학교출판부</td>\n      <td>0</td>\n      <td>0</td>\n      <td>0</td>\n      <td>0</td>\n      <td>1</td>\n      <td>0</td>\n      <td>...</td>\n      <td>0</td>\n      <td>0</td>\n      <td>0</td>\n      <td>0</td>\n      <td>0</td>\n      <td>0</td>\n      <td>0</td>\n      <td>0</td>\n      <td>0</td>\n      <td>1</td>\n    </tr>\n    <tr>\n      <th>2</th>\n      <td>43528779</td>\n      <td>Slim 베스트 굿데이 성경 (개역개정4판/새찬송가합본/지퍼식/주석(단색)/반달색인...</td>\n      <td>2017-02-25 00:00:00</td>\n      <td>생명의말씀사</td>\n      <td>0</td>\n      <td>0</td>\n      <td>0</td>\n      <td>0</td>\n      <td>1</td>\n      <td>0</td>\n      <td>...</td>\n      <td>0</td>\n      <td>0</td>\n      <td>0</td>\n      <td>0</td>\n      <td>0</td>\n      <td>0</td>\n      <td>0</td>\n      <td>0</td>\n      <td>0</td>\n      <td>1</td>\n    </tr>\n    <tr>\n      <th>3</th>\n      <td>43528822</td>\n      <td>Slim 베스트 굿데이 성경 (개역개정4판/새찬송가합본/지퍼식/주석(단색)/반달색인...</td>\n      <td>2017-02-25 00:00:00</td>\n      <td>생명의말씀사</td>\n      <td>0</td>\n      <td>0</td>\n      <td>0</td>\n      <td>0</td>\n      <td>1</td>\n      <td>0</td>\n      <td>...</td>\n      <td>0</td>\n      <td>0</td>\n      <td>0</td>\n      <td>0</td>\n      <td>0</td>\n      <td>0</td>\n      <td>0</td>\n      <td>0</td>\n      <td>0</td>\n      <td>1</td>\n    </tr>\n    <tr>\n      <th>4</th>\n      <td>43528824</td>\n      <td>황종희가 꿈꾸는 도덕정치</td>\n      <td>2017-06-25 00:00:00</td>\n      <td>서울대학교출판문화원</td>\n      <td>0</td>\n      <td>0</td>\n      <td>0</td>\n      <td>0</td>\n      <td>1</td>\n      <td>0</td>\n      <td>...</td>\n      <td>0</td>\n      <td>0</td>\n      <td>0</td>\n      <td>0</td>\n      <td>0</td>\n      <td>0</td>\n      <td>0</td>\n      <td>0</td>\n      <td>0</td>\n      <td>1</td>\n    </tr>\n    <tr>\n      <th>...</th>\n      <td>...</td>\n      <td>...</td>\n      <td>...</td>\n      <td>...</td>\n      <td>...</td>\n      <td>...</td>\n      <td>...</td>\n      <td>...</td>\n      <td>...</td>\n      <td>...</td>\n      <td>...</td>\n      <td>...</td>\n      <td>...</td>\n      <td>...</td>\n      <td>...</td>\n      <td>...</td>\n      <td>...</td>\n      <td>...</td>\n      <td>...</td>\n      <td>...</td>\n      <td>...</td>\n    </tr>\n    <tr>\n      <th>1673525</th>\n      <td>85352665</td>\n      <td>2020 임성래의 쉽게 쓴 품질경영기사 필기</td>\n      <td>2020-01-06 00:00:00</td>\n      <td>성안당</td>\n      <td>0</td>\n      <td>0</td>\n      <td>0</td>\n      <td>0</td>\n      <td>1</td>\n      <td>1</td>\n      <td>...</td>\n      <td>0</td>\n      <td>0</td>\n      <td>0</td>\n      <td>0</td>\n      <td>0</td>\n      <td>0</td>\n      <td>0</td>\n      <td>0</td>\n      <td>0</td>\n      <td>1</td>\n    </tr>\n    <tr>\n      <th>1673526</th>\n      <td>85353942</td>\n      <td>파고다 HSK 5급 종합서 최신 개정판</td>\n      <td>2020-01-02 00:00:00</td>\n      <td>PAGODA Books</td>\n      <td>0</td>\n      <td>0</td>\n      <td>0</td>\n      <td>0</td>\n      <td>1</td>\n      <td>0</td>\n      <td>...</td>\n      <td>0</td>\n      <td>0</td>\n      <td>0</td>\n      <td>0</td>\n      <td>0</td>\n      <td>0</td>\n      <td>0</td>\n      <td>0</td>\n      <td>0</td>\n      <td>1</td>\n    </tr>\n    <tr>\n      <th>1673527</th>\n      <td>85354052</td>\n      <td>2020 고시넷 2주완성 사회조사분석사 2급 필기</td>\n      <td>2020-01-10 00:00:00</td>\n      <td>고시넷</td>\n      <td>0</td>\n      <td>0</td>\n      <td>0</td>\n      <td>0</td>\n      <td>1</td>\n      <td>1</td>\n      <td>...</td>\n      <td>0</td>\n      <td>0</td>\n      <td>0</td>\n      <td>0</td>\n      <td>0</td>\n      <td>0</td>\n      <td>0</td>\n      <td>0</td>\n      <td>0</td>\n      <td>1</td>\n    </tr>\n    <tr>\n      <th>1673528</th>\n      <td>85354327</td>\n      <td>이시원의 영어 대모험 1 : 인칭대명사</td>\n      <td>2020-01-08 00:00:00</td>\n      <td>아울북</td>\n      <td>0</td>\n      <td>0</td>\n      <td>0</td>\n      <td>0</td>\n      <td>1</td>\n      <td>0</td>\n      <td>...</td>\n      <td>0</td>\n      <td>0</td>\n      <td>0</td>\n      <td>0</td>\n      <td>0</td>\n      <td>0</td>\n      <td>0</td>\n      <td>1</td>\n      <td>0</td>\n      <td>0</td>\n    </tr>\n    <tr>\n      <th>1673529</th>\n      <td>85354780</td>\n      <td>민법공방</td>\n      <td>2019-12-30 00:00:00</td>\n      <td>윌비스</td>\n      <td>0</td>\n      <td>0</td>\n      <td>0</td>\n      <td>0</td>\n      <td>1</td>\n      <td>1</td>\n      <td>...</td>\n      <td>0</td>\n      <td>0</td>\n      <td>0</td>\n      <td>0</td>\n      <td>0</td>\n      <td>0</td>\n      <td>0</td>\n      <td>0</td>\n      <td>0</td>\n      <td>1</td>\n    </tr>\n  </tbody>\n</table>\n<p>1673530 rows × 44 columns</p>\n</div>"
     },
     "execution_count": 44,
     "metadata": {},
     "output_type": "execute_result"
    }
   ],
   "source": [
    "products = pd.read_csv(pre_path+'products_preprocessed.csv')\n",
    "products"
   ],
   "metadata": {
    "collapsed": false,
    "pycharm": {
     "name": "#%%\n"
    }
   }
  },
  {
   "cell_type": "markdown",
   "source": [
    "## bestseller"
   ],
   "metadata": {
    "collapsed": false,
    "pycharm": {
     "name": "#%% md\n"
    }
   }
  },
  {
   "cell_type": "code",
   "execution_count": 49,
   "outputs": [],
   "source": [
    "pro_best = pd.read_csv(old_path + 'bestseller_product.csv')"
   ],
   "metadata": {
    "collapsed": false,
    "pycharm": {
     "name": "#%%\n"
    }
   }
  },
  {
   "cell_type": "code",
   "execution_count": 50,
   "outputs": [
    {
     "data": {
      "text/plain": "         product_id  best200  bestcat24\n0          43528701        0          0\n1          43528730        0          0\n2          43528779        0          0\n3          43528822        0          0\n4          43528824        0          0\n...             ...      ...        ...\n1673525    85352665        0          0\n1673526    85353942        0          0\n1673527    85354052        0          0\n1673528    85354327        0          0\n1673529    85354780        0          0\n\n[1673530 rows x 3 columns]",
      "text/html": "<div>\n<style scoped>\n    .dataframe tbody tr th:only-of-type {\n        vertical-align: middle;\n    }\n\n    .dataframe tbody tr th {\n        vertical-align: top;\n    }\n\n    .dataframe thead th {\n        text-align: right;\n    }\n</style>\n<table border=\"1\" class=\"dataframe\">\n  <thead>\n    <tr style=\"text-align: right;\">\n      <th></th>\n      <th>product_id</th>\n      <th>best200</th>\n      <th>bestcat24</th>\n    </tr>\n  </thead>\n  <tbody>\n    <tr>\n      <th>0</th>\n      <td>43528701</td>\n      <td>0</td>\n      <td>0</td>\n    </tr>\n    <tr>\n      <th>1</th>\n      <td>43528730</td>\n      <td>0</td>\n      <td>0</td>\n    </tr>\n    <tr>\n      <th>2</th>\n      <td>43528779</td>\n      <td>0</td>\n      <td>0</td>\n    </tr>\n    <tr>\n      <th>3</th>\n      <td>43528822</td>\n      <td>0</td>\n      <td>0</td>\n    </tr>\n    <tr>\n      <th>4</th>\n      <td>43528824</td>\n      <td>0</td>\n      <td>0</td>\n    </tr>\n    <tr>\n      <th>...</th>\n      <td>...</td>\n      <td>...</td>\n      <td>...</td>\n    </tr>\n    <tr>\n      <th>1673525</th>\n      <td>85352665</td>\n      <td>0</td>\n      <td>0</td>\n    </tr>\n    <tr>\n      <th>1673526</th>\n      <td>85353942</td>\n      <td>0</td>\n      <td>0</td>\n    </tr>\n    <tr>\n      <th>1673527</th>\n      <td>85354052</td>\n      <td>0</td>\n      <td>0</td>\n    </tr>\n    <tr>\n      <th>1673528</th>\n      <td>85354327</td>\n      <td>0</td>\n      <td>0</td>\n    </tr>\n    <tr>\n      <th>1673529</th>\n      <td>85354780</td>\n      <td>0</td>\n      <td>0</td>\n    </tr>\n  </tbody>\n</table>\n<p>1673530 rows × 3 columns</p>\n</div>"
     },
     "execution_count": 50,
     "metadata": {},
     "output_type": "execute_result"
    }
   ],
   "source": [
    "pro_best"
   ],
   "metadata": {
    "collapsed": false,
    "pycharm": {
     "name": "#%%\n"
    }
   }
  },
  {
   "cell_type": "code",
   "execution_count": 79,
   "outputs": [],
   "source": [
    "products = pd.merge(products, pro_best, how='left', on='product_id')"
   ],
   "metadata": {
    "collapsed": false,
    "pycharm": {
     "name": "#%%\n"
    }
   }
  },
  {
   "cell_type": "code",
   "execution_count": 80,
   "outputs": [],
   "source": [
    "products.to_csv(new_path + 'fed_products.csv', index=None)"
   ],
   "metadata": {
    "collapsed": false,
    "pycharm": {
     "name": "#%%\n"
    }
   }
  },
  {
   "cell_type": "code",
   "execution_count": null,
   "outputs": [],
   "source": [],
   "metadata": {
    "collapsed": false,
    "pycharm": {
     "name": "#%%\n"
    }
   }
  }
 ],
 "metadata": {
  "kernelspec": {
   "display_name": "Python 3",
   "language": "python",
   "name": "python3"
  },
  "language_info": {
   "codemirror_mode": {
    "name": "ipython",
    "version": 2
   },
   "file_extension": ".py",
   "mimetype": "text/x-python",
   "name": "python",
   "nbconvert_exporter": "python",
   "pygments_lexer": "ipython2",
   "version": "2.7.6"
  }
 },
 "nbformat": 4,
 "nbformat_minor": 0
}