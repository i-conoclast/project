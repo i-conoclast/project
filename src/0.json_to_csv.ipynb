{
 "cells": [
  {
   "cell_type": "markdown",
   "source": [
    "## JSON to CSV"
   ],
   "metadata": {
    "collapsed": false
   }
  },
  {
   "cell_type": "code",
   "execution_count": null,
   "outputs": [],
   "source": [
    "import json\n",
    "from os import listdir\n",
    "from os.path import isfile, join\n",
    "import pandas as pd\n",
    "\n",
    "path = 'data/1.raw_csv/'"
   ],
   "metadata": {
    "collapsed": false,
    "pycharm": {
     "name": "#%%\n"
    }
   }
  },
  {
   "cell_type": "code",
   "execution_count": null,
   "outputs": [],
   "source": [
    "def jsontodf(dir):\n",
    "  # files: 디렉토리 안의 파일 목록의 리스트\n",
    "  files = [f for f in listdir(dir) if isfile(join(dir, f))]\n",
    "\n",
    "  # json_files: 파일 목록 DataFrame\n",
    "  json_files = pd.DataFrame({\"file_id\" : files})\n",
    "\n",
    "  # json file 목록을 읽으며\n",
    "  # 각 파일의 json 형태로 저장된 txt 파일을 DataFrame으로 형변환 한 후\n",
    "  # concat를 통해 전체 데이터프레임 형성\n",
    "  df_list = []\n",
    "  for i in range(len(json_files)-1):\n",
    "      with open(dir+json_files['file_id'][i], encoding = 'utf-8') as f:\n",
    "          df = pd.DataFrame(json.loads(line) for line in f)\n",
    "      df_list.append(df)\n",
    "  dfs = pd.concat(df_list)\n",
    "\n",
    "  return dfs"
   ],
   "metadata": {
    "collapsed": false,
    "pycharm": {
     "name": "#%%\n"
    }
   }
  },
  {
   "cell_type": "markdown",
   "source": [
    "### log"
   ],
   "metadata": {
    "collapsed": false
   }
  },
  {
   "cell_type": "code",
   "execution_count": null,
   "outputs": [
    {
     "data": {
      "application/vnd.google.colaboratory.intrinsic+json": {
       "type": "string"
      },
      "text/plain": [
       "\"\\nfor i in range(5):\\n    with open('/content/drive/Shared drives/YES24/2020-06-10/m3/m3_click_stream/'+json_files['file_id'][i+1], encoding = 'utf-8') as f:\\n        tmp = pd.DataFrame(json.loads(line) for line in f)\\n    log = pd.concat([log, tmp])\\n\""
      ]
     },
     "execution_count": 2,
     "metadata": {},
     "output_type": "execute_result"
    }
   ],
   "source": [
    "log = jsontodf('data/0.raw_json/m3/m3_click_stream/')"
   ],
   "metadata": {
    "collapsed": false,
    "pycharm": {
     "name": "#%%\n"
    }
   }
  },
  {
   "cell_type": "code",
   "execution_count": null,
   "outputs": [],
   "source": [
    "log.to_csv(path + 'log.csv', encoding = 'utf-8-sig', index=None)"
   ],
   "metadata": {
    "collapsed": false,
    "pycharm": {
     "name": "#%%\n"
    }
   }
  },
  {
   "cell_type": "markdown",
   "source": [
    "### Accounts"
   ],
   "metadata": {
    "collapsed": false
   }
  },
  {
   "cell_type": "code",
   "execution_count": null,
   "outputs": [],
   "source": [
    "accounts = jsontodf('data/0.raw_json/m3/m3_accounts/')"
   ],
   "metadata": {
    "collapsed": false,
    "pycharm": {
     "name": "#%%\n"
    }
   }
  },
  {
   "cell_type": "code",
   "execution_count": null,
   "outputs": [],
   "source": [
    "accounts.to_csv(path + 'accounts.csv', encoding = 'utf-8-sig', index=None)"
   ],
   "metadata": {
    "collapsed": false,
    "pycharm": {
     "name": "#%%\n"
    }
   }
  },
  {
   "cell_type": "markdown",
   "source": [
    "### Products"
   ],
   "metadata": {
    "collapsed": false
   }
  },
  {
   "cell_type": "code",
   "execution_count": null,
   "outputs": [],
   "source": [
    "products = jsontodf('data/0.raw_json/m3/all_products/')"
   ],
   "metadata": {
    "collapsed": false,
    "pycharm": {
     "name": "#%%\n"
    }
   }
  },
  {
   "cell_type": "code",
   "execution_count": null,
   "outputs": [],
   "source": [
    "products.to_csv(path + 'products.csv', encoding = 'utf-8-sig', index=None)"
   ],
   "metadata": {
    "collapsed": false,
    "pycharm": {
     "name": "#%%\n"
    }
   }
  },
  {
   "cell_type": "markdown",
   "source": [
    "### Orders"
   ],
   "metadata": {
    "collapsed": false
   }
  },
  {
   "cell_type": "code",
   "execution_count": null,
   "outputs": [],
   "source": [
    "orders = jsontodf('data/0.raw_json/m3/m3_orders/')"
   ],
   "metadata": {
    "collapsed": false,
    "pycharm": {
     "name": "#%%\n"
    }
   }
  },
  {
   "cell_type": "code",
   "execution_count": null,
   "outputs": [],
   "source": [
    "orders.to_csv(path + 'orders.csv', encoding = 'utf-8-sig', index=None)"
   ],
   "metadata": {
    "collapsed": false,
    "pycharm": {
     "name": "#%%\n"
    }
   }
  }
 ],
 "metadata": {
  "kernelspec": {
   "display_name": "Python 3",
   "language": "python",
   "name": "python3"
  },
  "language_info": {
   "codemirror_mode": {
    "name": "ipython",
    "version": 2
   },
   "file_extension": ".py",
   "mimetype": "text/x-python",
   "name": "python",
   "nbconvert_exporter": "python",
   "pygments_lexer": "ipython2",
   "version": "2.7.6"
  }
 },
 "nbformat": 4,
 "nbformat_minor": 0
}