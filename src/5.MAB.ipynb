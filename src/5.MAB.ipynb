{
 "cells": [
  {
   "cell_type": "code",
   "execution_count": 15,
   "metadata": {
    "collapsed": true
   },
   "outputs": [],
   "source": [
    "import pandas as pd\n",
    "import numpy as np\n",
    "import time\n",
    "sample_path = '../data/5.sampled/'\n",
    "k_mean_path = '../data/6.K-mean/'\n",
    "mab_path = '../data/7.MAB/'"
   ]
  },
  {
   "cell_type": "code",
   "execution_count": 1,
   "outputs": [],
   "source": [
    "from bandits.core.contextual_bandit import run_contextual_bandit\n",
    "from bandits.algorithms.linear_full_posterior_sampling import LinearFullPosteriorSampling\n",
    "from bandits.data.data_sampler import  remove_underrepresented_classes"
   ],
   "metadata": {
    "collapsed": false,
    "pycharm": {
     "name": "#%%\n"
    }
   }
  },
  {
   "cell_type": "code",
   "execution_count": 2,
   "outputs": [],
   "source": [
    "#결과출력함\n",
    "def display_results(algos, opt_rewards, opt_actions, h_rewards, t_init, name):\n",
    "    \"\"\"Displays summary statistics of the performance of each algorithm.\"\"\"\n",
    "\n",
    "    print('---------------------------------------------------')\n",
    "    print('---------------------------------------------------')\n",
    "    print('{} bandit completed after {} seconds.'.format(\n",
    "        name, time.time() - t_init))\n",
    "    print('---------------------------------------------------')\n",
    "\n",
    "    performance_pairs = []\n",
    "    for j, a in enumerate(algos):\n",
    "        performance_pairs.append((a.name, np.sum(h_rewards[:, j])))\n",
    "    performance_pairs = sorted(performance_pairs,\n",
    "                             key=lambda elt: elt[1],\n",
    "                             reverse=True)\n",
    "    for i, (name, reward) in enumerate(performance_pairs):\n",
    "        print('{:3}) {:20}| \\t \\t total reward = {:10}.'.format(i, name, reward))\n",
    "\n",
    "    print('---------------------------------------------------')\n",
    "    print('Optimal total reward = {}.'.format(np.sum(opt_rewards)))\n",
    "    print('Frequency of optimal actions (action, frequency):')\n",
    "    print([[elt, list(opt_actions).count(elt)] for elt in set(opt_actions)])\n",
    "    print('---------------------------------------------------')\n",
    "    print('---------------------------------------------------')"
   ],
   "metadata": {
    "collapsed": false,
    "pycharm": {
     "name": "#%%\n"
    }
   }
  },
  {
   "cell_type": "code",
   "execution_count": 3,
   "outputs": [],
   "source": [
    " def clf_to_bandit_problem(contexts, labels, num_actions=None):\n",
    "  \"\"\"Normalize contexts and encode deterministic rewards.\"\"\"\n",
    "\n",
    "  if num_actions is None:\n",
    "    num_actions = np.max(labels) + 1\n",
    "  num_contexts = contexts.shape[0]\n",
    "\n",
    "  # Due to random subsampling in small problems, some features may be constant\n",
    "  #sstd = safe_std(np.std(contexts, axis=0, keepdims=True)[0, :])\n",
    "\n",
    "  # Normalize features\n",
    "  #contexts = ((contexts - np.mean(contexts, axis=0, keepdims=True)) / sstd)\n",
    "  # One hot encode labels as rewards\n",
    "  rewards = np.zeros((num_contexts, num_actions))\n",
    "  rewards[np.arange(num_contexts), labels] = 1.0\n",
    "\n",
    "  return contexts, rewards, (np.ones(num_contexts), labels)"
   ],
   "metadata": {
    "collapsed": false,
    "pycharm": {
     "name": "#%%\n"
    }
   }
  },
  {
   "cell_type": "code",
   "execution_count": 22,
   "outputs": [],
   "source": [
    "sample_clicks = pd.read_csv(sample_path+'sampled_clicks.csv')\n",
    "sample_orders = pd.read_csv(sample_path+'sampled_orders.csv')"
   ],
   "metadata": {
    "collapsed": false,
    "pycharm": {
     "name": "#%%\n"
    }
   }
  },
  {
   "cell_type": "code",
   "execution_count": 23,
   "outputs": [],
   "source": [
    "merged_log = pd.merge(sample_clicks, sample_orders, how='left', on=['account_id', 'product_id'])"
   ],
   "metadata": {
    "collapsed": false,
    "pycharm": {
     "name": "#%%\n"
    }
   }
  },
  {
   "cell_type": "code",
   "execution_count": 26,
   "outputs": [],
   "source": [
    "merged_log['reward'] = -1\n",
    "merged_log.loc[merged_log[merged_log['order_id'].isna()].index ,'reward'] = 0\n",
    "merged_log.loc[merged_log[merged_log['order_id'].notna()].index , 'reward'] = 1"
   ],
   "metadata": {
    "collapsed": false,
    "pycharm": {
     "name": "#%%\n"
    }
   }
  },
  {
   "cell_type": "code",
   "execution_count": 27,
   "outputs": [],
   "source": [
    "interaction = merged_log[['account_id', 'product_id', 'reward', 'request_date_time']]\n",
    "interaction.to_csv(mab_path+'interaction.csv', index=None)"
   ],
   "metadata": {
    "collapsed": false,
    "pycharm": {
     "name": "#%%\n"
    }
   }
  },
  {
   "cell_type": "code",
   "execution_count": 28,
   "outputs": [],
   "source": [
    "sample_products = pd.read_csv(k_mean_path+'kmeans_product_onehotcol.csv')\n",
    "sample_users = pd.read_csv(k_mean_path+'kmeans_user_onehotcol.csv')"
   ],
   "metadata": {
    "collapsed": false,
    "pycharm": {
     "name": "#%%\n"
    }
   }
  },
  {
   "cell_type": "code",
   "execution_count": 29,
   "outputs": [],
   "source": [
    "user_inter = pd.merge(interaction, sample_users, how='left', on='account_id')\n",
    "user_pro_inter = pd.merge(user_inter, sample_products, how='left', on='product_id')"
   ],
   "metadata": {
    "collapsed": false,
    "pycharm": {
     "name": "#%%\n"
    }
   }
  },
  {
   "cell_type": "code",
   "execution_count": 30,
   "outputs": [],
   "source": [
    "user_pro_inter.drop(columns=['last_login_dts', 'product_name', 'published_at', 'maker_name'], inplace=True)\n",
    "user_pro_inter.rename({'cluster_x': 'user_cluster', 'cluster_y' : 'book_cluster'}, axis=1, inplace=True)"
   ],
   "metadata": {
    "collapsed": false,
    "pycharm": {
     "name": "#%%\n"
    }
   }
  },
  {
   "cell_type": "code",
   "execution_count": 31,
   "outputs": [],
   "source": [
    "user_pro_inter.rename(lambda x:'most_pref' + '_' + x.split('_')[-2] if x.endswith('x') else x,  axis=1, inplace=True)\n",
    "user_pro_inter.rename(lambda x:x[:-2] if x.endswith('y') else x,  axis=1, inplace=True)"
   ],
   "metadata": {
    "collapsed": false,
    "pycharm": {
     "name": "#%%\n"
    }
   }
  },
  {
   "cell_type": "code",
   "execution_count": 32,
   "outputs": [],
   "source": [
    "user_pro_inter.insert(2, 'user__cluster', user_pro_inter['user_cluster'])\n",
    "user_pro_inter.insert(3, 'book__cluster', user_pro_inter['book_cluster'])\n",
    "user_pro_inter.drop(['user_cluster','book_cluster'], axis=1, inplace=True)"
   ],
   "metadata": {
    "collapsed": false,
    "pycharm": {
     "name": "#%%\n"
    }
   }
  },
  {
   "cell_type": "code",
   "execution_count": 34,
   "outputs": [],
   "source": [
    "user_pro_inter.to_csv(mab_path + 'sampled_mabdata.csv', index=None)"
   ],
   "metadata": {
    "collapsed": false,
    "pycharm": {
     "name": "#%%\n"
    }
   }
  },
  {
   "cell_type": "code",
   "execution_count": 1,
   "outputs": [
    {
     "ename": "NameError",
     "evalue": "name 'pd' is not defined",
     "output_type": "error",
     "traceback": [
      "\u001B[0;31m---------------------------------------------------------------------------\u001B[0m",
      "\u001B[0;31mNameError\u001B[0m                                 Traceback (most recent call last)",
      "\u001B[0;32m/var/folders/hr/gb6mblx17c92hbbhpn97s24m0000gn/T/ipykernel_16989/1356829389.py\u001B[0m in \u001B[0;36m<module>\u001B[0;34m\u001B[0m\n\u001B[0;32m----> 1\u001B[0;31m \u001B[0mdf_fin\u001B[0m \u001B[0;34m=\u001B[0m \u001B[0mpd\u001B[0m\u001B[0;34m.\u001B[0m\u001B[0mread_csv\u001B[0m\u001B[0;34m(\u001B[0m\u001B[0mmab_path\u001B[0m \u001B[0;34m+\u001B[0m \u001B[0;34m'sampled_mabdata.csv'\u001B[0m\u001B[0;34m)\u001B[0m\u001B[0;34m\u001B[0m\u001B[0;34m\u001B[0m\u001B[0m\n\u001B[0m\u001B[1;32m      2\u001B[0m \u001B[0mdf_fin\u001B[0m\u001B[0;34m.\u001B[0m\u001B[0mdropna\u001B[0m\u001B[0;34m(\u001B[0m\u001B[0minplace\u001B[0m\u001B[0;34m=\u001B[0m\u001B[0;32mTrue\u001B[0m\u001B[0;34m)\u001B[0m\u001B[0;34m\u001B[0m\u001B[0;34m\u001B[0m\u001B[0m\n\u001B[1;32m      3\u001B[0m \u001B[0;34m\u001B[0m\u001B[0m\n",
      "\u001B[0;31mNameError\u001B[0m: name 'pd' is not defined"
     ]
    }
   ],
   "source": [
    "df_fin = pd.read_csv(mab_path + 'sampled_mabdata.csv')\n",
    "df_fin.dropna(inplace=True)\n"
   ],
   "metadata": {
    "collapsed": false,
    "pycharm": {
     "name": "#%%\n"
    }
   }
  },
  {
   "cell_type": "code",
   "execution_count": 37,
   "outputs": [],
   "source": [
    "df_fin.sort_values('request_date_time', inplace=True)"
   ],
   "metadata": {
    "collapsed": false,
    "pycharm": {
     "name": "#%%\n"
    }
   }
  },
  {
   "cell_type": "code",
   "execution_count": 38,
   "outputs": [
    {
     "data": {
      "text/plain": "       account_id  product_id  user__cluster  book__cluster  reward  \\\n25223    10046119    83491692            4.0            1.0       0   \n25222    10046119     8013367            4.0            1.0       0   \n31940     7085201    84498048            0.0            2.0       0   \n31941     7085201    77709544            0.0            2.0       0   \n32006     7085201    77709544            0.0            2.0       0   \n...           ...         ...            ...            ...     ...   \n27879    10894947    42799081            0.0            2.0       1   \n181       7560681    28313407            4.0            0.0       0   \n280       7560681    67094938            4.0            4.0       0   \n222       7560681    28313407            4.0            0.0       0   \n286       7560681    67094938            4.0            4.0       0   \n\n         request_date_time  gender_M  gender_F  address_is_0  address_is_1  \\\n25223  2019-12-01 00:26:09       0.0       1.0           0.0           1.0   \n25222  2019-12-01 00:31:14       0.0       1.0           0.0           1.0   \n31940  2019-12-01 01:23:01       1.0       0.0           0.0           1.0   \n31941  2019-12-01 01:24:58       1.0       0.0           0.0           1.0   \n32006  2019-12-01 01:25:19       1.0       0.0           0.0           1.0   \n...                    ...       ...       ...           ...           ...   \n27879  2020-05-31 23:27:36       1.0       0.0           0.0           1.0   \n181    2020-05-31 23:46:33       0.0       1.0           0.0           1.0   \n280    2020-05-31 23:46:50       0.0       1.0           0.0           1.0   \n222    2020-05-31 23:47:18       0.0       1.0           0.0           1.0   \n286    2020-05-31 23:47:57       0.0       1.0           0.0           1.0   \n\n       ...  category_id_30  category_id_31  category_id_33  category_id_34  \\\n25223  ...             0.0             0.0             0.0             0.0   \n25222  ...             0.0             0.0             0.0             0.0   \n31940  ...             0.0             0.0             1.0             0.0   \n31941  ...             0.0             0.0             1.0             0.0   \n32006  ...             0.0             0.0             1.0             0.0   \n...    ...             ...             ...             ...             ...   \n27879  ...             0.0             0.0             0.0             0.0   \n181    ...             0.0             0.0             0.0             0.0   \n280    ...             0.0             0.0             0.0             0.0   \n222    ...             0.0             0.0             0.0             0.0   \n286    ...             0.0             0.0             0.0             0.0   \n\n       shop_price_0  shop_price_1  shop_price_2  shop_price_3  best200  \\\n25223           0.0           0.0           1.0           0.0      0.0   \n25222           0.0           0.0           0.0           1.0      0.0   \n31940           1.0           0.0           0.0           0.0      0.0   \n31941           1.0           0.0           0.0           0.0      0.0   \n32006           1.0           0.0           0.0           0.0      0.0   \n...             ...           ...           ...           ...      ...   \n27879           1.0           0.0           0.0           0.0      0.0   \n181             0.0           0.0           1.0           0.0      0.0   \n280             0.0           0.0           1.0           0.0      1.0   \n222             0.0           0.0           1.0           0.0      0.0   \n286             0.0           0.0           1.0           0.0      1.0   \n\n       bestcat24  \n25223        0.0  \n25222        0.0  \n31940        0.0  \n31941        0.0  \n32006        0.0  \n...          ...  \n27879        0.0  \n181          0.0  \n280          1.0  \n222          0.0  \n286          1.0  \n\n[37754 rows x 98 columns]",
      "text/html": "<div>\n<style scoped>\n    .dataframe tbody tr th:only-of-type {\n        vertical-align: middle;\n    }\n\n    .dataframe tbody tr th {\n        vertical-align: top;\n    }\n\n    .dataframe thead th {\n        text-align: right;\n    }\n</style>\n<table border=\"1\" class=\"dataframe\">\n  <thead>\n    <tr style=\"text-align: right;\">\n      <th></th>\n      <th>account_id</th>\n      <th>product_id</th>\n      <th>user__cluster</th>\n      <th>book__cluster</th>\n      <th>reward</th>\n      <th>request_date_time</th>\n      <th>gender_M</th>\n      <th>gender_F</th>\n      <th>address_is_0</th>\n      <th>address_is_1</th>\n      <th>...</th>\n      <th>category_id_30</th>\n      <th>category_id_31</th>\n      <th>category_id_33</th>\n      <th>category_id_34</th>\n      <th>shop_price_0</th>\n      <th>shop_price_1</th>\n      <th>shop_price_2</th>\n      <th>shop_price_3</th>\n      <th>best200</th>\n      <th>bestcat24</th>\n    </tr>\n  </thead>\n  <tbody>\n    <tr>\n      <th>25223</th>\n      <td>10046119</td>\n      <td>83491692</td>\n      <td>4.0</td>\n      <td>1.0</td>\n      <td>0</td>\n      <td>2019-12-01 00:26:09</td>\n      <td>0.0</td>\n      <td>1.0</td>\n      <td>0.0</td>\n      <td>1.0</td>\n      <td>...</td>\n      <td>0.0</td>\n      <td>0.0</td>\n      <td>0.0</td>\n      <td>0.0</td>\n      <td>0.0</td>\n      <td>0.0</td>\n      <td>1.0</td>\n      <td>0.0</td>\n      <td>0.0</td>\n      <td>0.0</td>\n    </tr>\n    <tr>\n      <th>25222</th>\n      <td>10046119</td>\n      <td>8013367</td>\n      <td>4.0</td>\n      <td>1.0</td>\n      <td>0</td>\n      <td>2019-12-01 00:31:14</td>\n      <td>0.0</td>\n      <td>1.0</td>\n      <td>0.0</td>\n      <td>1.0</td>\n      <td>...</td>\n      <td>0.0</td>\n      <td>0.0</td>\n      <td>0.0</td>\n      <td>0.0</td>\n      <td>0.0</td>\n      <td>0.0</td>\n      <td>0.0</td>\n      <td>1.0</td>\n      <td>0.0</td>\n      <td>0.0</td>\n    </tr>\n    <tr>\n      <th>31940</th>\n      <td>7085201</td>\n      <td>84498048</td>\n      <td>0.0</td>\n      <td>2.0</td>\n      <td>0</td>\n      <td>2019-12-01 01:23:01</td>\n      <td>1.0</td>\n      <td>0.0</td>\n      <td>0.0</td>\n      <td>1.0</td>\n      <td>...</td>\n      <td>0.0</td>\n      <td>0.0</td>\n      <td>1.0</td>\n      <td>0.0</td>\n      <td>1.0</td>\n      <td>0.0</td>\n      <td>0.0</td>\n      <td>0.0</td>\n      <td>0.0</td>\n      <td>0.0</td>\n    </tr>\n    <tr>\n      <th>31941</th>\n      <td>7085201</td>\n      <td>77709544</td>\n      <td>0.0</td>\n      <td>2.0</td>\n      <td>0</td>\n      <td>2019-12-01 01:24:58</td>\n      <td>1.0</td>\n      <td>0.0</td>\n      <td>0.0</td>\n      <td>1.0</td>\n      <td>...</td>\n      <td>0.0</td>\n      <td>0.0</td>\n      <td>1.0</td>\n      <td>0.0</td>\n      <td>1.0</td>\n      <td>0.0</td>\n      <td>0.0</td>\n      <td>0.0</td>\n      <td>0.0</td>\n      <td>0.0</td>\n    </tr>\n    <tr>\n      <th>32006</th>\n      <td>7085201</td>\n      <td>77709544</td>\n      <td>0.0</td>\n      <td>2.0</td>\n      <td>0</td>\n      <td>2019-12-01 01:25:19</td>\n      <td>1.0</td>\n      <td>0.0</td>\n      <td>0.0</td>\n      <td>1.0</td>\n      <td>...</td>\n      <td>0.0</td>\n      <td>0.0</td>\n      <td>1.0</td>\n      <td>0.0</td>\n      <td>1.0</td>\n      <td>0.0</td>\n      <td>0.0</td>\n      <td>0.0</td>\n      <td>0.0</td>\n      <td>0.0</td>\n    </tr>\n    <tr>\n      <th>...</th>\n      <td>...</td>\n      <td>...</td>\n      <td>...</td>\n      <td>...</td>\n      <td>...</td>\n      <td>...</td>\n      <td>...</td>\n      <td>...</td>\n      <td>...</td>\n      <td>...</td>\n      <td>...</td>\n      <td>...</td>\n      <td>...</td>\n      <td>...</td>\n      <td>...</td>\n      <td>...</td>\n      <td>...</td>\n      <td>...</td>\n      <td>...</td>\n      <td>...</td>\n      <td>...</td>\n    </tr>\n    <tr>\n      <th>27879</th>\n      <td>10894947</td>\n      <td>42799081</td>\n      <td>0.0</td>\n      <td>2.0</td>\n      <td>1</td>\n      <td>2020-05-31 23:27:36</td>\n      <td>1.0</td>\n      <td>0.0</td>\n      <td>0.0</td>\n      <td>1.0</td>\n      <td>...</td>\n      <td>0.0</td>\n      <td>0.0</td>\n      <td>0.0</td>\n      <td>0.0</td>\n      <td>1.0</td>\n      <td>0.0</td>\n      <td>0.0</td>\n      <td>0.0</td>\n      <td>0.0</td>\n      <td>0.0</td>\n    </tr>\n    <tr>\n      <th>181</th>\n      <td>7560681</td>\n      <td>28313407</td>\n      <td>4.0</td>\n      <td>0.0</td>\n      <td>0</td>\n      <td>2020-05-31 23:46:33</td>\n      <td>0.0</td>\n      <td>1.0</td>\n      <td>0.0</td>\n      <td>1.0</td>\n      <td>...</td>\n      <td>0.0</td>\n      <td>0.0</td>\n      <td>0.0</td>\n      <td>0.0</td>\n      <td>0.0</td>\n      <td>0.0</td>\n      <td>1.0</td>\n      <td>0.0</td>\n      <td>0.0</td>\n      <td>0.0</td>\n    </tr>\n    <tr>\n      <th>280</th>\n      <td>7560681</td>\n      <td>67094938</td>\n      <td>4.0</td>\n      <td>4.0</td>\n      <td>0</td>\n      <td>2020-05-31 23:46:50</td>\n      <td>0.0</td>\n      <td>1.0</td>\n      <td>0.0</td>\n      <td>1.0</td>\n      <td>...</td>\n      <td>0.0</td>\n      <td>0.0</td>\n      <td>0.0</td>\n      <td>0.0</td>\n      <td>0.0</td>\n      <td>0.0</td>\n      <td>1.0</td>\n      <td>0.0</td>\n      <td>1.0</td>\n      <td>1.0</td>\n    </tr>\n    <tr>\n      <th>222</th>\n      <td>7560681</td>\n      <td>28313407</td>\n      <td>4.0</td>\n      <td>0.0</td>\n      <td>0</td>\n      <td>2020-05-31 23:47:18</td>\n      <td>0.0</td>\n      <td>1.0</td>\n      <td>0.0</td>\n      <td>1.0</td>\n      <td>...</td>\n      <td>0.0</td>\n      <td>0.0</td>\n      <td>0.0</td>\n      <td>0.0</td>\n      <td>0.0</td>\n      <td>0.0</td>\n      <td>1.0</td>\n      <td>0.0</td>\n      <td>0.0</td>\n      <td>0.0</td>\n    </tr>\n    <tr>\n      <th>286</th>\n      <td>7560681</td>\n      <td>67094938</td>\n      <td>4.0</td>\n      <td>4.0</td>\n      <td>0</td>\n      <td>2020-05-31 23:47:57</td>\n      <td>0.0</td>\n      <td>1.0</td>\n      <td>0.0</td>\n      <td>1.0</td>\n      <td>...</td>\n      <td>0.0</td>\n      <td>0.0</td>\n      <td>0.0</td>\n      <td>0.0</td>\n      <td>0.0</td>\n      <td>0.0</td>\n      <td>1.0</td>\n      <td>0.0</td>\n      <td>1.0</td>\n      <td>1.0</td>\n    </tr>\n  </tbody>\n</table>\n<p>37754 rows × 98 columns</p>\n</div>"
     },
     "execution_count": 38,
     "metadata": {},
     "output_type": "execute_result"
    }
   ],
   "source": [
    "df_fin"
   ],
   "metadata": {
    "collapsed": false,
    "pycharm": {
     "name": "#%%\n"
    }
   }
  },
  {
   "cell_type": "code",
   "execution_count": 40,
   "outputs": [
    {
     "name": "stdout",
     "output_type": "stream",
     "text": [
      "Unique classes and their ratio of total: {0: 0.23851777295121046, 1: 0.3063516448588229, 2: 0.22135402871218943, 3: 0.004873655771573873, 4: 0.16623404142607406, 5: 0.06266885628012926}\n"
     ]
    }
   ],
   "source": [
    "(context, reward_1, )"
   ],
   "metadata": {
    "collapsed": false,
    "pycharm": {
     "name": "#%%\n"
    }
   }
  },
  {
   "cell_type": "code",
   "execution_count": 42,
   "outputs": [
    {
     "data": {
      "text/plain": "array([1, 1, 2, ..., 4, 0, 4], dtype=int8)"
     },
     "execution_count": 42,
     "metadata": {},
     "output_type": "execute_result"
    }
   ],
   "source": [
    "opt_actions"
   ],
   "metadata": {
    "collapsed": false,
    "pycharm": {
     "name": "#%%\n"
    }
   }
  },
  {
   "cell_type": "code",
   "execution_count": 8,
   "outputs": [],
   "source": [
    "dataset = np.hstack((contexts, rewards))\n",
    "context_dim = contexts.shape[1]"
   ],
   "metadata": {
    "collapsed": false,
    "pycharm": {
     "name": "#%%\n"
    }
   }
  },
  {
   "cell_type": "code",
   "execution_count": 9,
   "outputs": [],
   "source": [
    "class Hparams(object):\n",
    "    def __init__(self, dicts):\n",
    "        for k, v in dicts.items():\n",
    "            self.__setattr__(k, v)"
   ],
   "metadata": {
    "collapsed": false,
    "pycharm": {
     "name": "#%%\n"
    }
   }
  },
  {
   "cell_type": "code",
   "execution_count": 10,
   "outputs": [],
   "source": [
    "param_dicts = {'num_actions':num_actions,\n",
    " 'context_dim': context_dim,\n",
    " 'a0':6,\n",
    " 'b0':6,\n",
    " 'lambda_prior':0.25,\n",
    "  'initial_pulls':2}"
   ],
   "metadata": {
    "collapsed": false,
    "pycharm": {
     "name": "#%%\n"
    }
   }
  },
  {
   "cell_type": "code",
   "execution_count": 11,
   "outputs": [],
   "source": [
    "hparam = Hparams(param_dicts)"
   ],
   "metadata": {
    "collapsed": false,
    "pycharm": {
     "name": "#%%\n"
    }
   }
  },
  {
   "cell_type": "code",
   "execution_count": 13,
   "outputs": [],
   "source": [
    "algos = [LinearFullPosteriorSampling('LinFullPost', hparam)]"
   ],
   "metadata": {
    "collapsed": false,
    "pycharm": {
     "name": "#%%\n"
    }
   }
  },
  {
   "cell_type": "code",
   "execution_count": 16,
   "outputs": [],
   "source": [
    "t_init = time.time()\n",
    "results = run_contextual_bandit(context_dim, num_actions, dataset, algos)"
   ],
   "metadata": {
    "collapsed": false,
    "pycharm": {
     "name": "#%%\n"
    }
   }
  },
  {
   "cell_type": "code",
   "execution_count": 17,
   "outputs": [],
   "source": [
    "h_actions, h_rewards = results"
   ],
   "metadata": {
    "collapsed": false,
    "pycharm": {
     "name": "#%%\n"
    }
   }
  },
  {
   "cell_type": "code",
   "execution_count": 19,
   "outputs": [
    {
     "name": "stdout",
     "output_type": "stream",
     "text": [
      "---------------------------------------------------\n",
      "---------------------------------------------------\n",
      "context bandit completed after 2997.457048892975 seconds.\n",
      "---------------------------------------------------\n",
      "  0) LinFullPost         | \t \t total reward =    36931.0.\n",
      "---------------------------------------------------\n",
      "Optimal total reward = 37754.0.\n",
      "Frequency of optimal actions (action, frequency):\n",
      "[[0, 9005], [1, 11566], [2, 8357], [3, 184], [4, 6276], [5, 2366]]\n",
      "---------------------------------------------------\n",
      "---------------------------------------------------\n"
     ]
    }
   ],
   "source": [
    "display_results(algos, opt_rewards, opt_actions, h_rewards, t_init, 'context')"
   ],
   "metadata": {
    "collapsed": false,
    "pycharm": {
     "name": "#%%\n"
    }
   }
  },
  {
   "cell_type": "code",
   "execution_count": null,
   "outputs": [],
   "source": [],
   "metadata": {
    "collapsed": false,
    "pycharm": {
     "name": "#%%\n"
    }
   }
  }
 ],
 "metadata": {
  "kernelspec": {
   "display_name": "Python 3",
   "language": "python",
   "name": "python3"
  },
  "language_info": {
   "codemirror_mode": {
    "name": "ipython",
    "version": 2
   },
   "file_extension": ".py",
   "mimetype": "text/x-python",
   "name": "python",
   "nbconvert_exporter": "python",
   "pygments_lexer": "ipython2",
   "version": "2.7.6"
  }
 },
 "nbformat": 4,
 "nbformat_minor": 0
}