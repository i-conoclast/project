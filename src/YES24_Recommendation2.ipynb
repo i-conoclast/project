{
 "cells": [
  {
   "cell_type": "markdown",
   "metadata": {
    "id": "XE03AOaL5-6r"
   },
   "source": [
    "## JSON to CSV"
   ]
  },
  {
   "cell_type": "code",
   "execution_count": null,
   "metadata": {
    "id": "FUqRRYyd5Mz0"
   },
   "outputs": [],
   "source": [
    "import json\n",
    "import os\n",
    "from os import listdir\n",
    "from os.path import isfile, join\n",
    "import pandas as pd\n",
    "\n",
    "path = '/content/drive/Shared drives/YES24/YES24 정리폴더/0. 전처리/'"
   ]
  },
  {
   "cell_type": "code",
   "execution_count": null,
   "metadata": {
    "id": "8yPV1H3uguOq"
   },
   "outputs": [],
   "source": [
    "def jsontodf(dir):\n",
    "  # files: 디렉토리 안의 파일 목록의 리스트\n",
    "  files = [f for f in listdir(dir) if isfile(join(dir, f))]\n",
    "\n",
    "  # json_files: 파일 목록 DataFrame\n",
    "  json_files = pd.DataFrame({\"file_id\" : files})\n",
    "\n",
    "  # json file 목록을 읽으며\n",
    "  # 각 파일의 json 형태로 저장된 txt 파일을 DataFrame으로 형변환 한 후\n",
    "  # concat를 통해 전체 데이터프레임 형성\n",
    "  df_list = []\n",
    "  for i in range(len(json_files)-1):\n",
    "      with open(dir+json_files['file_id'][i], encoding = 'utf-8') as f:\n",
    "          df = pd.DataFrame(json.loads(line) for line in f)\n",
    "      df_list.append(df)\n",
    "  dfs = pd.concat(df_list)\n",
    "\n",
    "  return dfs"
   ]
  },
  {
   "cell_type": "markdown",
   "metadata": {
    "id": "L8setu4S6cLI"
   },
   "source": [
    "### log"
   ]
  },
  {
   "cell_type": "code",
   "execution_count": null,
   "metadata": {
    "colab": {
     "base_uri": "https://localhost:8080/",
     "height": 89
    },
    "executionInfo": {
     "elapsed": 203389,
     "status": "ok",
     "timestamp": 1647966248027,
     "user": {
      "displayName": "‍이상래[ 학부졸업 / 일어일문학과 ]",
      "photoUrl": "https://lh3.googleusercontent.com/a/default-user=s64",
      "userId": "01842756657580376258"
     },
     "user_tz": -540
    },
    "id": "l2g2iPAB5Mrf",
    "outputId": "3bd89438-37b5-4124-a412-320ce10cab9c"
   },
   "outputs": [
    {
     "data": {
      "application/vnd.google.colaboratory.intrinsic+json": {
       "type": "string"
      },
      "text/plain": [
       "\"\\nfor i in range(5):\\n    with open('/content/drive/Shared drives/YES24/2020-06-10/m3/m3_click_stream/'+json_files['file_id'][i+1], encoding = 'utf-8') as f:\\n        tmp = pd.DataFrame(json.loads(line) for line in f)\\n    log = pd.concat([log, tmp])\\n\""
      ]
     },
     "execution_count": 2,
     "metadata": {},
     "output_type": "execute_result"
    }
   ],
   "source": [
    "log = jsontodf('/content/drive/Shared drives/YES24/2020-06-10/m3/m3_click_stream/')"
   ]
  },
  {
   "cell_type": "code",
   "execution_count": null,
   "metadata": {
    "colab": {
     "base_uri": "https://localhost:8080/",
     "height": 202
    },
    "executionInfo": {
     "elapsed": 710,
     "status": "ok",
     "timestamp": 1602677788409,
     "user": {
      "displayName": "­이영송",
      "photoUrl": "",
      "userId": "02657549077897894287"
     },
     "user_tz": -540
    },
    "id": "Jkxn6bmK5Mm6",
    "outputId": "57c60b79-4c35-410e-b8a8-59804876f126"
   },
   "outputs": [
    {
     "data": {
      "text/html": [
       "<div>\n",
       "<style scoped>\n",
       "    .dataframe tbody tr th:only-of-type {\n",
       "        vertical-align: middle;\n",
       "    }\n",
       "\n",
       "    .dataframe tbody tr th {\n",
       "        vertical-align: top;\n",
       "    }\n",
       "\n",
       "    .dataframe thead th {\n",
       "        text-align: right;\n",
       "    }\n",
       "</style>\n",
       "<table border=\"1\" class=\"dataframe\">\n",
       "  <thead>\n",
       "    <tr style=\"text-align: right;\">\n",
       "      <th></th>\n",
       "      <th>request_date_time</th>\n",
       "      <th>account_id</th>\n",
       "      <th>device_type</th>\n",
       "      <th>product_id</th>\n",
       "      <th>before_product_id</th>\n",
       "    </tr>\n",
       "  </thead>\n",
       "  <tbody>\n",
       "    <tr>\n",
       "      <th>0</th>\n",
       "      <td>2020-03-14 10:39:45</td>\n",
       "      <td>101496</td>\n",
       "      <td>M</td>\n",
       "      <td>88429694</td>\n",
       "      <td>0</td>\n",
       "    </tr>\n",
       "    <tr>\n",
       "      <th>1</th>\n",
       "      <td>2020-03-24 15:33:35</td>\n",
       "      <td>101496</td>\n",
       "      <td>M</td>\n",
       "      <td>64694842</td>\n",
       "      <td>0</td>\n",
       "    </tr>\n",
       "    <tr>\n",
       "      <th>2</th>\n",
       "      <td>2019-12-31 09:54:33</td>\n",
       "      <td>101496</td>\n",
       "      <td>M</td>\n",
       "      <td>81503945</td>\n",
       "      <td>0</td>\n",
       "    </tr>\n",
       "    <tr>\n",
       "      <th>3</th>\n",
       "      <td>2019-12-31 09:52:14</td>\n",
       "      <td>101496</td>\n",
       "      <td>M</td>\n",
       "      <td>84434768</td>\n",
       "      <td>0</td>\n",
       "    </tr>\n",
       "    <tr>\n",
       "      <th>4</th>\n",
       "      <td>2019-12-31 09:52:25</td>\n",
       "      <td>101496</td>\n",
       "      <td>M</td>\n",
       "      <td>81503945</td>\n",
       "      <td>0</td>\n",
       "    </tr>\n",
       "  </tbody>\n",
       "</table>\n",
       "</div>"
      ],
      "text/plain": [
       "     request_date_time  account_id device_type  product_id  before_product_id\n",
       "0  2020-03-14 10:39:45      101496           M    88429694                  0\n",
       "1  2020-03-24 15:33:35      101496           M    64694842                  0\n",
       "2  2019-12-31 09:54:33      101496           M    81503945                  0\n",
       "3  2019-12-31 09:52:14      101496           M    84434768                  0\n",
       "4  2019-12-31 09:52:25      101496           M    81503945                  0"
      ]
     },
     "execution_count": 16,
     "metadata": {
      "tags": []
     },
     "output_type": "execute_result"
    }
   ],
   "source": [
    "log.head()"
   ]
  },
  {
   "cell_type": "code",
   "execution_count": null,
   "metadata": {
    "colab": {
     "base_uri": "https://localhost:8080/"
    },
    "executionInfo": {
     "elapsed": 435,
     "status": "ok",
     "timestamp": 1647966974347,
     "user": {
      "displayName": "‍이상래[ 학부졸업 / 일어일문학과 ]",
      "photoUrl": "https://lh3.googleusercontent.com/a/default-user=s64",
      "userId": "01842756657580376258"
     },
     "user_tz": -540
    },
    "id": "__1buwcY5MlY",
    "outputId": "4d520981-8b1a-483a-fb13-157ffd7686f8"
   },
   "outputs": [
    {
     "data": {
      "text/plain": [
       "(24105214, 5)"
      ]
     },
     "execution_count": 5,
     "metadata": {},
     "output_type": "execute_result"
    }
   ],
   "source": [
    "log.shape"
   ]
  },
  {
   "cell_type": "code",
   "execution_count": null,
   "metadata": {
    "id": "CLKszD-8DgNU"
   },
   "outputs": [],
   "source": [
    "log.to_csv(path + 'log.csv', encoding = 'utf-8-sig')"
   ]
  },
  {
   "cell_type": "markdown",
   "metadata": {
    "id": "V8gkpCt78IW5"
   },
   "source": [
    "### Accounts"
   ]
  },
  {
   "cell_type": "code",
   "execution_count": null,
   "metadata": {
    "id": "01ozjkUR8G3O"
   },
   "outputs": [],
   "source": [
    "accounts = jsontodf('/content/drive/Shared drives/YES24/2020-06-10/m3/m3_accounts/')"
   ]
  },
  {
   "cell_type": "code",
   "execution_count": null,
   "metadata": {
    "colab": {
     "base_uri": "https://localhost:8080/",
     "height": 267
    },
    "executionInfo": {
     "elapsed": 265,
     "status": "ok",
     "timestamp": 1647967083313,
     "user": {
      "displayName": "‍이상래[ 학부졸업 / 일어일문학과 ]",
      "photoUrl": "https://lh3.googleusercontent.com/a/default-user=s64",
      "userId": "01842756657580376258"
     },
     "user_tz": -540
    },
    "id": "fOZcZSI78Uw1",
    "outputId": "e2c89360-211e-4da8-bbfb-d79766cc7e1c"
   },
   "outputs": [
    {
     "data": {
      "text/html": [
       "\n",
       "  <div id=\"df-7126bb40-2ab4-45c8-8739-7535bc92c168\">\n",
       "    <div class=\"colab-df-container\">\n",
       "      <div>\n",
       "<style scoped>\n",
       "    .dataframe tbody tr th:only-of-type {\n",
       "        vertical-align: middle;\n",
       "    }\n",
       "\n",
       "    .dataframe tbody tr th {\n",
       "        vertical-align: top;\n",
       "    }\n",
       "\n",
       "    .dataframe thead th {\n",
       "        text-align: right;\n",
       "    }\n",
       "</style>\n",
       "<table border=\"1\" class=\"dataframe\">\n",
       "  <thead>\n",
       "    <tr style=\"text-align: right;\">\n",
       "      <th></th>\n",
       "      <th>account_id</th>\n",
       "      <th>gender</th>\n",
       "      <th>age</th>\n",
       "      <th>zip_code</th>\n",
       "      <th>address</th>\n",
       "      <th>last_login_dts</th>\n",
       "    </tr>\n",
       "  </thead>\n",
       "  <tbody>\n",
       "    <tr>\n",
       "      <th>0</th>\n",
       "      <td>100986</td>\n",
       "      <td>M</td>\n",
       "      <td>43.0</td>\n",
       "      <td>16512</td>\n",
       "      <td>경기도 수원시 영통구 하동 994 광교호수마을참누리레이크</td>\n",
       "      <td>1.586492e+12</td>\n",
       "    </tr>\n",
       "    <tr>\n",
       "      <th>1</th>\n",
       "      <td>102793</td>\n",
       "      <td>F</td>\n",
       "      <td>40.0</td>\n",
       "      <td>706-022</td>\n",
       "      <td>대구 수성구 만촌2동</td>\n",
       "      <td>1.586596e+12</td>\n",
       "    </tr>\n",
       "    <tr>\n",
       "      <th>2</th>\n",
       "      <td>102960</td>\n",
       "      <td>F</td>\n",
       "      <td>57.0</td>\n",
       "      <td>626-860</td>\n",
       "      <td>경남 양산시 하북면</td>\n",
       "      <td>1.575587e+12</td>\n",
       "    </tr>\n",
       "    <tr>\n",
       "      <th>3</th>\n",
       "      <td>105153</td>\n",
       "      <td>F</td>\n",
       "      <td>38.0</td>\n",
       "      <td>NaN</td>\n",
       "      <td>부산시 금정구 서2동</td>\n",
       "      <td>1.589554e+12</td>\n",
       "    </tr>\n",
       "    <tr>\n",
       "      <th>4</th>\n",
       "      <td>106535</td>\n",
       "      <td>F</td>\n",
       "      <td>45.0</td>\n",
       "      <td>06232</td>\n",
       "      <td>서울 강남구 역삼동</td>\n",
       "      <td>1.578967e+12</td>\n",
       "    </tr>\n",
       "  </tbody>\n",
       "</table>\n",
       "</div>\n",
       "      <button class=\"colab-df-convert\" onclick=\"convertToInteractive('df-7126bb40-2ab4-45c8-8739-7535bc92c168')\"\n",
       "              title=\"Convert this dataframe to an interactive table.\"\n",
       "              style=\"display:none;\">\n",
       "        \n",
       "  <svg xmlns=\"http://www.w3.org/2000/svg\" height=\"24px\"viewBox=\"0 0 24 24\"\n",
       "       width=\"24px\">\n",
       "    <path d=\"M0 0h24v24H0V0z\" fill=\"none\"/>\n",
       "    <path d=\"M18.56 5.44l.94 2.06.94-2.06 2.06-.94-2.06-.94-.94-2.06-.94 2.06-2.06.94zm-11 1L8.5 8.5l.94-2.06 2.06-.94-2.06-.94L8.5 2.5l-.94 2.06-2.06.94zm10 10l.94 2.06.94-2.06 2.06-.94-2.06-.94-.94-2.06-.94 2.06-2.06.94z\"/><path d=\"M17.41 7.96l-1.37-1.37c-.4-.4-.92-.59-1.43-.59-.52 0-1.04.2-1.43.59L10.3 9.45l-7.72 7.72c-.78.78-.78 2.05 0 2.83L4 21.41c.39.39.9.59 1.41.59.51 0 1.02-.2 1.41-.59l7.78-7.78 2.81-2.81c.8-.78.8-2.07 0-2.86zM5.41 20L4 18.59l7.72-7.72 1.47 1.35L5.41 20z\"/>\n",
       "  </svg>\n",
       "      </button>\n",
       "      \n",
       "  <style>\n",
       "    .colab-df-container {\n",
       "      display:flex;\n",
       "      flex-wrap:wrap;\n",
       "      gap: 12px;\n",
       "    }\n",
       "\n",
       "    .colab-df-convert {\n",
       "      background-color: #E8F0FE;\n",
       "      border: none;\n",
       "      border-radius: 50%;\n",
       "      cursor: pointer;\n",
       "      display: none;\n",
       "      fill: #1967D2;\n",
       "      height: 32px;\n",
       "      padding: 0 0 0 0;\n",
       "      width: 32px;\n",
       "    }\n",
       "\n",
       "    .colab-df-convert:hover {\n",
       "      background-color: #E2EBFA;\n",
       "      box-shadow: 0px 1px 2px rgba(60, 64, 67, 0.3), 0px 1px 3px 1px rgba(60, 64, 67, 0.15);\n",
       "      fill: #174EA6;\n",
       "    }\n",
       "\n",
       "    [theme=dark] .colab-df-convert {\n",
       "      background-color: #3B4455;\n",
       "      fill: #D2E3FC;\n",
       "    }\n",
       "\n",
       "    [theme=dark] .colab-df-convert:hover {\n",
       "      background-color: #434B5C;\n",
       "      box-shadow: 0px 1px 3px 1px rgba(0, 0, 0, 0.15);\n",
       "      filter: drop-shadow(0px 1px 2px rgba(0, 0, 0, 0.3));\n",
       "      fill: #FFFFFF;\n",
       "    }\n",
       "  </style>\n",
       "\n",
       "      <script>\n",
       "        const buttonEl =\n",
       "          document.querySelector('#df-7126bb40-2ab4-45c8-8739-7535bc92c168 button.colab-df-convert');\n",
       "        buttonEl.style.display =\n",
       "          google.colab.kernel.accessAllowed ? 'block' : 'none';\n",
       "\n",
       "        async function convertToInteractive(key) {\n",
       "          const element = document.querySelector('#df-7126bb40-2ab4-45c8-8739-7535bc92c168');\n",
       "          const dataTable =\n",
       "            await google.colab.kernel.invokeFunction('convertToInteractive',\n",
       "                                                     [key], {});\n",
       "          if (!dataTable) return;\n",
       "\n",
       "          const docLinkHtml = 'Like what you see? Visit the ' +\n",
       "            '<a target=\"_blank\" href=https://colab.research.google.com/notebooks/data_table.ipynb>data table notebook</a>'\n",
       "            + ' to learn more about interactive tables.';\n",
       "          element.innerHTML = '';\n",
       "          dataTable['output_type'] = 'display_data';\n",
       "          await google.colab.output.renderOutput(dataTable, element);\n",
       "          const docLink = document.createElement('div');\n",
       "          docLink.innerHTML = docLinkHtml;\n",
       "          element.appendChild(docLink);\n",
       "        }\n",
       "      </script>\n",
       "    </div>\n",
       "  </div>\n",
       "  "
      ],
      "text/plain": [
       "   account_id gender   age zip_code                          address  \\\n",
       "0      100986      M  43.0    16512  경기도 수원시 영통구 하동 994 광교호수마을참누리레이크   \n",
       "1      102793      F  40.0  706-022                      대구 수성구 만촌2동   \n",
       "2      102960      F  57.0  626-860                       경남 양산시 하북면   \n",
       "3      105153      F  38.0      NaN                      부산시 금정구 서2동   \n",
       "4      106535      F  45.0    06232                      서울 강남구 역삼동    \n",
       "\n",
       "   last_login_dts  \n",
       "0    1.586492e+12  \n",
       "1    1.586596e+12  \n",
       "2    1.575587e+12  \n",
       "3    1.589554e+12  \n",
       "4    1.578967e+12  "
      ]
     },
     "execution_count": 9,
     "metadata": {},
     "output_type": "execute_result"
    }
   ],
   "source": [
    "accounts.head()"
   ]
  },
  {
   "cell_type": "code",
   "execution_count": null,
   "metadata": {
    "colab": {
     "base_uri": "https://localhost:8080/"
    },
    "executionInfo": {
     "elapsed": 260,
     "status": "ok",
     "timestamp": 1647967086819,
     "user": {
      "displayName": "‍이상래[ 학부졸업 / 일어일문학과 ]",
      "photoUrl": "https://lh3.googleusercontent.com/a/default-user=s64",
      "userId": "01842756657580376258"
     },
     "user_tz": -540
    },
    "id": "twM9VoQ18WFh",
    "outputId": "f368701a-59ec-44e0-cdaa-d15815219ac3"
   },
   "outputs": [
    {
     "data": {
      "text/plain": [
       "(1741578, 6)"
      ]
     },
     "execution_count": 10,
     "metadata": {},
     "output_type": "execute_result"
    }
   ],
   "source": [
    "accounts.shape"
   ]
  },
  {
   "cell_type": "code",
   "execution_count": null,
   "metadata": {
    "id": "EBNpHKNnEihX"
   },
   "outputs": [],
   "source": [
    "accounts.to_csv(path + 'accounts.csv', encoding = 'utf-8-sig')"
   ]
  },
  {
   "cell_type": "markdown",
   "metadata": {
    "id": "yAUXIa148YQ6"
   },
   "source": [
    "### Products"
   ]
  },
  {
   "cell_type": "code",
   "execution_count": null,
   "metadata": {
    "id": "vwwpxUtn8Wpo"
   },
   "outputs": [],
   "source": [
    "products = jsontodf('/content/drive/Shared drives/YES24/2020-06-10/m3/all_products/')"
   ]
  },
  {
   "cell_type": "code",
   "execution_count": null,
   "metadata": {
    "colab": {
     "base_uri": "https://localhost:8080/",
     "height": 441
    },
    "executionInfo": {
     "elapsed": 20,
     "status": "ok",
     "timestamp": 1647967369303,
     "user": {
      "displayName": "‍이상래[ 학부졸업 / 일어일문학과 ]",
      "photoUrl": "https://lh3.googleusercontent.com/a/default-user=s64",
      "userId": "01842756657580376258"
     },
     "user_tz": -540
    },
    "id": "up7tcRM38hqY",
    "outputId": "672e3eb8-36fd-4f6f-a519-e03fd8175b8a"
   },
   "outputs": [
    {
     "data": {
      "text/html": [
       "\n",
       "  <div id=\"df-ef96a26b-581f-49e7-82ca-ff905706b147\">\n",
       "    <div class=\"colab-df-container\">\n",
       "      <div>\n",
       "<style scoped>\n",
       "    .dataframe tbody tr th:only-of-type {\n",
       "        vertical-align: middle;\n",
       "    }\n",
       "\n",
       "    .dataframe tbody tr th {\n",
       "        vertical-align: top;\n",
       "    }\n",
       "\n",
       "    .dataframe thead th {\n",
       "        text-align: right;\n",
       "    }\n",
       "</style>\n",
       "<table border=\"1\" class=\"dataframe\">\n",
       "  <thead>\n",
       "    <tr style=\"text-align: right;\">\n",
       "      <th></th>\n",
       "      <th>product_id</th>\n",
       "      <th>product_name</th>\n",
       "      <th>category_id</th>\n",
       "      <th>published_at</th>\n",
       "      <th>shop_price</th>\n",
       "      <th>maker_name</th>\n",
       "    </tr>\n",
       "  </thead>\n",
       "  <tbody>\n",
       "    <tr>\n",
       "      <th>0</th>\n",
       "      <td>43528701</td>\n",
       "      <td>Slim 베스트 굿데이 성경 (개역개정4판/새찬송가합본/지퍼식/주석(단색)/반달색인...</td>\n",
       "      <td>001007</td>\n",
       "      <td>20170225</td>\n",
       "      <td>31000.00</td>\n",
       "      <td>생명의말씀사</td>\n",
       "    </tr>\n",
       "    <tr>\n",
       "      <th>1</th>\n",
       "      <td>43528730</td>\n",
       "      <td>바이오메디컬 엔지니어를 위한 생체 신호 측정 실습</td>\n",
       "      <td>001020</td>\n",
       "      <td>20170626</td>\n",
       "      <td>20000.00</td>\n",
       "      <td>계명대학교출판부</td>\n",
       "    </tr>\n",
       "    <tr>\n",
       "      <th>2</th>\n",
       "      <td>43528779</td>\n",
       "      <td>Slim 베스트 굿데이 성경 (개역개정4판/새찬송가합본/지퍼식/주석(단색)/반달색인...</td>\n",
       "      <td>001007</td>\n",
       "      <td>20170225</td>\n",
       "      <td>31000.00</td>\n",
       "      <td>생명의말씀사</td>\n",
       "    </tr>\n",
       "    <tr>\n",
       "      <th>3</th>\n",
       "      <td>43528822</td>\n",
       "      <td>Slim 베스트 굿데이 성경 (개역개정4판/새찬송가합본/지퍼식/주석(단색)/반달색인...</td>\n",
       "      <td>001007</td>\n",
       "      <td>20170225</td>\n",
       "      <td>31000.00</td>\n",
       "      <td>생명의말씀사</td>\n",
       "    </tr>\n",
       "    <tr>\n",
       "      <th>4</th>\n",
       "      <td>43528824</td>\n",
       "      <td>황종희가 꿈꾸는 도덕정치</td>\n",
       "      <td>001009</td>\n",
       "      <td>20170625</td>\n",
       "      <td>20000.00</td>\n",
       "      <td>서울대학교출판문화원</td>\n",
       "    </tr>\n",
       "  </tbody>\n",
       "</table>\n",
       "</div>\n",
       "      <button class=\"colab-df-convert\" onclick=\"convertToInteractive('df-ef96a26b-581f-49e7-82ca-ff905706b147')\"\n",
       "              title=\"Convert this dataframe to an interactive table.\"\n",
       "              style=\"display:none;\">\n",
       "        \n",
       "  <svg xmlns=\"http://www.w3.org/2000/svg\" height=\"24px\"viewBox=\"0 0 24 24\"\n",
       "       width=\"24px\">\n",
       "    <path d=\"M0 0h24v24H0V0z\" fill=\"none\"/>\n",
       "    <path d=\"M18.56 5.44l.94 2.06.94-2.06 2.06-.94-2.06-.94-.94-2.06-.94 2.06-2.06.94zm-11 1L8.5 8.5l.94-2.06 2.06-.94-2.06-.94L8.5 2.5l-.94 2.06-2.06.94zm10 10l.94 2.06.94-2.06 2.06-.94-2.06-.94-.94-2.06-.94 2.06-2.06.94z\"/><path d=\"M17.41 7.96l-1.37-1.37c-.4-.4-.92-.59-1.43-.59-.52 0-1.04.2-1.43.59L10.3 9.45l-7.72 7.72c-.78.78-.78 2.05 0 2.83L4 21.41c.39.39.9.59 1.41.59.51 0 1.02-.2 1.41-.59l7.78-7.78 2.81-2.81c.8-.78.8-2.07 0-2.86zM5.41 20L4 18.59l7.72-7.72 1.47 1.35L5.41 20z\"/>\n",
       "  </svg>\n",
       "      </button>\n",
       "      \n",
       "  <style>\n",
       "    .colab-df-container {\n",
       "      display:flex;\n",
       "      flex-wrap:wrap;\n",
       "      gap: 12px;\n",
       "    }\n",
       "\n",
       "    .colab-df-convert {\n",
       "      background-color: #E8F0FE;\n",
       "      border: none;\n",
       "      border-radius: 50%;\n",
       "      cursor: pointer;\n",
       "      display: none;\n",
       "      fill: #1967D2;\n",
       "      height: 32px;\n",
       "      padding: 0 0 0 0;\n",
       "      width: 32px;\n",
       "    }\n",
       "\n",
       "    .colab-df-convert:hover {\n",
       "      background-color: #E2EBFA;\n",
       "      box-shadow: 0px 1px 2px rgba(60, 64, 67, 0.3), 0px 1px 3px 1px rgba(60, 64, 67, 0.15);\n",
       "      fill: #174EA6;\n",
       "    }\n",
       "\n",
       "    [theme=dark] .colab-df-convert {\n",
       "      background-color: #3B4455;\n",
       "      fill: #D2E3FC;\n",
       "    }\n",
       "\n",
       "    [theme=dark] .colab-df-convert:hover {\n",
       "      background-color: #434B5C;\n",
       "      box-shadow: 0px 1px 3px 1px rgba(0, 0, 0, 0.15);\n",
       "      filter: drop-shadow(0px 1px 2px rgba(0, 0, 0, 0.3));\n",
       "      fill: #FFFFFF;\n",
       "    }\n",
       "  </style>\n",
       "\n",
       "      <script>\n",
       "        const buttonEl =\n",
       "          document.querySelector('#df-ef96a26b-581f-49e7-82ca-ff905706b147 button.colab-df-convert');\n",
       "        buttonEl.style.display =\n",
       "          google.colab.kernel.accessAllowed ? 'block' : 'none';\n",
       "\n",
       "        async function convertToInteractive(key) {\n",
       "          const element = document.querySelector('#df-ef96a26b-581f-49e7-82ca-ff905706b147');\n",
       "          const dataTable =\n",
       "            await google.colab.kernel.invokeFunction('convertToInteractive',\n",
       "                                                     [key], {});\n",
       "          if (!dataTable) return;\n",
       "\n",
       "          const docLinkHtml = 'Like what you see? Visit the ' +\n",
       "            '<a target=\"_blank\" href=https://colab.research.google.com/notebooks/data_table.ipynb>data table notebook</a>'\n",
       "            + ' to learn more about interactive tables.';\n",
       "          element.innerHTML = '';\n",
       "          dataTable['output_type'] = 'display_data';\n",
       "          await google.colab.output.renderOutput(dataTable, element);\n",
       "          const docLink = document.createElement('div');\n",
       "          docLink.innerHTML = docLinkHtml;\n",
       "          element.appendChild(docLink);\n",
       "        }\n",
       "      </script>\n",
       "    </div>\n",
       "  </div>\n",
       "  "
      ],
      "text/plain": [
       "   product_id                                       product_name category_id  \\\n",
       "0    43528701  Slim 베스트 굿데이 성경 (개역개정4판/새찬송가합본/지퍼식/주석(단색)/반달색인...      001007   \n",
       "1    43528730                        바이오메디컬 엔지니어를 위한 생체 신호 측정 실습      001020   \n",
       "2    43528779  Slim 베스트 굿데이 성경 (개역개정4판/새찬송가합본/지퍼식/주석(단색)/반달색인...      001007   \n",
       "3    43528822  Slim 베스트 굿데이 성경 (개역개정4판/새찬송가합본/지퍼식/주석(단색)/반달색인...      001007   \n",
       "4    43528824                                      황종희가 꿈꾸는 도덕정치      001009   \n",
       "\n",
       "  published_at shop_price  maker_name  \n",
       "0     20170225   31000.00      생명의말씀사  \n",
       "1     20170626   20000.00    계명대학교출판부  \n",
       "2     20170225   31000.00      생명의말씀사  \n",
       "3     20170225   31000.00      생명의말씀사  \n",
       "4     20170625   20000.00  서울대학교출판문화원  "
      ]
     },
     "execution_count": 13,
     "metadata": {},
     "output_type": "execute_result"
    }
   ],
   "source": [
    "products.head()"
   ]
  },
  {
   "cell_type": "code",
   "execution_count": null,
   "metadata": {
    "colab": {
     "base_uri": "https://localhost:8080/"
    },
    "executionInfo": {
     "elapsed": 17,
     "status": "ok",
     "timestamp": 1647967369304,
     "user": {
      "displayName": "‍이상래[ 학부졸업 / 일어일문학과 ]",
      "photoUrl": "https://lh3.googleusercontent.com/a/default-user=s64",
      "userId": "01842756657580376258"
     },
     "user_tz": -540
    },
    "id": "lde6zpOS8iOe",
    "outputId": "f0eb93c9-b514-4ea7-827e-68b740a67deb"
   },
   "outputs": [
    {
     "data": {
      "text/plain": [
       "(1745066, 6)"
      ]
     },
     "execution_count": 14,
     "metadata": {},
     "output_type": "execute_result"
    }
   ],
   "source": [
    "products.shape"
   ]
  },
  {
   "cell_type": "code",
   "execution_count": null,
   "metadata": {
    "id": "wMoq7HM9ElDh"
   },
   "outputs": [],
   "source": [
    "products.to_csv(path + 'products.csv', encoding = 'utf-8-sig')"
   ]
  },
  {
   "cell_type": "markdown",
   "metadata": {
    "id": "NJDMqpb68jYZ"
   },
   "source": [
    "###Orders"
   ]
  },
  {
   "cell_type": "code",
   "execution_count": null,
   "metadata": {
    "id": "3rx8dBBk8iyW"
   },
   "outputs": [],
   "source": [
    "orders = jsontodf('/content/drive/Shared drives/YES24/2020-06-10/m3/m3_orders/')"
   ]
  },
  {
   "cell_type": "code",
   "execution_count": null,
   "metadata": {
    "colab": {
     "base_uri": "https://localhost:8080/",
     "height": 202
    },
    "executionInfo": {
     "elapsed": 58812,
     "status": "ok",
     "timestamp": 1602677447565,
     "user": {
      "displayName": "­이영송",
      "photoUrl": "",
      "userId": "02657549077897894287"
     },
     "user_tz": -540
    },
    "id": "rW37b3lw8qxJ",
    "outputId": "e893f315-394b-49ab-b4e8-6cdec16855e6"
   },
   "outputs": [
    {
     "data": {
      "text/html": [
       "<div>\n",
       "<style scoped>\n",
       "    .dataframe tbody tr th:only-of-type {\n",
       "        vertical-align: middle;\n",
       "    }\n",
       "\n",
       "    .dataframe tbody tr th {\n",
       "        vertical-align: top;\n",
       "    }\n",
       "\n",
       "    .dataframe thead th {\n",
       "        text-align: right;\n",
       "    }\n",
       "</style>\n",
       "<table border=\"1\" class=\"dataframe\">\n",
       "  <thead>\n",
       "    <tr style=\"text-align: right;\">\n",
       "      <th></th>\n",
       "      <th>order_id</th>\n",
       "      <th>account_id</th>\n",
       "      <th>product_id</th>\n",
       "      <th>price</th>\n",
       "      <th>created_at</th>\n",
       "    </tr>\n",
       "  </thead>\n",
       "  <tbody>\n",
       "    <tr>\n",
       "      <th>0</th>\n",
       "      <td>218519157</td>\n",
       "      <td>100777</td>\n",
       "      <td>84936431</td>\n",
       "      <td>10800.0</td>\n",
       "      <td>1585273295643</td>\n",
       "    </tr>\n",
       "    <tr>\n",
       "      <th>1</th>\n",
       "      <td>221364615</td>\n",
       "      <td>100777</td>\n",
       "      <td>23116461</td>\n",
       "      <td>6300.0</td>\n",
       "      <td>1588498287633</td>\n",
       "    </tr>\n",
       "    <tr>\n",
       "      <th>2</th>\n",
       "      <td>218519157</td>\n",
       "      <td>100777</td>\n",
       "      <td>86641767</td>\n",
       "      <td>14850.0</td>\n",
       "      <td>1585273295643</td>\n",
       "    </tr>\n",
       "    <tr>\n",
       "      <th>3</th>\n",
       "      <td>223489288</td>\n",
       "      <td>100777</td>\n",
       "      <td>6315392</td>\n",
       "      <td>10800.0</td>\n",
       "      <td>1591161710237</td>\n",
       "    </tr>\n",
       "    <tr>\n",
       "      <th>4</th>\n",
       "      <td>218519157</td>\n",
       "      <td>100777</td>\n",
       "      <td>85010480</td>\n",
       "      <td>43200.0</td>\n",
       "      <td>1585273295643</td>\n",
       "    </tr>\n",
       "  </tbody>\n",
       "</table>\n",
       "</div>"
      ],
      "text/plain": [
       "    order_id  account_id  product_id    price     created_at\n",
       "0  218519157      100777    84936431  10800.0  1585273295643\n",
       "1  221364615      100777    23116461   6300.0  1588498287633\n",
       "2  218519157      100777    86641767  14850.0  1585273295643\n",
       "3  223489288      100777     6315392  10800.0  1591161710237\n",
       "4  218519157      100777    85010480  43200.0  1585273295643"
      ]
     },
     "execution_count": 11,
     "metadata": {
      "tags": []
     },
     "output_type": "execute_result"
    }
   ],
   "source": [
    "orders.head()"
   ]
  },
  {
   "cell_type": "code",
   "execution_count": null,
   "metadata": {
    "colab": {
     "base_uri": "https://localhost:8080/",
     "height": 36
    },
    "executionInfo": {
     "elapsed": 58791,
     "status": "ok",
     "timestamp": 1602677447569,
     "user": {
      "displayName": "­이영송",
      "photoUrl": "",
      "userId": "02657549077897894287"
     },
     "user_tz": -540
    },
    "id": "rKWoo2Yt8sAx",
    "outputId": "7c804504-3436-4299-daca-f848ac1ba0a2"
   },
   "outputs": [
    {
     "data": {
      "text/plain": [
       "(8382514, 5)"
      ]
     },
     "execution_count": 12,
     "metadata": {
      "tags": []
     },
     "output_type": "execute_result"
    }
   ],
   "source": [
    "orders.shape"
   ]
  },
  {
   "cell_type": "code",
   "execution_count": null,
   "metadata": {
    "id": "B1o307o8-UrJ"
   },
   "outputs": [],
   "source": [
    "orders.to_csv(path + 'orders.csv', encoding = 'utf-8-sig')"
   ]
  },
  {
   "cell_type": "markdown",
   "metadata": {
    "id": "wolPJoaPPbBC"
   },
   "source": [
    "# 전처리"
   ]
  },
  {
   "cell_type": "code",
   "execution_count": null,
   "metadata": {
    "id": "RmbA2dBbPZby"
   },
   "outputs": [],
   "source": [
    "import pandas as pd\n",
    "import os\n",
    "path = '/content/drive/Shared drives/YES24/YES24 정리폴더/0. 전처리/'\n",
    "import numpy as np\n",
    "\n",
    "from datetime import datetime\n",
    "import datetime\n",
    "from dateutil.parser import parse\n",
    "from sklearn.preprocessing import LabelEncoder\n",
    "encoder = LabelEncoder()"
   ]
  },
  {
   "cell_type": "markdown",
   "metadata": {
    "id": "dz7JS1AuEtI1"
   },
   "source": [
    "## Accounts"
   ]
  },
  {
   "cell_type": "code",
   "execution_count": null,
   "metadata": {
    "id": "UWRISMzXEnuj"
   },
   "outputs": [],
   "source": [
    "accounts = pd.read_csv('/content/drive/Shared drives/YES24/YES24 정리폴더/0. 전처리/accounts.csv')\n",
    "accounts.drop('Unnamed: 0', axis=1, inplace=True)\n",
    "accounts.dropna(inplace=True)"
   ]
  },
  {
   "cell_type": "markdown",
   "metadata": {
    "id": "MzUnrHyTNEkr"
   },
   "source": [
    "#### accounts: 최근 접속 일자 변환"
   ]
  },
  {
   "cell_type": "code",
   "execution_count": null,
   "metadata": {
    "id": "MKIEzO2kLDQo"
   },
   "outputs": [],
   "source": [
    "accounts['last_login_dts'] = pd.to_datetime(accounts['last_login_dts']*1000000)\n",
    "accounts.dropna(inplace=True)"
   ]
  },
  {
   "cell_type": "code",
   "execution_count": null,
   "metadata": {
    "colab": {
     "base_uri": "https://localhost:8080/",
     "height": 285
    },
    "executionInfo": {
     "elapsed": 3,
     "status": "ok",
     "timestamp": 1647968058611,
     "user": {
      "displayName": "‍이상래[ 학부졸업 / 일어일문학과 ]",
      "photoUrl": "https://lh3.googleusercontent.com/a/default-user=s64",
      "userId": "01842756657580376258"
     },
     "user_tz": -540
    },
    "id": "gxsGGFK7iPjt",
    "outputId": "2f1b1987-4672-4cc1-e5d1-a9475f3fc655"
   },
   "outputs": [
    {
     "data": {
      "text/html": [
       "\n",
       "  <div id=\"df-99ea6a48-0fa2-415c-84f7-b06a28a78e2b\">\n",
       "    <div class=\"colab-df-container\">\n",
       "      <div>\n",
       "<style scoped>\n",
       "    .dataframe tbody tr th:only-of-type {\n",
       "        vertical-align: middle;\n",
       "    }\n",
       "\n",
       "    .dataframe tbody tr th {\n",
       "        vertical-align: top;\n",
       "    }\n",
       "\n",
       "    .dataframe thead th {\n",
       "        text-align: right;\n",
       "    }\n",
       "</style>\n",
       "<table border=\"1\" class=\"dataframe\">\n",
       "  <thead>\n",
       "    <tr style=\"text-align: right;\">\n",
       "      <th></th>\n",
       "      <th>account_id</th>\n",
       "      <th>gender</th>\n",
       "      <th>age</th>\n",
       "      <th>zip_code</th>\n",
       "      <th>address</th>\n",
       "      <th>last_login_dts</th>\n",
       "    </tr>\n",
       "  </thead>\n",
       "  <tbody>\n",
       "    <tr>\n",
       "      <th>0</th>\n",
       "      <td>100986</td>\n",
       "      <td>M</td>\n",
       "      <td>43.0</td>\n",
       "      <td>16512</td>\n",
       "      <td>경기도 수원시 영통구 하동 994 광교호수마을참누리레이크</td>\n",
       "      <td>2020-04-10 04:06:03</td>\n",
       "    </tr>\n",
       "    <tr>\n",
       "      <th>1</th>\n",
       "      <td>102793</td>\n",
       "      <td>F</td>\n",
       "      <td>40.0</td>\n",
       "      <td>706-022</td>\n",
       "      <td>대구 수성구 만촌2동</td>\n",
       "      <td>2020-04-11 09:10:04</td>\n",
       "    </tr>\n",
       "    <tr>\n",
       "      <th>2</th>\n",
       "      <td>102960</td>\n",
       "      <td>F</td>\n",
       "      <td>57.0</td>\n",
       "      <td>626-860</td>\n",
       "      <td>경남 양산시 하북면</td>\n",
       "      <td>2019-12-05 23:02:47</td>\n",
       "    </tr>\n",
       "    <tr>\n",
       "      <th>4</th>\n",
       "      <td>106535</td>\n",
       "      <td>F</td>\n",
       "      <td>45.0</td>\n",
       "      <td>06232</td>\n",
       "      <td>서울 강남구 역삼동</td>\n",
       "      <td>2020-01-14 01:51:32</td>\n",
       "    </tr>\n",
       "    <tr>\n",
       "      <th>5</th>\n",
       "      <td>106783</td>\n",
       "      <td>F</td>\n",
       "      <td>40.0</td>\n",
       "      <td>07555</td>\n",
       "      <td>서울특별시 강서구 염창동 264-27 삼성한아름아파트</td>\n",
       "      <td>2020-04-21 07:04:51</td>\n",
       "    </tr>\n",
       "  </tbody>\n",
       "</table>\n",
       "</div>\n",
       "      <button class=\"colab-df-convert\" onclick=\"convertToInteractive('df-99ea6a48-0fa2-415c-84f7-b06a28a78e2b')\"\n",
       "              title=\"Convert this dataframe to an interactive table.\"\n",
       "              style=\"display:none;\">\n",
       "        \n",
       "  <svg xmlns=\"http://www.w3.org/2000/svg\" height=\"24px\"viewBox=\"0 0 24 24\"\n",
       "       width=\"24px\">\n",
       "    <path d=\"M0 0h24v24H0V0z\" fill=\"none\"/>\n",
       "    <path d=\"M18.56 5.44l.94 2.06.94-2.06 2.06-.94-2.06-.94-.94-2.06-.94 2.06-2.06.94zm-11 1L8.5 8.5l.94-2.06 2.06-.94-2.06-.94L8.5 2.5l-.94 2.06-2.06.94zm10 10l.94 2.06.94-2.06 2.06-.94-2.06-.94-.94-2.06-.94 2.06-2.06.94z\"/><path d=\"M17.41 7.96l-1.37-1.37c-.4-.4-.92-.59-1.43-.59-.52 0-1.04.2-1.43.59L10.3 9.45l-7.72 7.72c-.78.78-.78 2.05 0 2.83L4 21.41c.39.39.9.59 1.41.59.51 0 1.02-.2 1.41-.59l7.78-7.78 2.81-2.81c.8-.78.8-2.07 0-2.86zM5.41 20L4 18.59l7.72-7.72 1.47 1.35L5.41 20z\"/>\n",
       "  </svg>\n",
       "      </button>\n",
       "      \n",
       "  <style>\n",
       "    .colab-df-container {\n",
       "      display:flex;\n",
       "      flex-wrap:wrap;\n",
       "      gap: 12px;\n",
       "    }\n",
       "\n",
       "    .colab-df-convert {\n",
       "      background-color: #E8F0FE;\n",
       "      border: none;\n",
       "      border-radius: 50%;\n",
       "      cursor: pointer;\n",
       "      display: none;\n",
       "      fill: #1967D2;\n",
       "      height: 32px;\n",
       "      padding: 0 0 0 0;\n",
       "      width: 32px;\n",
       "    }\n",
       "\n",
       "    .colab-df-convert:hover {\n",
       "      background-color: #E2EBFA;\n",
       "      box-shadow: 0px 1px 2px rgba(60, 64, 67, 0.3), 0px 1px 3px 1px rgba(60, 64, 67, 0.15);\n",
       "      fill: #174EA6;\n",
       "    }\n",
       "\n",
       "    [theme=dark] .colab-df-convert {\n",
       "      background-color: #3B4455;\n",
       "      fill: #D2E3FC;\n",
       "    }\n",
       "\n",
       "    [theme=dark] .colab-df-convert:hover {\n",
       "      background-color: #434B5C;\n",
       "      box-shadow: 0px 1px 3px 1px rgba(0, 0, 0, 0.15);\n",
       "      filter: drop-shadow(0px 1px 2px rgba(0, 0, 0, 0.3));\n",
       "      fill: #FFFFFF;\n",
       "    }\n",
       "  </style>\n",
       "\n",
       "      <script>\n",
       "        const buttonEl =\n",
       "          document.querySelector('#df-99ea6a48-0fa2-415c-84f7-b06a28a78e2b button.colab-df-convert');\n",
       "        buttonEl.style.display =\n",
       "          google.colab.kernel.accessAllowed ? 'block' : 'none';\n",
       "\n",
       "        async function convertToInteractive(key) {\n",
       "          const element = document.querySelector('#df-99ea6a48-0fa2-415c-84f7-b06a28a78e2b');\n",
       "          const dataTable =\n",
       "            await google.colab.kernel.invokeFunction('convertToInteractive',\n",
       "                                                     [key], {});\n",
       "          if (!dataTable) return;\n",
       "\n",
       "          const docLinkHtml = 'Like what you see? Visit the ' +\n",
       "            '<a target=\"_blank\" href=https://colab.research.google.com/notebooks/data_table.ipynb>data table notebook</a>'\n",
       "            + ' to learn more about interactive tables.';\n",
       "          element.innerHTML = '';\n",
       "          dataTable['output_type'] = 'display_data';\n",
       "          await google.colab.output.renderOutput(dataTable, element);\n",
       "          const docLink = document.createElement('div');\n",
       "          docLink.innerHTML = docLinkHtml;\n",
       "          element.appendChild(docLink);\n",
       "        }\n",
       "      </script>\n",
       "    </div>\n",
       "  </div>\n",
       "  "
      ],
      "text/plain": [
       "   account_id gender   age zip_code                          address  \\\n",
       "0      100986      M  43.0    16512  경기도 수원시 영통구 하동 994 광교호수마을참누리레이크   \n",
       "1      102793      F  40.0  706-022                      대구 수성구 만촌2동   \n",
       "2      102960      F  57.0  626-860                       경남 양산시 하북면   \n",
       "4      106535      F  45.0    06232                      서울 강남구 역삼동    \n",
       "5      106783      F  40.0    07555    서울특별시 강서구 염창동 264-27 삼성한아름아파트   \n",
       "\n",
       "       last_login_dts  \n",
       "0 2020-04-10 04:06:03  \n",
       "1 2020-04-11 09:10:04  \n",
       "2 2019-12-05 23:02:47  \n",
       "4 2020-01-14 01:51:32  \n",
       "5 2020-04-21 07:04:51  "
      ]
     },
     "execution_count": 36,
     "metadata": {},
     "output_type": "execute_result"
    }
   ],
   "source": [
    "accounts.head()"
   ]
  },
  {
   "cell_type": "markdown",
   "metadata": {
    "id": "0jMxPi-cNHg5"
   },
   "source": [
    "#### accounts: gender 변환"
   ]
  },
  {
   "cell_type": "code",
   "execution_count": null,
   "metadata": {
    "colab": {
     "base_uri": "https://localhost:8080/"
    },
    "executionInfo": {
     "elapsed": 11,
     "status": "ok",
     "timestamp": 1647968001206,
     "user": {
      "displayName": "‍이상래[ 학부졸업 / 일어일문학과 ]",
      "photoUrl": "https://lh3.googleusercontent.com/a/default-user=s64",
      "userId": "01842756657580376258"
     },
     "user_tz": -540
    },
    "id": "y36hIZsNM4Dx",
    "outputId": "f6ceb9ad-f906-45aa-f490-b6db824bd772"
   },
   "outputs": [
    {
     "data": {
      "text/plain": [
       "array(['M', 'F', '-', '0'], dtype=object)"
      ]
     },
     "execution_count": 31,
     "metadata": {},
     "output_type": "execute_result"
    }
   ],
   "source": [
    "accounts.gender.unique()"
   ]
  },
  {
   "cell_type": "code",
   "execution_count": null,
   "metadata": {
    "id": "iI-GVeyUNBJx"
   },
   "outputs": [],
   "source": [
    "accounts['gender'].replace(to_replace = '-', value = np.nan, inplace = True)\n",
    "accounts['gender'].replace(to_replace = '0', value = np.nan, inplace = True)\n",
    "accounts.dropna(inplace=True)\n",
    "accounts['gender'] = pd.DataFrame(encoder.fit_transform(accounts['gender']))"
   ]
  },
  {
   "cell_type": "code",
   "execution_count": null,
   "metadata": {
    "colab": {
     "base_uri": "https://localhost:8080/"
    },
    "executionInfo": {
     "elapsed": 1155,
     "status": "ok",
     "timestamp": 1647968124306,
     "user": {
      "displayName": "‍이상래[ 학부졸업 / 일어일문학과 ]",
      "photoUrl": "https://lh3.googleusercontent.com/a/default-user=s64",
      "userId": "01842756657580376258"
     },
     "user_tz": -540
    },
    "id": "22gbyiVWNhyP",
    "outputId": "bbce6497-8d58-474c-9f54-792c449db84a"
   },
   "outputs": [
    {
     "data": {
      "text/plain": [
       "array([1., 0.])"
      ]
     },
     "execution_count": 41,
     "metadata": {},
     "output_type": "execute_result"
    }
   ],
   "source": [
    "accounts.dropna(inplace=True)\n",
    "accounts['gender'].unique()"
   ]
  },
  {
   "cell_type": "markdown",
   "metadata": {
    "id": "uRMiO1nWNuLS"
   },
   "source": [
    "#### accounts: age 결측처리"
   ]
  },
  {
   "cell_type": "code",
   "execution_count": null,
   "metadata": {
    "colab": {
     "base_uri": "https://localhost:8080/",
     "height": 204
    },
    "executionInfo": {
     "elapsed": 797,
     "status": "ok",
     "timestamp": 1602680725262,
     "user": {
      "displayName": "­이영송",
      "photoUrl": "",
      "userId": "02657549077897894287"
     },
     "user_tz": -540
    },
    "id": "P7Vx9eEmNnND",
    "outputId": "f653b07f-09ae-4c5e-ac57-a3f478456e65"
   },
   "outputs": [
    {
     "data": {
      "text/plain": [
       "array([ 43.,  40.,  57.,  45.,  52.,  49.,  48.,  46.,  47.,  42.,  41.,\n",
       "        37.,  35.,  66.,  56.,  44.,  50.,  51.,  34.,  58.,  72.,  59.,\n",
       "        53.,  36.,  74.,  54.,  55.,  61.,  39.,  63.,  38.,  32.,  69.,\n",
       "        65.,  64.,  30.,  60.,  62.,  75.,  31.,  33.,  29.,  67.,  17.,\n",
       "        73.,  28.,  26.,  27.,  24.,  77.,  68.,  70.,  25.,  79.,  76.,\n",
       "        23.,  85.,  21.,  18.,  20.,  22.,  12.,  19.,  14.,  71.,  11.,\n",
       "        15., 100.,  16.,  81.,  13.,  -1.,  86.,  10.,  80.,   8.,   9.,\n",
       "        83.,  78.,  94.,  82.,  90.,  95.,  88.,   4.,  87.,  89.,  84.,\n",
       "        91.,  93.,  92.,  96.,  98.,  99.,   6.,   5.,  97.,   7.,   2.,\n",
       "         3.])"
      ]
     },
     "execution_count": 42,
     "metadata": {
      "tags": []
     },
     "output_type": "execute_result"
    }
   ],
   "source": [
    "accounts.age.unique()"
   ]
  },
  {
   "cell_type": "code",
   "execution_count": null,
   "metadata": {
    "id": "6iolXbrDNxtu"
   },
   "outputs": [],
   "source": [
    "accounts['age'].replace(to_replace = -1, value = np.nan, inplace = True) # 결측값 = -1\n",
    "accounts['age'] = accounts['age'].apply(lambda x : np.nan if x <=7 else x) # 7세 이하는 결측처리"
   ]
  },
  {
   "cell_type": "code",
   "execution_count": null,
   "metadata": {
    "colab": {
     "base_uri": "https://localhost:8080/"
    },
    "executionInfo": {
     "elapsed": 841,
     "status": "ok",
     "timestamp": 1647968199122,
     "user": {
      "displayName": "‍이상래[ 학부졸업 / 일어일문학과 ]",
      "photoUrl": "https://lh3.googleusercontent.com/a/default-user=s64",
      "userId": "01842756657580376258"
     },
     "user_tz": -540
    },
    "id": "ZeJ8GpIqN6fw",
    "outputId": "8a88f84e-d174-4d69-dbf5-611ce4ae7ecf"
   },
   "outputs": [
    {
     "data": {
      "text/plain": [
       "0"
      ]
     },
     "execution_count": 43,
     "metadata": {},
     "output_type": "execute_result"
    }
   ],
   "source": [
    "accounts.dropna(inplace=True)\n",
    "accounts['age'].isnull().sum()"
   ]
  },
  {
   "cell_type": "markdown",
   "metadata": {
    "id": "oNVICpn6OJFa"
   },
   "source": [
    "#### accounts: 주소"
   ]
  },
  {
   "cell_type": "code",
   "execution_count": null,
   "metadata": {
    "colab": {
     "base_uri": "https://localhost:8080/",
     "height": 36
    },
    "executionInfo": {
     "elapsed": 702,
     "status": "ok",
     "timestamp": 1602680872818,
     "user": {
      "displayName": "­이영송",
      "photoUrl": "",
      "userId": "02657549077897894287"
     },
     "user_tz": -540
    },
    "id": "pi8uIaFLOSx8",
    "outputId": "80799967-a002-425a-9823-e4cd1dda4338"
   },
   "outputs": [
    {
     "data": {
      "application/vnd.google.colaboratory.intrinsic+json": {
       "type": "string"
      },
      "text/plain": [
       "'경기도'"
      ]
     },
     "execution_count": 46,
     "metadata": {
      "tags": []
     },
     "output_type": "execute_result"
    }
   ],
   "source": [
    "accounts['address'][0].split(' ')[0]"
   ]
  },
  {
   "cell_type": "code",
   "execution_count": null,
   "metadata": {
    "id": "QlZIM6INN-Tg"
   },
   "outputs": [],
   "source": [
    "# 수도권만 1, 나머지 0으로 설정\n",
    "accounts['address_is'] = accounts['address'].apply(lambda x: 0 if '경기' in x.split(' ')[0] else 1  if '인천' in x.split(' ')[0] else 1 if '서울' in x.split(' ')[0] else 1)"
   ]
  },
  {
   "cell_type": "code",
   "execution_count": null,
   "metadata": {
    "colab": {
     "base_uri": "https://localhost:8080/"
    },
    "executionInfo": {
     "elapsed": 852,
     "status": "ok",
     "timestamp": 1647968246454,
     "user": {
      "displayName": "‍이상래[ 학부졸업 / 일어일문학과 ]",
      "photoUrl": "https://lh3.googleusercontent.com/a/default-user=s64",
      "userId": "01842756657580376258"
     },
     "user_tz": -540
    },
    "id": "ZJuuKP0GOt8e",
    "outputId": "248d3b6b-ded7-4163-b3e6-b6d538aea3e5"
   },
   "outputs": [
    {
     "data": {
      "text/plain": [
       "0"
      ]
     },
     "execution_count": 45,
     "metadata": {},
     "output_type": "execute_result"
    }
   ],
   "source": [
    "accounts.dropna(inplace=True)\n",
    "accounts['address_is'].isnull().sum()"
   ]
  },
  {
   "cell_type": "markdown",
   "metadata": {
    "id": "6HsE9AvjOZb1"
   },
   "source": [
    "#### 저장"
   ]
  },
  {
   "cell_type": "code",
   "execution_count": null,
   "metadata": {
    "id": "BeSQF8h-Ol0Z"
   },
   "outputs": [],
   "source": [
    "path = '/content/drive/Shared drives/YES24/YES24 정리폴더/0. 전처리/'"
   ]
  },
  {
   "cell_type": "code",
   "execution_count": null,
   "metadata": {
    "id": "FGgOYnJMOSXj"
   },
   "outputs": [],
   "source": [
    "accounts = accounts[['account_id','gender','age','address','address_is','last_login']]\n",
    "accounts.to_csv(path + 'accounts_preprocessed.csv',encoding='utf-8')"
   ]
  },
  {
   "cell_type": "markdown",
   "metadata": {
    "id": "ulhSr_TYOzF9"
   },
   "source": [
    "## Orders"
   ]
  },
  {
   "cell_type": "markdown",
   "metadata": {
    "id": "hwRAQKMskm7z"
   },
   "source": [
    "### orders: java시간 변환"
   ]
  },
  {
   "cell_type": "code",
   "execution_count": null,
   "metadata": {
    "id": "0oiS1SsbOrJE"
   },
   "outputs": [],
   "source": [
    "orders = pd.read_csv(path+'orders.csv')\n",
    "orders.drop('Unnamed: 0',axis=1, inplace=True)"
   ]
  },
  {
   "cell_type": "code",
   "execution_count": null,
   "metadata": {
    "colab": {
     "base_uri": "https://localhost:8080/",
     "height": 36
    },
    "executionInfo": {
     "elapsed": 660,
     "status": "ok",
     "timestamp": 1602681264848,
     "user": {
      "displayName": "­이영송",
      "photoUrl": "",
      "userId": "02657549077897894287"
     },
     "user_tz": -540
    },
    "id": "SG6xv7vmPzEt",
    "outputId": "076f2d55-4f23-488d-dd9a-4225ed2a3098"
   },
   "outputs": [
    {
     "data": {
      "text/plain": [
       "Timestamp('2020-03-27 01:41:36.286000')"
      ]
     },
     "execution_count": 59,
     "metadata": {
      "tags": []
     },
     "output_type": "execute_result"
    }
   ],
   "source": [
    "orders['created_at'][0]"
   ]
  },
  {
   "cell_type": "code",
   "execution_count": null,
   "metadata": {
    "id": "5IA0OCp7kIFJ"
   },
   "outputs": [],
   "source": [
    "def invert_javatime(javatime):\n",
    "  seconds = javatime / 1000\n",
    "  sub_seconds = (javatime % 1000.0) / 1000.0\n",
    "  date = datetime.datetime.fromtimestamp(seconds + sub_seconds)\n",
    "  return date"
   ]
  },
  {
   "cell_type": "code",
   "execution_count": null,
   "metadata": {
    "colab": {
     "base_uri": "https://localhost:8080/"
    },
    "executionInfo": {
     "elapsed": 399,
     "status": "ok",
     "timestamp": 1647968369413,
     "user": {
      "displayName": "‍이상래[ 학부졸업 / 일어일문학과 ]",
      "photoUrl": "https://lh3.googleusercontent.com/a/default-user=s64",
      "userId": "01842756657580376258"
     },
     "user_tz": -540
    },
    "id": "uennpMq3O77J",
    "outputId": "7fa98fac-8725-46b5-e321-1005fe81fe94"
   },
   "outputs": [
    {
     "data": {
      "text/plain": [
       "datetime.datetime(2020, 5, 14, 2, 40, 16, 380000)"
      ]
     },
     "execution_count": 47,
     "metadata": {},
     "output_type": "execute_result"
    }
   ],
   "source": [
    "java_timestamp = 1589424016190\n",
    "invert_javatime(java_timestamp)"
   ]
  },
  {
   "cell_type": "code",
   "execution_count": null,
   "metadata": {
    "colab": {
     "base_uri": "https://localhost:8080/",
     "height": 423
    },
    "executionInfo": {
     "elapsed": 15689,
     "status": "ok",
     "timestamp": 1647968511034,
     "user": {
      "displayName": "‍이상래[ 학부졸업 / 일어일문학과 ]",
      "photoUrl": "https://lh3.googleusercontent.com/a/default-user=s64",
      "userId": "01842756657580376258"
     },
     "user_tz": -540
    },
    "id": "SfGDp3ZRPqHU",
    "outputId": "42e38bd3-8e8d-4487-b696-6285669ab331"
   },
   "outputs": [
    {
     "data": {
      "text/html": [
       "\n",
       "  <div id=\"df-2aacc41e-77fe-451b-80e6-6cacee7635c8\">\n",
       "    <div class=\"colab-df-container\">\n",
       "      <div>\n",
       "<style scoped>\n",
       "    .dataframe tbody tr th:only-of-type {\n",
       "        vertical-align: middle;\n",
       "    }\n",
       "\n",
       "    .dataframe tbody tr th {\n",
       "        vertical-align: top;\n",
       "    }\n",
       "\n",
       "    .dataframe thead th {\n",
       "        text-align: right;\n",
       "    }\n",
       "</style>\n",
       "<table border=\"1\" class=\"dataframe\">\n",
       "  <thead>\n",
       "    <tr style=\"text-align: right;\">\n",
       "      <th></th>\n",
       "      <th>order_id</th>\n",
       "      <th>account_id</th>\n",
       "      <th>product_id</th>\n",
       "      <th>price</th>\n",
       "      <th>created_at</th>\n",
       "    </tr>\n",
       "  </thead>\n",
       "  <tbody>\n",
       "    <tr>\n",
       "      <th>0</th>\n",
       "      <td>218519157</td>\n",
       "      <td>100777</td>\n",
       "      <td>84936431</td>\n",
       "      <td>10800.0</td>\n",
       "      <td>2020-03-27 01:41:36.286</td>\n",
       "    </tr>\n",
       "    <tr>\n",
       "      <th>1</th>\n",
       "      <td>221364615</td>\n",
       "      <td>100777</td>\n",
       "      <td>23116461</td>\n",
       "      <td>6300.0</td>\n",
       "      <td>2020-05-03 09:31:28.266</td>\n",
       "    </tr>\n",
       "    <tr>\n",
       "      <th>2</th>\n",
       "      <td>218519157</td>\n",
       "      <td>100777</td>\n",
       "      <td>86641767</td>\n",
       "      <td>14850.0</td>\n",
       "      <td>2020-03-27 01:41:36.286</td>\n",
       "    </tr>\n",
       "    <tr>\n",
       "      <th>3</th>\n",
       "      <td>223489288</td>\n",
       "      <td>100777</td>\n",
       "      <td>6315392</td>\n",
       "      <td>10800.0</td>\n",
       "      <td>2020-06-03 05:21:50.474</td>\n",
       "    </tr>\n",
       "    <tr>\n",
       "      <th>4</th>\n",
       "      <td>218519157</td>\n",
       "      <td>100777</td>\n",
       "      <td>85010480</td>\n",
       "      <td>43200.0</td>\n",
       "      <td>2020-03-27 01:41:36.286</td>\n",
       "    </tr>\n",
       "    <tr>\n",
       "      <th>...</th>\n",
       "      <td>...</td>\n",
       "      <td>...</td>\n",
       "      <td>...</td>\n",
       "      <td>...</td>\n",
       "      <td>...</td>\n",
       "    </tr>\n",
       "    <tr>\n",
       "      <th>8382509</th>\n",
       "      <td>223843200</td>\n",
       "      <td>16987547</td>\n",
       "      <td>3799797</td>\n",
       "      <td>9000.0</td>\n",
       "      <td>2020-06-08 14:50:52.854</td>\n",
       "    </tr>\n",
       "    <tr>\n",
       "      <th>8382510</th>\n",
       "      <td>223850682</td>\n",
       "      <td>16988206</td>\n",
       "      <td>73776838</td>\n",
       "      <td>18000.0</td>\n",
       "      <td>2020-06-08 22:09:55.166</td>\n",
       "    </tr>\n",
       "    <tr>\n",
       "      <th>8382511</th>\n",
       "      <td>223871729</td>\n",
       "      <td>16989204</td>\n",
       "      <td>90496918</td>\n",
       "      <td>66600.0</td>\n",
       "      <td>2020-06-09 04:48:23.986</td>\n",
       "    </tr>\n",
       "    <tr>\n",
       "      <th>8382512</th>\n",
       "      <td>223887913</td>\n",
       "      <td>16990132</td>\n",
       "      <td>7217755</td>\n",
       "      <td>12600.0</td>\n",
       "      <td>2020-06-09 09:12:26.054</td>\n",
       "    </tr>\n",
       "    <tr>\n",
       "      <th>8382513</th>\n",
       "      <td>223901153</td>\n",
       "      <td>16990839</td>\n",
       "      <td>80223743</td>\n",
       "      <td>25200.0</td>\n",
       "      <td>2020-06-09 13:29:11.200</td>\n",
       "    </tr>\n",
       "  </tbody>\n",
       "</table>\n",
       "<p>8382514 rows × 5 columns</p>\n",
       "</div>\n",
       "      <button class=\"colab-df-convert\" onclick=\"convertToInteractive('df-2aacc41e-77fe-451b-80e6-6cacee7635c8')\"\n",
       "              title=\"Convert this dataframe to an interactive table.\"\n",
       "              style=\"display:none;\">\n",
       "        \n",
       "  <svg xmlns=\"http://www.w3.org/2000/svg\" height=\"24px\"viewBox=\"0 0 24 24\"\n",
       "       width=\"24px\">\n",
       "    <path d=\"M0 0h24v24H0V0z\" fill=\"none\"/>\n",
       "    <path d=\"M18.56 5.44l.94 2.06.94-2.06 2.06-.94-2.06-.94-.94-2.06-.94 2.06-2.06.94zm-11 1L8.5 8.5l.94-2.06 2.06-.94-2.06-.94L8.5 2.5l-.94 2.06-2.06.94zm10 10l.94 2.06.94-2.06 2.06-.94-2.06-.94-.94-2.06-.94 2.06-2.06.94z\"/><path d=\"M17.41 7.96l-1.37-1.37c-.4-.4-.92-.59-1.43-.59-.52 0-1.04.2-1.43.59L10.3 9.45l-7.72 7.72c-.78.78-.78 2.05 0 2.83L4 21.41c.39.39.9.59 1.41.59.51 0 1.02-.2 1.41-.59l7.78-7.78 2.81-2.81c.8-.78.8-2.07 0-2.86zM5.41 20L4 18.59l7.72-7.72 1.47 1.35L5.41 20z\"/>\n",
       "  </svg>\n",
       "      </button>\n",
       "      \n",
       "  <style>\n",
       "    .colab-df-container {\n",
       "      display:flex;\n",
       "      flex-wrap:wrap;\n",
       "      gap: 12px;\n",
       "    }\n",
       "\n",
       "    .colab-df-convert {\n",
       "      background-color: #E8F0FE;\n",
       "      border: none;\n",
       "      border-radius: 50%;\n",
       "      cursor: pointer;\n",
       "      display: none;\n",
       "      fill: #1967D2;\n",
       "      height: 32px;\n",
       "      padding: 0 0 0 0;\n",
       "      width: 32px;\n",
       "    }\n",
       "\n",
       "    .colab-df-convert:hover {\n",
       "      background-color: #E2EBFA;\n",
       "      box-shadow: 0px 1px 2px rgba(60, 64, 67, 0.3), 0px 1px 3px 1px rgba(60, 64, 67, 0.15);\n",
       "      fill: #174EA6;\n",
       "    }\n",
       "\n",
       "    [theme=dark] .colab-df-convert {\n",
       "      background-color: #3B4455;\n",
       "      fill: #D2E3FC;\n",
       "    }\n",
       "\n",
       "    [theme=dark] .colab-df-convert:hover {\n",
       "      background-color: #434B5C;\n",
       "      box-shadow: 0px 1px 3px 1px rgba(0, 0, 0, 0.15);\n",
       "      filter: drop-shadow(0px 1px 2px rgba(0, 0, 0, 0.3));\n",
       "      fill: #FFFFFF;\n",
       "    }\n",
       "  </style>\n",
       "\n",
       "      <script>\n",
       "        const buttonEl =\n",
       "          document.querySelector('#df-2aacc41e-77fe-451b-80e6-6cacee7635c8 button.colab-df-convert');\n",
       "        buttonEl.style.display =\n",
       "          google.colab.kernel.accessAllowed ? 'block' : 'none';\n",
       "\n",
       "        async function convertToInteractive(key) {\n",
       "          const element = document.querySelector('#df-2aacc41e-77fe-451b-80e6-6cacee7635c8');\n",
       "          const dataTable =\n",
       "            await google.colab.kernel.invokeFunction('convertToInteractive',\n",
       "                                                     [key], {});\n",
       "          if (!dataTable) return;\n",
       "\n",
       "          const docLinkHtml = 'Like what you see? Visit the ' +\n",
       "            '<a target=\"_blank\" href=https://colab.research.google.com/notebooks/data_table.ipynb>data table notebook</a>'\n",
       "            + ' to learn more about interactive tables.';\n",
       "          element.innerHTML = '';\n",
       "          dataTable['output_type'] = 'display_data';\n",
       "          await google.colab.output.renderOutput(dataTable, element);\n",
       "          const docLink = document.createElement('div');\n",
       "          docLink.innerHTML = docLinkHtml;\n",
       "          element.appendChild(docLink);\n",
       "        }\n",
       "      </script>\n",
       "    </div>\n",
       "  </div>\n",
       "  "
      ],
      "text/plain": [
       "          order_id  account_id  product_id    price              created_at\n",
       "0        218519157      100777    84936431  10800.0 2020-03-27 01:41:36.286\n",
       "1        221364615      100777    23116461   6300.0 2020-05-03 09:31:28.266\n",
       "2        218519157      100777    86641767  14850.0 2020-03-27 01:41:36.286\n",
       "3        223489288      100777     6315392  10800.0 2020-06-03 05:21:50.474\n",
       "4        218519157      100777    85010480  43200.0 2020-03-27 01:41:36.286\n",
       "...            ...         ...         ...      ...                     ...\n",
       "8382509  223843200    16987547     3799797   9000.0 2020-06-08 14:50:52.854\n",
       "8382510  223850682    16988206    73776838  18000.0 2020-06-08 22:09:55.166\n",
       "8382511  223871729    16989204    90496918  66600.0 2020-06-09 04:48:23.986\n",
       "8382512  223887913    16990132     7217755  12600.0 2020-06-09 09:12:26.054\n",
       "8382513  223901153    16990839    80223743  25200.0 2020-06-09 13:29:11.200\n",
       "\n",
       "[8382514 rows x 5 columns]"
      ]
     },
     "execution_count": 51,
     "metadata": {},
     "output_type": "execute_result"
    }
   ],
   "source": [
    "orders['created_at'] = orders['created_at'].apply(lambda x : invert_javatime(x))\n",
    "orders"
   ]
  },
  {
   "cell_type": "markdown",
   "metadata": {
    "id": "ZhESB4JtktuD"
   },
   "source": [
    "### 저장"
   ]
  },
  {
   "cell_type": "code",
   "execution_count": null,
   "metadata": {
    "id": "dHsrO_16PrXf"
   },
   "outputs": [],
   "source": [
    "orders.to_csv(path+'orders_preprocessed.csv',encoding='utf-8')"
   ]
  },
  {
   "cell_type": "markdown",
   "metadata": {
    "id": "T-0dqPrkQRd1"
   },
   "source": [
    "## Products"
   ]
  },
  {
   "cell_type": "code",
   "execution_count": null,
   "metadata": {
    "id": "Rs7KgjLvQDdr"
   },
   "outputs": [],
   "source": [
    "products = pd.read_csv(path+'products.csv',dtype={'published_at':str})\n",
    "products.drop('Unnamed: 0', axis=1, inplace=True)\n",
    "products.dropna(inplace=True)"
   ]
  },
  {
   "cell_type": "code",
   "execution_count": null,
   "metadata": {
    "colab": {
     "base_uri": "https://localhost:8080/",
     "height": 832
    },
    "executionInfo": {
     "elapsed": 6,
     "status": "ok",
     "timestamp": 1647968552905,
     "user": {
      "displayName": "‍이상래[ 학부졸업 / 일어일문학과 ]",
      "photoUrl": "https://lh3.googleusercontent.com/a/default-user=s64",
      "userId": "01842756657580376258"
     },
     "user_tz": -540
    },
    "id": "BBTXPT8rQdbY",
    "outputId": "805819b8-ab6e-448f-a305-c8c0e3126f22"
   },
   "outputs": [
    {
     "data": {
      "text/html": [
       "\n",
       "  <div id=\"df-b6c94d1f-fb08-43ab-b8e2-e82302caf09c\">\n",
       "    <div class=\"colab-df-container\">\n",
       "      <div>\n",
       "<style scoped>\n",
       "    .dataframe tbody tr th:only-of-type {\n",
       "        vertical-align: middle;\n",
       "    }\n",
       "\n",
       "    .dataframe tbody tr th {\n",
       "        vertical-align: top;\n",
       "    }\n",
       "\n",
       "    .dataframe thead th {\n",
       "        text-align: right;\n",
       "    }\n",
       "</style>\n",
       "<table border=\"1\" class=\"dataframe\">\n",
       "  <thead>\n",
       "    <tr style=\"text-align: right;\">\n",
       "      <th></th>\n",
       "      <th>product_id</th>\n",
       "      <th>product_name</th>\n",
       "      <th>category_id</th>\n",
       "      <th>published_at</th>\n",
       "      <th>shop_price</th>\n",
       "      <th>maker_name</th>\n",
       "    </tr>\n",
       "  </thead>\n",
       "  <tbody>\n",
       "    <tr>\n",
       "      <th>0</th>\n",
       "      <td>43528701</td>\n",
       "      <td>Slim 베스트 굿데이 성경 (개역개정4판/새찬송가합본/지퍼식/주석(단색)/반달색인...</td>\n",
       "      <td>1007</td>\n",
       "      <td>20170225</td>\n",
       "      <td>31000.0</td>\n",
       "      <td>생명의말씀사</td>\n",
       "    </tr>\n",
       "    <tr>\n",
       "      <th>1</th>\n",
       "      <td>43528730</td>\n",
       "      <td>바이오메디컬 엔지니어를 위한 생체 신호 측정 실습</td>\n",
       "      <td>1020</td>\n",
       "      <td>20170626</td>\n",
       "      <td>20000.0</td>\n",
       "      <td>계명대학교출판부</td>\n",
       "    </tr>\n",
       "    <tr>\n",
       "      <th>2</th>\n",
       "      <td>43528779</td>\n",
       "      <td>Slim 베스트 굿데이 성경 (개역개정4판/새찬송가합본/지퍼식/주석(단색)/반달색인...</td>\n",
       "      <td>1007</td>\n",
       "      <td>20170225</td>\n",
       "      <td>31000.0</td>\n",
       "      <td>생명의말씀사</td>\n",
       "    </tr>\n",
       "    <tr>\n",
       "      <th>3</th>\n",
       "      <td>43528822</td>\n",
       "      <td>Slim 베스트 굿데이 성경 (개역개정4판/새찬송가합본/지퍼식/주석(단색)/반달색인...</td>\n",
       "      <td>1007</td>\n",
       "      <td>20170225</td>\n",
       "      <td>31000.0</td>\n",
       "      <td>생명의말씀사</td>\n",
       "    </tr>\n",
       "    <tr>\n",
       "      <th>4</th>\n",
       "      <td>43528824</td>\n",
       "      <td>황종희가 꿈꾸는 도덕정치</td>\n",
       "      <td>1009</td>\n",
       "      <td>20170625</td>\n",
       "      <td>20000.0</td>\n",
       "      <td>서울대학교출판문화원</td>\n",
       "    </tr>\n",
       "    <tr>\n",
       "      <th>...</th>\n",
       "      <td>...</td>\n",
       "      <td>...</td>\n",
       "      <td>...</td>\n",
       "      <td>...</td>\n",
       "      <td>...</td>\n",
       "      <td>...</td>\n",
       "    </tr>\n",
       "    <tr>\n",
       "      <th>1745061</th>\n",
       "      <td>85352665</td>\n",
       "      <td>2020 임성래의 쉽게 쓴 품질경영기사 필기</td>\n",
       "      <td>1001</td>\n",
       "      <td>20200106</td>\n",
       "      <td>39000.0</td>\n",
       "      <td>성안당</td>\n",
       "    </tr>\n",
       "    <tr>\n",
       "      <th>1745062</th>\n",
       "      <td>85353942</td>\n",
       "      <td>파고다 HSK 5급 종합서 최신 개정판</td>\n",
       "      <td>1011</td>\n",
       "      <td>20200102</td>\n",
       "      <td>22000.0</td>\n",
       "      <td>PAGODA Books</td>\n",
       "    </tr>\n",
       "    <tr>\n",
       "      <th>1745063</th>\n",
       "      <td>85354052</td>\n",
       "      <td>2020 고시넷 2주완성 사회조사분석사 2급 필기</td>\n",
       "      <td>1001</td>\n",
       "      <td>20200110</td>\n",
       "      <td>23000.0</td>\n",
       "      <td>고시넷</td>\n",
       "    </tr>\n",
       "    <tr>\n",
       "      <th>1745064</th>\n",
       "      <td>85354327</td>\n",
       "      <td>이시원의 영어 대모험 1 : 인칭대명사</td>\n",
       "      <td>1027</td>\n",
       "      <td>20200108</td>\n",
       "      <td>12000.0</td>\n",
       "      <td>아울북</td>\n",
       "    </tr>\n",
       "    <tr>\n",
       "      <th>1745065</th>\n",
       "      <td>85354780</td>\n",
       "      <td>민법공방</td>\n",
       "      <td>1001</td>\n",
       "      <td>20191230</td>\n",
       "      <td>53000.0</td>\n",
       "      <td>윌비스</td>\n",
       "    </tr>\n",
       "  </tbody>\n",
       "</table>\n",
       "<p>1725489 rows × 6 columns</p>\n",
       "</div>\n",
       "      <button class=\"colab-df-convert\" onclick=\"convertToInteractive('df-b6c94d1f-fb08-43ab-b8e2-e82302caf09c')\"\n",
       "              title=\"Convert this dataframe to an interactive table.\"\n",
       "              style=\"display:none;\">\n",
       "        \n",
       "  <svg xmlns=\"http://www.w3.org/2000/svg\" height=\"24px\"viewBox=\"0 0 24 24\"\n",
       "       width=\"24px\">\n",
       "    <path d=\"M0 0h24v24H0V0z\" fill=\"none\"/>\n",
       "    <path d=\"M18.56 5.44l.94 2.06.94-2.06 2.06-.94-2.06-.94-.94-2.06-.94 2.06-2.06.94zm-11 1L8.5 8.5l.94-2.06 2.06-.94-2.06-.94L8.5 2.5l-.94 2.06-2.06.94zm10 10l.94 2.06.94-2.06 2.06-.94-2.06-.94-.94-2.06-.94 2.06-2.06.94z\"/><path d=\"M17.41 7.96l-1.37-1.37c-.4-.4-.92-.59-1.43-.59-.52 0-1.04.2-1.43.59L10.3 9.45l-7.72 7.72c-.78.78-.78 2.05 0 2.83L4 21.41c.39.39.9.59 1.41.59.51 0 1.02-.2 1.41-.59l7.78-7.78 2.81-2.81c.8-.78.8-2.07 0-2.86zM5.41 20L4 18.59l7.72-7.72 1.47 1.35L5.41 20z\"/>\n",
       "  </svg>\n",
       "      </button>\n",
       "      \n",
       "  <style>\n",
       "    .colab-df-container {\n",
       "      display:flex;\n",
       "      flex-wrap:wrap;\n",
       "      gap: 12px;\n",
       "    }\n",
       "\n",
       "    .colab-df-convert {\n",
       "      background-color: #E8F0FE;\n",
       "      border: none;\n",
       "      border-radius: 50%;\n",
       "      cursor: pointer;\n",
       "      display: none;\n",
       "      fill: #1967D2;\n",
       "      height: 32px;\n",
       "      padding: 0 0 0 0;\n",
       "      width: 32px;\n",
       "    }\n",
       "\n",
       "    .colab-df-convert:hover {\n",
       "      background-color: #E2EBFA;\n",
       "      box-shadow: 0px 1px 2px rgba(60, 64, 67, 0.3), 0px 1px 3px 1px rgba(60, 64, 67, 0.15);\n",
       "      fill: #174EA6;\n",
       "    }\n",
       "\n",
       "    [theme=dark] .colab-df-convert {\n",
       "      background-color: #3B4455;\n",
       "      fill: #D2E3FC;\n",
       "    }\n",
       "\n",
       "    [theme=dark] .colab-df-convert:hover {\n",
       "      background-color: #434B5C;\n",
       "      box-shadow: 0px 1px 3px 1px rgba(0, 0, 0, 0.15);\n",
       "      filter: drop-shadow(0px 1px 2px rgba(0, 0, 0, 0.3));\n",
       "      fill: #FFFFFF;\n",
       "    }\n",
       "  </style>\n",
       "\n",
       "      <script>\n",
       "        const buttonEl =\n",
       "          document.querySelector('#df-b6c94d1f-fb08-43ab-b8e2-e82302caf09c button.colab-df-convert');\n",
       "        buttonEl.style.display =\n",
       "          google.colab.kernel.accessAllowed ? 'block' : 'none';\n",
       "\n",
       "        async function convertToInteractive(key) {\n",
       "          const element = document.querySelector('#df-b6c94d1f-fb08-43ab-b8e2-e82302caf09c');\n",
       "          const dataTable =\n",
       "            await google.colab.kernel.invokeFunction('convertToInteractive',\n",
       "                                                     [key], {});\n",
       "          if (!dataTable) return;\n",
       "\n",
       "          const docLinkHtml = 'Like what you see? Visit the ' +\n",
       "            '<a target=\"_blank\" href=https://colab.research.google.com/notebooks/data_table.ipynb>data table notebook</a>'\n",
       "            + ' to learn more about interactive tables.';\n",
       "          element.innerHTML = '';\n",
       "          dataTable['output_type'] = 'display_data';\n",
       "          await google.colab.output.renderOutput(dataTable, element);\n",
       "          const docLink = document.createElement('div');\n",
       "          docLink.innerHTML = docLinkHtml;\n",
       "          element.appendChild(docLink);\n",
       "        }\n",
       "      </script>\n",
       "    </div>\n",
       "  </div>\n",
       "  "
      ],
      "text/plain": [
       "         product_id                                       product_name  \\\n",
       "0          43528701  Slim 베스트 굿데이 성경 (개역개정4판/새찬송가합본/지퍼식/주석(단색)/반달색인...   \n",
       "1          43528730                        바이오메디컬 엔지니어를 위한 생체 신호 측정 실습   \n",
       "2          43528779  Slim 베스트 굿데이 성경 (개역개정4판/새찬송가합본/지퍼식/주석(단색)/반달색인...   \n",
       "3          43528822  Slim 베스트 굿데이 성경 (개역개정4판/새찬송가합본/지퍼식/주석(단색)/반달색인...   \n",
       "4          43528824                                      황종희가 꿈꾸는 도덕정치   \n",
       "...             ...                                                ...   \n",
       "1745061    85352665                           2020 임성래의 쉽게 쓴 품질경영기사 필기   \n",
       "1745062    85353942                              파고다 HSK 5급 종합서 최신 개정판   \n",
       "1745063    85354052                        2020 고시넷 2주완성 사회조사분석사 2급 필기   \n",
       "1745064    85354327                              이시원의 영어 대모험 1 : 인칭대명사   \n",
       "1745065    85354780                                               민법공방   \n",
       "\n",
       "         category_id published_at  shop_price    maker_name  \n",
       "0               1007     20170225     31000.0        생명의말씀사  \n",
       "1               1020     20170626     20000.0      계명대학교출판부  \n",
       "2               1007     20170225     31000.0        생명의말씀사  \n",
       "3               1007     20170225     31000.0        생명의말씀사  \n",
       "4               1009     20170625     20000.0    서울대학교출판문화원  \n",
       "...              ...          ...         ...           ...  \n",
       "1745061         1001     20200106     39000.0           성안당  \n",
       "1745062         1011     20200102     22000.0  PAGODA Books  \n",
       "1745063         1001     20200110     23000.0           고시넷  \n",
       "1745064         1027     20200108     12000.0           아울북  \n",
       "1745065         1001     20191230     53000.0           윌비스  \n",
       "\n",
       "[1725489 rows x 6 columns]"
      ]
     },
     "execution_count": 53,
     "metadata": {},
     "output_type": "execute_result"
    }
   ],
   "source": [
    "products"
   ]
  },
  {
   "cell_type": "markdown",
   "metadata": {
    "id": "70E43N2hmh55"
   },
   "source": [
    "### products: 출판일 전처리(date형식)"
   ]
  },
  {
   "cell_type": "code",
   "execution_count": null,
   "metadata": {
    "id": "blcW1y5YQtFk"
   },
   "outputs": [],
   "source": [
    "products['published_at'] = products['published_at'].apply(lambda x : x[0:8] if type(x) == 'str' else x)\n",
    "products['published_at'] = products['published_at'].apply(lambda x : x.strip())\n",
    "products['published_at'] = products['published_at'].apply(lambda x : '20991231' if len(x) <8 else x)\n",
    "products['published_at'] = products['published_at'].astype(str)\n",
    "products['published_at'] = products['published_at'].apply(lambda x : '20991231' if int(x[4:6]) >= 13 else x )\n",
    "products['published_at'] = products['published_at'].apply(lambda x : '20991231' if int(x) <= 19000000 else x)"
   ]
  },
  {
   "cell_type": "code",
   "execution_count": null,
   "metadata": {
    "id": "psAJhGiVUQWo"
   },
   "outputs": [],
   "source": [
    "products['published_at'] = products['published_at'].apply(lambda x : parse(x) )"
   ]
  },
  {
   "cell_type": "code",
   "execution_count": null,
   "metadata": {
    "colab": {
     "base_uri": "https://localhost:8080/",
     "height": 938
    },
    "executionInfo": {
     "elapsed": 611,
     "status": "ok",
     "timestamp": 1602682935713,
     "user": {
      "displayName": "­이영송",
      "photoUrl": "",
      "userId": "02657549077897894287"
     },
     "user_tz": -540
    },
    "id": "vZw9P_a0Vu_1",
    "outputId": "eb78b3a7-29f4-4656-fcc0-425f30f3df8c"
   },
   "outputs": [
    {
     "data": {
      "text/html": [
       "<div>\n",
       "<style scoped>\n",
       "    .dataframe tbody tr th:only-of-type {\n",
       "        vertical-align: middle;\n",
       "    }\n",
       "\n",
       "    .dataframe tbody tr th {\n",
       "        vertical-align: top;\n",
       "    }\n",
       "\n",
       "    .dataframe thead th {\n",
       "        text-align: right;\n",
       "    }\n",
       "</style>\n",
       "<table border=\"1\" class=\"dataframe\">\n",
       "  <thead>\n",
       "    <tr style=\"text-align: right;\">\n",
       "      <th></th>\n",
       "      <th>product_id</th>\n",
       "      <th>product_name</th>\n",
       "      <th>category_id</th>\n",
       "      <th>published_at</th>\n",
       "      <th>shop_price</th>\n",
       "      <th>maker_name</th>\n",
       "    </tr>\n",
       "  </thead>\n",
       "  <tbody>\n",
       "    <tr>\n",
       "      <th>0</th>\n",
       "      <td>43528701</td>\n",
       "      <td>Slim 베스트 굿데이 성경 (개역개정4판/새찬송가합본/지퍼식/주석(단색)/반달색인...</td>\n",
       "      <td>007</td>\n",
       "      <td>2017-02-25 00:00:00</td>\n",
       "      <td>31000.0</td>\n",
       "      <td>생명의말씀사</td>\n",
       "    </tr>\n",
       "    <tr>\n",
       "      <th>1</th>\n",
       "      <td>43528730</td>\n",
       "      <td>바이오메디컬 엔지니어를 위한 생체 신호 측정 실습</td>\n",
       "      <td>020</td>\n",
       "      <td>2017-06-26 00:00:00</td>\n",
       "      <td>20000.0</td>\n",
       "      <td>계명대학교출판부</td>\n",
       "    </tr>\n",
       "    <tr>\n",
       "      <th>2</th>\n",
       "      <td>43528779</td>\n",
       "      <td>Slim 베스트 굿데이 성경 (개역개정4판/새찬송가합본/지퍼식/주석(단색)/반달색인...</td>\n",
       "      <td>007</td>\n",
       "      <td>2017-02-25 00:00:00</td>\n",
       "      <td>31000.0</td>\n",
       "      <td>생명의말씀사</td>\n",
       "    </tr>\n",
       "    <tr>\n",
       "      <th>3</th>\n",
       "      <td>43528822</td>\n",
       "      <td>Slim 베스트 굿데이 성경 (개역개정4판/새찬송가합본/지퍼식/주석(단색)/반달색인...</td>\n",
       "      <td>007</td>\n",
       "      <td>2017-02-25 00:00:00</td>\n",
       "      <td>31000.0</td>\n",
       "      <td>생명의말씀사</td>\n",
       "    </tr>\n",
       "    <tr>\n",
       "      <th>4</th>\n",
       "      <td>43528824</td>\n",
       "      <td>황종희가 꿈꾸는 도덕정치</td>\n",
       "      <td>009</td>\n",
       "      <td>2017-06-25 00:00:00</td>\n",
       "      <td>20000.0</td>\n",
       "      <td>서울대학교출판문화원</td>\n",
       "    </tr>\n",
       "    <tr>\n",
       "      <th>...</th>\n",
       "      <td>...</td>\n",
       "      <td>...</td>\n",
       "      <td>...</td>\n",
       "      <td>...</td>\n",
       "      <td>...</td>\n",
       "      <td>...</td>\n",
       "    </tr>\n",
       "    <tr>\n",
       "      <th>1745061</th>\n",
       "      <td>85352665</td>\n",
       "      <td>2020 임성래의 쉽게 쓴 품질경영기사 필기</td>\n",
       "      <td>001</td>\n",
       "      <td>2020-01-06 00:00:00</td>\n",
       "      <td>39000.0</td>\n",
       "      <td>성안당</td>\n",
       "    </tr>\n",
       "    <tr>\n",
       "      <th>1745062</th>\n",
       "      <td>85353942</td>\n",
       "      <td>파고다 HSK 5급 종합서 최신 개정판</td>\n",
       "      <td>011</td>\n",
       "      <td>2020-01-02 00:00:00</td>\n",
       "      <td>22000.0</td>\n",
       "      <td>PAGODA Books</td>\n",
       "    </tr>\n",
       "    <tr>\n",
       "      <th>1745063</th>\n",
       "      <td>85354052</td>\n",
       "      <td>2020 고시넷 2주완성 사회조사분석사 2급 필기</td>\n",
       "      <td>001</td>\n",
       "      <td>2020-01-10 00:00:00</td>\n",
       "      <td>23000.0</td>\n",
       "      <td>고시넷</td>\n",
       "    </tr>\n",
       "    <tr>\n",
       "      <th>1745064</th>\n",
       "      <td>85354327</td>\n",
       "      <td>이시원의 영어 대모험 1 : 인칭대명사</td>\n",
       "      <td>027</td>\n",
       "      <td>2020-01-08 00:00:00</td>\n",
       "      <td>12000.0</td>\n",
       "      <td>아울북</td>\n",
       "    </tr>\n",
       "    <tr>\n",
       "      <th>1745065</th>\n",
       "      <td>85354780</td>\n",
       "      <td>민법공방</td>\n",
       "      <td>001</td>\n",
       "      <td>2019-12-30 00:00:00</td>\n",
       "      <td>53000.0</td>\n",
       "      <td>윌비스</td>\n",
       "    </tr>\n",
       "  </tbody>\n",
       "</table>\n",
       "<p>1725489 rows × 6 columns</p>\n",
       "</div>"
      ],
      "text/plain": [
       "         product_id  ...    maker_name\n",
       "0          43528701  ...        생명의말씀사\n",
       "1          43528730  ...      계명대학교출판부\n",
       "2          43528779  ...        생명의말씀사\n",
       "3          43528822  ...        생명의말씀사\n",
       "4          43528824  ...    서울대학교출판문화원\n",
       "...             ...  ...           ...\n",
       "1745061    85352665  ...           성안당\n",
       "1745062    85353942  ...  PAGODA Books\n",
       "1745063    85354052  ...           고시넷\n",
       "1745064    85354327  ...           아울북\n",
       "1745065    85354780  ...           윌비스\n",
       "\n",
       "[1725489 rows x 6 columns]"
      ]
     },
     "execution_count": 115,
     "metadata": {
      "tags": []
     },
     "output_type": "execute_result"
    }
   ],
   "source": [
    "products"
   ]
  },
  {
   "cell_type": "markdown",
   "metadata": {
    "id": "H_pVmR2Xm0EP"
   },
   "source": [
    "### products: 카테고리ID 전처리"
   ]
  },
  {
   "cell_type": "code",
   "execution_count": null,
   "metadata": {
    "id": "0Q0mCXkjUVdc"
   },
   "outputs": [],
   "source": [
    "products['category_id'] = products['category_id'].apply(lambda x : str(x)[1:])"
   ]
  },
  {
   "cell_type": "code",
   "execution_count": null,
   "metadata": {
    "colab": {
     "base_uri": "https://localhost:8080/"
    },
    "executionInfo": {
     "elapsed": 773,
     "status": "ok",
     "timestamp": 1647969021302,
     "user": {
      "displayName": "‍이상래[ 학부졸업 / 일어일문학과 ]",
      "photoUrl": "https://lh3.googleusercontent.com/a/default-user=s64",
      "userId": "01842756657580376258"
     },
     "user_tz": -540
    },
    "id": "oPIngoGxWPR3",
    "outputId": "50680e70-fb4b-474f-f0bb-c80ede5d0cb6"
   },
   "outputs": [
    {
     "data": {
      "text/plain": [
       "product_id      0\n",
       "product_name    0\n",
       "category_id     0\n",
       "published_at    0\n",
       "shop_price      0\n",
       "maker_name      0\n",
       "dtype: int64"
      ]
     },
     "execution_count": 61,
     "metadata": {},
     "output_type": "execute_result"
    }
   ],
   "source": [
    "products.isnull().sum()"
   ]
  },
  {
   "cell_type": "code",
   "execution_count": null,
   "metadata": {
    "id": "TXdNs7SlVudL"
   },
   "outputs": [],
   "source": [
    "products.to_csv(path+'products_preprocessed.csv',encoding='utf-8')"
   ]
  },
  {
   "cell_type": "markdown",
   "source": [
    "### products: 가격대 이산화"
   ],
   "metadata": {
    "id": "T0P4djk5MUTz"
   }
  },
  {
   "cell_type": "markdown",
   "metadata": {
    "id": "_ZrOEKo9WYkN"
   },
   "source": [
    "## click"
   ]
  },
  {
   "cell_type": "code",
   "execution_count": null,
   "metadata": {
    "id": "MD5v-XP6WX_L"
   },
   "outputs": [],
   "source": [
    "click = pd.read_csv(path+'log.csv')\n",
    "click.drop('Unnamed: 0', axis=1, inplace=True)"
   ]
  },
  {
   "cell_type": "code",
   "execution_count": null,
   "metadata": {
    "colab": {
     "base_uri": "https://localhost:8080/",
     "height": 224
    },
    "executionInfo": {
     "elapsed": 29,
     "status": "ok",
     "timestamp": 1647969141532,
     "user": {
      "displayName": "‍이상래[ 학부졸업 / 일어일문학과 ]",
      "photoUrl": "https://lh3.googleusercontent.com/a/default-user=s64",
      "userId": "01842756657580376258"
     },
     "user_tz": -540
    },
    "id": "kuAJiPdtWdGg",
    "outputId": "510f3c3c-3d2b-4fa6-ff78-037ccad78b35"
   },
   "outputs": [
    {
     "name": "stdout",
     "output_type": "stream",
     "text": [
      "(30113602, 5)\n"
     ]
    },
    {
     "data": {
      "text/html": [
       "\n",
       "  <div id=\"df-d080f1c7-47bf-4490-8a0b-a4523066fc68\">\n",
       "    <div class=\"colab-df-container\">\n",
       "      <div>\n",
       "<style scoped>\n",
       "    .dataframe tbody tr th:only-of-type {\n",
       "        vertical-align: middle;\n",
       "    }\n",
       "\n",
       "    .dataframe tbody tr th {\n",
       "        vertical-align: top;\n",
       "    }\n",
       "\n",
       "    .dataframe thead th {\n",
       "        text-align: right;\n",
       "    }\n",
       "</style>\n",
       "<table border=\"1\" class=\"dataframe\">\n",
       "  <thead>\n",
       "    <tr style=\"text-align: right;\">\n",
       "      <th></th>\n",
       "      <th>request_date_time</th>\n",
       "      <th>account_id</th>\n",
       "      <th>device_type</th>\n",
       "      <th>product_id</th>\n",
       "      <th>before_product_id</th>\n",
       "    </tr>\n",
       "  </thead>\n",
       "  <tbody>\n",
       "    <tr>\n",
       "      <th>0</th>\n",
       "      <td>2020-03-14 10:39:45</td>\n",
       "      <td>101496</td>\n",
       "      <td>M</td>\n",
       "      <td>88429694</td>\n",
       "      <td>0</td>\n",
       "    </tr>\n",
       "    <tr>\n",
       "      <th>1</th>\n",
       "      <td>2020-03-24 15:33:35</td>\n",
       "      <td>101496</td>\n",
       "      <td>M</td>\n",
       "      <td>64694842</td>\n",
       "      <td>0</td>\n",
       "    </tr>\n",
       "    <tr>\n",
       "      <th>2</th>\n",
       "      <td>2019-12-31 09:54:33</td>\n",
       "      <td>101496</td>\n",
       "      <td>M</td>\n",
       "      <td>81503945</td>\n",
       "      <td>0</td>\n",
       "    </tr>\n",
       "    <tr>\n",
       "      <th>3</th>\n",
       "      <td>2019-12-31 09:52:14</td>\n",
       "      <td>101496</td>\n",
       "      <td>M</td>\n",
       "      <td>84434768</td>\n",
       "      <td>0</td>\n",
       "    </tr>\n",
       "    <tr>\n",
       "      <th>4</th>\n",
       "      <td>2019-12-31 09:52:25</td>\n",
       "      <td>101496</td>\n",
       "      <td>M</td>\n",
       "      <td>81503945</td>\n",
       "      <td>0</td>\n",
       "    </tr>\n",
       "  </tbody>\n",
       "</table>\n",
       "</div>\n",
       "      <button class=\"colab-df-convert\" onclick=\"convertToInteractive('df-d080f1c7-47bf-4490-8a0b-a4523066fc68')\"\n",
       "              title=\"Convert this dataframe to an interactive table.\"\n",
       "              style=\"display:none;\">\n",
       "        \n",
       "  <svg xmlns=\"http://www.w3.org/2000/svg\" height=\"24px\"viewBox=\"0 0 24 24\"\n",
       "       width=\"24px\">\n",
       "    <path d=\"M0 0h24v24H0V0z\" fill=\"none\"/>\n",
       "    <path d=\"M18.56 5.44l.94 2.06.94-2.06 2.06-.94-2.06-.94-.94-2.06-.94 2.06-2.06.94zm-11 1L8.5 8.5l.94-2.06 2.06-.94-2.06-.94L8.5 2.5l-.94 2.06-2.06.94zm10 10l.94 2.06.94-2.06 2.06-.94-2.06-.94-.94-2.06-.94 2.06-2.06.94z\"/><path d=\"M17.41 7.96l-1.37-1.37c-.4-.4-.92-.59-1.43-.59-.52 0-1.04.2-1.43.59L10.3 9.45l-7.72 7.72c-.78.78-.78 2.05 0 2.83L4 21.41c.39.39.9.59 1.41.59.51 0 1.02-.2 1.41-.59l7.78-7.78 2.81-2.81c.8-.78.8-2.07 0-2.86zM5.41 20L4 18.59l7.72-7.72 1.47 1.35L5.41 20z\"/>\n",
       "  </svg>\n",
       "      </button>\n",
       "      \n",
       "  <style>\n",
       "    .colab-df-container {\n",
       "      display:flex;\n",
       "      flex-wrap:wrap;\n",
       "      gap: 12px;\n",
       "    }\n",
       "\n",
       "    .colab-df-convert {\n",
       "      background-color: #E8F0FE;\n",
       "      border: none;\n",
       "      border-radius: 50%;\n",
       "      cursor: pointer;\n",
       "      display: none;\n",
       "      fill: #1967D2;\n",
       "      height: 32px;\n",
       "      padding: 0 0 0 0;\n",
       "      width: 32px;\n",
       "    }\n",
       "\n",
       "    .colab-df-convert:hover {\n",
       "      background-color: #E2EBFA;\n",
       "      box-shadow: 0px 1px 2px rgba(60, 64, 67, 0.3), 0px 1px 3px 1px rgba(60, 64, 67, 0.15);\n",
       "      fill: #174EA6;\n",
       "    }\n",
       "\n",
       "    [theme=dark] .colab-df-convert {\n",
       "      background-color: #3B4455;\n",
       "      fill: #D2E3FC;\n",
       "    }\n",
       "\n",
       "    [theme=dark] .colab-df-convert:hover {\n",
       "      background-color: #434B5C;\n",
       "      box-shadow: 0px 1px 3px 1px rgba(0, 0, 0, 0.15);\n",
       "      filter: drop-shadow(0px 1px 2px rgba(0, 0, 0, 0.3));\n",
       "      fill: #FFFFFF;\n",
       "    }\n",
       "  </style>\n",
       "\n",
       "      <script>\n",
       "        const buttonEl =\n",
       "          document.querySelector('#df-d080f1c7-47bf-4490-8a0b-a4523066fc68 button.colab-df-convert');\n",
       "        buttonEl.style.display =\n",
       "          google.colab.kernel.accessAllowed ? 'block' : 'none';\n",
       "\n",
       "        async function convertToInteractive(key) {\n",
       "          const element = document.querySelector('#df-d080f1c7-47bf-4490-8a0b-a4523066fc68');\n",
       "          const dataTable =\n",
       "            await google.colab.kernel.invokeFunction('convertToInteractive',\n",
       "                                                     [key], {});\n",
       "          if (!dataTable) return;\n",
       "\n",
       "          const docLinkHtml = 'Like what you see? Visit the ' +\n",
       "            '<a target=\"_blank\" href=https://colab.research.google.com/notebooks/data_table.ipynb>data table notebook</a>'\n",
       "            + ' to learn more about interactive tables.';\n",
       "          element.innerHTML = '';\n",
       "          dataTable['output_type'] = 'display_data';\n",
       "          await google.colab.output.renderOutput(dataTable, element);\n",
       "          const docLink = document.createElement('div');\n",
       "          docLink.innerHTML = docLinkHtml;\n",
       "          element.appendChild(docLink);\n",
       "        }\n",
       "      </script>\n",
       "    </div>\n",
       "  </div>\n",
       "  "
      ],
      "text/plain": [
       "     request_date_time  account_id device_type  product_id  before_product_id\n",
       "0  2020-03-14 10:39:45      101496           M    88429694                  0\n",
       "1  2020-03-24 15:33:35      101496           M    64694842                  0\n",
       "2  2019-12-31 09:54:33      101496           M    81503945                  0\n",
       "3  2019-12-31 09:52:14      101496           M    84434768                  0\n",
       "4  2019-12-31 09:52:25      101496           M    81503945                  0"
      ]
     },
     "execution_count": 4,
     "metadata": {},
     "output_type": "execute_result"
    }
   ],
   "source": [
    "print(click.shape)\n",
    "click.head()"
   ]
  },
  {
   "cell_type": "markdown",
   "metadata": {
    "id": "S4AJOYMunEgv"
   },
   "source": [
    "### click: device_type 원핫인코딩"
   ]
  },
  {
   "cell_type": "code",
   "execution_count": null,
   "metadata": {
    "id": "O16N5pgzW5A_"
   },
   "outputs": [],
   "source": [
    "click['device_type'] = pd.DataFrame(encoder.fit_transform(click['device_type']))"
   ]
  },
  {
   "cell_type": "code",
   "execution_count": null,
   "metadata": {
    "colab": {
     "base_uri": "https://localhost:8080/"
    },
    "executionInfo": {
     "elapsed": 681,
     "status": "ok",
     "timestamp": 1647969304579,
     "user": {
      "displayName": "‍이상래[ 학부졸업 / 일어일문학과 ]",
      "photoUrl": "https://lh3.googleusercontent.com/a/default-user=s64",
      "userId": "01842756657580376258"
     },
     "user_tz": -540
    },
    "id": "GkF9R7HKXJWu",
    "outputId": "0ac5b83b-61cf-461f-a211-e3c14f65dc4a"
   },
   "outputs": [
    {
     "data": {
      "text/plain": [
       "request_date_time    0\n",
       "account_id           0\n",
       "device_type          0\n",
       "product_id           0\n",
       "before_product_id    0\n",
       "dtype: int64"
      ]
     },
     "execution_count": 7,
     "metadata": {},
     "output_type": "execute_result"
    }
   ],
   "source": [
    "click.isnull().sum()"
   ]
  },
  {
   "cell_type": "code",
   "execution_count": null,
   "metadata": {
    "id": "oBBuqYXsXtae"
   },
   "outputs": [],
   "source": [
    "click.to_csv(path+'click.csv',encoding='utf-8')"
   ]
  },
  {
   "cell_type": "markdown",
   "metadata": {
    "id": "mcUKrIMCX0R0"
   },
   "source": [
    "## click & orders"
   ]
  },
  {
   "cell_type": "markdown",
   "metadata": {
    "id": "snAPCXtUoPYf"
   },
   "source": [
    "### click & orders: orders 중 click없이 구매한 데이터(외부 사이트 이용) 삭제하기\n",
    "* click 데이터 크기가 방대하여 절반만 사용한 관계로 더 적어짐"
   ]
  },
  {
   "cell_type": "code",
   "execution_count": null,
   "metadata": {
    "id": "OlaVYJs8dvL_"
   },
   "outputs": [],
   "source": [
    "orders = pd.read_csv(path+'orders_preprocessed.csv',encoding='utf-8')"
   ]
  },
  {
   "cell_type": "code",
   "execution_count": null,
   "metadata": {
    "id": "BqHMsp7VXKcx"
   },
   "outputs": [],
   "source": [
    "order_check_account = click['account_id'].unique().tolist()\n",
    "order_check_product = click['product_id'].unique().tolist()"
   ]
  },
  {
   "cell_type": "code",
   "execution_count": null,
   "metadata": {
    "colab": {
     "base_uri": "https://localhost:8080/"
    },
    "executionInfo": {
     "elapsed": 271,
     "status": "ok",
     "timestamp": 1647969485343,
     "user": {
      "displayName": "‍이상래[ 학부졸업 / 일어일문학과 ]",
      "photoUrl": "https://lh3.googleusercontent.com/a/default-user=s64",
      "userId": "01842756657580376258"
     },
     "user_tz": -540
    },
    "id": "dEmqvLdNZO33",
    "outputId": "0e2c9aea-1fff-450a-b6c7-20164a7ed1c4"
   },
   "outputs": [
    {
     "data": {
      "text/plain": [
       "(8382514, 6)"
      ]
     },
     "execution_count": 10,
     "metadata": {},
     "output_type": "execute_result"
    }
   ],
   "source": [
    "orders.shape"
   ]
  },
  {
   "cell_type": "code",
   "execution_count": null,
   "metadata": {
    "id": "pnTOEtZ9Y9-w"
   },
   "outputs": [],
   "source": [
    "order_check_1 = orders[orders['product_id'].isin(order_check_product)]"
   ]
  },
  {
   "cell_type": "code",
   "execution_count": null,
   "metadata": {
    "colab": {
     "base_uri": "https://localhost:8080/"
    },
    "executionInfo": {
     "elapsed": 6,
     "status": "ok",
     "timestamp": 1647969487110,
     "user": {
      "displayName": "‍이상래[ 학부졸업 / 일어일문학과 ]",
      "photoUrl": "https://lh3.googleusercontent.com/a/default-user=s64",
      "userId": "01842756657580376258"
     },
     "user_tz": -540
    },
    "id": "bCc-42mfZNwv",
    "outputId": "453064e8-7f6a-44ec-81dc-ac0f9bac207a"
   },
   "outputs": [
    {
     "data": {
      "text/plain": [
       "(8344774, 6)"
      ]
     },
     "execution_count": 12,
     "metadata": {},
     "output_type": "execute_result"
    }
   ],
   "source": [
    "order_check_1.shape"
   ]
  },
  {
   "cell_type": "code",
   "execution_count": null,
   "metadata": {
    "id": "HpEgu4HIZREc"
   },
   "outputs": [],
   "source": [
    "order_check_2 = order_check_1[order_check_1['account_id'].isin(order_check_account)]"
   ]
  },
  {
   "cell_type": "code",
   "execution_count": null,
   "metadata": {
    "colab": {
     "base_uri": "https://localhost:8080/"
    },
    "executionInfo": {
     "elapsed": 3,
     "status": "ok",
     "timestamp": 1647969488467,
     "user": {
      "displayName": "‍이상래[ 학부졸업 / 일어일문학과 ]",
      "photoUrl": "https://lh3.googleusercontent.com/a/default-user=s64",
      "userId": "01842756657580376258"
     },
     "user_tz": -540
    },
    "id": "QKZXqmC4Zcqs",
    "outputId": "be0c1073-0f41-407f-90be-2600fa4dce73"
   },
   "outputs": [
    {
     "data": {
      "text/plain": [
       "(4035057, 6)"
      ]
     },
     "execution_count": 14,
     "metadata": {},
     "output_type": "execute_result"
    }
   ],
   "source": [
    "order_check_2.shape"
   ]
  },
  {
   "cell_type": "code",
   "execution_count": null,
   "metadata": {
    "id": "uCfG-TBKd6Lb"
   },
   "outputs": [],
   "source": [
    "order_check_2 = order_check_2.iloc[:,1:]"
   ]
  },
  {
   "cell_type": "code",
   "execution_count": null,
   "metadata": {
    "id": "sJVI3-8BZdy4"
   },
   "outputs": [],
   "source": [
    "order_check_2.to_csv(path+'orders_only_in_clicks.csv',encoding='utf-8')"
   ]
  },
  {
   "cell_type": "markdown",
   "metadata": {
    "id": "j2T2plYdhQqx"
   },
   "source": [
    "## Feature Engineering"
   ]
  },
  {
   "cell_type": "code",
   "execution_count": null,
   "metadata": {
    "id": "LqOOEU_miC9L"
   },
   "outputs": [],
   "source": [
    "import pandas as pd\n",
    "pd.options.display.float_format = '{:.2f}'.format\n",
    "import os\n",
    "path = '/content/drive/Shared drives/YES24/YES24 정리폴더/0. 전처리/'\n",
    "import numpy as np\n",
    "\n",
    "from datetime import datetime\n",
    "import datetime\n",
    "from dateutil.parser import parse\n",
    "from sklearn.preprocessing import LabelEncoder\n",
    "encoder = LabelEncoder()"
   ]
  },
  {
   "cell_type": "markdown",
   "metadata": {
    "id": "eqhSFahthT06"
   },
   "source": [
    "### 신구 선호도_orders 3,4/5"
   ]
  },
  {
   "cell_type": "markdown",
   "metadata": {
    "id": "h-IDoZqwqVVq"
   },
   "source": [
    "#### products: 2020년에 출판된 도서는 모두 예전 도서로 취급"
   ]
  },
  {
   "cell_type": "code",
   "execution_count": null,
   "metadata": {
    "id": "_2iNZ8vhhSrl"
   },
   "outputs": [],
   "source": [
    "products = pd.read_csv(path+'products_preprocessed.csv',dtype={'category_id':str})\n",
    "products.drop('Unnamed: 0',axis=1,inplace=True)"
   ]
  },
  {
   "cell_type": "code",
   "execution_count": null,
   "metadata": {
    "id": "cqOFKuM_iJZy"
   },
   "outputs": [],
   "source": [
    "products['published_at'] = products['published_at'].apply(lambda x: str(x))\n",
    "products['pub_newold'] = products['published_at'].apply(lambda x: 1 if x[0:4] == '2020' else 0)"
   ]
  },
  {
   "cell_type": "code",
   "execution_count": null,
   "metadata": {
    "colab": {
     "base_uri": "https://localhost:8080/"
    },
    "executionInfo": {
     "elapsed": 760,
     "status": "ok",
     "timestamp": 1647970416688,
     "user": {
      "displayName": "‍이상래[ 학부졸업 / 일어일문학과 ]",
      "photoUrl": "https://lh3.googleusercontent.com/a/default-user=s64",
      "userId": "01842756657580376258"
     },
     "user_tz": -540
    },
    "id": "vSF28hPtlCrD",
    "outputId": "e9fa157e-af52-4e5b-e1cb-b4d21230aac2"
   },
   "outputs": [
    {
     "data": {
      "text/plain": [
       "product_id      0\n",
       "product_name    0\n",
       "category_id     0\n",
       "published_at    0\n",
       "shop_price      0\n",
       "maker_name      0\n",
       "pub_newold      0\n",
       "dtype: int64"
      ]
     },
     "execution_count": 20,
     "metadata": {},
     "output_type": "execute_result"
    }
   ],
   "source": [
    "products.dropna(inplace=True)\n",
    "products.isnull().sum()"
   ]
  },
  {
   "cell_type": "markdown",
   "metadata": {
    "id": "bByPosvTqfAj"
   },
   "source": [
    "#### orders: 4월 30일 기준으로 train/test 분할"
   ]
  },
  {
   "cell_type": "code",
   "execution_count": null,
   "metadata": {
    "id": "wyF1txbAivpt"
   },
   "outputs": [],
   "source": [
    "orders = pd.read_csv(path+'orders_only_in_clicks.csv')\n",
    "orders.drop('Unnamed: 0', axis=1, inplace=True)"
   ]
  },
  {
   "cell_type": "code",
   "execution_count": null,
   "metadata": {
    "id": "ME1eRKWbi_Bw"
   },
   "outputs": [],
   "source": [
    "orders['created_at']= orders['created_at'].astype('datetime64[ns]')"
   ]
  },
  {
   "cell_type": "code",
   "execution_count": null,
   "metadata": {
    "id": "-2DoUJMsjTym"
   },
   "outputs": [],
   "source": [
    "train_date = datetime.date(2020, 4, 30)\n",
    "orders['train'] = orders['created_at'].apply(lambda x: np.nan if x.date() > train_date else x)"
   ]
  },
  {
   "cell_type": "code",
   "execution_count": null,
   "metadata": {
    "colab": {
     "base_uri": "https://localhost:8080/",
     "height": 641
    },
    "executionInfo": {
     "elapsed": 422,
     "status": "ok",
     "timestamp": 1647970445277,
     "user": {
      "displayName": "‍이상래[ 학부졸업 / 일어일문학과 ]",
      "photoUrl": "https://lh3.googleusercontent.com/a/default-user=s64",
      "userId": "01842756657580376258"
     },
     "user_tz": -540
    },
    "id": "cF7XqiaajaKp",
    "outputId": "6661636b-9824-400f-def1-4996756eb075"
   },
   "outputs": [
    {
     "data": {
      "text/html": [
       "\n",
       "  <div id=\"df-60da002a-00ad-4c54-95ce-64bc26f8e405\">\n",
       "    <div class=\"colab-df-container\">\n",
       "      <div>\n",
       "<style scoped>\n",
       "    .dataframe tbody tr th:only-of-type {\n",
       "        vertical-align: middle;\n",
       "    }\n",
       "\n",
       "    .dataframe tbody tr th {\n",
       "        vertical-align: top;\n",
       "    }\n",
       "\n",
       "    .dataframe thead th {\n",
       "        text-align: right;\n",
       "    }\n",
       "</style>\n",
       "<table border=\"1\" class=\"dataframe\">\n",
       "  <thead>\n",
       "    <tr style=\"text-align: right;\">\n",
       "      <th></th>\n",
       "      <th>order_id</th>\n",
       "      <th>account_id</th>\n",
       "      <th>product_id</th>\n",
       "      <th>price</th>\n",
       "      <th>created_at</th>\n",
       "      <th>train</th>\n",
       "    </tr>\n",
       "  </thead>\n",
       "  <tbody>\n",
       "    <tr>\n",
       "      <th>1</th>\n",
       "      <td>217109953</td>\n",
       "      <td>104533</td>\n",
       "      <td>234373</td>\n",
       "      <td>18000.00</td>\n",
       "      <td>2020-03-11 13:59:53.880</td>\n",
       "      <td>2020-03-11 13:59:53.880</td>\n",
       "    </tr>\n",
       "    <tr>\n",
       "      <th>2</th>\n",
       "      <td>220523812</td>\n",
       "      <td>106728</td>\n",
       "      <td>38972963</td>\n",
       "      <td>12600.00</td>\n",
       "      <td>2020-04-21 08:15:15.880</td>\n",
       "      <td>2020-04-21 08:15:15.880</td>\n",
       "    </tr>\n",
       "    <tr>\n",
       "      <th>3</th>\n",
       "      <td>220523812</td>\n",
       "      <td>106728</td>\n",
       "      <td>69645132</td>\n",
       "      <td>9000.00</td>\n",
       "      <td>2020-04-21 08:15:15.880</td>\n",
       "      <td>2020-04-21 08:15:15.880</td>\n",
       "    </tr>\n",
       "    <tr>\n",
       "      <th>4</th>\n",
       "      <td>216465952</td>\n",
       "      <td>106728</td>\n",
       "      <td>8157957</td>\n",
       "      <td>13320.00</td>\n",
       "      <td>2020-03-04 09:19:32.886</td>\n",
       "      <td>2020-03-04 09:19:32.886</td>\n",
       "    </tr>\n",
       "    <tr>\n",
       "      <th>5</th>\n",
       "      <td>216465952</td>\n",
       "      <td>106728</td>\n",
       "      <td>57920512</td>\n",
       "      <td>9900.00</td>\n",
       "      <td>2020-03-04 09:19:32.886</td>\n",
       "      <td>2020-03-04 09:19:32.886</td>\n",
       "    </tr>\n",
       "    <tr>\n",
       "      <th>...</th>\n",
       "      <td>...</td>\n",
       "      <td>...</td>\n",
       "      <td>...</td>\n",
       "      <td>...</td>\n",
       "      <td>...</td>\n",
       "      <td>...</td>\n",
       "    </tr>\n",
       "    <tr>\n",
       "      <th>4034973</th>\n",
       "      <td>221116360</td>\n",
       "      <td>16830266</td>\n",
       "      <td>78696213</td>\n",
       "      <td>15750.00</td>\n",
       "      <td>2020-04-29 05:49:28.040</td>\n",
       "      <td>2020-04-29 05:49:28.040</td>\n",
       "    </tr>\n",
       "    <tr>\n",
       "      <th>4034974</th>\n",
       "      <td>221164923</td>\n",
       "      <td>16834484</td>\n",
       "      <td>90047753</td>\n",
       "      <td>4500.00</td>\n",
       "      <td>2020-04-30 02:05:54.086</td>\n",
       "      <td>2020-04-30 02:05:54.086</td>\n",
       "    </tr>\n",
       "    <tr>\n",
       "      <th>4034975</th>\n",
       "      <td>221164923</td>\n",
       "      <td>16834484</td>\n",
       "      <td>24262537</td>\n",
       "      <td>7920.00</td>\n",
       "      <td>2020-04-30 02:05:54.086</td>\n",
       "      <td>2020-04-30 02:05:54.086</td>\n",
       "    </tr>\n",
       "    <tr>\n",
       "      <th>4034976</th>\n",
       "      <td>221164923</td>\n",
       "      <td>16834484</td>\n",
       "      <td>43830706</td>\n",
       "      <td>8400.00</td>\n",
       "      <td>2020-04-30 02:05:54.086</td>\n",
       "      <td>2020-04-30 02:05:54.086</td>\n",
       "    </tr>\n",
       "    <tr>\n",
       "      <th>4034977</th>\n",
       "      <td>221185401</td>\n",
       "      <td>16836022</td>\n",
       "      <td>63753244</td>\n",
       "      <td>30000.00</td>\n",
       "      <td>2020-04-30 09:39:54.926</td>\n",
       "      <td>2020-04-30 09:39:54.926</td>\n",
       "    </tr>\n",
       "  </tbody>\n",
       "</table>\n",
       "<p>2814983 rows × 6 columns</p>\n",
       "</div>\n",
       "      <button class=\"colab-df-convert\" onclick=\"convertToInteractive('df-60da002a-00ad-4c54-95ce-64bc26f8e405')\"\n",
       "              title=\"Convert this dataframe to an interactive table.\"\n",
       "              style=\"display:none;\">\n",
       "        \n",
       "  <svg xmlns=\"http://www.w3.org/2000/svg\" height=\"24px\"viewBox=\"0 0 24 24\"\n",
       "       width=\"24px\">\n",
       "    <path d=\"M0 0h24v24H0V0z\" fill=\"none\"/>\n",
       "    <path d=\"M18.56 5.44l.94 2.06.94-2.06 2.06-.94-2.06-.94-.94-2.06-.94 2.06-2.06.94zm-11 1L8.5 8.5l.94-2.06 2.06-.94-2.06-.94L8.5 2.5l-.94 2.06-2.06.94zm10 10l.94 2.06.94-2.06 2.06-.94-2.06-.94-.94-2.06-.94 2.06-2.06.94z\"/><path d=\"M17.41 7.96l-1.37-1.37c-.4-.4-.92-.59-1.43-.59-.52 0-1.04.2-1.43.59L10.3 9.45l-7.72 7.72c-.78.78-.78 2.05 0 2.83L4 21.41c.39.39.9.59 1.41.59.51 0 1.02-.2 1.41-.59l7.78-7.78 2.81-2.81c.8-.78.8-2.07 0-2.86zM5.41 20L4 18.59l7.72-7.72 1.47 1.35L5.41 20z\"/>\n",
       "  </svg>\n",
       "      </button>\n",
       "      \n",
       "  <style>\n",
       "    .colab-df-container {\n",
       "      display:flex;\n",
       "      flex-wrap:wrap;\n",
       "      gap: 12px;\n",
       "    }\n",
       "\n",
       "    .colab-df-convert {\n",
       "      background-color: #E8F0FE;\n",
       "      border: none;\n",
       "      border-radius: 50%;\n",
       "      cursor: pointer;\n",
       "      display: none;\n",
       "      fill: #1967D2;\n",
       "      height: 32px;\n",
       "      padding: 0 0 0 0;\n",
       "      width: 32px;\n",
       "    }\n",
       "\n",
       "    .colab-df-convert:hover {\n",
       "      background-color: #E2EBFA;\n",
       "      box-shadow: 0px 1px 2px rgba(60, 64, 67, 0.3), 0px 1px 3px 1px rgba(60, 64, 67, 0.15);\n",
       "      fill: #174EA6;\n",
       "    }\n",
       "\n",
       "    [theme=dark] .colab-df-convert {\n",
       "      background-color: #3B4455;\n",
       "      fill: #D2E3FC;\n",
       "    }\n",
       "\n",
       "    [theme=dark] .colab-df-convert:hover {\n",
       "      background-color: #434B5C;\n",
       "      box-shadow: 0px 1px 3px 1px rgba(0, 0, 0, 0.15);\n",
       "      filter: drop-shadow(0px 1px 2px rgba(0, 0, 0, 0.3));\n",
       "      fill: #FFFFFF;\n",
       "    }\n",
       "  </style>\n",
       "\n",
       "      <script>\n",
       "        const buttonEl =\n",
       "          document.querySelector('#df-60da002a-00ad-4c54-95ce-64bc26f8e405 button.colab-df-convert');\n",
       "        buttonEl.style.display =\n",
       "          google.colab.kernel.accessAllowed ? 'block' : 'none';\n",
       "\n",
       "        async function convertToInteractive(key) {\n",
       "          const element = document.querySelector('#df-60da002a-00ad-4c54-95ce-64bc26f8e405');\n",
       "          const dataTable =\n",
       "            await google.colab.kernel.invokeFunction('convertToInteractive',\n",
       "                                                     [key], {});\n",
       "          if (!dataTable) return;\n",
       "\n",
       "          const docLinkHtml = 'Like what you see? Visit the ' +\n",
       "            '<a target=\"_blank\" href=https://colab.research.google.com/notebooks/data_table.ipynb>data table notebook</a>'\n",
       "            + ' to learn more about interactive tables.';\n",
       "          element.innerHTML = '';\n",
       "          dataTable['output_type'] = 'display_data';\n",
       "          await google.colab.output.renderOutput(dataTable, element);\n",
       "          const docLink = document.createElement('div');\n",
       "          docLink.innerHTML = docLinkHtml;\n",
       "          element.appendChild(docLink);\n",
       "        }\n",
       "      </script>\n",
       "    </div>\n",
       "  </div>\n",
       "  "
      ],
      "text/plain": [
       "          order_id  account_id  product_id    price              created_at  \\\n",
       "1        217109953      104533      234373 18000.00 2020-03-11 13:59:53.880   \n",
       "2        220523812      106728    38972963 12600.00 2020-04-21 08:15:15.880   \n",
       "3        220523812      106728    69645132  9000.00 2020-04-21 08:15:15.880   \n",
       "4        216465952      106728     8157957 13320.00 2020-03-04 09:19:32.886   \n",
       "5        216465952      106728    57920512  9900.00 2020-03-04 09:19:32.886   \n",
       "...            ...         ...         ...      ...                     ...   \n",
       "4034973  221116360    16830266    78696213 15750.00 2020-04-29 05:49:28.040   \n",
       "4034974  221164923    16834484    90047753  4500.00 2020-04-30 02:05:54.086   \n",
       "4034975  221164923    16834484    24262537  7920.00 2020-04-30 02:05:54.086   \n",
       "4034976  221164923    16834484    43830706  8400.00 2020-04-30 02:05:54.086   \n",
       "4034977  221185401    16836022    63753244 30000.00 2020-04-30 09:39:54.926   \n",
       "\n",
       "                          train  \n",
       "1       2020-03-11 13:59:53.880  \n",
       "2       2020-04-21 08:15:15.880  \n",
       "3       2020-04-21 08:15:15.880  \n",
       "4       2020-03-04 09:19:32.886  \n",
       "5       2020-03-04 09:19:32.886  \n",
       "...                         ...  \n",
       "4034973 2020-04-29 05:49:28.040  \n",
       "4034974 2020-04-30 02:05:54.086  \n",
       "4034975 2020-04-30 02:05:54.086  \n",
       "4034976 2020-04-30 02:05:54.086  \n",
       "4034977 2020-04-30 09:39:54.926  \n",
       "\n",
       "[2814983 rows x 6 columns]"
      ]
     },
     "execution_count": 24,
     "metadata": {},
     "output_type": "execute_result"
    }
   ],
   "source": [
    "orders_train = orders.dropna()\n",
    "orders_train"
   ]
  },
  {
   "cell_type": "markdown",
   "metadata": {
    "id": "BNjaHCizqvZf"
   },
   "source": [
    "#### product + order (train)"
   ]
  },
  {
   "cell_type": "code",
   "execution_count": null,
   "metadata": {
    "id": "QijCdxNKjp64"
   },
   "outputs": [],
   "source": [
    "orders_products_train = pd.merge(orders_train, products, on='product_id',how='left')"
   ]
  },
  {
   "cell_type": "code",
   "execution_count": null,
   "metadata": {
    "colab": {
     "base_uri": "https://localhost:8080/"
    },
    "executionInfo": {
     "elapsed": 3247,
     "status": "ok",
     "timestamp": 1647970451868,
     "user": {
      "displayName": "‍이상래[ 학부졸업 / 일어일문학과 ]",
      "photoUrl": "https://lh3.googleusercontent.com/a/default-user=s64",
      "userId": "01842756657580376258"
     },
     "user_tz": -540
    },
    "id": "pkolk_61kFlH",
    "outputId": "e61a398f-8503-4e88-b951-ae702df57411"
   },
   "outputs": [
    {
     "name": "stdout",
     "output_type": "stream",
     "text": [
      "order_id           0\n",
      "account_id         0\n",
      "product_id         0\n",
      "price              0\n",
      "created_at         0\n",
      "train              0\n",
      "product_name    1144\n",
      "category_id     1144\n",
      "published_at    1144\n",
      "shop_price      1144\n",
      "maker_name      1144\n",
      "pub_newold      1144\n",
      "dtype: int64\n"
     ]
    }
   ],
   "source": [
    "print(orders_products_train.isnull().sum())\n",
    "orders_products_train.dropna(inplace=True)"
   ]
  },
  {
   "cell_type": "markdown",
   "metadata": {
    "id": "ZuljK3BBq-HB"
   },
   "source": [
    "#### preference: mean을 통해 신구선호도 집계, 1에 가까울 수록 신규도서 선호 (train)"
   ]
  },
  {
   "cell_type": "code",
   "execution_count": null,
   "metadata": {
    "id": "ZKhb2UT1lNul"
   },
   "outputs": [],
   "source": [
    "preference = pd.DataFrame(orders_products_train.groupby('account_id')['pub_newold'].agg('mean'))\n",
    "preference.reset_index(inplace=True)\n",
    "preference.rename(columns = {'pub_newold':'new_preference'}, inplace=True)"
   ]
  },
  {
   "cell_type": "markdown",
   "metadata": {
    "id": "HovmT-pQrPqU"
   },
   "source": [
    "#### product + order + preference (train)"
   ]
  },
  {
   "cell_type": "code",
   "execution_count": null,
   "metadata": {
    "id": "Ce373_bOlyPS"
   },
   "outputs": [],
   "source": [
    "orders_preference_train = pd.merge(orders_train, preference, on='account_id', how='left')"
   ]
  },
  {
   "cell_type": "code",
   "execution_count": null,
   "metadata": {
    "id": "koIvNL3YnKe8"
   },
   "outputs": [],
   "source": [
    "orders['test'] = orders['created_at'].apply(lambda x: np.nan if x.date() < train_date else x)"
   ]
  },
  {
   "cell_type": "markdown",
   "metadata": {
    "id": "vvHlkU3prq9u"
   },
   "source": [
    "#### product + order (test)"
   ]
  },
  {
   "cell_type": "code",
   "execution_count": null,
   "metadata": {
    "id": "9496ML3YnKYT"
   },
   "outputs": [],
   "source": [
    "orders_test = orders.drop('train',axis=1)\n",
    "orders_test.dropna(inplace=True)"
   ]
  },
  {
   "cell_type": "code",
   "execution_count": null,
   "metadata": {
    "id": "epqaEjEHn6tp"
   },
   "outputs": [],
   "source": [
    "orders_products_test = pd.merge(orders_test, products, on='product_id',how='left')"
   ]
  },
  {
   "cell_type": "code",
   "execution_count": null,
   "metadata": {
    "colab": {
     "base_uri": "https://localhost:8080/"
    },
    "executionInfo": {
     "elapsed": 709,
     "status": "ok",
     "timestamp": 1647970474399,
     "user": {
      "displayName": "‍이상래[ 학부졸업 / 일어일문학과 ]",
      "photoUrl": "https://lh3.googleusercontent.com/a/default-user=s64",
      "userId": "01842756657580376258"
     },
     "user_tz": -540
    },
    "id": "h6tsnAVdn8N_",
    "outputId": "145891b5-8a5e-4d4e-d48f-ceb74402bbae"
   },
   "outputs": [
    {
     "name": "stdout",
     "output_type": "stream",
     "text": [
      "order_id          0\n",
      "account_id        0\n",
      "product_id        0\n",
      "price             0\n",
      "created_at        0\n",
      "test              0\n",
      "product_name    592\n",
      "category_id     592\n",
      "published_at    592\n",
      "shop_price      592\n",
      "maker_name      592\n",
      "pub_newold      592\n",
      "dtype: int64\n"
     ]
    }
   ],
   "source": [
    "print(orders_products_test.isnull().sum())\n",
    "orders_products_test.dropna(inplace=True)"
   ]
  },
  {
   "cell_type": "markdown",
   "metadata": {
    "id": "5siZFrFwr5K2"
   },
   "source": [
    "#### preference: mean을 통해 신구선호도 집계, 1에 가까울 수록 신규도서 선호 (test)"
   ]
  },
  {
   "cell_type": "code",
   "execution_count": null,
   "metadata": {
    "id": "P41_-HpSoADM"
   },
   "outputs": [],
   "source": [
    "preference_test = pd.DataFrame(orders_products_test.groupby('account_id')['pub_newold'].agg('mean'))\n",
    "preference_test.reset_index(inplace=True)\n",
    "preference_test.rename(columns = {'pub_newold':'new_preference'}, inplace=True)"
   ]
  },
  {
   "cell_type": "markdown",
   "metadata": {
    "id": "WQkBl9ler8FX"
   },
   "source": [
    "#### product + order + preference (test)"
   ]
  },
  {
   "cell_type": "code",
   "execution_count": null,
   "metadata": {
    "id": "F6uQYXSRoAQG"
   },
   "outputs": [],
   "source": [
    "orders_preference_test = pd.merge(orders_test, preference_test, on='account_id', how='left')"
   ]
  },
  {
   "cell_type": "code",
   "execution_count": null,
   "metadata": {
    "colab": {
     "base_uri": "https://localhost:8080/",
     "height": 294
    },
    "executionInfo": {
     "elapsed": 587,
     "status": "ok",
     "timestamp": 1647970475461,
     "user": {
      "displayName": "‍이상래[ 학부졸업 / 일어일문학과 ]",
      "photoUrl": "https://lh3.googleusercontent.com/a/default-user=s64",
      "userId": "01842756657580376258"
     },
     "user_tz": -540
    },
    "id": "BwkYuiGxsMG_",
    "outputId": "c5575097-1dd0-40de-9582-3fb7cb20f076"
   },
   "outputs": [
    {
     "data": {
      "text/plain": [
       "<matplotlib.axes._subplots.AxesSubplot at 0x7f26a9ae2790>"
      ]
     },
     "execution_count": 35,
     "metadata": {},
     "output_type": "execute_result"
    },
    {
     "data": {
      "image/png": "[encoded data removed]",
      "text/plain": [
       "<Figure size 432x288 with 1 Axes>"
      ]
     },
     "metadata": {},
     "output_type": "display_data"
    }
   ],
   "source": [
    "orders_preference_train.new_preference.hist()"
   ]
  },
  {
   "cell_type": "code",
   "execution_count": null,
   "metadata": {
    "colab": {
     "base_uri": "https://localhost:8080/",
     "height": 283
    },
    "executionInfo": {
     "elapsed": 516,
     "status": "ok",
     "timestamp": 1647970475973,
     "user": {
      "displayName": "‍이상래[ 학부졸업 / 일어일문학과 ]",
      "photoUrl": "https://lh3.googleusercontent.com/a/default-user=s64",
      "userId": "01842756657580376258"
     },
     "user_tz": -540
    },
    "id": "UHkIDgvhsM2z",
    "outputId": "ea9d96fe-d248-4399-c767-361050110d70"
   },
   "outputs": [
    {
     "data": {
      "text/plain": [
       "<matplotlib.axes._subplots.AxesSubplot at 0x7f2693f7a250>"
      ]
     },
     "execution_count": 36,
     "metadata": {},
     "output_type": "execute_result"
    },
    {
     "data": {
      "image/png": "[encoded data removed]",
      "text/plain": [
       "<Figure size 432x288 with 1 Axes>"
      ]
     },
     "metadata": {},
     "output_type": "display_data"
    }
   ],
   "source": [
    "orders_preference_test.new_preference.hist()"
   ]
  },
  {
   "cell_type": "markdown",
   "metadata": {
    "id": "cTdtw6_6sFLO"
   },
   "source": [
    "#### preference: 0.5 기준으로 0, 1로 바꿈"
   ]
  },
  {
   "cell_type": "code",
   "execution_count": null,
   "metadata": {
    "id": "O_KRGGscszez"
   },
   "outputs": [],
   "source": [
    "orders_preference_train['new_pref'] = orders_preference_train['new_preference'].apply(lambda x: 1 if x>=0.5 else 0)\n",
    "orders_preference_test['new_pref'] = orders_preference_test['new_preference'].apply(lambda x: 1 if x>=0.5 else 0)"
   ]
  },
  {
   "cell_type": "code",
   "execution_count": null,
   "metadata": {
    "id": "6q53lQMNJa2h"
   },
   "outputs": [],
   "source": [
    "orders_preference_train['new_pref'] = orders_preference_train['new_preference'].apply(lambda x: 1 if x>=0.5 else 0)\n",
    "orders_preference_test['new_pref'] = orders_preference_test['new_preference'].apply(lambda x: 1 if x>=0.5 else 0)"
   ]
  },
  {
   "cell_type": "code",
   "execution_count": null,
   "metadata": {
    "id": "grBDiFJEoHv1"
   },
   "outputs": [],
   "source": [
    "orders_preference_train.to_csv(path+'orders_preference_train.csv',encoding='utf-8')\n",
    "orders_preference_test.to_csv(path+'orders_preference_test.csv',encoding='utf-8')"
   ]
  },
  {
   "cell_type": "markdown",
   "metadata": {
    "id": "MC_TA0H3oaIw"
   },
   "source": [
    "### 신구 선호도_click 3,4 / 5"
   ]
  },
  {
   "cell_type": "markdown",
   "metadata": {
    "id": "FBDezmkIsleI"
   },
   "source": [
    "#### click: 3월 1일 ~ 4월 30일, 그리고 3월 1일 이전 데이터(train) / 5월 1일 이후 데이터 (test)"
   ]
  },
  {
   "cell_type": "code",
   "execution_count": null,
   "metadata": {
    "id": "MfROHl7hmJcy"
   },
   "outputs": [],
   "source": [
    "click = pd.read_csv(path+'click.csv')\n",
    "click.drop('Unnamed: 0', axis=1, inplace=True)"
   ]
  },
  {
   "cell_type": "code",
   "execution_count": null,
   "metadata": {
    "id": "eV4OddhXmfN0"
   },
   "outputs": [],
   "source": [
    "click['request_date_time'] = click['request_date_time'].astype('datetime64[ns]')"
   ]
  },
  {
   "cell_type": "code",
   "execution_count": null,
   "metadata": {
    "id": "VSF4-tWEox8u"
   },
   "outputs": [],
   "source": [
    "start = datetime.date(2020, 3, 1)\n",
    "train = datetime.date(2020, 5, 1)"
   ]
  },
  {
   "cell_type": "code",
   "execution_count": null,
   "metadata": {
    "id": "926ImA5Uo-nS"
   },
   "outputs": [],
   "source": [
    "click['train'] = click['request_date_time'].apply(lambda x: np.nan if x.date() < start else x )\n",
    "click.dropna(inplace=True)"
   ]
  },
  {
   "cell_type": "code",
   "execution_count": null,
   "metadata": {
    "id": "t1jAK6qcpevD"
   },
   "outputs": [],
   "source": [
    "click['train'] = click['request_date_time'].apply(lambda x: np.nan if x.date() >= train else x )\n",
    "click['test'] = click['request_date_time'].apply(lambda x: np.nan if x.date() < train else x )"
   ]
  },
  {
   "cell_type": "code",
   "execution_count": null,
   "metadata": {
    "id": "jUtJ3c31p4Fz"
   },
   "outputs": [],
   "source": [
    "click_train = click.drop('test', axis=1)\n",
    "click_train.dropna(inplace=True)"
   ]
  },
  {
   "cell_type": "code",
   "execution_count": null,
   "metadata": {
    "id": "IbSLNqfoqDN4"
   },
   "outputs": [],
   "source": [
    "click_test = click.drop('train',axis=1)\n",
    "click_test.dropna(inplace=True)"
   ]
  },
  {
   "cell_type": "markdown",
   "metadata": {
    "id": "JIu9ursys6Pa"
   },
   "source": [
    "#### click + product (train, test)"
   ]
  },
  {
   "cell_type": "code",
   "execution_count": null,
   "metadata": {
    "id": "Y8e5eOLgqHjt"
   },
   "outputs": [],
   "source": [
    "click_product_train = pd.merge(click_train,products,on='product_id',how='left')\n",
    "click_product_train.dropna(inplace=True)"
   ]
  },
  {
   "cell_type": "code",
   "execution_count": null,
   "metadata": {
    "id": "MscDHLkkqaTC"
   },
   "outputs": [],
   "source": [
    "click_product_test = pd.merge(click_test,products,on='product_id',how='left')\n",
    "click_product_test.dropna(inplace=True)"
   ]
  },
  {
   "cell_type": "markdown",
   "metadata": {
    "id": "VKHhfk6As_B9"
   },
   "source": [
    "#### preference: mean을 통해 신규선호도 집계, 1에 가까울수록 신규도서 선호 (train, test)"
   ]
  },
  {
   "cell_type": "code",
   "execution_count": null,
   "metadata": {
    "id": "sKap-YCHqu0w"
   },
   "outputs": [],
   "source": [
    "preference_train = pd.DataFrame(click_product_train.groupby('account_id')['pub_newold'].agg('mean'))\n",
    "preference_train.reset_index(inplace=True)\n",
    "preference_train.rename(columns = {'pub_newold':'new_preference'}, inplace=True)"
   ]
  },
  {
   "cell_type": "code",
   "execution_count": null,
   "metadata": {
    "id": "oHNLQxOxq6FP"
   },
   "outputs": [],
   "source": [
    "preference_test = pd.DataFrame(click_product_test.groupby('account_id')['pub_newold'].agg('mean'))\n",
    "preference_test.reset_index(inplace=True)\n",
    "preference_test.rename(columns = {'pub_newold':'new_preference'}, inplace=True)"
   ]
  },
  {
   "cell_type": "markdown",
   "metadata": {
    "id": "StKKxjLdtKyl"
   },
   "source": [
    "#### product + click + preference (train, test)"
   ]
  },
  {
   "cell_type": "code",
   "execution_count": null,
   "metadata": {
    "id": "cExXcofLrUi7"
   },
   "outputs": [],
   "source": [
    "click_preference_train = pd.merge(click_product_train,preference_train, on='account_id',how='left')"
   ]
  },
  {
   "cell_type": "code",
   "execution_count": null,
   "metadata": {
    "id": "Uhn_W7Iuril9"
   },
   "outputs": [],
   "source": [
    "click_preference_test = pd.merge(click_product_test,preference_test, on='account_id',how='left')"
   ]
  },
  {
   "cell_type": "code",
   "execution_count": null,
   "metadata": {
    "colab": {
     "base_uri": "https://localhost:8080/",
     "height": 295
    },
    "executionInfo": {
     "elapsed": 1099,
     "status": "ok",
     "timestamp": 1602688623416,
     "user": {
      "displayName": "­이영송",
      "photoUrl": "",
      "userId": "02657549077897894287"
     },
     "user_tz": -540
    },
    "id": "ITk90aQnrk8I",
    "outputId": "f8b241d3-c10f-4ab3-9ab3-32f1953acfab"
   },
   "outputs": [
    {
     "data": {
      "text/plain": [
       "<matplotlib.axes._subplots.AxesSubplot at 0x7f4c697ec9b0>"
      ]
     },
     "execution_count": 35,
     "metadata": {
      "tags": []
     },
     "output_type": "execute_result"
    },
    {
     "data": {
      "image/png": "[encoded data removed]",
      "text/plain": [
       "<Figure size 432x288 with 1 Axes>"
      ]
     },
     "metadata": {
      "tags": []
     },
     "output_type": "display_data"
    }
   ],
   "source": [
    "click_preference_test.new_preference.hist()"
   ]
  },
  {
   "cell_type": "code",
   "execution_count": null,
   "metadata": {
    "colab": {
     "base_uri": "https://localhost:8080/",
     "height": 295
    },
    "executionInfo": {
     "elapsed": 1214,
     "status": "ok",
     "timestamp": 1602688645709,
     "user": {
      "displayName": "­이영송",
      "photoUrl": "",
      "userId": "02657549077897894287"
     },
     "user_tz": -540
    },
    "id": "-1P96FRPr51C",
    "outputId": "203160e1-5414-4b4f-92c9-62f0950d0e6d"
   },
   "outputs": [
    {
     "data": {
      "text/plain": [
       "<matplotlib.axes._subplots.AxesSubplot at 0x7f4c68fa85f8>"
      ]
     },
     "execution_count": 37,
     "metadata": {
      "tags": []
     },
     "output_type": "execute_result"
    },
    {
     "data": {
      "image/png": "[encoded data removed]",
      "text/plain": [
       "<Figure size 432x288 with 1 Axes>"
      ]
     },
     "metadata": {
      "tags": []
     },
     "output_type": "display_data"
    }
   ],
   "source": [
    "click_preference_train.new_preference.hist()"
   ]
  },
  {
   "cell_type": "markdown",
   "metadata": {
    "id": "MJJACm3RtUk3"
   },
   "source": [
    "#### preference: 0.5 기준 0,1 로 바꿈"
   ]
  },
  {
   "cell_type": "code",
   "execution_count": null,
   "metadata": {
    "id": "CEAqx4SYtATa"
   },
   "outputs": [],
   "source": [
    "click_preference_train['new_pref'] = click_preference_train['new_preference'].apply(lambda x: 1 if x>=0.5 else 0)\n",
    "click_preference_test['new_pref'] = click_preference_test['new_preference'].apply(lambda x: 1 if x>=0.5 else 0)"
   ]
  },
  {
   "cell_type": "code",
   "execution_count": null,
   "metadata": {
    "id": "q4ChQXYlJIFH"
   },
   "outputs": [],
   "source": [
    "click_preference_train['new_pref'] = click_preference_train['new_preference'].apply(lambda x: 1 if x>=0.5 else 0)\n",
    "click_preference_test['new_pref'] = click_preference_test['new_preference'].apply(lambda x: 1 if x>=0.5 else 0)"
   ]
  },
  {
   "cell_type": "code",
   "execution_count": null,
   "metadata": {
    "id": "3LAmHTrZr73Z"
   },
   "outputs": [],
   "source": [
    "click_preference_train.to_csv(path+'click_preference_train.csv',encoding='utf-8')\n",
    "click_preference_test.to_csv(path+'click_preference_test.csv',encoding='utf-8')"
   ]
  },
  {
   "cell_type": "markdown",
   "metadata": {
    "id": "WkQ0Heu4t-Y3"
   },
   "source": [
    "### 카테고리 선호도"
   ]
  },
  {
   "cell_type": "code",
   "execution_count": null,
   "metadata": {
    "id": "qIdr1YlIAdlf"
   },
   "outputs": [],
   "source": [
    "import pandas as pd\n",
    "import numpy as np"
   ]
  },
  {
   "cell_type": "code",
   "execution_count": null,
   "metadata": {
    "id": "NK-mBzCRAdlh"
   },
   "outputs": [],
   "source": [
    "users = pd.read_csv('./accounts_context_0624.csv',encoding='utf-8')\n",
    "clicks = pd.read_csv('./clicks_day_time_weekday_0624.csv',encoding='utf-8')\n",
    "books = pd.read_csv('./product_dums_with_publish&price.csv',encoding='utf-8')"
   ]
  },
  {
   "cell_type": "code",
   "execution_count": null,
   "metadata": {
    "id": "gUxHIns2Adlj"
   },
   "outputs": [],
   "source": [
    "clicks_temp = clicks[['account_id','product_id']]"
   ]
  },
  {
   "cell_type": "code",
   "execution_count": null,
   "metadata": {
    "id": "TIDdY0a4Adlj"
   },
   "outputs": [],
   "source": [
    "clicks_1 = clicks_temp.iloc[:20088683]\n",
    "clicks_2 = clicks_temp.iloc[20088683:40177057]\n",
    "clicks_3 = clicks_temp.iloc[40177057:]"
   ]
  },
  {
   "cell_type": "code",
   "execution_count": null,
   "metadata": {
    "id": "G7L_rLyWAdlk"
   },
   "outputs": [],
   "source": [
    "books_temp = books.iloc[:,[2,7,8,9,10,11,12,13,14,15,16,17,18,19,20,21,22,23,24,25,26,27,28,29,30,31]]"
   ]
  },
  {
   "cell_type": "code",
   "execution_count": null,
   "metadata": {
    "id": "VFz6zVt4Adlk"
   },
   "outputs": [],
   "source": [
    "pre_1 = clicks_1.merge(books_temp,how='left')\n",
    "grouped_1 = pre_1.groupby('account_id')\n",
    "pre_cat_1 = grouped_1.sum().iloc[:,1:]\n",
    "pre_cat_1.to_csv('./pre_cat_1.csv')\n",
    "pre_2 = clicks_2.merge(books_temp,how='left')\n",
    "grouped_2 = pre_2.groupby('account_id')\n",
    "pre_cat_2 = grouped_2.sum().iloc[:,1:]\n",
    "pre_cat_2.to_csv('./pre_cat_2.csv')\n",
    "pre_3 = clicks_3.merge(books_temp,how='left')\n",
    "grouped_3 = pre_3.groupby('account_id')\n",
    "pre_cat_3 = grouped_3.sum().iloc[:,1:]\n",
    "pre_cat_3.to_csv('./pre_cat_3.csv')"
   ]
  },
  {
   "cell_type": "code",
   "execution_count": null,
   "metadata": {
    "id": "ynEymw7JAdls"
   },
   "outputs": [],
   "source": [
    "pre_cat_1 = pd.read_csv('./pre_cat_1.csv',encoding='utf-8')\n",
    "pre_cat_2 = pd.read_csv('./pre_cat_2.csv',encoding='utf-8')\n",
    "pre_cat_3 = pd.read_csv('./pre_cat_3.csv',encoding='utf-8')"
   ]
  },
  {
   "cell_type": "code",
   "execution_count": null,
   "metadata": {
    "id": "FpNQZ0TOAdlt",
    "scrolled": true
   },
   "outputs": [],
   "source": [
    "pre_cat_total = pd.concat([pre_cat_1,pre_cat_2,pre_cat_3])\n",
    "pre_cat_total['max_cat'] = pre_cat_total.iloc[:,1:].max(axis=1)\n",
    "pre_cat_total['max_cat_name'] = pre_cat_total.iloc[:,1:26].idxmax(axis=1)"
   ]
  },
  {
   "cell_type": "code",
   "execution_count": null,
   "metadata": {
    "id": "0k9BeZGTAdlt",
    "outputId": "d0a77d76-a685-4944-be0c-3e5512d4f8e2"
   },
   "outputs": [
    {
     "data": {
      "text/html": [
       "<div>\n",
       "<style scoped>\n",
       "    .dataframe tbody tr th:only-of-type {\n",
       "        vertical-align: middle;\n",
       "    }\n",
       "\n",
       "    .dataframe tbody tr th {\n",
       "        vertical-align: top;\n",
       "    }\n",
       "\n",
       "    .dataframe thead th {\n",
       "        text-align: right;\n",
       "    }\n",
       "</style>\n",
       "<table border=\"1\" class=\"dataframe\">\n",
       "  <thead>\n",
       "    <tr style=\"text-align: right;\">\n",
       "      <th></th>\n",
       "      <th>account_id</th>\n",
       "      <th>cat__1.0</th>\n",
       "      <th>cat__2.0</th>\n",
       "      <th>cat__3.0</th>\n",
       "      <th>cat__4.0</th>\n",
       "      <th>cat__5.0</th>\n",
       "      <th>cat__7.0</th>\n",
       "      <th>cat__8.0</th>\n",
       "      <th>cat__9.0</th>\n",
       "      <th>cat__10.0</th>\n",
       "      <th>...</th>\n",
       "      <th>cat__20.0</th>\n",
       "      <th>cat__22.0</th>\n",
       "      <th>cat__23.0</th>\n",
       "      <th>cat__25.0</th>\n",
       "      <th>cat__27.0</th>\n",
       "      <th>cat__29.0</th>\n",
       "      <th>cat__33.0</th>\n",
       "      <th>cat__34.0</th>\n",
       "      <th>max_cat</th>\n",
       "      <th>max_cat_name</th>\n",
       "    </tr>\n",
       "  </thead>\n",
       "  <tbody>\n",
       "    <tr>\n",
       "      <td>0</td>\n",
       "      <td>100001</td>\n",
       "      <td>0.0</td>\n",
       "      <td>1.0</td>\n",
       "      <td>233.0</td>\n",
       "      <td>5.0</td>\n",
       "      <td>2.0</td>\n",
       "      <td>0.0</td>\n",
       "      <td>4.0</td>\n",
       "      <td>8.0</td>\n",
       "      <td>7.0</td>\n",
       "      <td>...</td>\n",
       "      <td>5.0</td>\n",
       "      <td>13.0</td>\n",
       "      <td>18.0</td>\n",
       "      <td>0.0</td>\n",
       "      <td>4.0</td>\n",
       "      <td>0.0</td>\n",
       "      <td>18.0</td>\n",
       "      <td>44.0</td>\n",
       "      <td>233.0</td>\n",
       "      <td>cat__3.0</td>\n",
       "    </tr>\n",
       "    <tr>\n",
       "      <td>1</td>\n",
       "      <td>100004</td>\n",
       "      <td>1.0</td>\n",
       "      <td>0.0</td>\n",
       "      <td>17.0</td>\n",
       "      <td>0.0</td>\n",
       "      <td>1.0</td>\n",
       "      <td>0.0</td>\n",
       "      <td>2.0</td>\n",
       "      <td>0.0</td>\n",
       "      <td>0.0</td>\n",
       "      <td>...</td>\n",
       "      <td>0.0</td>\n",
       "      <td>1.0</td>\n",
       "      <td>0.0</td>\n",
       "      <td>1.0</td>\n",
       "      <td>3.0</td>\n",
       "      <td>0.0</td>\n",
       "      <td>7.0</td>\n",
       "      <td>2.0</td>\n",
       "      <td>17.0</td>\n",
       "      <td>cat__3.0</td>\n",
       "    </tr>\n",
       "    <tr>\n",
       "      <td>2</td>\n",
       "      <td>100014</td>\n",
       "      <td>0.0</td>\n",
       "      <td>0.0</td>\n",
       "      <td>1.0</td>\n",
       "      <td>0.0</td>\n",
       "      <td>0.0</td>\n",
       "      <td>0.0</td>\n",
       "      <td>0.0</td>\n",
       "      <td>0.0</td>\n",
       "      <td>0.0</td>\n",
       "      <td>...</td>\n",
       "      <td>0.0</td>\n",
       "      <td>0.0</td>\n",
       "      <td>0.0</td>\n",
       "      <td>0.0</td>\n",
       "      <td>0.0</td>\n",
       "      <td>14.0</td>\n",
       "      <td>1.0</td>\n",
       "      <td>1.0</td>\n",
       "      <td>14.0</td>\n",
       "      <td>cat__29.0</td>\n",
       "    </tr>\n",
       "    <tr>\n",
       "      <td>3</td>\n",
       "      <td>100018</td>\n",
       "      <td>0.0</td>\n",
       "      <td>9.0</td>\n",
       "      <td>0.0</td>\n",
       "      <td>0.0</td>\n",
       "      <td>0.0</td>\n",
       "      <td>0.0</td>\n",
       "      <td>0.0</td>\n",
       "      <td>0.0</td>\n",
       "      <td>0.0</td>\n",
       "      <td>...</td>\n",
       "      <td>0.0</td>\n",
       "      <td>0.0</td>\n",
       "      <td>0.0</td>\n",
       "      <td>0.0</td>\n",
       "      <td>0.0</td>\n",
       "      <td>0.0</td>\n",
       "      <td>0.0</td>\n",
       "      <td>0.0</td>\n",
       "      <td>9.0</td>\n",
       "      <td>cat__2.0</td>\n",
       "    </tr>\n",
       "    <tr>\n",
       "      <td>4</td>\n",
       "      <td>100020</td>\n",
       "      <td>1.0</td>\n",
       "      <td>0.0</td>\n",
       "      <td>0.0</td>\n",
       "      <td>0.0</td>\n",
       "      <td>0.0</td>\n",
       "      <td>0.0</td>\n",
       "      <td>1.0</td>\n",
       "      <td>0.0</td>\n",
       "      <td>0.0</td>\n",
       "      <td>...</td>\n",
       "      <td>1.0</td>\n",
       "      <td>0.0</td>\n",
       "      <td>3.0</td>\n",
       "      <td>0.0</td>\n",
       "      <td>0.0</td>\n",
       "      <td>0.0</td>\n",
       "      <td>2.0</td>\n",
       "      <td>2.0</td>\n",
       "      <td>7.0</td>\n",
       "      <td>cat__19.0</td>\n",
       "    </tr>\n",
       "    <tr>\n",
       "      <td>...</td>\n",
       "      <td>...</td>\n",
       "      <td>...</td>\n",
       "      <td>...</td>\n",
       "      <td>...</td>\n",
       "      <td>...</td>\n",
       "      <td>...</td>\n",
       "      <td>...</td>\n",
       "      <td>...</td>\n",
       "      <td>...</td>\n",
       "      <td>...</td>\n",
       "      <td>...</td>\n",
       "      <td>...</td>\n",
       "      <td>...</td>\n",
       "      <td>...</td>\n",
       "      <td>...</td>\n",
       "      <td>...</td>\n",
       "      <td>...</td>\n",
       "      <td>...</td>\n",
       "      <td>...</td>\n",
       "      <td>...</td>\n",
       "      <td>...</td>\n",
       "    </tr>\n",
       "    <tr>\n",
       "      <td>1594107</td>\n",
       "      <td>16960408</td>\n",
       "      <td>0.0</td>\n",
       "      <td>0.0</td>\n",
       "      <td>0.0</td>\n",
       "      <td>0.0</td>\n",
       "      <td>0.0</td>\n",
       "      <td>0.0</td>\n",
       "      <td>0.0</td>\n",
       "      <td>0.0</td>\n",
       "      <td>0.0</td>\n",
       "      <td>...</td>\n",
       "      <td>0.0</td>\n",
       "      <td>0.0</td>\n",
       "      <td>0.0</td>\n",
       "      <td>0.0</td>\n",
       "      <td>0.0</td>\n",
       "      <td>0.0</td>\n",
       "      <td>0.0</td>\n",
       "      <td>0.0</td>\n",
       "      <td>1.0</td>\n",
       "      <td>cat__13.0</td>\n",
       "    </tr>\n",
       "    <tr>\n",
       "      <td>1594108</td>\n",
       "      <td>16960413</td>\n",
       "      <td>0.0</td>\n",
       "      <td>0.0</td>\n",
       "      <td>0.0</td>\n",
       "      <td>0.0</td>\n",
       "      <td>0.0</td>\n",
       "      <td>0.0</td>\n",
       "      <td>0.0</td>\n",
       "      <td>0.0</td>\n",
       "      <td>0.0</td>\n",
       "      <td>...</td>\n",
       "      <td>0.0</td>\n",
       "      <td>0.0</td>\n",
       "      <td>0.0</td>\n",
       "      <td>0.0</td>\n",
       "      <td>0.0</td>\n",
       "      <td>0.0</td>\n",
       "      <td>0.0</td>\n",
       "      <td>2.0</td>\n",
       "      <td>2.0</td>\n",
       "      <td>cat__34.0</td>\n",
       "    </tr>\n",
       "    <tr>\n",
       "      <td>1594109</td>\n",
       "      <td>16960422</td>\n",
       "      <td>1.0</td>\n",
       "      <td>0.0</td>\n",
       "      <td>0.0</td>\n",
       "      <td>0.0</td>\n",
       "      <td>0.0</td>\n",
       "      <td>0.0</td>\n",
       "      <td>0.0</td>\n",
       "      <td>0.0</td>\n",
       "      <td>0.0</td>\n",
       "      <td>...</td>\n",
       "      <td>0.0</td>\n",
       "      <td>0.0</td>\n",
       "      <td>0.0</td>\n",
       "      <td>0.0</td>\n",
       "      <td>0.0</td>\n",
       "      <td>0.0</td>\n",
       "      <td>0.0</td>\n",
       "      <td>0.0</td>\n",
       "      <td>1.0</td>\n",
       "      <td>cat__1.0</td>\n",
       "    </tr>\n",
       "    <tr>\n",
       "      <td>1594110</td>\n",
       "      <td>16960424</td>\n",
       "      <td>0.0</td>\n",
       "      <td>0.0</td>\n",
       "      <td>0.0</td>\n",
       "      <td>0.0</td>\n",
       "      <td>0.0</td>\n",
       "      <td>0.0</td>\n",
       "      <td>0.0</td>\n",
       "      <td>0.0</td>\n",
       "      <td>1.0</td>\n",
       "      <td>...</td>\n",
       "      <td>0.0</td>\n",
       "      <td>0.0</td>\n",
       "      <td>0.0</td>\n",
       "      <td>0.0</td>\n",
       "      <td>0.0</td>\n",
       "      <td>0.0</td>\n",
       "      <td>0.0</td>\n",
       "      <td>0.0</td>\n",
       "      <td>1.0</td>\n",
       "      <td>cat__10.0</td>\n",
       "    </tr>\n",
       "    <tr>\n",
       "      <td>1594111</td>\n",
       "      <td>16960430</td>\n",
       "      <td>0.0</td>\n",
       "      <td>0.0</td>\n",
       "      <td>1.0</td>\n",
       "      <td>0.0</td>\n",
       "      <td>0.0</td>\n",
       "      <td>0.0</td>\n",
       "      <td>0.0</td>\n",
       "      <td>0.0</td>\n",
       "      <td>0.0</td>\n",
       "      <td>...</td>\n",
       "      <td>0.0</td>\n",
       "      <td>0.0</td>\n",
       "      <td>0.0</td>\n",
       "      <td>0.0</td>\n",
       "      <td>0.0</td>\n",
       "      <td>0.0</td>\n",
       "      <td>0.0</td>\n",
       "      <td>0.0</td>\n",
       "      <td>1.0</td>\n",
       "      <td>cat__3.0</td>\n",
       "    </tr>\n",
       "  </tbody>\n",
       "</table>\n",
       "<p>1594112 rows × 28 columns</p>\n",
       "</div>"
      ],
      "text/plain": [
       "         account_id  cat__1.0  cat__2.0  cat__3.0  cat__4.0  cat__5.0  \\\n",
       "0            100001       0.0       1.0     233.0       5.0       2.0   \n",
       "1            100004       1.0       0.0      17.0       0.0       1.0   \n",
       "2            100014       0.0       0.0       1.0       0.0       0.0   \n",
       "3            100018       0.0       9.0       0.0       0.0       0.0   \n",
       "4            100020       1.0       0.0       0.0       0.0       0.0   \n",
       "...             ...       ...       ...       ...       ...       ...   \n",
       "1594107    16960408       0.0       0.0       0.0       0.0       0.0   \n",
       "1594108    16960413       0.0       0.0       0.0       0.0       0.0   \n",
       "1594109    16960422       1.0       0.0       0.0       0.0       0.0   \n",
       "1594110    16960424       0.0       0.0       0.0       0.0       0.0   \n",
       "1594111    16960430       0.0       0.0       1.0       0.0       0.0   \n",
       "\n",
       "         cat__7.0  cat__8.0  cat__9.0  cat__10.0  ...  cat__20.0  cat__22.0  \\\n",
       "0             0.0       4.0       8.0        7.0  ...        5.0       13.0   \n",
       "1             0.0       2.0       0.0        0.0  ...        0.0        1.0   \n",
       "2             0.0       0.0       0.0        0.0  ...        0.0        0.0   \n",
       "3             0.0       0.0       0.0        0.0  ...        0.0        0.0   \n",
       "4             0.0       1.0       0.0        0.0  ...        1.0        0.0   \n",
       "...           ...       ...       ...        ...  ...        ...        ...   \n",
       "1594107       0.0       0.0       0.0        0.0  ...        0.0        0.0   \n",
       "1594108       0.0       0.0       0.0        0.0  ...        0.0        0.0   \n",
       "1594109       0.0       0.0       0.0        0.0  ...        0.0        0.0   \n",
       "1594110       0.0       0.0       0.0        1.0  ...        0.0        0.0   \n",
       "1594111       0.0       0.0       0.0        0.0  ...        0.0        0.0   \n",
       "\n",
       "         cat__23.0  cat__25.0  cat__27.0  cat__29.0  cat__33.0  cat__34.0  \\\n",
       "0             18.0        0.0        4.0        0.0       18.0       44.0   \n",
       "1              0.0        1.0        3.0        0.0        7.0        2.0   \n",
       "2              0.0        0.0        0.0       14.0        1.0        1.0   \n",
       "3              0.0        0.0        0.0        0.0        0.0        0.0   \n",
       "4              3.0        0.0        0.0        0.0        2.0        2.0   \n",
       "...            ...        ...        ...        ...        ...        ...   \n",
       "1594107        0.0        0.0        0.0        0.0        0.0        0.0   \n",
       "1594108        0.0        0.0        0.0        0.0        0.0        2.0   \n",
       "1594109        0.0        0.0        0.0        0.0        0.0        0.0   \n",
       "1594110        0.0        0.0        0.0        0.0        0.0        0.0   \n",
       "1594111        0.0        0.0        0.0        0.0        0.0        0.0   \n",
       "\n",
       "         max_cat  max_cat_name  \n",
       "0          233.0      cat__3.0  \n",
       "1           17.0      cat__3.0  \n",
       "2           14.0     cat__29.0  \n",
       "3            9.0      cat__2.0  \n",
       "4            7.0     cat__19.0  \n",
       "...          ...           ...  \n",
       "1594107      1.0     cat__13.0  \n",
       "1594108      2.0     cat__34.0  \n",
       "1594109      1.0      cat__1.0  \n",
       "1594110      1.0     cat__10.0  \n",
       "1594111      1.0      cat__3.0  \n",
       "\n",
       "[1594112 rows x 28 columns]"
      ]
     },
     "execution_count": 22,
     "metadata": {},
     "output_type": "execute_result"
    }
   ],
   "source": [
    "pre_cat_total"
   ]
  },
  {
   "cell_type": "code",
   "execution_count": null,
   "metadata": {
    "id": "u_8jWw6aAdlt",
    "outputId": "b6a8c7f0-9b3d-4de4-aee8-f3309da8486b",
    "scrolled": true
   },
   "outputs": [
    {
     "data": {
      "text/html": [
       "<div>\n",
       "<style scoped>\n",
       "    .dataframe tbody tr th:only-of-type {\n",
       "        vertical-align: middle;\n",
       "    }\n",
       "\n",
       "    .dataframe tbody tr th {\n",
       "        vertical-align: top;\n",
       "    }\n",
       "\n",
       "    .dataframe thead th {\n",
       "        text-align: right;\n",
       "    }\n",
       "</style>\n",
       "<table border=\"1\" class=\"dataframe\">\n",
       "  <thead>\n",
       "    <tr style=\"text-align: right;\">\n",
       "      <th></th>\n",
       "      <th>account_id</th>\n",
       "      <th>cat__1.0</th>\n",
       "      <th>cat__2.0</th>\n",
       "      <th>cat__3.0</th>\n",
       "      <th>cat__4.0</th>\n",
       "      <th>cat__5.0</th>\n",
       "      <th>cat__7.0</th>\n",
       "      <th>cat__8.0</th>\n",
       "      <th>cat__9.0</th>\n",
       "      <th>cat__10.0</th>\n",
       "      <th>...</th>\n",
       "      <th>cat__20.0</th>\n",
       "      <th>cat__22.0</th>\n",
       "      <th>cat__23.0</th>\n",
       "      <th>cat__25.0</th>\n",
       "      <th>cat__27.0</th>\n",
       "      <th>cat__29.0</th>\n",
       "      <th>cat__33.0</th>\n",
       "      <th>cat__34.0</th>\n",
       "      <th>max_cat</th>\n",
       "      <th>max_cat_name</th>\n",
       "    </tr>\n",
       "  </thead>\n",
       "  <tbody>\n",
       "    <tr>\n",
       "      <td>1569239</td>\n",
       "      <td>16829000</td>\n",
       "      <td>0.0</td>\n",
       "      <td>0.0</td>\n",
       "      <td>0.0</td>\n",
       "      <td>0.0</td>\n",
       "      <td>0.0</td>\n",
       "      <td>0.0</td>\n",
       "      <td>0.0</td>\n",
       "      <td>0.0</td>\n",
       "      <td>0.0</td>\n",
       "      <td>...</td>\n",
       "      <td>0.0</td>\n",
       "      <td>0.0</td>\n",
       "      <td>0.0</td>\n",
       "      <td>0.0</td>\n",
       "      <td>0.0</td>\n",
       "      <td>0.0</td>\n",
       "      <td>0.0</td>\n",
       "      <td>0.0</td>\n",
       "      <td>0.0</td>\n",
       "      <td>cat__1.0</td>\n",
       "    </tr>\n",
       "    <tr>\n",
       "      <td>549452</td>\n",
       "      <td>4871926</td>\n",
       "      <td>0.0</td>\n",
       "      <td>0.0</td>\n",
       "      <td>0.0</td>\n",
       "      <td>0.0</td>\n",
       "      <td>0.0</td>\n",
       "      <td>0.0</td>\n",
       "      <td>0.0</td>\n",
       "      <td>0.0</td>\n",
       "      <td>0.0</td>\n",
       "      <td>...</td>\n",
       "      <td>0.0</td>\n",
       "      <td>0.0</td>\n",
       "      <td>0.0</td>\n",
       "      <td>0.0</td>\n",
       "      <td>0.0</td>\n",
       "      <td>0.0</td>\n",
       "      <td>0.0</td>\n",
       "      <td>0.0</td>\n",
       "      <td>0.0</td>\n",
       "      <td>cat__1.0</td>\n",
       "    </tr>\n",
       "    <tr>\n",
       "      <td>1584223</td>\n",
       "      <td>16905256</td>\n",
       "      <td>0.0</td>\n",
       "      <td>0.0</td>\n",
       "      <td>0.0</td>\n",
       "      <td>0.0</td>\n",
       "      <td>0.0</td>\n",
       "      <td>0.0</td>\n",
       "      <td>0.0</td>\n",
       "      <td>0.0</td>\n",
       "      <td>0.0</td>\n",
       "      <td>...</td>\n",
       "      <td>0.0</td>\n",
       "      <td>0.0</td>\n",
       "      <td>0.0</td>\n",
       "      <td>0.0</td>\n",
       "      <td>0.0</td>\n",
       "      <td>0.0</td>\n",
       "      <td>0.0</td>\n",
       "      <td>0.0</td>\n",
       "      <td>0.0</td>\n",
       "      <td>cat__1.0</td>\n",
       "    </tr>\n",
       "    <tr>\n",
       "      <td>1347357</td>\n",
       "      <td>14654854</td>\n",
       "      <td>0.0</td>\n",
       "      <td>0.0</td>\n",
       "      <td>0.0</td>\n",
       "      <td>0.0</td>\n",
       "      <td>0.0</td>\n",
       "      <td>0.0</td>\n",
       "      <td>0.0</td>\n",
       "      <td>0.0</td>\n",
       "      <td>0.0</td>\n",
       "      <td>...</td>\n",
       "      <td>0.0</td>\n",
       "      <td>0.0</td>\n",
       "      <td>0.0</td>\n",
       "      <td>0.0</td>\n",
       "      <td>0.0</td>\n",
       "      <td>0.0</td>\n",
       "      <td>0.0</td>\n",
       "      <td>0.0</td>\n",
       "      <td>0.0</td>\n",
       "      <td>cat__1.0</td>\n",
       "    </tr>\n",
       "    <tr>\n",
       "      <td>33776</td>\n",
       "      <td>327491</td>\n",
       "      <td>0.0</td>\n",
       "      <td>0.0</td>\n",
       "      <td>0.0</td>\n",
       "      <td>0.0</td>\n",
       "      <td>0.0</td>\n",
       "      <td>0.0</td>\n",
       "      <td>0.0</td>\n",
       "      <td>0.0</td>\n",
       "      <td>0.0</td>\n",
       "      <td>...</td>\n",
       "      <td>0.0</td>\n",
       "      <td>0.0</td>\n",
       "      <td>0.0</td>\n",
       "      <td>0.0</td>\n",
       "      <td>0.0</td>\n",
       "      <td>0.0</td>\n",
       "      <td>0.0</td>\n",
       "      <td>0.0</td>\n",
       "      <td>0.0</td>\n",
       "      <td>cat__1.0</td>\n",
       "    </tr>\n",
       "    <tr>\n",
       "      <td>...</td>\n",
       "      <td>...</td>\n",
       "      <td>...</td>\n",
       "      <td>...</td>\n",
       "      <td>...</td>\n",
       "      <td>...</td>\n",
       "      <td>...</td>\n",
       "      <td>...</td>\n",
       "      <td>...</td>\n",
       "      <td>...</td>\n",
       "      <td>...</td>\n",
       "      <td>...</td>\n",
       "      <td>...</td>\n",
       "      <td>...</td>\n",
       "      <td>...</td>\n",
       "      <td>...</td>\n",
       "      <td>...</td>\n",
       "      <td>...</td>\n",
       "      <td>...</td>\n",
       "      <td>...</td>\n",
       "      <td>...</td>\n",
       "      <td>...</td>\n",
       "    </tr>\n",
       "    <tr>\n",
       "      <td>1379326</td>\n",
       "      <td>15149303</td>\n",
       "      <td>12.0</td>\n",
       "      <td>1.0</td>\n",
       "      <td>584.0</td>\n",
       "      <td>0.0</td>\n",
       "      <td>0.0</td>\n",
       "      <td>0.0</td>\n",
       "      <td>3831.0</td>\n",
       "      <td>3.0</td>\n",
       "      <td>0.0</td>\n",
       "      <td>...</td>\n",
       "      <td>1.0</td>\n",
       "      <td>2.0</td>\n",
       "      <td>0.0</td>\n",
       "      <td>0.0</td>\n",
       "      <td>16.0</td>\n",
       "      <td>12.0</td>\n",
       "      <td>198.0</td>\n",
       "      <td>4.0</td>\n",
       "      <td>3831.0</td>\n",
       "      <td>cat__8.0</td>\n",
       "    </tr>\n",
       "    <tr>\n",
       "      <td>693795</td>\n",
       "      <td>6237562</td>\n",
       "      <td>1.0</td>\n",
       "      <td>0.0</td>\n",
       "      <td>17.0</td>\n",
       "      <td>0.0</td>\n",
       "      <td>18.0</td>\n",
       "      <td>0.0</td>\n",
       "      <td>11.0</td>\n",
       "      <td>5.0</td>\n",
       "      <td>0.0</td>\n",
       "      <td>...</td>\n",
       "      <td>3.0</td>\n",
       "      <td>8.0</td>\n",
       "      <td>1.0</td>\n",
       "      <td>0.0</td>\n",
       "      <td>55.0</td>\n",
       "      <td>29.0</td>\n",
       "      <td>3956.0</td>\n",
       "      <td>43.0</td>\n",
       "      <td>3956.0</td>\n",
       "      <td>cat__33.0</td>\n",
       "    </tr>\n",
       "    <tr>\n",
       "      <td>1128327</td>\n",
       "      <td>11442039</td>\n",
       "      <td>0.0</td>\n",
       "      <td>1.0</td>\n",
       "      <td>2.0</td>\n",
       "      <td>0.0</td>\n",
       "      <td>549.0</td>\n",
       "      <td>12.0</td>\n",
       "      <td>2.0</td>\n",
       "      <td>10.0</td>\n",
       "      <td>3.0</td>\n",
       "      <td>...</td>\n",
       "      <td>3.0</td>\n",
       "      <td>4.0</td>\n",
       "      <td>7.0</td>\n",
       "      <td>45.0</td>\n",
       "      <td>4157.0</td>\n",
       "      <td>119.0</td>\n",
       "      <td>17.0</td>\n",
       "      <td>9.0</td>\n",
       "      <td>4157.0</td>\n",
       "      <td>cat__27.0</td>\n",
       "    </tr>\n",
       "    <tr>\n",
       "      <td>471329</td>\n",
       "      <td>4148490</td>\n",
       "      <td>133.0</td>\n",
       "      <td>0.0</td>\n",
       "      <td>2.0</td>\n",
       "      <td>2.0</td>\n",
       "      <td>52.0</td>\n",
       "      <td>1.0</td>\n",
       "      <td>0.0</td>\n",
       "      <td>102.0</td>\n",
       "      <td>0.0</td>\n",
       "      <td>...</td>\n",
       "      <td>4.0</td>\n",
       "      <td>4186.0</td>\n",
       "      <td>11.0</td>\n",
       "      <td>6.0</td>\n",
       "      <td>4.0</td>\n",
       "      <td>0.0</td>\n",
       "      <td>21.0</td>\n",
       "      <td>132.0</td>\n",
       "      <td>4186.0</td>\n",
       "      <td>cat__22.0</td>\n",
       "    </tr>\n",
       "    <tr>\n",
       "      <td>1331645</td>\n",
       "      <td>14364947</td>\n",
       "      <td>20.0</td>\n",
       "      <td>276.0</td>\n",
       "      <td>217.0</td>\n",
       "      <td>192.0</td>\n",
       "      <td>0.0</td>\n",
       "      <td>6.0</td>\n",
       "      <td>8.0</td>\n",
       "      <td>232.0</td>\n",
       "      <td>1.0</td>\n",
       "      <td>...</td>\n",
       "      <td>4564.0</td>\n",
       "      <td>64.0</td>\n",
       "      <td>30.0</td>\n",
       "      <td>0.0</td>\n",
       "      <td>19.0</td>\n",
       "      <td>0.0</td>\n",
       "      <td>93.0</td>\n",
       "      <td>65.0</td>\n",
       "      <td>4564.0</td>\n",
       "      <td>cat__20.0</td>\n",
       "    </tr>\n",
       "  </tbody>\n",
       "</table>\n",
       "<p>1594112 rows × 28 columns</p>\n",
       "</div>"
      ],
      "text/plain": [
       "         account_id  cat__1.0  cat__2.0  cat__3.0  cat__4.0  cat__5.0  \\\n",
       "1569239    16829000       0.0       0.0       0.0       0.0       0.0   \n",
       "549452      4871926       0.0       0.0       0.0       0.0       0.0   \n",
       "1584223    16905256       0.0       0.0       0.0       0.0       0.0   \n",
       "1347357    14654854       0.0       0.0       0.0       0.0       0.0   \n",
       "33776        327491       0.0       0.0       0.0       0.0       0.0   \n",
       "...             ...       ...       ...       ...       ...       ...   \n",
       "1379326    15149303      12.0       1.0     584.0       0.0       0.0   \n",
       "693795      6237562       1.0       0.0      17.0       0.0      18.0   \n",
       "1128327    11442039       0.0       1.0       2.0       0.0     549.0   \n",
       "471329      4148490     133.0       0.0       2.0       2.0      52.0   \n",
       "1331645    14364947      20.0     276.0     217.0     192.0       0.0   \n",
       "\n",
       "         cat__7.0  cat__8.0  cat__9.0  cat__10.0  ...  cat__20.0  cat__22.0  \\\n",
       "1569239       0.0       0.0       0.0        0.0  ...        0.0        0.0   \n",
       "549452        0.0       0.0       0.0        0.0  ...        0.0        0.0   \n",
       "1584223       0.0       0.0       0.0        0.0  ...        0.0        0.0   \n",
       "1347357       0.0       0.0       0.0        0.0  ...        0.0        0.0   \n",
       "33776         0.0       0.0       0.0        0.0  ...        0.0        0.0   \n",
       "...           ...       ...       ...        ...  ...        ...        ...   \n",
       "1379326       0.0    3831.0       3.0        0.0  ...        1.0        2.0   \n",
       "693795        0.0      11.0       5.0        0.0  ...        3.0        8.0   \n",
       "1128327      12.0       2.0      10.0        3.0  ...        3.0        4.0   \n",
       "471329        1.0       0.0     102.0        0.0  ...        4.0     4186.0   \n",
       "1331645       6.0       8.0     232.0        1.0  ...     4564.0       64.0   \n",
       "\n",
       "         cat__23.0  cat__25.0  cat__27.0  cat__29.0  cat__33.0  cat__34.0  \\\n",
       "1569239        0.0        0.0        0.0        0.0        0.0        0.0   \n",
       "549452         0.0        0.0        0.0        0.0        0.0        0.0   \n",
       "1584223        0.0        0.0        0.0        0.0        0.0        0.0   \n",
       "1347357        0.0        0.0        0.0        0.0        0.0        0.0   \n",
       "33776          0.0        0.0        0.0        0.0        0.0        0.0   \n",
       "...            ...        ...        ...        ...        ...        ...   \n",
       "1379326        0.0        0.0       16.0       12.0      198.0        4.0   \n",
       "693795         1.0        0.0       55.0       29.0     3956.0       43.0   \n",
       "1128327        7.0       45.0     4157.0      119.0       17.0        9.0   \n",
       "471329        11.0        6.0        4.0        0.0       21.0      132.0   \n",
       "1331645       30.0        0.0       19.0        0.0       93.0       65.0   \n",
       "\n",
       "         max_cat  max_cat_name  \n",
       "1569239      0.0      cat__1.0  \n",
       "549452       0.0      cat__1.0  \n",
       "1584223      0.0      cat__1.0  \n",
       "1347357      0.0      cat__1.0  \n",
       "33776        0.0      cat__1.0  \n",
       "...          ...           ...  \n",
       "1379326   3831.0      cat__8.0  \n",
       "693795    3956.0     cat__33.0  \n",
       "1128327   4157.0     cat__27.0  \n",
       "471329    4186.0     cat__22.0  \n",
       "1331645   4564.0     cat__20.0  \n",
       "\n",
       "[1594112 rows x 28 columns]"
      ]
     },
     "execution_count": 23,
     "metadata": {},
     "output_type": "execute_result"
    }
   ],
   "source": [
    "pre_cat_total.sort_values(by='max_cat')"
   ]
  },
  {
   "cell_type": "code",
   "execution_count": null,
   "metadata": {
    "id": "cnI1AP4PAdlu"
   },
   "outputs": [],
   "source": [
    "pre_cat_total.to_csv('./user_cat_preferences_0624.csv')"
   ]
  },
  {
   "cell_type": "code",
   "execution_count": null,
   "metadata": {
    "id": "G8vwd0mEAdlu"
   },
   "outputs": [],
   "source": [
    "new_users = users.merge(pre_cat_total,how='left')"
   ]
  },
  {
   "cell_type": "code",
   "execution_count": null,
   "metadata": {
    "id": "Z70qiA6MAdlu"
   },
   "outputs": [],
   "source": [
    "new_users.to_csv('./accounts_context_add_prefer_0624.csv')"
   ]
  },
  {
   "cell_type": "markdown",
   "metadata": {
    "id": "GxlGoSMKwrPJ"
   },
   "source": [
    "### 활동시간"
   ]
  },
  {
   "cell_type": "code",
   "execution_count": null,
   "metadata": {
    "id": "3qOsenGOt4jz"
   },
   "outputs": [],
   "source": [
    "path = '/content/drive/Shared drives/YES24/2020-06-10/m3/'\n",
    "users = pd.read_csv(path+'(나이)accounts_age_0623.csv',encoding='utf-8')"
   ]
  },
  {
   "cell_type": "code",
   "execution_count": null,
   "metadata": {
    "id": "XdOhrFuw8bdv"
   },
   "outputs": [],
   "source": [
    "clicks = pd.read_csv('./clicks_day_time_0623.csv',encoding='utf-8')\n",
    "clicks['time'] = clicks['request_date_time'].str.slice(start=11, stop=13)\n",
    "clicks['day'] = clicks['request_date_time'].str.slice(start=0,stop=11)"
   ]
  },
  {
   "cell_type": "code",
   "execution_count": null,
   "metadata": {
    "id": "E7v5k5E28gT1"
   },
   "outputs": [],
   "source": [
    "orders = pd.read_csv('./orders_preprocessed_0623.csv',encoding='utf-8')"
   ]
  },
  {
   "cell_type": "code",
   "execution_count": null,
   "metadata": {
    "id": "lrt05WqA8nud"
   },
   "outputs": [],
   "source": [
    "books = pd.read_csv('./pro_preprocessed_0623.csv',encoding='utf-8')"
   ]
  },
  {
   "cell_type": "code",
   "execution_count": null,
   "metadata": {
    "id": "Z1M2MH7P9MXQ"
   },
   "outputs": [],
   "source": [
    "clicks_1 = clicks.iloc[:20088683]\n",
    "clicks_2 = clicks.iloc[20088683:40177057]\n",
    "clicks_3 = clicks.iloc[40177057:]"
   ]
  },
  {
   "cell_type": "markdown",
   "metadata": {
    "id": "Dhiag_Zl-TKy"
   },
   "source": [
    "#### 활동시간대"
   ]
  },
  {
   "cell_type": "code",
   "execution_count": null,
   "metadata": {
    "id": "OpP1lO_69NN1"
   },
   "outputs": [],
   "source": [
    "clicks_1['click_time'] = clicks_1['time'].apply(lambda x:'day' if x in list(range(6,19)) else 'night')\n",
    "clicks_2['click_time'] = clicks_2['time'].apply(lambda x:'day' if x in list(range(6,19)) else 'night')\n",
    "clicks_3['click_time'] = clicks_3['time'].apply(lambda x:'day' if x in list(range(6,19)) else 'night')"
   ]
  },
  {
   "cell_type": "code",
   "execution_count": null,
   "metadata": {
    "id": "_OAPOyj79aDK"
   },
   "outputs": [],
   "source": [
    "clicks_1[['day','night']]=pd.get_dummies(clicks_1.click_time)\n",
    "clicks_2[['day','night']]=pd.get_dummies(clicks_2.click_time)\n",
    "clicks_3[['day','night']]=pd.get_dummies(clicks_3.click_time)"
   ]
  },
  {
   "cell_type": "code",
   "execution_count": null,
   "metadata": {
    "id": "cnQyK4fX9ahg"
   },
   "outputs": [],
   "source": [
    "grouped_1 = clicks_1.groupby('account_id')\n",
    "grouped_2 = clicks_2.groupby('account_id')\n",
    "grouped_3 = clicks_3.groupby('account_id')"
   ]
  },
  {
   "cell_type": "code",
   "execution_count": null,
   "metadata": {
    "id": "0SpoZSWd9cwJ"
   },
   "outputs": [],
   "source": [
    "acc_times_1 = grouped_1.sum().iloc[:,[4,5]]\n",
    "acc_times_2 = grouped_2.sum().iloc[:,[4,5]]\n",
    "acc_times_3 = grouped_3.sum().iloc[:,[4,5]]"
   ]
  },
  {
   "cell_type": "code",
   "execution_count": null,
   "metadata": {
    "id": "oG-dGXZo9ec2"
   },
   "outputs": [],
   "source": [
    "acc_times = pd.concat([acc_times_1,acc_times_2,acc_times_3])"
   ]
  },
  {
   "cell_type": "code",
   "execution_count": null,
   "metadata": {
    "id": "n_ZKSUDa9i1J"
   },
   "outputs": [],
   "source": [
    "acc_times.to_csv('./only_activity_times_0623.csv')"
   ]
  },
  {
   "cell_type": "code",
   "execution_count": null,
   "metadata": {
    "id": "LMhV7hlt9wvZ"
   },
   "outputs": [],
   "source": [
    "acc_times.reset_index(inplace=True)"
   ]
  },
  {
   "cell_type": "code",
   "execution_count": null,
   "metadata": {
    "id": "dO82HxNt9wvZ",
    "scrolled": true
   },
   "outputs": [],
   "source": [
    "new_users = users.merge(acc_times,how='left')"
   ]
  },
  {
   "cell_type": "code",
   "execution_count": null,
   "metadata": {
    "id": "M-5dnY_v9wvZ"
   },
   "outputs": [],
   "source": [
    "new_users.to_csv('./accounts_age_times_0623.csv')"
   ]
  },
  {
   "cell_type": "markdown",
   "metadata": {
    "id": "E5zsHeYC9wva"
   },
   "source": [
    "#### 활동 요일"
   ]
  },
  {
   "cell_type": "code",
   "execution_count": null,
   "metadata": {
    "id": "0PLpaTft9wva"
   },
   "outputs": [],
   "source": [
    "users = pd.read_csv('./accounts_age_times_0623.csv',encoding='utf-8')"
   ]
  },
  {
   "cell_type": "code",
   "execution_count": null,
   "metadata": {
    "id": "IQjHFI9V9wva"
   },
   "outputs": [],
   "source": [
    "clicks = pd.read_csv('./clicks_day_time_0623.csv',encoding='utf-8')\n",
    "clicks = clicks.sort_values(by=['account_id','Unnamed: 0'])"
   ]
  },
  {
   "cell_type": "code",
   "execution_count": null,
   "metadata": {
    "id": "92ykFoRb9wva"
   },
   "outputs": [],
   "source": [
    "clicks['date_time'] = pd.to_datetime(clicks.day)\n",
    "clicks['week_day'] = clicks['date_time'].dt.weekday_name"
   ]
  },
  {
   "cell_type": "code",
   "execution_count": null,
   "metadata": {
    "id": "fgEAKRqW9wvb"
   },
   "outputs": [],
   "source": [
    "clicks.to_csv('./clicks_day_time_weekday_0624.csv')"
   ]
  },
  {
   "cell_type": "markdown",
   "metadata": {
    "id": "o-1cMrHQ-foM"
   },
   "source": [
    "#### 활동 주말 vs 평일"
   ]
  },
  {
   "cell_type": "code",
   "execution_count": null,
   "metadata": {
    "id": "gE7z7Yvd9wvb"
   },
   "outputs": [],
   "source": [
    "users = pd.read_csv('./accounts_age_times_0623.csv',encoding='utf-8')"
   ]
  },
  {
   "cell_type": "code",
   "execution_count": null,
   "metadata": {
    "id": "UzUklIwE9wvb"
   },
   "outputs": [],
   "source": [
    "clicks = pd.read_csv('./clicks_day_time_weekday_0624.csv',encoding='utf-8')"
   ]
  },
  {
   "cell_type": "code",
   "execution_count": null,
   "metadata": {
    "id": "G0CzKhRI9wvb"
   },
   "outputs": [],
   "source": [
    "clicks_a = clicks.iloc[:20088683]\n",
    "clicks_b = clicks.iloc[20088683:40177057]\n",
    "clicks_c = clicks.iloc[40177057:]"
   ]
  },
  {
   "cell_type": "code",
   "execution_count": null,
   "metadata": {
    "id": "0rO2_fOh9wvb",
    "outputId": "c1baf96c-f11c-4cde-f85b-54eea8a206d1"
   },
   "outputs": [
    {
     "name": "stderr",
     "output_type": "stream",
     "text": [
      "C:\\Users\\admin\\Anaconda3\\lib\\site-packages\\ipykernel_launcher.py:1: SettingWithCopyWarning: \n",
      "A value is trying to be set on a copy of a slice from a DataFrame.\n",
      "Try using .loc[row_indexer,col_indexer] = value instead\n",
      "\n",
      "See the caveats in the documentation: http://pandas.pydata.org/pandas-docs/stable/user_guide/indexing.html#returning-a-view-versus-a-copy\n",
      "  \"\"\"Entry point for launching an IPython kernel.\n",
      "C:\\Users\\admin\\Anaconda3\\lib\\site-packages\\ipykernel_launcher.py:2: SettingWithCopyWarning: \n",
      "A value is trying to be set on a copy of a slice from a DataFrame.\n",
      "Try using .loc[row_indexer,col_indexer] = value instead\n",
      "\n",
      "See the caveats in the documentation: http://pandas.pydata.org/pandas-docs/stable/user_guide/indexing.html#returning-a-view-versus-a-copy\n",
      "  \n",
      "C:\\Users\\admin\\Anaconda3\\lib\\site-packages\\ipykernel_launcher.py:3: SettingWithCopyWarning: \n",
      "A value is trying to be set on a copy of a slice from a DataFrame.\n",
      "Try using .loc[row_indexer,col_indexer] = value instead\n",
      "\n",
      "See the caveats in the documentation: http://pandas.pydata.org/pandas-docs/stable/user_guide/indexing.html#returning-a-view-versus-a-copy\n",
      "  This is separate from the ipykernel package so we can avoid doing imports until\n"
     ]
    }
   ],
   "source": [
    "clicks_a['weekend'] = clicks_a['week_day'].apply(lambda x: 1 if x in ['Sunday','Saturday'] else 0)\n",
    "clicks_b['weekend'] = clicks_b['week_day'].apply(lambda x: 1 if x in ['Sunday','Saturday'] else 0)\n",
    "clicks_c['weekend'] = clicks_c['week_day'].apply(lambda x: 1 if x in ['Sunday','Saturday'] else 0)"
   ]
  },
  {
   "cell_type": "code",
   "execution_count": null,
   "metadata": {
    "id": "WPFNu6w69wvb",
    "outputId": "28d1d9e4-8247-45cb-d555-1eb2cb234beb"
   },
   "outputs": [
    {
     "name": "stderr",
     "output_type": "stream",
     "text": [
      "C:\\Users\\admin\\Anaconda3\\lib\\site-packages\\ipykernel_launcher.py:1: SettingWithCopyWarning: \n",
      "A value is trying to be set on a copy of a slice from a DataFrame.\n",
      "Try using .loc[row_indexer,col_indexer] = value instead\n",
      "\n",
      "See the caveats in the documentation: http://pandas.pydata.org/pandas-docs/stable/user_guide/indexing.html#returning-a-view-versus-a-copy\n",
      "  \"\"\"Entry point for launching an IPython kernel.\n",
      "C:\\Users\\admin\\Anaconda3\\lib\\site-packages\\ipykernel_launcher.py:2: SettingWithCopyWarning: \n",
      "A value is trying to be set on a copy of a slice from a DataFrame.\n",
      "Try using .loc[row_indexer,col_indexer] = value instead\n",
      "\n",
      "See the caveats in the documentation: http://pandas.pydata.org/pandas-docs/stable/user_guide/indexing.html#returning-a-view-versus-a-copy\n",
      "  \n",
      "C:\\Users\\admin\\Anaconda3\\lib\\site-packages\\ipykernel_launcher.py:3: SettingWithCopyWarning: \n",
      "A value is trying to be set on a copy of a slice from a DataFrame.\n",
      "Try using .loc[row_indexer,col_indexer] = value instead\n",
      "\n",
      "See the caveats in the documentation: http://pandas.pydata.org/pandas-docs/stable/user_guide/indexing.html#returning-a-view-versus-a-copy\n",
      "  This is separate from the ipykernel package so we can avoid doing imports until\n"
     ]
    }
   ],
   "source": [
    "clicks_a['weekday'] = clicks_a['week_day'].apply(lambda x: 0 if x in ['Sunday','Saturday'] else 1)\n",
    "clicks_b['weekday'] = clicks_b['week_day'].apply(lambda x: 0 if x in ['Sunday','Saturday'] else 1)\n",
    "clicks_c['weekday'] = clicks_c['week_day'].apply(lambda x: 0 if x in ['Sunday','Saturday'] else 1)"
   ]
  },
  {
   "cell_type": "code",
   "execution_count": null,
   "metadata": {
    "id": "Qh7fFRqx9wvc"
   },
   "outputs": [],
   "source": [
    "grouped_a = clicks_a.groupby('account_id')\n",
    "grouped_b = clicks_b.groupby('account_id')\n",
    "grouped_c = clicks_c.groupby('account_id')"
   ]
  },
  {
   "cell_type": "code",
   "execution_count": null,
   "metadata": {
    "id": "HHdxTuC29wvc"
   },
   "outputs": [],
   "source": [
    "acc_weekend_a = grouped_a.sum().iloc[:,[5,6]]\n",
    "acc_weekend_b = grouped_b.sum().iloc[:,[5,6]]\n",
    "acc_weekend_c = grouped_c.sum().iloc[:,[5,6]]"
   ]
  },
  {
   "cell_type": "code",
   "execution_count": null,
   "metadata": {
    "id": "SEopLtpt9wvc"
   },
   "outputs": [],
   "source": [
    "acc_weekends = pd.concat([acc_weekend_a,acc_weekend_b,acc_weekend_c])"
   ]
  },
  {
   "cell_type": "code",
   "execution_count": null,
   "metadata": {
    "id": "CXqtIs1l9wvc"
   },
   "outputs": [],
   "source": [
    "acc_weekends.to_csv('./only_activity_weekends_0624.csv')"
   ]
  },
  {
   "cell_type": "code",
   "execution_count": null,
   "metadata": {
    "id": "NFsFoTFH9wvc"
   },
   "outputs": [],
   "source": [
    "acc_weekends.reset_index(inplace=True)"
   ]
  },
  {
   "cell_type": "code",
   "execution_count": null,
   "metadata": {
    "id": "3xxEIf1T9wvc",
    "scrolled": false
   },
   "outputs": [],
   "source": [
    "new_users = users.merge(acc_weekends,how='left')"
   ]
  },
  {
   "cell_type": "code",
   "execution_count": null,
   "metadata": {
    "id": "A5aJcOFK9wvd"
   },
   "outputs": [],
   "source": [
    "new_users.to_csv('./accounts_age_times_weekdays_0624.csv')"
   ]
  },
  {
   "cell_type": "markdown",
   "metadata": {
    "id": "n281On-B9wvd"
   },
   "source": [
    "#### 활동 시간 비율"
   ]
  },
  {
   "cell_type": "code",
   "execution_count": null,
   "metadata": {
    "id": "AyKJczw59wvd"
   },
   "outputs": [],
   "source": [
    "new_users = pd.read_csv('./accounts_age_times_weekdays_0624.csv',encoding='utf-8')"
   ]
  },
  {
   "cell_type": "code",
   "execution_count": null,
   "metadata": {
    "id": "NYYHhsw69wvd"
   },
   "outputs": [],
   "source": [
    "new_users['tmp'] = new_users['day'] + new_users['night']\n",
    "new_users['day_ratio'] = new_users['day']/new_users['tmp']\n",
    "new_users['night_ratio'] = 1 - new_users['day_ratio']\n",
    "new_users.drop('tmp',axis=1,inplace=True)"
   ]
  },
  {
   "cell_type": "code",
   "execution_count": null,
   "metadata": {
    "id": "iwcpCBKW9wvd"
   },
   "outputs": [],
   "source": [
    "new_users['total'] = new_users['weekend'] + new_users['weekday']\n",
    "new_users['weekend_ratio'] = new_users['weekend']/new_users['total']\n",
    "new_users['weekday_ratio'] = 1 - new_users['weekend_ratio']"
   ]
  },
  {
   "cell_type": "code",
   "execution_count": null,
   "metadata": {
    "id": "1V5LKQoO9wvj"
   },
   "outputs": [],
   "source": [
    "new_users.to_csv('./accounts_semi_final_0624.csv')"
   ]
  },
  {
   "cell_type": "markdown",
   "metadata": {
    "id": "VpgdBW_J9wvk"
   },
   "source": [
    "### 관여도"
   ]
  },
  {
   "cell_type": "code",
   "execution_count": null,
   "metadata": {
    "id": "iO_y3NNR9wvk"
   },
   "outputs": [],
   "source": [
    "import pandas as pd\n",
    "import numpy as np"
   ]
  },
  {
   "cell_type": "code",
   "execution_count": null,
   "metadata": {
    "id": "PE3cSrh19wvk",
    "scrolled": false
   },
   "outputs": [],
   "source": [
    "users = pd.read_csv('./accounts_semi_final_0624.csv',encoding='utf-8')"
   ]
  },
  {
   "cell_type": "code",
   "execution_count": null,
   "metadata": {
    "id": "0zpuEM1p9wvk"
   },
   "outputs": [],
   "source": [
    "clicks = pd.read_csv('./clicks_day_time_weekday_0624.csv',encoding='utf-8')"
   ]
  },
  {
   "cell_type": "code",
   "execution_count": null,
   "metadata": {
    "id": "neF7Zy8g9wvk"
   },
   "outputs": [],
   "source": [
    "orders = pd.read_csv('./orders_preprocessed_0623.csv',encoding='utf-8')"
   ]
  },
  {
   "cell_type": "code",
   "execution_count": null,
   "metadata": {
    "id": "CBA5lX849wvk"
   },
   "outputs": [],
   "source": [
    "clicks_1 = clicks.iloc[:20088683]\n",
    "clicks_2 = clicks.iloc[20088683:40177057]\n",
    "clicks_3 = clicks.iloc[40177057:]"
   ]
  },
  {
   "cell_type": "code",
   "execution_count": null,
   "metadata": {
    "id": "OrOv7Bia9wvk"
   },
   "outputs": [],
   "source": [
    "grouped_1 = clicks_1.groupby('account_id')\n",
    "grouped_2 = clicks_2.groupby('account_id')\n",
    "grouped_3 = clicks_3.groupby('account_id')"
   ]
  },
  {
   "cell_type": "code",
   "execution_count": null,
   "metadata": {
    "id": "JQmkOWEG9wvk"
   },
   "outputs": [],
   "source": [
    "acc_clicks_1 = grouped_1.count().iloc[:,1]\n",
    "acc_clicks_2 = grouped_2.count().iloc[:,1]\n",
    "acc_clicks_3 = grouped_3.count().iloc[:,1]"
   ]
  },
  {
   "cell_type": "markdown",
   "metadata": {
    "id": "BHHvaRIT_JK-"
   },
   "source": [
    "#### click"
   ]
  },
  {
   "cell_type": "code",
   "execution_count": null,
   "metadata": {
    "id": "5HVPpvjV9wvk"
   },
   "outputs": [],
   "source": [
    "acc_clicks = pd.concat([acc_clicks_1,acc_clicks_2,acc_clicks_3])"
   ]
  },
  {
   "cell_type": "code",
   "execution_count": null,
   "metadata": {
    "id": "mBKjG_wN9wvl"
   },
   "outputs": [],
   "source": [
    "acc_clicks=pd.DataFrame(acc_clicks)"
   ]
  },
  {
   "cell_type": "code",
   "execution_count": null,
   "metadata": {
    "id": "0sHP2PHY9wvl"
   },
   "outputs": [],
   "source": [
    "acc_clicks.to_csv('./only_clicks_0624.csv')"
   ]
  },
  {
   "cell_type": "code",
   "execution_count": null,
   "metadata": {
    "id": "qgYYHMuJ9wvl"
   },
   "outputs": [],
   "source": [
    "acc_clicks.reset_index(inplace=True)"
   ]
  },
  {
   "cell_type": "code",
   "execution_count": null,
   "metadata": {
    "id": "hJh7x07Y9wvl"
   },
   "outputs": [],
   "source": [
    "acc_clicks.columns = ['account_id','click_counts']"
   ]
  },
  {
   "cell_type": "code",
   "execution_count": null,
   "metadata": {
    "id": "l4iHvEbM9wvl"
   },
   "outputs": [],
   "source": [
    "new_users = users.merge(acc_clicks,how='left')"
   ]
  },
  {
   "cell_type": "code",
   "execution_count": null,
   "metadata": {
    "id": "eEfVlO1g9wvl"
   },
   "outputs": [],
   "source": [
    "new_users.drop('Unnamed: 0',axis=1,inplace=True)"
   ]
  },
  {
   "cell_type": "code",
   "execution_count": null,
   "metadata": {
    "id": "nsk2Byz69wvl"
   },
   "outputs": [],
   "source": [
    "new_users.drop('Unnamed: 0.1',axis=1,inplace=True)"
   ]
  },
  {
   "cell_type": "code",
   "execution_count": null,
   "metadata": {
    "id": "-aPDnq_29wvl"
   },
   "outputs": [],
   "source": [
    "new_users.to_csv('./accounts_click_counts_0624.csv')"
   ]
  },
  {
   "cell_type": "markdown",
   "metadata": {
    "id": "rxD2vkXB_Nm1"
   },
   "source": [
    "#### order"
   ]
  },
  {
   "cell_type": "code",
   "execution_count": null,
   "metadata": {
    "id": "wh0gyG-G9wvm"
   },
   "outputs": [],
   "source": [
    "grouped_o = orders.groupby('account_id')"
   ]
  },
  {
   "cell_type": "code",
   "execution_count": null,
   "metadata": {
    "id": "mluwt-V99wvm"
   },
   "outputs": [],
   "source": [
    "acc_orders = grouped_o.count().iloc[:,1]"
   ]
  },
  {
   "cell_type": "code",
   "execution_count": null,
   "metadata": {
    "id": "KQA-TJ2v9wvm"
   },
   "outputs": [],
   "source": [
    "acc_orders = pd.DataFrame(acc_orders)"
   ]
  },
  {
   "cell_type": "code",
   "execution_count": null,
   "metadata": {
    "id": "yVvGFPej9wvm"
   },
   "outputs": [],
   "source": [
    "acc_orders.reset_index(inplace=True)"
   ]
  },
  {
   "cell_type": "code",
   "execution_count": null,
   "metadata": {
    "id": "LPFHBzMU9wvm"
   },
   "outputs": [],
   "source": [
    "acc_orders.columns = ['account_id','order_counts']"
   ]
  },
  {
   "cell_type": "code",
   "execution_count": null,
   "metadata": {
    "id": "dCBuW8OZ9wvm"
   },
   "outputs": [],
   "source": [
    "users = pd.read_csv('./accounts_click_counts_0624.csv',encoding='utf-8')"
   ]
  },
  {
   "cell_type": "code",
   "execution_count": null,
   "metadata": {
    "id": "bh3d_bSN9wvm"
   },
   "outputs": [],
   "source": [
    "new_new_users = new_users.merge(acc_orders,how='left')"
   ]
  },
  {
   "cell_type": "code",
   "execution_count": null,
   "metadata": {
    "id": "kvZN183Y9wvm"
   },
   "outputs": [],
   "source": [
    "new_new_users.to_csv('./accounts_click_order_counts_0624.csv')"
   ]
  },
  {
   "cell_type": "code",
   "execution_count": null,
   "metadata": {
    "id": "f6AUR-Z-9wvm",
    "outputId": "35c1e6de-c0ae-4227-c2ac-e1f06c16f44e",
    "scrolled": true
   },
   "outputs": [
    {
     "data": {
      "text/html": [
       "<div>\n",
       "<style scoped>\n",
       "    .dataframe tbody tr th:only-of-type {\n",
       "        vertical-align: middle;\n",
       "    }\n",
       "\n",
       "    .dataframe tbody tr th {\n",
       "        vertical-align: top;\n",
       "    }\n",
       "\n",
       "    .dataframe thead th {\n",
       "        text-align: right;\n",
       "    }\n",
       "</style>\n",
       "<table border=\"1\" class=\"dataframe\">\n",
       "  <thead>\n",
       "    <tr style=\"text-align: right;\">\n",
       "      <th></th>\n",
       "      <th>account_id</th>\n",
       "      <th>gender</th>\n",
       "      <th>age</th>\n",
       "      <th>g_age</th>\n",
       "      <th>address</th>\n",
       "      <th>address_is</th>\n",
       "      <th>last_login</th>\n",
       "      <th>day</th>\n",
       "      <th>night</th>\n",
       "      <th>weekend</th>\n",
       "      <th>weekday</th>\n",
       "      <th>day_ratio</th>\n",
       "      <th>night_ratio</th>\n",
       "      <th>total</th>\n",
       "      <th>weekend_ratio</th>\n",
       "      <th>weekday_ratio</th>\n",
       "      <th>click_counts</th>\n",
       "      <th>order_counts</th>\n",
       "    </tr>\n",
       "  </thead>\n",
       "  <tbody>\n",
       "    <tr>\n",
       "      <td>0</td>\n",
       "      <td>102600</td>\n",
       "      <td>0.0</td>\n",
       "      <td>50.0</td>\n",
       "      <td>4.0</td>\n",
       "      <td>경상북도 포항시 남구 지곡동 효자그린1차아파트</td>\n",
       "      <td>1</td>\n",
       "      <td>2020-06-09 10:54:54</td>\n",
       "      <td>11.0</td>\n",
       "      <td>6.0</td>\n",
       "      <td>2.0</td>\n",
       "      <td>15.0</td>\n",
       "      <td>0.647059</td>\n",
       "      <td>0.352941</td>\n",
       "      <td>17.0</td>\n",
       "      <td>0.117647</td>\n",
       "      <td>0.882353</td>\n",
       "      <td>17.0</td>\n",
       "      <td>5</td>\n",
       "    </tr>\n",
       "    <tr>\n",
       "      <td>1</td>\n",
       "      <td>103417</td>\n",
       "      <td>0.0</td>\n",
       "      <td>40.0</td>\n",
       "      <td>3.0</td>\n",
       "      <td>경기 부천시 원미 심곡동</td>\n",
       "      <td>0</td>\n",
       "      <td>2020-05-12 14:57:49</td>\n",
       "      <td>17.0</td>\n",
       "      <td>3.0</td>\n",
       "      <td>0.0</td>\n",
       "      <td>20.0</td>\n",
       "      <td>0.850000</td>\n",
       "      <td>0.150000</td>\n",
       "      <td>20.0</td>\n",
       "      <td>0.000000</td>\n",
       "      <td>1.000000</td>\n",
       "      <td>20.0</td>\n",
       "      <td>2</td>\n",
       "    </tr>\n",
       "    <tr>\n",
       "      <td>2</td>\n",
       "      <td>105247</td>\n",
       "      <td>1.0</td>\n",
       "      <td>59.0</td>\n",
       "      <td>5.0</td>\n",
       "      <td>광주광역시 북구 일곡동 816-3 동아아파트</td>\n",
       "      <td>1</td>\n",
       "      <td>2020-01-20 05:09:15</td>\n",
       "      <td>44.0</td>\n",
       "      <td>20.0</td>\n",
       "      <td>13.0</td>\n",
       "      <td>51.0</td>\n",
       "      <td>0.687500</td>\n",
       "      <td>0.312500</td>\n",
       "      <td>64.0</td>\n",
       "      <td>0.203125</td>\n",
       "      <td>0.796875</td>\n",
       "      <td>64.0</td>\n",
       "      <td>2</td>\n",
       "    </tr>\n",
       "    <tr>\n",
       "      <td>3</td>\n",
       "      <td>109061</td>\n",
       "      <td>0.0</td>\n",
       "      <td>59.0</td>\n",
       "      <td>5.0</td>\n",
       "      <td>강원 동해시 천곡동 센트로빌아파트</td>\n",
       "      <td>1</td>\n",
       "      <td>2020-03-13 10:16:41</td>\n",
       "      <td>0.0</td>\n",
       "      <td>11.0</td>\n",
       "      <td>0.0</td>\n",
       "      <td>11.0</td>\n",
       "      <td>0.000000</td>\n",
       "      <td>1.000000</td>\n",
       "      <td>11.0</td>\n",
       "      <td>0.000000</td>\n",
       "      <td>1.000000</td>\n",
       "      <td>11.0</td>\n",
       "      <td>1</td>\n",
       "    </tr>\n",
       "    <tr>\n",
       "      <td>4</td>\n",
       "      <td>109217</td>\n",
       "      <td>0.0</td>\n",
       "      <td>46.0</td>\n",
       "      <td>4.0</td>\n",
       "      <td>경기 수원시 영통구 영통1동 황골마을1단지아파트</td>\n",
       "      <td>0</td>\n",
       "      <td>2020-03-09 11:32:04</td>\n",
       "      <td>2.0</td>\n",
       "      <td>7.0</td>\n",
       "      <td>4.0</td>\n",
       "      <td>5.0</td>\n",
       "      <td>0.222222</td>\n",
       "      <td>0.777778</td>\n",
       "      <td>9.0</td>\n",
       "      <td>0.444444</td>\n",
       "      <td>0.555556</td>\n",
       "      <td>9.0</td>\n",
       "      <td>4</td>\n",
       "    </tr>\n",
       "    <tr>\n",
       "      <td>...</td>\n",
       "      <td>...</td>\n",
       "      <td>...</td>\n",
       "      <td>...</td>\n",
       "      <td>...</td>\n",
       "      <td>...</td>\n",
       "      <td>...</td>\n",
       "      <td>...</td>\n",
       "      <td>...</td>\n",
       "      <td>...</td>\n",
       "      <td>...</td>\n",
       "      <td>...</td>\n",
       "      <td>...</td>\n",
       "      <td>...</td>\n",
       "      <td>...</td>\n",
       "      <td>...</td>\n",
       "      <td>...</td>\n",
       "      <td>...</td>\n",
       "      <td>...</td>\n",
       "    </tr>\n",
       "    <tr>\n",
       "      <td>1670270</td>\n",
       "      <td>16983289</td>\n",
       "      <td>1.0</td>\n",
       "      <td>48.0</td>\n",
       "      <td>4.0</td>\n",
       "      <td>경기도 안성시 공도읍 용두리 753 산수화아파트</td>\n",
       "      <td>0</td>\n",
       "      <td>2020-06-07 17:03:35</td>\n",
       "      <td>NaN</td>\n",
       "      <td>NaN</td>\n",
       "      <td>NaN</td>\n",
       "      <td>NaN</td>\n",
       "      <td>NaN</td>\n",
       "      <td>NaN</td>\n",
       "      <td>NaN</td>\n",
       "      <td>NaN</td>\n",
       "      <td>NaN</td>\n",
       "      <td>NaN</td>\n",
       "      <td>1</td>\n",
       "    </tr>\n",
       "    <tr>\n",
       "      <td>1670271</td>\n",
       "      <td>16983447</td>\n",
       "      <td>1.0</td>\n",
       "      <td>32.0</td>\n",
       "      <td>3.0</td>\n",
       "      <td>인천광역시 미추홀구 도화동 1008 e편한세상도화6-2단지</td>\n",
       "      <td>1</td>\n",
       "      <td>2020-06-07 20:09:03</td>\n",
       "      <td>NaN</td>\n",
       "      <td>NaN</td>\n",
       "      <td>NaN</td>\n",
       "      <td>NaN</td>\n",
       "      <td>NaN</td>\n",
       "      <td>NaN</td>\n",
       "      <td>NaN</td>\n",
       "      <td>NaN</td>\n",
       "      <td>NaN</td>\n",
       "      <td>NaN</td>\n",
       "      <td>5</td>\n",
       "    </tr>\n",
       "    <tr>\n",
       "      <td>1670272</td>\n",
       "      <td>16983639</td>\n",
       "      <td>0.0</td>\n",
       "      <td>32.0</td>\n",
       "      <td>3.0</td>\n",
       "      <td>충청남도 당진시 석문면 통정리 65-3</td>\n",
       "      <td>1</td>\n",
       "      <td>2020-06-08 00:10:53</td>\n",
       "      <td>NaN</td>\n",
       "      <td>NaN</td>\n",
       "      <td>NaN</td>\n",
       "      <td>NaN</td>\n",
       "      <td>NaN</td>\n",
       "      <td>NaN</td>\n",
       "      <td>NaN</td>\n",
       "      <td>NaN</td>\n",
       "      <td>NaN</td>\n",
       "      <td>NaN</td>\n",
       "      <td>1</td>\n",
       "    </tr>\n",
       "    <tr>\n",
       "      <td>1670273</td>\n",
       "      <td>16983644</td>\n",
       "      <td>1.0</td>\n",
       "      <td>16.0</td>\n",
       "      <td>1.0</td>\n",
       "      <td>경기도 시흥시 정왕동 2483 시흥배곧에스케이뷰</td>\n",
       "      <td>0</td>\n",
       "      <td>2020-06-09 00:07:42</td>\n",
       "      <td>NaN</td>\n",
       "      <td>NaN</td>\n",
       "      <td>NaN</td>\n",
       "      <td>NaN</td>\n",
       "      <td>NaN</td>\n",
       "      <td>NaN</td>\n",
       "      <td>NaN</td>\n",
       "      <td>NaN</td>\n",
       "      <td>NaN</td>\n",
       "      <td>NaN</td>\n",
       "      <td>2</td>\n",
       "    </tr>\n",
       "    <tr>\n",
       "      <td>1670274</td>\n",
       "      <td>16984035</td>\n",
       "      <td>1.0</td>\n",
       "      <td>25.0</td>\n",
       "      <td>2.0</td>\n",
       "      <td>인천광역시 계양구 작전동 857-19 영흥아파트</td>\n",
       "      <td>1</td>\n",
       "      <td>2020-06-08 06:22:51</td>\n",
       "      <td>NaN</td>\n",
       "      <td>NaN</td>\n",
       "      <td>NaN</td>\n",
       "      <td>NaN</td>\n",
       "      <td>NaN</td>\n",
       "      <td>NaN</td>\n",
       "      <td>NaN</td>\n",
       "      <td>NaN</td>\n",
       "      <td>NaN</td>\n",
       "      <td>NaN</td>\n",
       "      <td>2</td>\n",
       "    </tr>\n",
       "  </tbody>\n",
       "</table>\n",
       "<p>1670275 rows × 18 columns</p>\n",
       "</div>"
      ],
      "text/plain": [
       "         account_id  gender   age  g_age                           address  \\\n",
       "0            102600     0.0  50.0    4.0         경상북도 포항시 남구 지곡동 효자그린1차아파트   \n",
       "1            103417     0.0  40.0    3.0                     경기 부천시 원미 심곡동   \n",
       "2            105247     1.0  59.0    5.0          광주광역시 북구 일곡동 816-3 동아아파트   \n",
       "3            109061     0.0  59.0    5.0                강원 동해시 천곡동 센트로빌아파트   \n",
       "4            109217     0.0  46.0    4.0        경기 수원시 영통구 영통1동 황골마을1단지아파트   \n",
       "...             ...     ...   ...    ...                               ...   \n",
       "1670270    16983289     1.0  48.0    4.0        경기도 안성시 공도읍 용두리 753 산수화아파트   \n",
       "1670271    16983447     1.0  32.0    3.0  인천광역시 미추홀구 도화동 1008 e편한세상도화6-2단지   \n",
       "1670272    16983639     0.0  32.0    3.0             충청남도 당진시 석문면 통정리 65-3   \n",
       "1670273    16983644     1.0  16.0    1.0        경기도 시흥시 정왕동 2483 시흥배곧에스케이뷰   \n",
       "1670274    16984035     1.0  25.0    2.0        인천광역시 계양구 작전동 857-19 영흥아파트   \n",
       "\n",
       "         address_is           last_login   day  night  weekend  weekday  \\\n",
       "0                 1  2020-06-09 10:54:54  11.0    6.0      2.0     15.0   \n",
       "1                 0  2020-05-12 14:57:49  17.0    3.0      0.0     20.0   \n",
       "2                 1  2020-01-20 05:09:15  44.0   20.0     13.0     51.0   \n",
       "3                 1  2020-03-13 10:16:41   0.0   11.0      0.0     11.0   \n",
       "4                 0  2020-03-09 11:32:04   2.0    7.0      4.0      5.0   \n",
       "...             ...                  ...   ...    ...      ...      ...   \n",
       "1670270           0  2020-06-07 17:03:35   NaN    NaN      NaN      NaN   \n",
       "1670271           1  2020-06-07 20:09:03   NaN    NaN      NaN      NaN   \n",
       "1670272           1  2020-06-08 00:10:53   NaN    NaN      NaN      NaN   \n",
       "1670273           0  2020-06-09 00:07:42   NaN    NaN      NaN      NaN   \n",
       "1670274           1  2020-06-08 06:22:51   NaN    NaN      NaN      NaN   \n",
       "\n",
       "         day_ratio  night_ratio  total  weekend_ratio  weekday_ratio  \\\n",
       "0         0.647059     0.352941   17.0       0.117647       0.882353   \n",
       "1         0.850000     0.150000   20.0       0.000000       1.000000   \n",
       "2         0.687500     0.312500   64.0       0.203125       0.796875   \n",
       "3         0.000000     1.000000   11.0       0.000000       1.000000   \n",
       "4         0.222222     0.777778    9.0       0.444444       0.555556   \n",
       "...            ...          ...    ...            ...            ...   \n",
       "1670270        NaN          NaN    NaN            NaN            NaN   \n",
       "1670271        NaN          NaN    NaN            NaN            NaN   \n",
       "1670272        NaN          NaN    NaN            NaN            NaN   \n",
       "1670273        NaN          NaN    NaN            NaN            NaN   \n",
       "1670274        NaN          NaN    NaN            NaN            NaN   \n",
       "\n",
       "         click_counts  order_counts  \n",
       "0                17.0             5  \n",
       "1                20.0             2  \n",
       "2                64.0             2  \n",
       "3                11.0             1  \n",
       "4                 9.0             4  \n",
       "...               ...           ...  \n",
       "1670270           NaN             1  \n",
       "1670271           NaN             5  \n",
       "1670272           NaN             1  \n",
       "1670273           NaN             2  \n",
       "1670274           NaN             2  \n",
       "\n",
       "[1670275 rows x 18 columns]"
      ]
     },
     "execution_count": 59,
     "metadata": {},
     "output_type": "execute_result"
    }
   ],
   "source": [
    "new_new_users"
   ]
  },
  {
   "cell_type": "markdown",
   "metadata": {
    "id": "Z3v_JfsY_XgU"
   },
   "source": [
    "#### 관여도 (클릭수 / 주문수)"
   ]
  },
  {
   "cell_type": "code",
   "execution_count": null,
   "metadata": {
    "id": "WSjHoNhR9wvm"
   },
   "outputs": [],
   "source": [
    "new_new_users['involvement'] = new_new_users['click_counts'] / new_new_users['order_counts']"
   ]
  },
  {
   "cell_type": "markdown",
   "metadata": {
    "id": "OsZ8-rUx_pf9"
   },
   "source": [
    "#### 관여도 정규화"
   ]
  },
  {
   "cell_type": "code",
   "execution_count": null,
   "metadata": {
    "id": "cu4O9GO89wvn"
   },
   "outputs": [],
   "source": [
    "from sklearn.preprocessing import MaxAbsScaler\n",
    "scaler = MaxAbsScaler()"
   ]
  },
  {
   "cell_type": "code",
   "execution_count": null,
   "metadata": {
    "id": "fbVoU7C-9wvn"
   },
   "outputs": [],
   "source": [
    "temp = users[['account_id','involvement']].copy()\n",
    "temp[:] = scaler.fit_transform(temp[:])\n",
    "temp.columns = ['xx','involement_normalized']"
   ]
  },
  {
   "cell_type": "code",
   "execution_count": null,
   "metadata": {
    "id": "fF5ZAaDp9wvn",
    "outputId": "362474eb-f88d-4224-e337-2f6ce17e9a1a"
   },
   "outputs": [
    {
     "data": {
      "text/html": [
       "<div>\n",
       "<style scoped>\n",
       "    .dataframe tbody tr th:only-of-type {\n",
       "        vertical-align: middle;\n",
       "    }\n",
       "\n",
       "    .dataframe tbody tr th {\n",
       "        vertical-align: top;\n",
       "    }\n",
       "\n",
       "    .dataframe thead th {\n",
       "        text-align: right;\n",
       "    }\n",
       "</style>\n",
       "<table border=\"1\" class=\"dataframe\">\n",
       "  <thead>\n",
       "    <tr style=\"text-align: right;\">\n",
       "      <th></th>\n",
       "      <th>xx</th>\n",
       "      <th>involement_normalized</th>\n",
       "    </tr>\n",
       "  </thead>\n",
       "  <tbody>\n",
       "    <tr>\n",
       "      <td>0</td>\n",
       "      <td>0.006038</td>\n",
       "      <td>0.000457</td>\n",
       "    </tr>\n",
       "    <tr>\n",
       "      <td>1</td>\n",
       "      <td>0.006086</td>\n",
       "      <td>0.001345</td>\n",
       "    </tr>\n",
       "    <tr>\n",
       "      <td>2</td>\n",
       "      <td>0.006194</td>\n",
       "      <td>0.004305</td>\n",
       "    </tr>\n",
       "    <tr>\n",
       "      <td>3</td>\n",
       "      <td>0.006419</td>\n",
       "      <td>0.001480</td>\n",
       "    </tr>\n",
       "    <tr>\n",
       "      <td>4</td>\n",
       "      <td>0.006428</td>\n",
       "      <td>0.000303</td>\n",
       "    </tr>\n",
       "    <tr>\n",
       "      <td>...</td>\n",
       "      <td>...</td>\n",
       "      <td>...</td>\n",
       "    </tr>\n",
       "    <tr>\n",
       "      <td>1670270</td>\n",
       "      <td>0.999533</td>\n",
       "      <td>NaN</td>\n",
       "    </tr>\n",
       "    <tr>\n",
       "      <td>1670271</td>\n",
       "      <td>0.999543</td>\n",
       "      <td>NaN</td>\n",
       "    </tr>\n",
       "    <tr>\n",
       "      <td>1670272</td>\n",
       "      <td>0.999554</td>\n",
       "      <td>NaN</td>\n",
       "    </tr>\n",
       "    <tr>\n",
       "      <td>1670273</td>\n",
       "      <td>0.999554</td>\n",
       "      <td>NaN</td>\n",
       "    </tr>\n",
       "    <tr>\n",
       "      <td>1670274</td>\n",
       "      <td>0.999577</td>\n",
       "      <td>NaN</td>\n",
       "    </tr>\n",
       "  </tbody>\n",
       "</table>\n",
       "<p>1670275 rows × 2 columns</p>\n",
       "</div>"
      ],
      "text/plain": [
       "               xx  involement_normalized\n",
       "0        0.006038               0.000457\n",
       "1        0.006086               0.001345\n",
       "2        0.006194               0.004305\n",
       "3        0.006419               0.001480\n",
       "4        0.006428               0.000303\n",
       "...           ...                    ...\n",
       "1670270  0.999533                    NaN\n",
       "1670271  0.999543                    NaN\n",
       "1670272  0.999554                    NaN\n",
       "1670273  0.999554                    NaN\n",
       "1670274  0.999577                    NaN\n",
       "\n",
       "[1670275 rows x 2 columns]"
      ]
     },
     "execution_count": 31,
     "metadata": {},
     "output_type": "execute_result"
    }
   ],
   "source": [
    "temp"
   ]
  },
  {
   "cell_type": "code",
   "execution_count": null,
   "metadata": {
    "id": "y9PKXRjG9wvn"
   },
   "outputs": [],
   "source": [
    "new_new_users['normalized_involvement'] = temp.involement_normalized"
   ]
  },
  {
   "cell_type": "code",
   "execution_count": null,
   "metadata": {
    "id": "JU7SkfuK9wvn"
   },
   "outputs": [],
   "source": [
    "new_new_users.to_csv('./accounts_context_0624.csv')"
   ]
  },
  {
   "cell_type": "code",
   "execution_count": null,
   "metadata": {
    "id": "Ri6624I89wvn"
   },
   "outputs": [],
   "source": [
    "aa = pd.read_csv('./accounts_context_0624.csv',encoding='utf-8')"
   ]
  },
  {
   "cell_type": "code",
   "execution_count": null,
   "metadata": {
    "id": "9RS2G4dA9wvn",
    "outputId": "0912452b-62bf-4b40-f20f-1578e4ca0fe6"
   },
   "outputs": [
    {
     "data": {
      "text/plain": [
       "Unnamed: 0                     0\n",
       "account_id                     0\n",
       "gender                         0\n",
       "age                            0\n",
       "g_age                          0\n",
       "address                        0\n",
       "address_is                     0\n",
       "last_login                     0\n",
       "day                       138731\n",
       "night                     138731\n",
       "weekend                   138731\n",
       "weekday                   138731\n",
       "day_ratio                 138731\n",
       "night_ratio               138731\n",
       "total                     138731\n",
       "weekend_ratio             138731\n",
       "weekday_ratio             138731\n",
       "click_counts              138731\n",
       "order_counts                   0\n",
       "involvement               138731\n",
       "normalized_involvement    138731\n",
       "dtype: int64"
      ]
     },
     "execution_count": 92,
     "metadata": {},
     "output_type": "execute_result"
    }
   ],
   "source": [
    "aa.isnull().sum()"
   ]
  },
  {
   "cell_type": "markdown",
   "metadata": {
    "id": "C5N6Ch3B9wvn"
   },
   "source": [
    "#### 활동시간 더미"
   ]
  },
  {
   "cell_type": "code",
   "execution_count": null,
   "metadata": {
    "id": "yno7fWtP9wvo"
   },
   "outputs": [],
   "source": [
    "import pandas as pd\n",
    "import matplotlib.pyplot as plt\n",
    "import seaborn as sns"
   ]
  },
  {
   "cell_type": "code",
   "execution_count": null,
   "metadata": {
    "id": "pWsUAkAA9wvo"
   },
   "outputs": [],
   "source": [
    "users = pd.read_csv('./accounts_context_0624.csv',encoding='utf-8')"
   ]
  },
  {
   "cell_type": "code",
   "execution_count": null,
   "metadata": {
    "id": "hnkjm9CF9wvo"
   },
   "outputs": [],
   "source": [
    "users.drop('Unnamed: 0',axis=1,inplace=True)"
   ]
  },
  {
   "cell_type": "code",
   "execution_count": null,
   "metadata": {
    "id": "B2GJRRnc9wvo"
   },
   "outputs": [],
   "source": [
    "new_users = users.dropna()"
   ]
  },
  {
   "cell_type": "code",
   "execution_count": null,
   "metadata": {
    "id": "kyqzIPo-9wvo",
    "outputId": "93578d70-4767-4f56-f8c6-42a9103d5db9"
   },
   "outputs": [
    {
     "data": {
      "text/plain": [
       "<matplotlib.axes._subplots.AxesSubplot at 0x176d526c208>"
      ]
     },
     "execution_count": 13,
     "metadata": {},
     "output_type": "execute_result"
    },
    {
     "data": {
      "image/png": "[encoded data removed]",
      "text/plain": [
       "<Figure size 432x288 with 1 Axes>"
      ]
     },
     "metadata": {},
     "output_type": "display_data"
    }
   ],
   "source": [
    "sns.distplot(new_users.day_ratio)"
   ]
  },
  {
   "cell_type": "code",
   "execution_count": null,
   "metadata": {
    "id": "MF5Y6_0Q9wvo",
    "outputId": "e5933204-9727-4ac9-caa5-e1d7ebb1cc07"
   },
   "outputs": [
    {
     "data": {
      "text/plain": [
       "<matplotlib.axes._subplots.AxesSubplot at 0x176d5379d48>"
      ]
     },
     "execution_count": 14,
     "metadata": {},
     "output_type": "execute_result"
    },
    {
     "data": {
      "image/png": "[encoded data removed]",
      "text/plain": [
       "<Figure size 432x288 with 1 Axes>"
      ]
     },
     "metadata": {},
     "output_type": "display_data"
    }
   ],
   "source": [
    "sns.distplot(new_users.weekend_ratio)"
   ]
  },
  {
   "cell_type": "code",
   "execution_count": null,
   "metadata": {
    "id": "TMe-vrm_9wvo",
    "outputId": "a072904d-14e2-4f45-f904-b89d6ea56d12"
   },
   "outputs": [
    {
     "data": {
      "text/plain": [
       "<matplotlib.axes._subplots.AxesSubplot at 0x176d5468948>"
      ]
     },
     "execution_count": 16,
     "metadata": {},
     "output_type": "execute_result"
    },
    {
     "data": {
      "image/png": "[encoded data removed]",
      "text/plain": [
       "<Figure size 432x288 with 1 Axes>"
      ]
     },
     "metadata": {},
     "output_type": "display_data"
    }
   ],
   "source": [
    "sns.distplot(new_users.normalized_involvement)"
   ]
  },
  {
   "cell_type": "code",
   "execution_count": null,
   "metadata": {
    "id": "rnGHhmqP9wvo",
    "outputId": "b8ee9bb0-96ad-43c3-e64e-421e9dbdb8f4",
    "scrolled": false
   },
   "outputs": [
    {
     "data": {
      "text/html": [
       "<div>\n",
       "<style scoped>\n",
       "    .dataframe tbody tr th:only-of-type {\n",
       "        vertical-align: middle;\n",
       "    }\n",
       "\n",
       "    .dataframe tbody tr th {\n",
       "        vertical-align: top;\n",
       "    }\n",
       "\n",
       "    .dataframe thead th {\n",
       "        text-align: right;\n",
       "    }\n",
       "</style>\n",
       "<table border=\"1\" class=\"dataframe\">\n",
       "  <thead>\n",
       "    <tr style=\"text-align: right;\">\n",
       "      <th></th>\n",
       "      <th>account_id</th>\n",
       "      <th>gender</th>\n",
       "      <th>age</th>\n",
       "      <th>g_age</th>\n",
       "      <th>address</th>\n",
       "      <th>address_is</th>\n",
       "      <th>last_login</th>\n",
       "      <th>day</th>\n",
       "      <th>night</th>\n",
       "      <th>weekend</th>\n",
       "      <th>weekday</th>\n",
       "      <th>day_ratio</th>\n",
       "      <th>night_ratio</th>\n",
       "      <th>total</th>\n",
       "      <th>weekend_ratio</th>\n",
       "      <th>weekday_ratio</th>\n",
       "      <th>click_counts</th>\n",
       "      <th>order_counts</th>\n",
       "      <th>involvement</th>\n",
       "      <th>normalized_involvement</th>\n",
       "    </tr>\n",
       "  </thead>\n",
       "  <tbody>\n",
       "    <tr>\n",
       "      <td>0</td>\n",
       "      <td>102600</td>\n",
       "      <td>0.0</td>\n",
       "      <td>50.0</td>\n",
       "      <td>4.0</td>\n",
       "      <td>경상북도 포항시 남구 지곡동 효자그린1차아파트</td>\n",
       "      <td>1</td>\n",
       "      <td>2020-06-09 10:54:54</td>\n",
       "      <td>11.0</td>\n",
       "      <td>6.0</td>\n",
       "      <td>2.0</td>\n",
       "      <td>15.0</td>\n",
       "      <td>0.647059</td>\n",
       "      <td>0.352941</td>\n",
       "      <td>17.0</td>\n",
       "      <td>0.117647</td>\n",
       "      <td>0.882353</td>\n",
       "      <td>17.0</td>\n",
       "      <td>5</td>\n",
       "      <td>3.40</td>\n",
       "      <td>0.000455</td>\n",
       "    </tr>\n",
       "    <tr>\n",
       "      <td>1</td>\n",
       "      <td>103417</td>\n",
       "      <td>0.0</td>\n",
       "      <td>40.0</td>\n",
       "      <td>3.0</td>\n",
       "      <td>경기 부천시 원미 심곡동</td>\n",
       "      <td>0</td>\n",
       "      <td>2020-05-12 14:57:49</td>\n",
       "      <td>17.0</td>\n",
       "      <td>3.0</td>\n",
       "      <td>0.0</td>\n",
       "      <td>20.0</td>\n",
       "      <td>0.850000</td>\n",
       "      <td>0.150000</td>\n",
       "      <td>20.0</td>\n",
       "      <td>0.000000</td>\n",
       "      <td>1.000000</td>\n",
       "      <td>20.0</td>\n",
       "      <td>2</td>\n",
       "      <td>10.00</td>\n",
       "      <td>0.001343</td>\n",
       "    </tr>\n",
       "    <tr>\n",
       "      <td>2</td>\n",
       "      <td>105247</td>\n",
       "      <td>1.0</td>\n",
       "      <td>59.0</td>\n",
       "      <td>5.0</td>\n",
       "      <td>광주광역시 북구 일곡동 816-3 동아아파트</td>\n",
       "      <td>1</td>\n",
       "      <td>2020-01-20 05:09:15</td>\n",
       "      <td>44.0</td>\n",
       "      <td>20.0</td>\n",
       "      <td>13.0</td>\n",
       "      <td>51.0</td>\n",
       "      <td>0.687500</td>\n",
       "      <td>0.312500</td>\n",
       "      <td>64.0</td>\n",
       "      <td>0.203125</td>\n",
       "      <td>0.796875</td>\n",
       "      <td>64.0</td>\n",
       "      <td>2</td>\n",
       "      <td>32.00</td>\n",
       "      <td>0.004302</td>\n",
       "    </tr>\n",
       "    <tr>\n",
       "      <td>3</td>\n",
       "      <td>109061</td>\n",
       "      <td>0.0</td>\n",
       "      <td>59.0</td>\n",
       "      <td>5.0</td>\n",
       "      <td>강원 동해시 천곡동 센트로빌아파트</td>\n",
       "      <td>1</td>\n",
       "      <td>2020-03-13 10:16:41</td>\n",
       "      <td>0.0</td>\n",
       "      <td>11.0</td>\n",
       "      <td>0.0</td>\n",
       "      <td>11.0</td>\n",
       "      <td>0.000000</td>\n",
       "      <td>1.000000</td>\n",
       "      <td>11.0</td>\n",
       "      <td>0.000000</td>\n",
       "      <td>1.000000</td>\n",
       "      <td>11.0</td>\n",
       "      <td>1</td>\n",
       "      <td>11.00</td>\n",
       "      <td>0.001478</td>\n",
       "    </tr>\n",
       "    <tr>\n",
       "      <td>4</td>\n",
       "      <td>109217</td>\n",
       "      <td>0.0</td>\n",
       "      <td>46.0</td>\n",
       "      <td>4.0</td>\n",
       "      <td>경기 수원시 영통구 영통1동 황골마을1단지아파트</td>\n",
       "      <td>0</td>\n",
       "      <td>2020-03-09 11:32:04</td>\n",
       "      <td>2.0</td>\n",
       "      <td>7.0</td>\n",
       "      <td>4.0</td>\n",
       "      <td>5.0</td>\n",
       "      <td>0.222222</td>\n",
       "      <td>0.777778</td>\n",
       "      <td>9.0</td>\n",
       "      <td>0.444444</td>\n",
       "      <td>0.555556</td>\n",
       "      <td>9.0</td>\n",
       "      <td>4</td>\n",
       "      <td>2.25</td>\n",
       "      <td>0.000301</td>\n",
       "    </tr>\n",
       "    <tr>\n",
       "      <td>...</td>\n",
       "      <td>...</td>\n",
       "      <td>...</td>\n",
       "      <td>...</td>\n",
       "      <td>...</td>\n",
       "      <td>...</td>\n",
       "      <td>...</td>\n",
       "      <td>...</td>\n",
       "      <td>...</td>\n",
       "      <td>...</td>\n",
       "      <td>...</td>\n",
       "      <td>...</td>\n",
       "      <td>...</td>\n",
       "      <td>...</td>\n",
       "      <td>...</td>\n",
       "      <td>...</td>\n",
       "      <td>...</td>\n",
       "      <td>...</td>\n",
       "      <td>...</td>\n",
       "      <td>...</td>\n",
       "      <td>...</td>\n",
       "    </tr>\n",
       "    <tr>\n",
       "      <td>1670224</td>\n",
       "      <td>16955274</td>\n",
       "      <td>0.0</td>\n",
       "      <td>28.0</td>\n",
       "      <td>2.0</td>\n",
       "      <td>서울특별시 서초구 서초동 1364-21</td>\n",
       "      <td>1</td>\n",
       "      <td>2020-05-30 06:37:44</td>\n",
       "      <td>2.0</td>\n",
       "      <td>0.0</td>\n",
       "      <td>2.0</td>\n",
       "      <td>0.0</td>\n",
       "      <td>1.000000</td>\n",
       "      <td>0.000000</td>\n",
       "      <td>2.0</td>\n",
       "      <td>1.000000</td>\n",
       "      <td>0.000000</td>\n",
       "      <td>2.0</td>\n",
       "      <td>2</td>\n",
       "      <td>1.00</td>\n",
       "      <td>0.000132</td>\n",
       "    </tr>\n",
       "    <tr>\n",
       "      <td>1670225</td>\n",
       "      <td>16957084</td>\n",
       "      <td>1.0</td>\n",
       "      <td>31.0</td>\n",
       "      <td>3.0</td>\n",
       "      <td>서울특별시 광진구 광장동 554-7 광장현대아파트</td>\n",
       "      <td>1</td>\n",
       "      <td>2020-05-30 16:26:39</td>\n",
       "      <td>0.0</td>\n",
       "      <td>2.0</td>\n",
       "      <td>2.0</td>\n",
       "      <td>0.0</td>\n",
       "      <td>0.000000</td>\n",
       "      <td>1.000000</td>\n",
       "      <td>2.0</td>\n",
       "      <td>1.000000</td>\n",
       "      <td>0.000000</td>\n",
       "      <td>2.0</td>\n",
       "      <td>1</td>\n",
       "      <td>2.00</td>\n",
       "      <td>0.000267</td>\n",
       "    </tr>\n",
       "    <tr>\n",
       "      <td>1670226</td>\n",
       "      <td>16957506</td>\n",
       "      <td>0.0</td>\n",
       "      <td>51.0</td>\n",
       "      <td>5.0</td>\n",
       "      <td>경상북도 경산시 계양동 74-1 남부자동차학원</td>\n",
       "      <td>1</td>\n",
       "      <td>2020-05-31 00:21:15</td>\n",
       "      <td>1.0</td>\n",
       "      <td>0.0</td>\n",
       "      <td>1.0</td>\n",
       "      <td>0.0</td>\n",
       "      <td>1.000000</td>\n",
       "      <td>0.000000</td>\n",
       "      <td>1.0</td>\n",
       "      <td>1.000000</td>\n",
       "      <td>0.000000</td>\n",
       "      <td>1.0</td>\n",
       "      <td>1</td>\n",
       "      <td>1.00</td>\n",
       "      <td>0.000132</td>\n",
       "    </tr>\n",
       "    <tr>\n",
       "      <td>1670227</td>\n",
       "      <td>16959433</td>\n",
       "      <td>1.0</td>\n",
       "      <td>42.0</td>\n",
       "      <td>3.0</td>\n",
       "      <td>부산광역시 사상구 학장동 167-3 학장대림아파트</td>\n",
       "      <td>1</td>\n",
       "      <td>2020-05-31 11:02:01</td>\n",
       "      <td>0.0</td>\n",
       "      <td>2.0</td>\n",
       "      <td>2.0</td>\n",
       "      <td>0.0</td>\n",
       "      <td>0.000000</td>\n",
       "      <td>1.000000</td>\n",
       "      <td>2.0</td>\n",
       "      <td>1.000000</td>\n",
       "      <td>0.000000</td>\n",
       "      <td>2.0</td>\n",
       "      <td>1</td>\n",
       "      <td>2.00</td>\n",
       "      <td>0.000267</td>\n",
       "    </tr>\n",
       "    <tr>\n",
       "      <td>1670228</td>\n",
       "      <td>16960301</td>\n",
       "      <td>1.0</td>\n",
       "      <td>17.0</td>\n",
       "      <td>1.0</td>\n",
       "      <td>서울특별시 강서구 화곡동 56-406 삼원하이츠빌라5차</td>\n",
       "      <td>1</td>\n",
       "      <td>2020-05-31 15:20:12</td>\n",
       "      <td>0.0</td>\n",
       "      <td>1.0</td>\n",
       "      <td>1.0</td>\n",
       "      <td>0.0</td>\n",
       "      <td>0.000000</td>\n",
       "      <td>1.000000</td>\n",
       "      <td>1.0</td>\n",
       "      <td>1.000000</td>\n",
       "      <td>0.000000</td>\n",
       "      <td>1.0</td>\n",
       "      <td>1</td>\n",
       "      <td>1.00</td>\n",
       "      <td>0.000132</td>\n",
       "    </tr>\n",
       "  </tbody>\n",
       "</table>\n",
       "<p>1531544 rows × 20 columns</p>\n",
       "</div>"
      ],
      "text/plain": [
       "         account_id  gender   age  g_age                         address  \\\n",
       "0            102600     0.0  50.0    4.0       경상북도 포항시 남구 지곡동 효자그린1차아파트   \n",
       "1            103417     0.0  40.0    3.0                   경기 부천시 원미 심곡동   \n",
       "2            105247     1.0  59.0    5.0        광주광역시 북구 일곡동 816-3 동아아파트   \n",
       "3            109061     0.0  59.0    5.0              강원 동해시 천곡동 센트로빌아파트   \n",
       "4            109217     0.0  46.0    4.0      경기 수원시 영통구 영통1동 황골마을1단지아파트   \n",
       "...             ...     ...   ...    ...                             ...   \n",
       "1670224    16955274     0.0  28.0    2.0           서울특별시 서초구 서초동 1364-21   \n",
       "1670225    16957084     1.0  31.0    3.0     서울특별시 광진구 광장동 554-7 광장현대아파트   \n",
       "1670226    16957506     0.0  51.0    5.0       경상북도 경산시 계양동 74-1 남부자동차학원   \n",
       "1670227    16959433     1.0  42.0    3.0     부산광역시 사상구 학장동 167-3 학장대림아파트   \n",
       "1670228    16960301     1.0  17.0    1.0  서울특별시 강서구 화곡동 56-406 삼원하이츠빌라5차   \n",
       "\n",
       "         address_is           last_login   day  night  weekend  weekday  \\\n",
       "0                 1  2020-06-09 10:54:54  11.0    6.0      2.0     15.0   \n",
       "1                 0  2020-05-12 14:57:49  17.0    3.0      0.0     20.0   \n",
       "2                 1  2020-01-20 05:09:15  44.0   20.0     13.0     51.0   \n",
       "3                 1  2020-03-13 10:16:41   0.0   11.0      0.0     11.0   \n",
       "4                 0  2020-03-09 11:32:04   2.0    7.0      4.0      5.0   \n",
       "...             ...                  ...   ...    ...      ...      ...   \n",
       "1670224           1  2020-05-30 06:37:44   2.0    0.0      2.0      0.0   \n",
       "1670225           1  2020-05-30 16:26:39   0.0    2.0      2.0      0.0   \n",
       "1670226           1  2020-05-31 00:21:15   1.0    0.0      1.0      0.0   \n",
       "1670227           1  2020-05-31 11:02:01   0.0    2.0      2.0      0.0   \n",
       "1670228           1  2020-05-31 15:20:12   0.0    1.0      1.0      0.0   \n",
       "\n",
       "         day_ratio  night_ratio  total  weekend_ratio  weekday_ratio  \\\n",
       "0         0.647059     0.352941   17.0       0.117647       0.882353   \n",
       "1         0.850000     0.150000   20.0       0.000000       1.000000   \n",
       "2         0.687500     0.312500   64.0       0.203125       0.796875   \n",
       "3         0.000000     1.000000   11.0       0.000000       1.000000   \n",
       "4         0.222222     0.777778    9.0       0.444444       0.555556   \n",
       "...            ...          ...    ...            ...            ...   \n",
       "1670224   1.000000     0.000000    2.0       1.000000       0.000000   \n",
       "1670225   0.000000     1.000000    2.0       1.000000       0.000000   \n",
       "1670226   1.000000     0.000000    1.0       1.000000       0.000000   \n",
       "1670227   0.000000     1.000000    2.0       1.000000       0.000000   \n",
       "1670228   0.000000     1.000000    1.0       1.000000       0.000000   \n",
       "\n",
       "         click_counts  order_counts  involvement  normalized_involvement  \n",
       "0                17.0             5         3.40                0.000455  \n",
       "1                20.0             2        10.00                0.001343  \n",
       "2                64.0             2        32.00                0.004302  \n",
       "3                11.0             1        11.00                0.001478  \n",
       "4                 9.0             4         2.25                0.000301  \n",
       "...               ...           ...          ...                     ...  \n",
       "1670224           2.0             2         1.00                0.000132  \n",
       "1670225           2.0             1         2.00                0.000267  \n",
       "1670226           1.0             1         1.00                0.000132  \n",
       "1670227           2.0             1         2.00                0.000267  \n",
       "1670228           1.0             1         1.00                0.000132  \n",
       "\n",
       "[1531544 rows x 20 columns]"
      ]
     },
     "execution_count": 32,
     "metadata": {},
     "output_type": "execute_result"
    }
   ],
   "source": [
    "new_users"
   ]
  },
  {
   "cell_type": "code",
   "execution_count": null,
   "metadata": {
    "id": "WGeZa9r09wvo",
    "outputId": "31608531-7bf7-4843-8053-43d981471a1a",
    "scrolled": true
   },
   "outputs": [
    {
     "data": {
      "text/html": [
       "<div>\n",
       "<style scoped>\n",
       "    .dataframe tbody tr th:only-of-type {\n",
       "        vertical-align: middle;\n",
       "    }\n",
       "\n",
       "    .dataframe tbody tr th {\n",
       "        vertical-align: top;\n",
       "    }\n",
       "\n",
       "    .dataframe thead th {\n",
       "        text-align: right;\n",
       "    }\n",
       "</style>\n",
       "<table border=\"1\" class=\"dataframe\">\n",
       "  <thead>\n",
       "    <tr style=\"text-align: right;\">\n",
       "      <th></th>\n",
       "      <th>account_id</th>\n",
       "      <th>gender</th>\n",
       "      <th>age</th>\n",
       "      <th>g_age</th>\n",
       "      <th>address</th>\n",
       "      <th>address_is</th>\n",
       "      <th>last_login</th>\n",
       "      <th>day</th>\n",
       "      <th>night</th>\n",
       "      <th>weekend</th>\n",
       "      <th>weekday</th>\n",
       "      <th>day_ratio</th>\n",
       "      <th>night_ratio</th>\n",
       "      <th>total</th>\n",
       "      <th>weekend_ratio</th>\n",
       "      <th>weekday_ratio</th>\n",
       "      <th>click_counts</th>\n",
       "      <th>order_counts</th>\n",
       "      <th>involvement</th>\n",
       "      <th>normalized_involvement</th>\n",
       "    </tr>\n",
       "  </thead>\n",
       "  <tbody>\n",
       "    <tr>\n",
       "      <td>0</td>\n",
       "      <td>102600</td>\n",
       "      <td>0.0</td>\n",
       "      <td>50.0</td>\n",
       "      <td>4.0</td>\n",
       "      <td>경상북도 포항시 남구 지곡동 효자그린1차아파트</td>\n",
       "      <td>1</td>\n",
       "      <td>2020-06-09 10:54:54</td>\n",
       "      <td>11.0</td>\n",
       "      <td>6.0</td>\n",
       "      <td>2.0</td>\n",
       "      <td>15.0</td>\n",
       "      <td>0.647059</td>\n",
       "      <td>0.352941</td>\n",
       "      <td>17.0</td>\n",
       "      <td>0.117647</td>\n",
       "      <td>0.882353</td>\n",
       "      <td>17.0</td>\n",
       "      <td>5</td>\n",
       "      <td>3.40</td>\n",
       "      <td>0.000455</td>\n",
       "    </tr>\n",
       "    <tr>\n",
       "      <td>1</td>\n",
       "      <td>103417</td>\n",
       "      <td>0.0</td>\n",
       "      <td>40.0</td>\n",
       "      <td>3.0</td>\n",
       "      <td>경기 부천시 원미 심곡동</td>\n",
       "      <td>0</td>\n",
       "      <td>2020-05-12 14:57:49</td>\n",
       "      <td>17.0</td>\n",
       "      <td>3.0</td>\n",
       "      <td>0.0</td>\n",
       "      <td>20.0</td>\n",
       "      <td>0.850000</td>\n",
       "      <td>0.150000</td>\n",
       "      <td>20.0</td>\n",
       "      <td>0.000000</td>\n",
       "      <td>1.000000</td>\n",
       "      <td>20.0</td>\n",
       "      <td>2</td>\n",
       "      <td>10.00</td>\n",
       "      <td>0.001343</td>\n",
       "    </tr>\n",
       "    <tr>\n",
       "      <td>2</td>\n",
       "      <td>105247</td>\n",
       "      <td>1.0</td>\n",
       "      <td>59.0</td>\n",
       "      <td>5.0</td>\n",
       "      <td>광주광역시 북구 일곡동 816-3 동아아파트</td>\n",
       "      <td>1</td>\n",
       "      <td>2020-01-20 05:09:15</td>\n",
       "      <td>44.0</td>\n",
       "      <td>20.0</td>\n",
       "      <td>13.0</td>\n",
       "      <td>51.0</td>\n",
       "      <td>0.687500</td>\n",
       "      <td>0.312500</td>\n",
       "      <td>64.0</td>\n",
       "      <td>0.203125</td>\n",
       "      <td>0.796875</td>\n",
       "      <td>64.0</td>\n",
       "      <td>2</td>\n",
       "      <td>32.00</td>\n",
       "      <td>0.004302</td>\n",
       "    </tr>\n",
       "    <tr>\n",
       "      <td>3</td>\n",
       "      <td>109061</td>\n",
       "      <td>0.0</td>\n",
       "      <td>59.0</td>\n",
       "      <td>5.0</td>\n",
       "      <td>강원 동해시 천곡동 센트로빌아파트</td>\n",
       "      <td>1</td>\n",
       "      <td>2020-03-13 10:16:41</td>\n",
       "      <td>0.0</td>\n",
       "      <td>11.0</td>\n",
       "      <td>0.0</td>\n",
       "      <td>11.0</td>\n",
       "      <td>0.000000</td>\n",
       "      <td>1.000000</td>\n",
       "      <td>11.0</td>\n",
       "      <td>0.000000</td>\n",
       "      <td>1.000000</td>\n",
       "      <td>11.0</td>\n",
       "      <td>1</td>\n",
       "      <td>11.00</td>\n",
       "      <td>0.001478</td>\n",
       "    </tr>\n",
       "    <tr>\n",
       "      <td>4</td>\n",
       "      <td>109217</td>\n",
       "      <td>0.0</td>\n",
       "      <td>46.0</td>\n",
       "      <td>4.0</td>\n",
       "      <td>경기 수원시 영통구 영통1동 황골마을1단지아파트</td>\n",
       "      <td>0</td>\n",
       "      <td>2020-03-09 11:32:04</td>\n",
       "      <td>2.0</td>\n",
       "      <td>7.0</td>\n",
       "      <td>4.0</td>\n",
       "      <td>5.0</td>\n",
       "      <td>0.222222</td>\n",
       "      <td>0.777778</td>\n",
       "      <td>9.0</td>\n",
       "      <td>0.444444</td>\n",
       "      <td>0.555556</td>\n",
       "      <td>9.0</td>\n",
       "      <td>4</td>\n",
       "      <td>2.25</td>\n",
       "      <td>0.000301</td>\n",
       "    </tr>\n",
       "    <tr>\n",
       "      <td>...</td>\n",
       "      <td>...</td>\n",
       "      <td>...</td>\n",
       "      <td>...</td>\n",
       "      <td>...</td>\n",
       "      <td>...</td>\n",
       "      <td>...</td>\n",
       "      <td>...</td>\n",
       "      <td>...</td>\n",
       "      <td>...</td>\n",
       "      <td>...</td>\n",
       "      <td>...</td>\n",
       "      <td>...</td>\n",
       "      <td>...</td>\n",
       "      <td>...</td>\n",
       "      <td>...</td>\n",
       "      <td>...</td>\n",
       "      <td>...</td>\n",
       "      <td>...</td>\n",
       "      <td>...</td>\n",
       "      <td>...</td>\n",
       "    </tr>\n",
       "    <tr>\n",
       "      <td>1670224</td>\n",
       "      <td>16955274</td>\n",
       "      <td>0.0</td>\n",
       "      <td>28.0</td>\n",
       "      <td>2.0</td>\n",
       "      <td>서울특별시 서초구 서초동 1364-21</td>\n",
       "      <td>1</td>\n",
       "      <td>2020-05-30 06:37:44</td>\n",
       "      <td>2.0</td>\n",
       "      <td>0.0</td>\n",
       "      <td>2.0</td>\n",
       "      <td>0.0</td>\n",
       "      <td>1.000000</td>\n",
       "      <td>0.000000</td>\n",
       "      <td>2.0</td>\n",
       "      <td>1.000000</td>\n",
       "      <td>0.000000</td>\n",
       "      <td>2.0</td>\n",
       "      <td>2</td>\n",
       "      <td>1.00</td>\n",
       "      <td>0.000132</td>\n",
       "    </tr>\n",
       "    <tr>\n",
       "      <td>1670225</td>\n",
       "      <td>16957084</td>\n",
       "      <td>1.0</td>\n",
       "      <td>31.0</td>\n",
       "      <td>3.0</td>\n",
       "      <td>서울특별시 광진구 광장동 554-7 광장현대아파트</td>\n",
       "      <td>1</td>\n",
       "      <td>2020-05-30 16:26:39</td>\n",
       "      <td>0.0</td>\n",
       "      <td>2.0</td>\n",
       "      <td>2.0</td>\n",
       "      <td>0.0</td>\n",
       "      <td>0.000000</td>\n",
       "      <td>1.000000</td>\n",
       "      <td>2.0</td>\n",
       "      <td>1.000000</td>\n",
       "      <td>0.000000</td>\n",
       "      <td>2.0</td>\n",
       "      <td>1</td>\n",
       "      <td>2.00</td>\n",
       "      <td>0.000267</td>\n",
       "    </tr>\n",
       "    <tr>\n",
       "      <td>1670226</td>\n",
       "      <td>16957506</td>\n",
       "      <td>0.0</td>\n",
       "      <td>51.0</td>\n",
       "      <td>5.0</td>\n",
       "      <td>경상북도 경산시 계양동 74-1 남부자동차학원</td>\n",
       "      <td>1</td>\n",
       "      <td>2020-05-31 00:21:15</td>\n",
       "      <td>1.0</td>\n",
       "      <td>0.0</td>\n",
       "      <td>1.0</td>\n",
       "      <td>0.0</td>\n",
       "      <td>1.000000</td>\n",
       "      <td>0.000000</td>\n",
       "      <td>1.0</td>\n",
       "      <td>1.000000</td>\n",
       "      <td>0.000000</td>\n",
       "      <td>1.0</td>\n",
       "      <td>1</td>\n",
       "      <td>1.00</td>\n",
       "      <td>0.000132</td>\n",
       "    </tr>\n",
       "    <tr>\n",
       "      <td>1670227</td>\n",
       "      <td>16959433</td>\n",
       "      <td>1.0</td>\n",
       "      <td>42.0</td>\n",
       "      <td>3.0</td>\n",
       "      <td>부산광역시 사상구 학장동 167-3 학장대림아파트</td>\n",
       "      <td>1</td>\n",
       "      <td>2020-05-31 11:02:01</td>\n",
       "      <td>0.0</td>\n",
       "      <td>2.0</td>\n",
       "      <td>2.0</td>\n",
       "      <td>0.0</td>\n",
       "      <td>0.000000</td>\n",
       "      <td>1.000000</td>\n",
       "      <td>2.0</td>\n",
       "      <td>1.000000</td>\n",
       "      <td>0.000000</td>\n",
       "      <td>2.0</td>\n",
       "      <td>1</td>\n",
       "      <td>2.00</td>\n",
       "      <td>0.000267</td>\n",
       "    </tr>\n",
       "    <tr>\n",
       "      <td>1670228</td>\n",
       "      <td>16960301</td>\n",
       "      <td>1.0</td>\n",
       "      <td>17.0</td>\n",
       "      <td>1.0</td>\n",
       "      <td>서울특별시 강서구 화곡동 56-406 삼원하이츠빌라5차</td>\n",
       "      <td>1</td>\n",
       "      <td>2020-05-31 15:20:12</td>\n",
       "      <td>0.0</td>\n",
       "      <td>1.0</td>\n",
       "      <td>1.0</td>\n",
       "      <td>0.0</td>\n",
       "      <td>0.000000</td>\n",
       "      <td>1.000000</td>\n",
       "      <td>1.0</td>\n",
       "      <td>1.000000</td>\n",
       "      <td>0.000000</td>\n",
       "      <td>1.0</td>\n",
       "      <td>1</td>\n",
       "      <td>1.00</td>\n",
       "      <td>0.000132</td>\n",
       "    </tr>\n",
       "  </tbody>\n",
       "</table>\n",
       "<p>1531544 rows × 20 columns</p>\n",
       "</div>"
      ],
      "text/plain": [
       "         account_id  gender   age  g_age                         address  \\\n",
       "0            102600     0.0  50.0    4.0       경상북도 포항시 남구 지곡동 효자그린1차아파트   \n",
       "1            103417     0.0  40.0    3.0                   경기 부천시 원미 심곡동   \n",
       "2            105247     1.0  59.0    5.0        광주광역시 북구 일곡동 816-3 동아아파트   \n",
       "3            109061     0.0  59.0    5.0              강원 동해시 천곡동 센트로빌아파트   \n",
       "4            109217     0.0  46.0    4.0      경기 수원시 영통구 영통1동 황골마을1단지아파트   \n",
       "...             ...     ...   ...    ...                             ...   \n",
       "1670224    16955274     0.0  28.0    2.0           서울특별시 서초구 서초동 1364-21   \n",
       "1670225    16957084     1.0  31.0    3.0     서울특별시 광진구 광장동 554-7 광장현대아파트   \n",
       "1670226    16957506     0.0  51.0    5.0       경상북도 경산시 계양동 74-1 남부자동차학원   \n",
       "1670227    16959433     1.0  42.0    3.0     부산광역시 사상구 학장동 167-3 학장대림아파트   \n",
       "1670228    16960301     1.0  17.0    1.0  서울특별시 강서구 화곡동 56-406 삼원하이츠빌라5차   \n",
       "\n",
       "         address_is           last_login   day  night  weekend  weekday  \\\n",
       "0                 1  2020-06-09 10:54:54  11.0    6.0      2.0     15.0   \n",
       "1                 0  2020-05-12 14:57:49  17.0    3.0      0.0     20.0   \n",
       "2                 1  2020-01-20 05:09:15  44.0   20.0     13.0     51.0   \n",
       "3                 1  2020-03-13 10:16:41   0.0   11.0      0.0     11.0   \n",
       "4                 0  2020-03-09 11:32:04   2.0    7.0      4.0      5.0   \n",
       "...             ...                  ...   ...    ...      ...      ...   \n",
       "1670224           1  2020-05-30 06:37:44   2.0    0.0      2.0      0.0   \n",
       "1670225           1  2020-05-30 16:26:39   0.0    2.0      2.0      0.0   \n",
       "1670226           1  2020-05-31 00:21:15   1.0    0.0      1.0      0.0   \n",
       "1670227           1  2020-05-31 11:02:01   0.0    2.0      2.0      0.0   \n",
       "1670228           1  2020-05-31 15:20:12   0.0    1.0      1.0      0.0   \n",
       "\n",
       "         day_ratio  night_ratio  total  weekend_ratio  weekday_ratio  \\\n",
       "0         0.647059     0.352941   17.0       0.117647       0.882353   \n",
       "1         0.850000     0.150000   20.0       0.000000       1.000000   \n",
       "2         0.687500     0.312500   64.0       0.203125       0.796875   \n",
       "3         0.000000     1.000000   11.0       0.000000       1.000000   \n",
       "4         0.222222     0.777778    9.0       0.444444       0.555556   \n",
       "...            ...          ...    ...            ...            ...   \n",
       "1670224   1.000000     0.000000    2.0       1.000000       0.000000   \n",
       "1670225   0.000000     1.000000    2.0       1.000000       0.000000   \n",
       "1670226   1.000000     0.000000    1.0       1.000000       0.000000   \n",
       "1670227   0.000000     1.000000    2.0       1.000000       0.000000   \n",
       "1670228   0.000000     1.000000    1.0       1.000000       0.000000   \n",
       "\n",
       "         click_counts  order_counts  involvement  normalized_involvement  \n",
       "0                17.0             5         3.40                0.000455  \n",
       "1                20.0             2        10.00                0.001343  \n",
       "2                64.0             2        32.00                0.004302  \n",
       "3                11.0             1        11.00                0.001478  \n",
       "4                 9.0             4         2.25                0.000301  \n",
       "...               ...           ...          ...                     ...  \n",
       "1670224           2.0             2         1.00                0.000132  \n",
       "1670225           2.0             1         2.00                0.000267  \n",
       "1670226           1.0             1         1.00                0.000132  \n",
       "1670227           2.0             1         2.00                0.000267  \n",
       "1670228           1.0             1         1.00                0.000132  \n",
       "\n",
       "[1531544 rows x 20 columns]"
      ]
     },
     "execution_count": 33,
     "metadata": {},
     "output_type": "execute_result"
    }
   ],
   "source": [
    "new_users"
   ]
  },
  {
   "cell_type": "code",
   "execution_count": null,
   "metadata": {
    "id": "mRaGAsvk9wvo"
   },
   "outputs": [],
   "source": [
    "users['dayday'] = users['day_ratio'].apply(lambda x:1 if x >0.6 else 0)"
   ]
  },
  {
   "cell_type": "code",
   "execution_count": null,
   "metadata": {
    "id": "kiMajx2d9wvo"
   },
   "outputs": [],
   "source": [
    "users['nightnight'] = users['day_ratio'].apply(lambda x:1 if x<0.4 else 0)"
   ]
  },
  {
   "cell_type": "code",
   "execution_count": null,
   "metadata": {
    "id": "D_QoBTY59wvo"
   },
   "outputs": [],
   "source": [
    "users['balance'] = users['dayday'] + users['nightnight']"
   ]
  },
  {
   "cell_type": "code",
   "execution_count": null,
   "metadata": {
    "id": "BYET-5Iz9wvo"
   },
   "outputs": [],
   "source": [
    "users['balance'] = users['balance'].apply(lambda x:0 if x == 1 else 1)"
   ]
  },
  {
   "cell_type": "code",
   "execution_count": null,
   "metadata": {
    "id": "Z9lczDRR9wvo"
   },
   "outputs": [],
   "source": [
    "users['weekdayday'] = users['weekend_ratio'].apply(lambda x:1 if x<0.5 else 0)"
   ]
  },
  {
   "cell_type": "code",
   "execution_count": null,
   "metadata": {
    "id": "EWMlJyFl9wvo"
   },
   "outputs": [],
   "source": [
    "users['weekendend'] = users['weekend_ratio'].apply(lambda x:1 if x > 0.5 else 0)"
   ]
  },
  {
   "cell_type": "code",
   "execution_count": null,
   "metadata": {
    "id": "tejs98rQ9wvo",
    "outputId": "33c03a84-1df1-4b3a-f153-2be458330839",
    "scrolled": true
   },
   "outputs": [
    {
     "data": {
      "text/html": [
       "<div>\n",
       "<style scoped>\n",
       "    .dataframe tbody tr th:only-of-type {\n",
       "        vertical-align: middle;\n",
       "    }\n",
       "\n",
       "    .dataframe tbody tr th {\n",
       "        vertical-align: top;\n",
       "    }\n",
       "\n",
       "    .dataframe thead th {\n",
       "        text-align: right;\n",
       "    }\n",
       "</style>\n",
       "<table border=\"1\" class=\"dataframe\">\n",
       "  <thead>\n",
       "    <tr style=\"text-align: right;\">\n",
       "      <th></th>\n",
       "      <th>account_id</th>\n",
       "      <th>gender</th>\n",
       "      <th>age</th>\n",
       "      <th>g_age</th>\n",
       "      <th>address</th>\n",
       "      <th>address_is</th>\n",
       "      <th>last_login</th>\n",
       "      <th>day</th>\n",
       "      <th>night</th>\n",
       "      <th>weekend</th>\n",
       "      <th>...</th>\n",
       "      <th>weekday_ratio</th>\n",
       "      <th>click_counts</th>\n",
       "      <th>order_counts</th>\n",
       "      <th>involvement</th>\n",
       "      <th>normalized_involvement</th>\n",
       "      <th>dayday</th>\n",
       "      <th>nightnight</th>\n",
       "      <th>balance</th>\n",
       "      <th>weekdayday</th>\n",
       "      <th>weekendend</th>\n",
       "    </tr>\n",
       "  </thead>\n",
       "  <tbody>\n",
       "    <tr>\n",
       "      <td>0</td>\n",
       "      <td>102600</td>\n",
       "      <td>0.0</td>\n",
       "      <td>50.0</td>\n",
       "      <td>4.0</td>\n",
       "      <td>경상북도 포항시 남구 지곡동 효자그린1차아파트</td>\n",
       "      <td>1</td>\n",
       "      <td>2020-06-09 10:54:54</td>\n",
       "      <td>11.0</td>\n",
       "      <td>6.0</td>\n",
       "      <td>2.0</td>\n",
       "      <td>...</td>\n",
       "      <td>0.882353</td>\n",
       "      <td>17.0</td>\n",
       "      <td>5</td>\n",
       "      <td>3.40</td>\n",
       "      <td>0.000455</td>\n",
       "      <td>1</td>\n",
       "      <td>0</td>\n",
       "      <td>0</td>\n",
       "      <td>1</td>\n",
       "      <td>0</td>\n",
       "    </tr>\n",
       "    <tr>\n",
       "      <td>1</td>\n",
       "      <td>103417</td>\n",
       "      <td>0.0</td>\n",
       "      <td>40.0</td>\n",
       "      <td>3.0</td>\n",
       "      <td>경기 부천시 원미 심곡동</td>\n",
       "      <td>0</td>\n",
       "      <td>2020-05-12 14:57:49</td>\n",
       "      <td>17.0</td>\n",
       "      <td>3.0</td>\n",
       "      <td>0.0</td>\n",
       "      <td>...</td>\n",
       "      <td>1.000000</td>\n",
       "      <td>20.0</td>\n",
       "      <td>2</td>\n",
       "      <td>10.00</td>\n",
       "      <td>0.001343</td>\n",
       "      <td>1</td>\n",
       "      <td>0</td>\n",
       "      <td>0</td>\n",
       "      <td>1</td>\n",
       "      <td>0</td>\n",
       "    </tr>\n",
       "    <tr>\n",
       "      <td>2</td>\n",
       "      <td>105247</td>\n",
       "      <td>1.0</td>\n",
       "      <td>59.0</td>\n",
       "      <td>5.0</td>\n",
       "      <td>광주광역시 북구 일곡동 816-3 동아아파트</td>\n",
       "      <td>1</td>\n",
       "      <td>2020-01-20 05:09:15</td>\n",
       "      <td>44.0</td>\n",
       "      <td>20.0</td>\n",
       "      <td>13.0</td>\n",
       "      <td>...</td>\n",
       "      <td>0.796875</td>\n",
       "      <td>64.0</td>\n",
       "      <td>2</td>\n",
       "      <td>32.00</td>\n",
       "      <td>0.004302</td>\n",
       "      <td>1</td>\n",
       "      <td>0</td>\n",
       "      <td>0</td>\n",
       "      <td>1</td>\n",
       "      <td>0</td>\n",
       "    </tr>\n",
       "    <tr>\n",
       "      <td>3</td>\n",
       "      <td>109061</td>\n",
       "      <td>0.0</td>\n",
       "      <td>59.0</td>\n",
       "      <td>5.0</td>\n",
       "      <td>강원 동해시 천곡동 센트로빌아파트</td>\n",
       "      <td>1</td>\n",
       "      <td>2020-03-13 10:16:41</td>\n",
       "      <td>0.0</td>\n",
       "      <td>11.0</td>\n",
       "      <td>0.0</td>\n",
       "      <td>...</td>\n",
       "      <td>1.000000</td>\n",
       "      <td>11.0</td>\n",
       "      <td>1</td>\n",
       "      <td>11.00</td>\n",
       "      <td>0.001478</td>\n",
       "      <td>0</td>\n",
       "      <td>1</td>\n",
       "      <td>0</td>\n",
       "      <td>1</td>\n",
       "      <td>0</td>\n",
       "    </tr>\n",
       "    <tr>\n",
       "      <td>4</td>\n",
       "      <td>109217</td>\n",
       "      <td>0.0</td>\n",
       "      <td>46.0</td>\n",
       "      <td>4.0</td>\n",
       "      <td>경기 수원시 영통구 영통1동 황골마을1단지아파트</td>\n",
       "      <td>0</td>\n",
       "      <td>2020-03-09 11:32:04</td>\n",
       "      <td>2.0</td>\n",
       "      <td>7.0</td>\n",
       "      <td>4.0</td>\n",
       "      <td>...</td>\n",
       "      <td>0.555556</td>\n",
       "      <td>9.0</td>\n",
       "      <td>4</td>\n",
       "      <td>2.25</td>\n",
       "      <td>0.000301</td>\n",
       "      <td>0</td>\n",
       "      <td>1</td>\n",
       "      <td>0</td>\n",
       "      <td>1</td>\n",
       "      <td>0</td>\n",
       "    </tr>\n",
       "    <tr>\n",
       "      <td>...</td>\n",
       "      <td>...</td>\n",
       "      <td>...</td>\n",
       "      <td>...</td>\n",
       "      <td>...</td>\n",
       "      <td>...</td>\n",
       "      <td>...</td>\n",
       "      <td>...</td>\n",
       "      <td>...</td>\n",
       "      <td>...</td>\n",
       "      <td>...</td>\n",
       "      <td>...</td>\n",
       "      <td>...</td>\n",
       "      <td>...</td>\n",
       "      <td>...</td>\n",
       "      <td>...</td>\n",
       "      <td>...</td>\n",
       "      <td>...</td>\n",
       "      <td>...</td>\n",
       "      <td>...</td>\n",
       "      <td>...</td>\n",
       "      <td>...</td>\n",
       "    </tr>\n",
       "    <tr>\n",
       "      <td>1670270</td>\n",
       "      <td>16983289</td>\n",
       "      <td>1.0</td>\n",
       "      <td>48.0</td>\n",
       "      <td>4.0</td>\n",
       "      <td>경기도 안성시 공도읍 용두리 753 산수화아파트</td>\n",
       "      <td>0</td>\n",
       "      <td>2020-06-07 17:03:35</td>\n",
       "      <td>NaN</td>\n",
       "      <td>NaN</td>\n",
       "      <td>NaN</td>\n",
       "      <td>...</td>\n",
       "      <td>NaN</td>\n",
       "      <td>NaN</td>\n",
       "      <td>1</td>\n",
       "      <td>NaN</td>\n",
       "      <td>NaN</td>\n",
       "      <td>0</td>\n",
       "      <td>0</td>\n",
       "      <td>1</td>\n",
       "      <td>0</td>\n",
       "      <td>0</td>\n",
       "    </tr>\n",
       "    <tr>\n",
       "      <td>1670271</td>\n",
       "      <td>16983447</td>\n",
       "      <td>1.0</td>\n",
       "      <td>32.0</td>\n",
       "      <td>3.0</td>\n",
       "      <td>인천광역시 미추홀구 도화동 1008 e편한세상도화6-2단지</td>\n",
       "      <td>1</td>\n",
       "      <td>2020-06-07 20:09:03</td>\n",
       "      <td>NaN</td>\n",
       "      <td>NaN</td>\n",
       "      <td>NaN</td>\n",
       "      <td>...</td>\n",
       "      <td>NaN</td>\n",
       "      <td>NaN</td>\n",
       "      <td>5</td>\n",
       "      <td>NaN</td>\n",
       "      <td>NaN</td>\n",
       "      <td>0</td>\n",
       "      <td>0</td>\n",
       "      <td>1</td>\n",
       "      <td>0</td>\n",
       "      <td>0</td>\n",
       "    </tr>\n",
       "    <tr>\n",
       "      <td>1670272</td>\n",
       "      <td>16983639</td>\n",
       "      <td>0.0</td>\n",
       "      <td>32.0</td>\n",
       "      <td>3.0</td>\n",
       "      <td>충청남도 당진시 석문면 통정리 65-3</td>\n",
       "      <td>1</td>\n",
       "      <td>2020-06-08 00:10:53</td>\n",
       "      <td>NaN</td>\n",
       "      <td>NaN</td>\n",
       "      <td>NaN</td>\n",
       "      <td>...</td>\n",
       "      <td>NaN</td>\n",
       "      <td>NaN</td>\n",
       "      <td>1</td>\n",
       "      <td>NaN</td>\n",
       "      <td>NaN</td>\n",
       "      <td>0</td>\n",
       "      <td>0</td>\n",
       "      <td>1</td>\n",
       "      <td>0</td>\n",
       "      <td>0</td>\n",
       "    </tr>\n",
       "    <tr>\n",
       "      <td>1670273</td>\n",
       "      <td>16983644</td>\n",
       "      <td>1.0</td>\n",
       "      <td>16.0</td>\n",
       "      <td>1.0</td>\n",
       "      <td>경기도 시흥시 정왕동 2483 시흥배곧에스케이뷰</td>\n",
       "      <td>0</td>\n",
       "      <td>2020-06-09 00:07:42</td>\n",
       "      <td>NaN</td>\n",
       "      <td>NaN</td>\n",
       "      <td>NaN</td>\n",
       "      <td>...</td>\n",
       "      <td>NaN</td>\n",
       "      <td>NaN</td>\n",
       "      <td>2</td>\n",
       "      <td>NaN</td>\n",
       "      <td>NaN</td>\n",
       "      <td>0</td>\n",
       "      <td>0</td>\n",
       "      <td>1</td>\n",
       "      <td>0</td>\n",
       "      <td>0</td>\n",
       "    </tr>\n",
       "    <tr>\n",
       "      <td>1670274</td>\n",
       "      <td>16984035</td>\n",
       "      <td>1.0</td>\n",
       "      <td>25.0</td>\n",
       "      <td>2.0</td>\n",
       "      <td>인천광역시 계양구 작전동 857-19 영흥아파트</td>\n",
       "      <td>1</td>\n",
       "      <td>2020-06-08 06:22:51</td>\n",
       "      <td>NaN</td>\n",
       "      <td>NaN</td>\n",
       "      <td>NaN</td>\n",
       "      <td>...</td>\n",
       "      <td>NaN</td>\n",
       "      <td>NaN</td>\n",
       "      <td>2</td>\n",
       "      <td>NaN</td>\n",
       "      <td>NaN</td>\n",
       "      <td>0</td>\n",
       "      <td>0</td>\n",
       "      <td>1</td>\n",
       "      <td>0</td>\n",
       "      <td>0</td>\n",
       "    </tr>\n",
       "  </tbody>\n",
       "</table>\n",
       "<p>1670275 rows × 25 columns</p>\n",
       "</div>"
      ],
      "text/plain": [
       "         account_id  gender   age  g_age                           address  \\\n",
       "0            102600     0.0  50.0    4.0         경상북도 포항시 남구 지곡동 효자그린1차아파트   \n",
       "1            103417     0.0  40.0    3.0                     경기 부천시 원미 심곡동   \n",
       "2            105247     1.0  59.0    5.0          광주광역시 북구 일곡동 816-3 동아아파트   \n",
       "3            109061     0.0  59.0    5.0                강원 동해시 천곡동 센트로빌아파트   \n",
       "4            109217     0.0  46.0    4.0        경기 수원시 영통구 영통1동 황골마을1단지아파트   \n",
       "...             ...     ...   ...    ...                               ...   \n",
       "1670270    16983289     1.0  48.0    4.0        경기도 안성시 공도읍 용두리 753 산수화아파트   \n",
       "1670271    16983447     1.0  32.0    3.0  인천광역시 미추홀구 도화동 1008 e편한세상도화6-2단지   \n",
       "1670272    16983639     0.0  32.0    3.0             충청남도 당진시 석문면 통정리 65-3   \n",
       "1670273    16983644     1.0  16.0    1.0        경기도 시흥시 정왕동 2483 시흥배곧에스케이뷰   \n",
       "1670274    16984035     1.0  25.0    2.0        인천광역시 계양구 작전동 857-19 영흥아파트   \n",
       "\n",
       "         address_is           last_login   day  night  weekend  ...  \\\n",
       "0                 1  2020-06-09 10:54:54  11.0    6.0      2.0  ...   \n",
       "1                 0  2020-05-12 14:57:49  17.0    3.0      0.0  ...   \n",
       "2                 1  2020-01-20 05:09:15  44.0   20.0     13.0  ...   \n",
       "3                 1  2020-03-13 10:16:41   0.0   11.0      0.0  ...   \n",
       "4                 0  2020-03-09 11:32:04   2.0    7.0      4.0  ...   \n",
       "...             ...                  ...   ...    ...      ...  ...   \n",
       "1670270           0  2020-06-07 17:03:35   NaN    NaN      NaN  ...   \n",
       "1670271           1  2020-06-07 20:09:03   NaN    NaN      NaN  ...   \n",
       "1670272           1  2020-06-08 00:10:53   NaN    NaN      NaN  ...   \n",
       "1670273           0  2020-06-09 00:07:42   NaN    NaN      NaN  ...   \n",
       "1670274           1  2020-06-08 06:22:51   NaN    NaN      NaN  ...   \n",
       "\n",
       "         weekday_ratio  click_counts  order_counts  involvement  \\\n",
       "0             0.882353          17.0             5         3.40   \n",
       "1             1.000000          20.0             2        10.00   \n",
       "2             0.796875          64.0             2        32.00   \n",
       "3             1.000000          11.0             1        11.00   \n",
       "4             0.555556           9.0             4         2.25   \n",
       "...                ...           ...           ...          ...   \n",
       "1670270            NaN           NaN             1          NaN   \n",
       "1670271            NaN           NaN             5          NaN   \n",
       "1670272            NaN           NaN             1          NaN   \n",
       "1670273            NaN           NaN             2          NaN   \n",
       "1670274            NaN           NaN             2          NaN   \n",
       "\n",
       "         normalized_involvement  dayday  nightnight  balance  weekdayday  \\\n",
       "0                      0.000455       1           0        0           1   \n",
       "1                      0.001343       1           0        0           1   \n",
       "2                      0.004302       1           0        0           1   \n",
       "3                      0.001478       0           1        0           1   \n",
       "4                      0.000301       0           1        0           1   \n",
       "...                         ...     ...         ...      ...         ...   \n",
       "1670270                     NaN       0           0        1           0   \n",
       "1670271                     NaN       0           0        1           0   \n",
       "1670272                     NaN       0           0        1           0   \n",
       "1670273                     NaN       0           0        1           0   \n",
       "1670274                     NaN       0           0        1           0   \n",
       "\n",
       "         weekendend  \n",
       "0                 0  \n",
       "1                 0  \n",
       "2                 0  \n",
       "3                 0  \n",
       "4                 0  \n",
       "...             ...  \n",
       "1670270           0  \n",
       "1670271           0  \n",
       "1670272           0  \n",
       "1670273           0  \n",
       "1670274           0  \n",
       "\n",
       "[1670275 rows x 25 columns]"
      ]
     },
     "execution_count": 54,
     "metadata": {},
     "output_type": "execute_result"
    }
   ],
   "source": [
    "users"
   ]
  },
  {
   "cell_type": "code",
   "execution_count": null,
   "metadata": {
    "id": "6aHaIffv9wvp"
   },
   "outputs": [],
   "source": [
    "users.to_csv('./accounts_context_0624.csv')"
   ]
  },
  {
   "cell_type": "code",
   "execution_count": null,
   "metadata": {
    "id": "ej_aaUCR9wvp",
    "outputId": "e45f2220-a52a-42f5-edcf-9a77a75786b2"
   },
   "outputs": [
    {
     "data": {
      "text/plain": [
       "0    1217760\n",
       "1     452515\n",
       "Name: nightnight, dtype: int64"
      ]
     },
     "execution_count": 58,
     "metadata": {},
     "output_type": "execute_result"
    }
   ],
   "source": [
    "users.nightnight.value_counts()"
   ]
  },
  {
   "cell_type": "code",
   "execution_count": null,
   "metadata": {
    "id": "2sK2EZY49wvp",
    "outputId": "07124ed5-039f-4ab5-c685-7055613bfc86"
   },
   "outputs": [
    {
     "data": {
      "text/html": [
       "<div>\n",
       "<style scoped>\n",
       "    .dataframe tbody tr th:only-of-type {\n",
       "        vertical-align: middle;\n",
       "    }\n",
       "\n",
       "    .dataframe tbody tr th {\n",
       "        vertical-align: top;\n",
       "    }\n",
       "\n",
       "    .dataframe thead th {\n",
       "        text-align: right;\n",
       "    }\n",
       "</style>\n",
       "<table border=\"1\" class=\"dataframe\">\n",
       "  <thead>\n",
       "    <tr style=\"text-align: right;\">\n",
       "      <th></th>\n",
       "      <th>Unnamed: 0</th>\n",
       "      <th>account_id</th>\n",
       "      <th>gender</th>\n",
       "      <th>age</th>\n",
       "      <th>g_age</th>\n",
       "      <th>address</th>\n",
       "      <th>address_is</th>\n",
       "      <th>last_login</th>\n",
       "      <th>day</th>\n",
       "      <th>night</th>\n",
       "      <th>...</th>\n",
       "      <th>weekday_ratio</th>\n",
       "      <th>click_counts</th>\n",
       "      <th>order_counts</th>\n",
       "      <th>involvement</th>\n",
       "      <th>normalized_involvement</th>\n",
       "      <th>dayday</th>\n",
       "      <th>nightnight</th>\n",
       "      <th>balance</th>\n",
       "      <th>weekdayday</th>\n",
       "      <th>weekendend</th>\n",
       "    </tr>\n",
       "  </thead>\n",
       "  <tbody>\n",
       "    <tr>\n",
       "      <td>0</td>\n",
       "      <td>0</td>\n",
       "      <td>102600</td>\n",
       "      <td>0.0</td>\n",
       "      <td>50.0</td>\n",
       "      <td>4.0</td>\n",
       "      <td>경상북도 포항시 남구 지곡동 효자그린1차아파트</td>\n",
       "      <td>1</td>\n",
       "      <td>2020-06-09 10:54:54</td>\n",
       "      <td>11.0</td>\n",
       "      <td>6.0</td>\n",
       "      <td>...</td>\n",
       "      <td>0.882353</td>\n",
       "      <td>17.0</td>\n",
       "      <td>5</td>\n",
       "      <td>3.40</td>\n",
       "      <td>0.000455</td>\n",
       "      <td>1</td>\n",
       "      <td>0</td>\n",
       "      <td>0</td>\n",
       "      <td>1</td>\n",
       "      <td>0</td>\n",
       "    </tr>\n",
       "    <tr>\n",
       "      <td>1</td>\n",
       "      <td>1</td>\n",
       "      <td>103417</td>\n",
       "      <td>0.0</td>\n",
       "      <td>40.0</td>\n",
       "      <td>3.0</td>\n",
       "      <td>경기 부천시 원미 심곡동</td>\n",
       "      <td>0</td>\n",
       "      <td>2020-05-12 14:57:49</td>\n",
       "      <td>17.0</td>\n",
       "      <td>3.0</td>\n",
       "      <td>...</td>\n",
       "      <td>1.000000</td>\n",
       "      <td>20.0</td>\n",
       "      <td>2</td>\n",
       "      <td>10.00</td>\n",
       "      <td>0.001343</td>\n",
       "      <td>1</td>\n",
       "      <td>0</td>\n",
       "      <td>0</td>\n",
       "      <td>1</td>\n",
       "      <td>0</td>\n",
       "    </tr>\n",
       "    <tr>\n",
       "      <td>2</td>\n",
       "      <td>2</td>\n",
       "      <td>105247</td>\n",
       "      <td>1.0</td>\n",
       "      <td>59.0</td>\n",
       "      <td>5.0</td>\n",
       "      <td>광주광역시 북구 일곡동 816-3 동아아파트</td>\n",
       "      <td>1</td>\n",
       "      <td>2020-01-20 05:09:15</td>\n",
       "      <td>44.0</td>\n",
       "      <td>20.0</td>\n",
       "      <td>...</td>\n",
       "      <td>0.796875</td>\n",
       "      <td>64.0</td>\n",
       "      <td>2</td>\n",
       "      <td>32.00</td>\n",
       "      <td>0.004302</td>\n",
       "      <td>1</td>\n",
       "      <td>0</td>\n",
       "      <td>0</td>\n",
       "      <td>1</td>\n",
       "      <td>0</td>\n",
       "    </tr>\n",
       "    <tr>\n",
       "      <td>3</td>\n",
       "      <td>3</td>\n",
       "      <td>109061</td>\n",
       "      <td>0.0</td>\n",
       "      <td>59.0</td>\n",
       "      <td>5.0</td>\n",
       "      <td>강원 동해시 천곡동 센트로빌아파트</td>\n",
       "      <td>1</td>\n",
       "      <td>2020-03-13 10:16:41</td>\n",
       "      <td>0.0</td>\n",
       "      <td>11.0</td>\n",
       "      <td>...</td>\n",
       "      <td>1.000000</td>\n",
       "      <td>11.0</td>\n",
       "      <td>1</td>\n",
       "      <td>11.00</td>\n",
       "      <td>0.001478</td>\n",
       "      <td>0</td>\n",
       "      <td>1</td>\n",
       "      <td>0</td>\n",
       "      <td>1</td>\n",
       "      <td>0</td>\n",
       "    </tr>\n",
       "    <tr>\n",
       "      <td>4</td>\n",
       "      <td>4</td>\n",
       "      <td>109217</td>\n",
       "      <td>0.0</td>\n",
       "      <td>46.0</td>\n",
       "      <td>4.0</td>\n",
       "      <td>경기 수원시 영통구 영통1동 황골마을1단지아파트</td>\n",
       "      <td>0</td>\n",
       "      <td>2020-03-09 11:32:04</td>\n",
       "      <td>2.0</td>\n",
       "      <td>7.0</td>\n",
       "      <td>...</td>\n",
       "      <td>0.555556</td>\n",
       "      <td>9.0</td>\n",
       "      <td>4</td>\n",
       "      <td>2.25</td>\n",
       "      <td>0.000301</td>\n",
       "      <td>0</td>\n",
       "      <td>1</td>\n",
       "      <td>0</td>\n",
       "      <td>1</td>\n",
       "      <td>0</td>\n",
       "    </tr>\n",
       "    <tr>\n",
       "      <td>...</td>\n",
       "      <td>...</td>\n",
       "      <td>...</td>\n",
       "      <td>...</td>\n",
       "      <td>...</td>\n",
       "      <td>...</td>\n",
       "      <td>...</td>\n",
       "      <td>...</td>\n",
       "      <td>...</td>\n",
       "      <td>...</td>\n",
       "      <td>...</td>\n",
       "      <td>...</td>\n",
       "      <td>...</td>\n",
       "      <td>...</td>\n",
       "      <td>...</td>\n",
       "      <td>...</td>\n",
       "      <td>...</td>\n",
       "      <td>...</td>\n",
       "      <td>...</td>\n",
       "      <td>...</td>\n",
       "      <td>...</td>\n",
       "      <td>...</td>\n",
       "    </tr>\n",
       "    <tr>\n",
       "      <td>1670270</td>\n",
       "      <td>1670270</td>\n",
       "      <td>16983289</td>\n",
       "      <td>1.0</td>\n",
       "      <td>48.0</td>\n",
       "      <td>4.0</td>\n",
       "      <td>경기도 안성시 공도읍 용두리 753 산수화아파트</td>\n",
       "      <td>0</td>\n",
       "      <td>2020-06-07 17:03:35</td>\n",
       "      <td>NaN</td>\n",
       "      <td>NaN</td>\n",
       "      <td>...</td>\n",
       "      <td>NaN</td>\n",
       "      <td>NaN</td>\n",
       "      <td>1</td>\n",
       "      <td>NaN</td>\n",
       "      <td>NaN</td>\n",
       "      <td>0</td>\n",
       "      <td>0</td>\n",
       "      <td>1</td>\n",
       "      <td>0</td>\n",
       "      <td>0</td>\n",
       "    </tr>\n",
       "    <tr>\n",
       "      <td>1670271</td>\n",
       "      <td>1670271</td>\n",
       "      <td>16983447</td>\n",
       "      <td>1.0</td>\n",
       "      <td>32.0</td>\n",
       "      <td>3.0</td>\n",
       "      <td>인천광역시 미추홀구 도화동 1008 e편한세상도화6-2단지</td>\n",
       "      <td>1</td>\n",
       "      <td>2020-06-07 20:09:03</td>\n",
       "      <td>NaN</td>\n",
       "      <td>NaN</td>\n",
       "      <td>...</td>\n",
       "      <td>NaN</td>\n",
       "      <td>NaN</td>\n",
       "      <td>5</td>\n",
       "      <td>NaN</td>\n",
       "      <td>NaN</td>\n",
       "      <td>0</td>\n",
       "      <td>0</td>\n",
       "      <td>1</td>\n",
       "      <td>0</td>\n",
       "      <td>0</td>\n",
       "    </tr>\n",
       "    <tr>\n",
       "      <td>1670272</td>\n",
       "      <td>1670272</td>\n",
       "      <td>16983639</td>\n",
       "      <td>0.0</td>\n",
       "      <td>32.0</td>\n",
       "      <td>3.0</td>\n",
       "      <td>충청남도 당진시 석문면 통정리 65-3</td>\n",
       "      <td>1</td>\n",
       "      <td>2020-06-08 00:10:53</td>\n",
       "      <td>NaN</td>\n",
       "      <td>NaN</td>\n",
       "      <td>...</td>\n",
       "      <td>NaN</td>\n",
       "      <td>NaN</td>\n",
       "      <td>1</td>\n",
       "      <td>NaN</td>\n",
       "      <td>NaN</td>\n",
       "      <td>0</td>\n",
       "      <td>0</td>\n",
       "      <td>1</td>\n",
       "      <td>0</td>\n",
       "      <td>0</td>\n",
       "    </tr>\n",
       "    <tr>\n",
       "      <td>1670273</td>\n",
       "      <td>1670273</td>\n",
       "      <td>16983644</td>\n",
       "      <td>1.0</td>\n",
       "      <td>16.0</td>\n",
       "      <td>1.0</td>\n",
       "      <td>경기도 시흥시 정왕동 2483 시흥배곧에스케이뷰</td>\n",
       "      <td>0</td>\n",
       "      <td>2020-06-09 00:07:42</td>\n",
       "      <td>NaN</td>\n",
       "      <td>NaN</td>\n",
       "      <td>...</td>\n",
       "      <td>NaN</td>\n",
       "      <td>NaN</td>\n",
       "      <td>2</td>\n",
       "      <td>NaN</td>\n",
       "      <td>NaN</td>\n",
       "      <td>0</td>\n",
       "      <td>0</td>\n",
       "      <td>1</td>\n",
       "      <td>0</td>\n",
       "      <td>0</td>\n",
       "    </tr>\n",
       "    <tr>\n",
       "      <td>1670274</td>\n",
       "      <td>1670274</td>\n",
       "      <td>16984035</td>\n",
       "      <td>1.0</td>\n",
       "      <td>25.0</td>\n",
       "      <td>2.0</td>\n",
       "      <td>인천광역시 계양구 작전동 857-19 영흥아파트</td>\n",
       "      <td>1</td>\n",
       "      <td>2020-06-08 06:22:51</td>\n",
       "      <td>NaN</td>\n",
       "      <td>NaN</td>\n",
       "      <td>...</td>\n",
       "      <td>NaN</td>\n",
       "      <td>NaN</td>\n",
       "      <td>2</td>\n",
       "      <td>NaN</td>\n",
       "      <td>NaN</td>\n",
       "      <td>0</td>\n",
       "      <td>0</td>\n",
       "      <td>1</td>\n",
       "      <td>0</td>\n",
       "      <td>0</td>\n",
       "    </tr>\n",
       "  </tbody>\n",
       "</table>\n",
       "<p>1670275 rows × 26 columns</p>\n",
       "</div>"
      ],
      "text/plain": [
       "         Unnamed: 0  account_id  gender   age  g_age  \\\n",
       "0                 0      102600     0.0  50.0    4.0   \n",
       "1                 1      103417     0.0  40.0    3.0   \n",
       "2                 2      105247     1.0  59.0    5.0   \n",
       "3                 3      109061     0.0  59.0    5.0   \n",
       "4                 4      109217     0.0  46.0    4.0   \n",
       "...             ...         ...     ...   ...    ...   \n",
       "1670270     1670270    16983289     1.0  48.0    4.0   \n",
       "1670271     1670271    16983447     1.0  32.0    3.0   \n",
       "1670272     1670272    16983639     0.0  32.0    3.0   \n",
       "1670273     1670273    16983644     1.0  16.0    1.0   \n",
       "1670274     1670274    16984035     1.0  25.0    2.0   \n",
       "\n",
       "                                  address  address_is           last_login  \\\n",
       "0               경상북도 포항시 남구 지곡동 효자그린1차아파트           1  2020-06-09 10:54:54   \n",
       "1                           경기 부천시 원미 심곡동           0  2020-05-12 14:57:49   \n",
       "2                광주광역시 북구 일곡동 816-3 동아아파트           1  2020-01-20 05:09:15   \n",
       "3                      강원 동해시 천곡동 센트로빌아파트           1  2020-03-13 10:16:41   \n",
       "4              경기 수원시 영통구 영통1동 황골마을1단지아파트           0  2020-03-09 11:32:04   \n",
       "...                                   ...         ...                  ...   \n",
       "1670270        경기도 안성시 공도읍 용두리 753 산수화아파트           0  2020-06-07 17:03:35   \n",
       "1670271  인천광역시 미추홀구 도화동 1008 e편한세상도화6-2단지           1  2020-06-07 20:09:03   \n",
       "1670272             충청남도 당진시 석문면 통정리 65-3           1  2020-06-08 00:10:53   \n",
       "1670273        경기도 시흥시 정왕동 2483 시흥배곧에스케이뷰           0  2020-06-09 00:07:42   \n",
       "1670274        인천광역시 계양구 작전동 857-19 영흥아파트           1  2020-06-08 06:22:51   \n",
       "\n",
       "          day  night  ...  weekday_ratio  click_counts  order_counts  \\\n",
       "0        11.0    6.0  ...       0.882353          17.0             5   \n",
       "1        17.0    3.0  ...       1.000000          20.0             2   \n",
       "2        44.0   20.0  ...       0.796875          64.0             2   \n",
       "3         0.0   11.0  ...       1.000000          11.0             1   \n",
       "4         2.0    7.0  ...       0.555556           9.0             4   \n",
       "...       ...    ...  ...            ...           ...           ...   \n",
       "1670270   NaN    NaN  ...            NaN           NaN             1   \n",
       "1670271   NaN    NaN  ...            NaN           NaN             5   \n",
       "1670272   NaN    NaN  ...            NaN           NaN             1   \n",
       "1670273   NaN    NaN  ...            NaN           NaN             2   \n",
       "1670274   NaN    NaN  ...            NaN           NaN             2   \n",
       "\n",
       "         involvement  normalized_involvement  dayday  nightnight  balance  \\\n",
       "0               3.40                0.000455       1           0        0   \n",
       "1              10.00                0.001343       1           0        0   \n",
       "2              32.00                0.004302       1           0        0   \n",
       "3              11.00                0.001478       0           1        0   \n",
       "4               2.25                0.000301       0           1        0   \n",
       "...              ...                     ...     ...         ...      ...   \n",
       "1670270          NaN                     NaN       0           0        1   \n",
       "1670271          NaN                     NaN       0           0        1   \n",
       "1670272          NaN                     NaN       0           0        1   \n",
       "1670273          NaN                     NaN       0           0        1   \n",
       "1670274          NaN                     NaN       0           0        1   \n",
       "\n",
       "         weekdayday  weekendend  \n",
       "0                 1           0  \n",
       "1                 1           0  \n",
       "2                 1           0  \n",
       "3                 1           0  \n",
       "4                 1           0  \n",
       "...             ...         ...  \n",
       "1670270           0           0  \n",
       "1670271           0           0  \n",
       "1670272           0           0  \n",
       "1670273           0           0  \n",
       "1670274           0           0  \n",
       "\n",
       "[1670275 rows x 26 columns]"
      ]
     },
     "execution_count": 56,
     "metadata": {},
     "output_type": "execute_result"
    }
   ],
   "source": [
    "pd.read_csv('./accounts_context_0624.csv')"
   ]
  },
  {
   "cell_type": "markdown",
   "metadata": {
    "id": "VCebpVT9wwUx"
   },
   "source": [
    "### bestseller"
   ]
  },
  {
   "cell_type": "code",
   "execution_count": null,
   "metadata": {
    "id": "mxFaEoUPwF6O"
   },
   "outputs": [],
   "source": [
    "#필요 데이터 load\n",
    "pro = pd.read_csv('pro_preprocessed_0623.csv')\n",
    "pro.drop(columns=pro.columns[0],inplace=True)\n",
    "\n",
    "order = pd.read_csv('orders_preprocessed.csv')\n",
    "order.drop(columns=order.columns[0], inplace=True)\n",
    "\n"
   ]
  },
  {
   "cell_type": "code",
   "execution_count": null,
   "metadata": {
    "id": "eNzH_4BNIW2A"
   },
   "outputs": [],
   "source": [
    "#order, product 데이터 merge\n",
    "pro_pre = pro[['category_id','product_id']]\n",
    "best = pd.merge(order, pro_pre, on='product_id', how='left')\n",
    "best.isnull().sum()\n",
    "best.dropna(inplace=True)"
   ]
  },
  {
   "cell_type": "code",
   "execution_count": null,
   "metadata": {
    "id": "hn7ZJzp0IYo2"
   },
   "outputs": [],
   "source": [
    "#created_at(주문일) count하여 특정 카테고리 내 특정 도서 구매량 비교\n",
    "best2 = pd.DataFrame(best.groupby(['category_id','product_id']).count()['created_at']).sort_values('created_at', ascending=False)\n",
    "\n"
   ]
  },
  {
   "cell_type": "code",
   "execution_count": null,
   "metadata": {
    "id": "LEJ_-yyoIaRn"
   },
   "outputs": [],
   "source": [
    "#주문량이 가장 많은 순대로 200권 선정(리스트)\n",
    "best200_nocat = best2.sort_values(['created_at'],ascending=False)[0:200].reset_index()['product_id'].tolist()\n",
    "\n"
   ]
  },
  {
   "cell_type": "code",
   "execution_count": null,
   "metadata": {
    "id": "rsr2mUivIb_V"
   },
   "outputs": [],
   "source": [
    "#카테고리별 주문량 높은 순대로 24권 선정(리스트)\n",
    "best3 = best2.sort_values(['category_id','created_at'],ascending=False)\n",
    "category_no = np.arange(0,35).tolist()\n",
    "best24_cat = []\n",
    "for no in category_no:\n",
    "    best24_cat.append(best3.reset_index()[best3.reset_index()['category_id']==no][0:24]['product_id'].tolist())\n",
    "best24_cat_fin = [y for x in best24_cat for y in x]"
   ]
  },
  {
   "cell_type": "code",
   "execution_count": null,
   "metadata": {
    "id": "PDyIhpzVIe5d"
   },
   "outputs": [],
   "source": [
    "#best 200권 데이터프레임\n",
    "pro['best200'] = pro['product_id'].apply(lambda x: 1 if x in best200_nocat else 0 )\n",
    "pro[pro['best200']==1]\n",
    "\n"
   ]
  },
  {
   "cell_type": "code",
   "execution_count": null,
   "metadata": {
    "id": "AJ1HFv8vIgxP"
   },
   "outputs": [],
   "source": [
    "#카테고리별 best 24권 데이터프레임\n",
    "pro['bestcat24'] = pro['product_id'].apply(lambda x: 1 if x in best24_cat_fin else 0 )\n",
    "pro[pro['bestcat24']==1]"
   ]
  },
  {
   "cell_type": "markdown",
   "metadata": {
    "id": "bMjUS-vSInHj"
   },
   "source": [
    "## Kmeans"
   ]
  },
  {
   "cell_type": "code",
   "execution_count": null,
   "metadata": {
    "id": "MCKplZkPKFGG"
   },
   "outputs": [],
   "source": [
    "#kmeans library / visualization library import\n",
    "from sklearn.cluster import KMeans\n",
    "import matplotlib.pyplot as plt\n",
    "import seaborn as sns\n",
    "import pandas as pd\n",
    "from yellowbrick.cluster import KElbowVisualizer\n",
    "from sklearn.preprocessing import MinMaxScaler\n",
    "\n",
    "path = '/content/drive/Shared drives/YES24/2020-06-10/m3/'"
   ]
  },
  {
   "cell_type": "code",
   "execution_count": null,
   "metadata": {
    "id": "E-Tv6iSfI0Ml"
   },
   "outputs": [],
   "source": [
    "#파일로드\n",
    "#book data load\n",
    "book = pd.read_csv(path+'book_feature_product_label.csv')"
   ]
  },
  {
   "cell_type": "code",
   "execution_count": null,
   "metadata": {
    "id": "QvvM9Wv9Irdy"
   },
   "outputs": [],
   "source": [
    "#user data load\n",
    "user = pd.read_csv(path+'(나이)accounts_age_0623.csv')\n",
    "user.drop(columns=user.columns[0], inplace=True)\n",
    "#user 나이 group별로 dummify\n",
    "dummies = pd.get_dummies(user['g_age'], prefix='age')\n",
    "user_new = pd.concat([user, dummies], axis=1)"
   ]
  },
  {
   "cell_type": "code",
   "execution_count": null,
   "metadata": {
    "id": "0PxjnTk1J5-s"
   },
   "outputs": [],
   "source": [
    "#click data load\n",
    "click = pd.read_csv(path+'clicks_refined_train_0625.csv')\n",
    "click.drop(columns=click.columns[0], inplace = True)\n",
    "click_user = pd.merge(click, user, on='account_id', how='left')"
   ]
  },
  {
   "cell_type": "markdown",
   "metadata": {
    "id": "6tqQrxo9ItDX"
   },
   "source": [
    "### book k-means"
   ]
  },
  {
   "cell_type": "code",
   "execution_count": null,
   "metadata": {
    "id": "TfkGfNrRJ_gF"
   },
   "outputs": [],
   "source": [
    "#product별 많이 구매하는 연령대 aggregation을 통해서 구하기\n",
    "user_age = click_user.groupby(['product_id']).mean()[['g_age']].reset_index()\n",
    "#aggregation을 통해 나온 소수점 정수로 바꾸기(반올림을 통해서)\n",
    "user_age['g_age'] = user_age['g_age'].apply(lambda x: round(x, 0))\n",
    "user_age.dropna(inplace=True)\n",
    "\n",
    "#product별 많이 구매하는 연령대 최종 데이터프레임 merge를 통해 생성\n",
    "book_new = pd.merge(book, user_age, on='product_id',how='right')\n",
    "book_new.dropna(inplace=True)\n",
    "book_feature = book_new[['category_id','published','book_price','g_age']]"
   ]
  },
  {
   "cell_type": "code",
   "source": [
    "book_feature"
   ],
   "metadata": {
    "id": "Q3R8J4PXPvKB"
   },
   "execution_count": null,
   "outputs": []
  },
  {
   "cell_type": "code",
   "execution_count": null,
   "metadata": {
    "colab": {
     "background_save": true
    },
    "id": "ebU4_gPuKCfU",
    "outputId": "fcaaf727-d79c-4918-9ac2-752caf18acd0"
   },
   "outputs": [
    {
     "ename": "NameError",
     "evalue": "ignored",
     "output_type": "error",
     "traceback": [
      "\u001B[0;31m---------------------------------------------------------------------------\u001B[0m",
      "\u001B[0;31mNameError\u001B[0m                                 Traceback (most recent call last)",
      "\u001B[0;32m<ipython-input-1-289e1d0695ab>\u001B[0m in \u001B[0;36m<module>\u001B[0;34m()\u001B[0m\n\u001B[1;32m      1\u001B[0m \u001B[0;31m#book feature scaling\u001B[0m\u001B[0;34m\u001B[0m\u001B[0;34m\u001B[0m\u001B[0;34m\u001B[0m\u001B[0m\n\u001B[0;32m----> 2\u001B[0;31m \u001B[0mscaler\u001B[0m \u001B[0;34m=\u001B[0m \u001B[0mMinMaxScaler\u001B[0m\u001B[0;34m(\u001B[0m\u001B[0mfeature_range\u001B[0m\u001B[0;34m=\u001B[0m\u001B[0;34m(\u001B[0m\u001B[0;36m0\u001B[0m\u001B[0;34m,\u001B[0m\u001B[0;36m1\u001B[0m\u001B[0;34m)\u001B[0m\u001B[0;34m)\u001B[0m\u001B[0;34m\u001B[0m\u001B[0;34m\u001B[0m\u001B[0m\n\u001B[0m\u001B[1;32m      3\u001B[0m \u001B[0mscaler\u001B[0m\u001B[0;34m.\u001B[0m\u001B[0mfit_transform\u001B[0m\u001B[0;34m(\u001B[0m\u001B[0mbook_feature\u001B[0m\u001B[0;34m)\u001B[0m\u001B[0;34m\u001B[0m\u001B[0;34m\u001B[0m\u001B[0m\n\u001B[1;32m      4\u001B[0m \u001B[0mbook_feature\u001B[0m \u001B[0;34m=\u001B[0m \u001B[0mscaler\u001B[0m\u001B[0;34m.\u001B[0m\u001B[0mfit_transform\u001B[0m\u001B[0;34m(\u001B[0m\u001B[0mbook_feature\u001B[0m\u001B[0;34m)\u001B[0m\u001B[0;34m\u001B[0m\u001B[0;34m\u001B[0m\u001B[0m\n",
      "\u001B[0;31mNameError\u001B[0m: name 'MinMaxScaler' is not defined"
     ]
    }
   ],
   "source": [
    "#book feature scaling\n",
    "scaler = MinMaxScaler(feature_range=(0,1))\n",
    "scaler.fit_transform(book_feature)\n",
    "book_feature = scaler.fit_transform(book_feature)"
   ]
  },
  {
   "cell_type": "code",
   "execution_count": null,
   "metadata": {
    "id": "b5QUqpCJKMHV"
   },
   "outputs": [],
   "source": [
    "#적절한 cluster 개수 정하기\n",
    "\n",
    "model_books = KMeans()\n",
    "visualizer = KElbowVisualizer(model_books, k=(1, 20))\n",
    "visualizer.fit(book_feature)"
   ]
  },
  {
   "cell_type": "code",
   "execution_count": null,
   "metadata": {
    "id": "Sth76xR3KQDz"
   },
   "outputs": [],
   "source": [
    "#앞에 나온 cluster로 kmeans\n",
    "model_books = KMeans(n_clusters =5, algorithm = 'auto')\n",
    "model_books.fit(book_feature)\n",
    "predict = pd.DataFrame(model_books.predict(book_feature))\n",
    "predict.columns = ['book_feature']``"
   ]
  },
  {
   "cell_type": "code",
   "execution_count": null,
   "metadata": {
    "id": "LAyaQk67KTGs"
   },
   "outputs": [],
   "source": [
    "#clustering 결과 확인\n",
    "predict['book_feature'].value_counts()\n",
    "predict"
   ]
  },
  {
   "cell_type": "code",
   "execution_count": null,
   "metadata": {
    "id": "bY1StWnDKXCR"
   },
   "outputs": [],
   "source": [
    "#clustering 변수 book dataframe에 merge\n",
    "book_fin = pd.concat([book_new, predict], axis=1)\n",
    "book_fin.rename(columns={'book_feature':'cluster'},inplace=True)"
   ]
  },
  {
   "cell_type": "code",
   "execution_count": null,
   "metadata": {
    "id": "UUFVEcxjKZE0"
   },
   "outputs": [],
   "source": [
    "#책 cluster 별 특성 aggregation\n",
    "book_fin.groupby(['cluster']).mean() #평균\n",
    "book_fin.groupby(['cluster']).agg(lambda x: stats.mode(x)[0][0]) #최빈값\n"
   ]
  },
  {
   "cell_type": "code",
   "execution_count": null,
   "metadata": {
    "id": "75Z1sAoPKfQl"
   },
   "outputs": [],
   "source": [
    "#dummify할 변수 목록\n",
    "dummy_list= ['category_id','published','book_price','best200','bestcat24']\n",
    "#dummify\n",
    "book_new = pd.DataFrame()\n",
    "book_new = book_new.append(book_fin['product_id']).T\n",
    "\n",
    "for col in dummy_list:\n",
    "\tbook_new = pd.concat([book_new, pd.get_dummies(book_fin[col], prefix=col)], axis=1)"
   ]
  },
  {
   "cell_type": "code",
   "execution_count": null,
   "metadata": {
    "id": "D3HKyHapKiNx"
   },
   "outputs": [],
   "source": [
    "#aggregation하기 전 전처리\n",
    "book_new = pd.concat([book_new, book_fin['cluster']], axis=1)\n",
    "dummy_1 = [col for col in book_new.columns if col[-3:]!='0.0'][1:-1]\n",
    "dummy_0 = [col for col in book_new.columns if col[-3:]=='0.0'][1:-1]\n",
    "dummy_col = dummy_1 + dummy_0\n",
    "\n",
    "book_new[dummy_col] = book_new[dummy_col].replace({0:np.nan})\n",
    "book_new.replace({1.0 : int(1)}, inplace=True)\n",
    "\n",
    "#전체 product 갯수 세기\n",
    "book_new['product_id'].count()"
   ]
  },
  {
   "cell_type": "code",
   "execution_count": null,
   "metadata": {
    "id": "puT1TtoXKmJN"
   },
   "outputs": [],
   "source": [
    "#aggregation을 통해 cluster별 변수특성 만들기\n",
    "cluster_feat = book_new.groupby(['cluster']).agg(lambda x : x.count() / len(x))\n",
    "book_new.groupby(['cluster']).agg(lambda x:x.count())"
   ]
  },
  {
   "cell_type": "markdown",
   "metadata": {
    "id": "lBABYmEwIwpd"
   },
   "source": [
    "### user k-means"
   ]
  },
  {
   "cell_type": "code",
   "execution_count": null,
   "metadata": {
    "id": "0Zp4tUKKImJG"
   },
   "outputs": [],
   "source": [
    "users = pd.read_csv('users_kmeans.csv')\n",
    "users['most_pref'] = users.apply(lambda row: str(users['most_pref']), axis = 1)\n",
    "users_scale = users.iloc[:, 1:]\n",
    "\n",
    "users_col = [col for col in users.columns if users[col].dtype == 'float64']\n",
    "users_scale = users[users_col]\n",
    "\n"
   ]
  },
  {
   "cell_type": "code",
   "execution_count": null,
   "metadata": {
    "id": "7ILObaxbKsap"
   },
   "outputs": [],
   "source": [
    "#scaling\n",
    "\n",
    "scaler =MinMaxScaler(feature_range=(0, 1))\n",
    "scaler.fit_transform(users_scale)\n",
    "users_features = scaler.fit_transform(users_scale)"
   ]
  },
  {
   "cell_type": "code",
   "execution_count": null,
   "metadata": {
    "id": "UESoJXUkKxdn"
   },
   "outputs": [],
   "source": [
    "#K-means cluster 개수\n",
    "from yellowbrick.cluster import KElbowVisualizer\n",
    "\n",
    "model_users = Kmeans()\n",
    "visualizer = KElbowVisualizer(model_users, k=(1,20))\n",
    "visualizer.fit(users_features)"
   ]
  },
  {
   "cell_type": "markdown",
   "metadata": {
    "id": "n57a0S9vK4aS"
   },
   "source": [
    "### clustered data aggregation"
   ]
  },
  {
   "cell_type": "code",
   "execution_count": null,
   "metadata": {
    "id": "G0SWf9wiK3Pc"
   },
   "outputs": [],
   "source": [
    "#데이터 로드\n",
    "#book clustering data load\n",
    "bookcluster = pd.read_csv('book_feature_clustering.csv')\n",
    "bookcluster.drop(columns=bookcluster.columns[0], inplace=True)\n",
    "\n",
    "#user clustering data load\n",
    "user = pd.read_csv('user_features_clustered_0625.csv')\n",
    "\n",
    "#click data load\n",
    "click = pd.read_csv('clicks_refined_train_0625.csv')"
   ]
  },
  {
   "cell_type": "code",
   "execution_count": null,
   "metadata": {
    "id": "pALQdixCK-vg"
   },
   "outputs": [],
   "source": [
    "#user data dummify\n",
    "user_fin = pd.DataFrame()\n",
    "user_fin = user_fin.append(user_new['account_id']).T\n",
    "for col in dummify_col:\n",
    "\tuser_fin = pd.concat([user_fin, pd.get_dummies(user_new[col], prefix = col)], axis =1)\n",
    "user_fin.to_csv('user_dummified_1df_0628.csv', index=False)"
   ]
  },
  {
   "cell_type": "code",
   "execution_count": null,
   "metadata": {
    "id": "xJILpdN2LHaN"
   },
   "outputs": [],
   "source": [
    "#user, book 클러스터링 데이터 click data와 merge\n",
    "#click + bookcluster merge\n",
    "click_bookcluster = pd.merge(click, bookcluster, on = 'product_id', how='left')\n",
    "click_bookcluster.drop(columns = click_bookcluster.columns[0], inplace =True)\n",
    "click_bookcluster.dropna(inplace=True)\n",
    "click_bookcluster.to_csv('click_bookcluster_0628.csv', index = False)\n"
   ]
  },
  {
   "cell_type": "code",
   "execution_count": null,
   "metadata": {
    "id": "D628e9kiPZtb"
   },
   "outputs": [],
   "source": [
    "#쓸 변수만 선택\n",
    "click_bookcluster = click_bookcluster[['account_id','product_id','day','category_id','cluster']]"
   ]
  },
  {
   "cell_type": "code",
   "execution_count": null,
   "metadata": {
    "id": "z3SSOmy4PfAu"
   },
   "outputs": [],
   "source": [
    "#너무 커서 2개로 나눔\n",
    "cb1 = click_bookcluster[:12861166]\n",
    "cb2 = click_bookcluster[12861166:]"
   ]
  },
  {
   "cell_type": "code",
   "execution_count": null,
   "metadata": {
    "id": "Z-2YjbUSPhlQ"
   },
   "outputs": [],
   "source": [
    "#click + user cluster + book cluster\n",
    "h1 = pd.merge(cb1, user_fin, on = 'account_id', how='left')\n",
    "h2 = pd.merge(cb2, user_fin, on = 'account_id', how='left')\n",
    "\n",
    "h1.dropna(inplace = True)\n",
    "h2.dropna(inplace = True)\n",
    "\n",
    "h1.to_csv('hope1_dropna.csv', index = False)\n",
    "h2.to_csv('hope2_dropna.csv', index = False)"
   ]
  },
  {
   "cell_type": "code",
   "execution_count": null,
   "metadata": {
    "id": "epXLvPXKPkzo"
   },
   "outputs": [],
   "source": [
    "#사용할 변수만 선택\n",
    "love1_ed = love1[['cluster', 'gender_0.0', 'gender_1.0', 'g_age_0.0', 'g_age_1.0', 'g_age_2.0',\n",
    "       'g_age_3.0', 'g_age_4.0', 'g_age_5.0', 'g_age_6.0', 'most_pref_1.0',\n",
    "       'most_pref_2.0', 'most_pref_3.0', 'most_pref_4.0', 'most_pref_5.0',\n",
    "       'most_pref_7.0', 'most_pref_8.0', 'most_pref_9.0', 'most_pref_10.0',\n",
    "       'most_pref_11.0', 'most_pref_12.0', 'most_pref_13.0', 'most_pref_14.0',\n",
    "       'most_pref_15.0', 'most_pref_16.0', 'most_pref_17.0', 'most_pref_19.0',\n",
    "       'most_pref_20.0', 'most_pref_22.0', 'most_pref_23.0', 'most_pref_25.0',\n",
    "       'most_pref_27.0', 'most_pref_29.0', 'most_pref_33.0', 'most_pref_34.0',\n",
    "       'new_pref_0', 'new_pref_1', 'address_is_0', 'address_is_1']]\n",
    "\n",
    "love2_ed = love2[['cluster', 'gender_0.0', 'gender_1.0', 'g_age_0.0', 'g_age_1.0', 'g_age_2.0',\n",
    "       'g_age_3.0', 'g_age_4.0', 'g_age_5.0', 'g_age_6.0', 'most_pref_1.0',\n",
    "       'most_pref_2.0', 'most_pref_3.0', 'most_pref_4.0', 'most_pref_5.0',\n",
    "       'most_pref_7.0', 'most_pref_8.0', 'most_pref_9.0', 'most_pref_10.0',\n",
    "       'most_pref_11.0', 'most_pref_12.0', 'most_pref_13.0', 'most_pref_14.0',\n",
    "       'most_pref_15.0', 'most_pref_16.0', 'most_pref_17.0', 'most_pref_19.0',\n",
    "       'most_pref_20.0', 'most_pref_22.0', 'most_pref_23.0', 'most_pref_25.0',\n",
    "       'most_pref_27.0', 'most_pref_29.0', 'most_pref_33.0', 'most_pref_34.0',\n",
    "       'new_pref_0', 'new_pref_1', 'address_is_0', 'address_is_1']]"
   ]
  },
  {
   "cell_type": "code",
   "execution_count": null,
   "metadata": {
    "id": "L0h-mPhvPmDP"
   },
   "outputs": [],
   "source": [
    "#cluster column\n",
    "cluster = love1_ed.iloc[:,:1]"
   ]
  },
  {
   "cell_type": "code",
   "execution_count": null,
   "metadata": {
    "id": "iBYqQrT5PnD2"
   },
   "outputs": [],
   "source": [
    "#두개합치기\t\n",
    "love_ed = love1_ed.iloc[:,1:].add(love2_ed.iloc[:,1:])"
   ]
  },
  {
   "cell_type": "code",
   "execution_count": null,
   "metadata": {
    "id": "zsXnlBubPmwZ"
   },
   "outputs": [],
   "source": [
    "#cluster, 나머지 변수 합치기\n",
    "love_ed_fffff = pd.merge(cluster, love_ed, left_index = True, right_index = True)"
   ]
  },
  {
   "cell_type": "code",
   "execution_count": null,
   "metadata": {
    "id": "xmuoBsGzPmmZ"
   },
   "outputs": [],
   "source": [
    "#각 변수 분리\n",
    "gender = love_ed_fffff.iloc[:,1:3]\n",
    "g_age = love_ed_fffff.iloc[:,3:10]\n",
    "most_pref = love_ed_fffff.iloc[:,10:35]\n",
    "new_pref = love_ed_fffff.iloc[:,35:37]\n",
    "address = love_ed_fffff.iloc[:,37:]"
   ]
  },
  {
   "cell_type": "code",
   "execution_count": null,
   "metadata": {
    "id": "eh7-CAS9PmcI"
   },
   "outputs": [],
   "source": [
    "#p(product)\n",
    "newp1 = pd.read_csv('newp1.csv', nrows=12000000)\n",
    "newp2 = pd.read_csv('newp2.csv', nrows=12000000)\n",
    "\n",
    "h1 = pd.read_csv('hope1_dropna.csv',nrows=12000000)\n",
    "h2 = pd.read_csv('hope2_dropna.csv',nrows=12000000)\n",
    "\n",
    "h1_new = h1.iloc[:,5:]\n",
    "h2_new = h2.iloc[:,5:]\n",
    "\n",
    "#cluster column 붙이기\n",
    "h1_new = pd.concat([h1['cluster'],h1_new],axis=1)\n",
    "h2_new = pd.concat([h2['cluster'],h2_new],axis=1)"
   ]
  },
  {
   "cell_type": "code",
   "execution_count": null,
   "metadata": {
    "id": "8XbYkvH8P8gP"
   },
   "outputs": [],
   "source": [
    "#h(user) : cluster별 변수 특성 나타내기 위해 1) aggregation(sum)\n",
    "h1_sum = h1_new.groupby('cluster').agg(lambda x:sum(x))\n",
    "h2_sum = h2_new.groupby('cluster').agg(lambda x:sum(x))\n",
    "\n",
    "#두개합치기\n",
    "h_sum = h1_sum.add(h2_sum)\n",
    "\n",
    "#h(user) : cluster별 변수 특성 나타내기 위해 2)aggregation(count)\n",
    "h1_count = h1_new.groupby('cluster').agg(lambda x :x.count())\n",
    "h2_count = h2_new.groupby('cluster').agg(lambda x :x.count())\n",
    "\n",
    "#두개합치기\n",
    "h_count = h1_count.add(h2_count)\n",
    "\n",
    "#h(user) : cluster별 변수 특성 나타내기 위해 3) sum / count (mean)\n",
    "h_fin = h_sum / h_count\n",
    "\n",
    "h_fin.to_csv('wonjinbabo_0628.csv',index=False)"
   ]
  },
  {
   "cell_type": "code",
   "execution_count": null,
   "metadata": {
    "id": "-o1SrhRIQEVK"
   },
   "outputs": [],
   "source": [
    "p1_new = p1.iloc[:, 3:]\n",
    "p2_new = p2.iloc[:, 3:]\n",
    "\n",
    "#p(product) : cluster별 변수 특성 나타내기 위해 1) aggregation(sum)\n",
    "p1_sum = p1_new.groupby('label').agg(lambda x:sum(x))\n",
    "p2_sum = p2_new.groupby('label').agg(lambda x:sum(x))\n",
    "\n",
    "#두개 합치기\n",
    "p_sum = p1_sum.add(p2_sum)\n",
    "\n",
    "#p(product) : cluster별 변수 특성 나타내기 위해 2)aggregation(count)\n",
    "p1_count = p1_new.groupby('label').agg(lambda x :x.count())\n",
    "p2_count = p2_new.groupby('label').agg(lambda x :x.count())\n",
    "\n",
    "#두개합치기\n",
    "p_count = p1_count.add(p2_count)\n",
    "\n",
    "#p(product) : cluster별 변수 특성 나타내기 위해 3) sum / count (mean)\n",
    "p_fin = p_sum / p_count"
   ]
  },
  {
   "cell_type": "markdown",
   "metadata": {
    "id": "XmPg0JIlQHw9"
   },
   "source": [
    "### user100명 후보군 id가져와서 cluster data에 반영(cluster data 중 user 후보군 100명만 추림)"
   ]
  },
  {
   "cell_type": "code",
   "execution_count": null,
   "metadata": {
    "id": "eZsUKv_RQLLt"
   },
   "outputs": [],
   "source": [
    "## data load\n",
    "#user 후보군 100명 데이터 불러와서 cluster data에 적용(100명 데이터로 추림)\n",
    "df_100 = pd.read_csv('~/test_100.csv')\n",
    "user100_list = df_100['account_id'].unique()\n",
    "h1_100 = h1[h1['account_id'].isin(user100_list)]\n",
    "h2_100 = h2[h2['account_id'].isin(user100_list)]\n",
    "h_100 = pd.concat([h1_100, h2_100], axis=0)\n",
    "h_100 = h_100.reset_index()\n",
    "\n",
    "#product feature 데이터도 불러와서 후보군 100명 데이터로 추림\n",
    "newp1 = pd.read_csv('newp1.csv')\n",
    "newp2 = pd.read_csv('newp2.csv')\n",
    "p1_100 = newp1[newp1['account_id'].isin(user100_list)]\n",
    "p2_100 = newp2[newp2['account_id'].isin(user100_list)]\n",
    "p_100 = pd.concat([p1_100, p2_100], axis = 0)\n",
    "p_100 = p_100.reset_index()\n"
   ]
  },
  {
   "cell_type": "code",
   "execution_count": null,
   "metadata": {
    "id": "eECwr6LoQQ3n"
   },
   "outputs": [],
   "source": [
    "#clustering data + product feature data merge\n",
    "df_new = pd.merge(h_100, p_100, on=['account_id','product_id','index','day'])\n",
    "#사용할 변수만 선택\n",
    "df_new = df_new[['index', 'account_id', 'product_id', 'day', 'category_id', 'cluster','label',\n",
    "       'gender_0.0', 'gender_1.0', 'g_age_0.0', 'g_age_1.0', 'g_age_2.0',\n",
    "       'g_age_3.0', 'g_age_4.0', 'g_age_5.0', 'g_age_6.0', 'most_pref_1.0',\n",
    "       'most_pref_2.0', 'most_pref_3.0', 'most_pref_4.0', 'most_pref_5.0',\n",
    "       'most_pref_7.0', 'most_pref_8.0', 'most_pref_9.0', 'most_pref_10.0',\n",
    "       'most_pref_11.0', 'most_pref_12.0', 'most_pref_13.0', 'most_pref_14.0',\n",
    "       'most_pref_15.0', 'most_pref_16.0', 'most_pref_17.0', 'most_pref_19.0',\n",
    "       'most_pref_20.0', 'most_pref_22.0', 'most_pref_23.0', 'most_pref_25.0',\n",
    "       'most_pref_27.0', 'most_pref_29.0', 'most_pref_33.0', 'most_pref_34.0',\n",
    "       'new_pref_0', 'new_pref_1', 'address_is_0', 'address_is_1', \n",
    "       'cat1.0', 'cat2.0', 'cat3.0',\n",
    "         'cat4.0', 'cat5.0', 'cat7.0', 'cat8.0',\n",
    "       'cat9.0', 'cat10.0', 'cat11.0', 'cat12.0', 'cat13.0', 'cat14.0',\n",
    "       'cat15.0', 'cat16.0', 'cat17.0', 'cat19.0', 'cat20.0', 'cat22.0',\n",
    "       'cat23.0', 'cat25.0', 'cat27.0', 'cat29.0', 'cat33.0', 'cat34.0',\n",
    "       'pub0.0', 'pub1.0', 'pub2.0', 'pub3.0', 'pub4.0', 'pri0.0', 'pri1.0',\n",
    "       'pri2.0', 'pri3.0']]\n",
    "#후보군 list index 저장 ; reward 데이터와 맞추기 위해서\n",
    "ind_list = df_new['index'].tolist()"
   ]
  },
  {
   "cell_type": "code",
   "execution_count": null,
   "metadata": {
    "id": "35S5g2mdQUNR"
   },
   "outputs": [],
   "source": [
    "#reward data 불러오기(click해서 구매했는지 여부)\n",
    "reward = pd.read_csv('~/reward.csv')"
   ]
  },
  {
   "cell_type": "code",
   "execution_count": null,
   "metadata": {
    "id": "0gURBspgQV8I"
   },
   "outputs": [],
   "source": [
    "#100명 후보군 관련 데이터 \n",
    "df_new2 = pd.concat([df_new, reward.iloc[ind_list,:]['purchase'].reset_index()],axis=1)\n",
    "df_new2.drop(columns=df_new2.columns[-2],inplace=True)\n",
    "df_new2.to_csv('acc100_train_0701.csv',index=False)"
   ]
  },
  {
   "cell_type": "markdown",
   "source": [
    "## Context_vector"
   ],
   "metadata": {
    "id": "LEgBpBf_bGOu",
    "executionInfo": {
     "status": "ok",
     "timestamp": 1648083367566,
     "user_tz": -540,
     "elapsed": 582,
     "user": {
      "displayName": "‍이상래[ 학부졸업 / 일어일문학과 ]",
      "photoUrl": "https://lh3.googleusercontent.com/a/default-user=s64",
      "userId": "01842756657580376258"
     }
    },
    "pycharm": {
     "name": "#%% md\n"
    }
   }
  },
  {
   "cell_type": "code",
   "source": [
    "import pandas as pd"
   ],
   "metadata": {
    "collapsed": false,
    "pycharm": {
     "name": "#%%\n"
    }
   },
   "execution_count": 2,
   "outputs": []
  },
  {
   "cell_type": "code",
   "execution_count": 5,
   "metadata": {
    "id": "1wzEOObGQfZr",
    "colab": {
     "base_uri": "https://localhost:8080/",
     "height": 423
    },
    "executionInfo": {
     "status": "ok",
     "timestamp": 1648083571636,
     "user_tz": -540,
     "elapsed": 1421,
     "user": {
      "displayName": "‍이상래[ 학부졸업 / 일어일문학과 ]",
      "photoUrl": "https://lh3.googleusercontent.com/a/default-user=s64",
      "userId": "01842756657580376258"
     }
    },
    "outputId": "a887e44e-14fe-460f-ee9d-489a1d675d6d"
   },
   "outputs": [],
   "source": [
    "#test data load\n",
    "df_100 = pd.read_csv('test_100.csv')\n",
    "df_100\n",
    "\n",
    "#user data, product data load\n",
    "user_fin = pd.read_csv('user_dummified_1df_0628.csv')\n",
    "book_fin = pd.read_csv('bookfeature_dummified_0628.csv')"
   ]
  },
  {
   "cell_type": "code",
   "execution_count": 11,
   "outputs": [
    {
     "data": {
      "text/plain": "      account_id  product_id    price  purchase  book_cluster  user_cluster\n0         113512    89940862      0.0       0.0           4.0           3.0\n1         113512    84434768      0.0       0.0           2.0           3.0\n2         113512    74393338      0.0       0.0           2.0           3.0\n3         113512    90108425      0.0       0.0           3.0           3.0\n4         113512    85927898      0.0       0.0           3.0           3.0\n...          ...         ...      ...       ...           ...           ...\n4128    16790454    90061659      0.0       0.0           3.0           1.0\n4129    16790454    89222585  14400.0       1.0           3.0           1.0\n4130    16790454    89903437      0.0       0.0           3.0           1.0\n4131    16790454    90114596      0.0       0.0           3.0           1.0\n4132    16790454    90039222      0.0       0.0           3.0           1.0\n\n[4133 rows x 6 columns]",
      "text/html": "<div>\n<style scoped>\n    .dataframe tbody tr th:only-of-type {\n        vertical-align: middle;\n    }\n\n    .dataframe tbody tr th {\n        vertical-align: top;\n    }\n\n    .dataframe thead th {\n        text-align: right;\n    }\n</style>\n<table border=\"1\" class=\"dataframe\">\n  <thead>\n    <tr style=\"text-align: right;\">\n      <th></th>\n      <th>account_id</th>\n      <th>product_id</th>\n      <th>price</th>\n      <th>purchase</th>\n      <th>book_cluster</th>\n      <th>user_cluster</th>\n    </tr>\n  </thead>\n  <tbody>\n    <tr>\n      <th>0</th>\n      <td>113512</td>\n      <td>89940862</td>\n      <td>0.0</td>\n      <td>0.0</td>\n      <td>4.0</td>\n      <td>3.0</td>\n    </tr>\n    <tr>\n      <th>1</th>\n      <td>113512</td>\n      <td>84434768</td>\n      <td>0.0</td>\n      <td>0.0</td>\n      <td>2.0</td>\n      <td>3.0</td>\n    </tr>\n    <tr>\n      <th>2</th>\n      <td>113512</td>\n      <td>74393338</td>\n      <td>0.0</td>\n      <td>0.0</td>\n      <td>2.0</td>\n      <td>3.0</td>\n    </tr>\n    <tr>\n      <th>3</th>\n      <td>113512</td>\n      <td>90108425</td>\n      <td>0.0</td>\n      <td>0.0</td>\n      <td>3.0</td>\n      <td>3.0</td>\n    </tr>\n    <tr>\n      <th>4</th>\n      <td>113512</td>\n      <td>85927898</td>\n      <td>0.0</td>\n      <td>0.0</td>\n      <td>3.0</td>\n      <td>3.0</td>\n    </tr>\n    <tr>\n      <th>...</th>\n      <td>...</td>\n      <td>...</td>\n      <td>...</td>\n      <td>...</td>\n      <td>...</td>\n      <td>...</td>\n    </tr>\n    <tr>\n      <th>4128</th>\n      <td>16790454</td>\n      <td>90061659</td>\n      <td>0.0</td>\n      <td>0.0</td>\n      <td>3.0</td>\n      <td>1.0</td>\n    </tr>\n    <tr>\n      <th>4129</th>\n      <td>16790454</td>\n      <td>89222585</td>\n      <td>14400.0</td>\n      <td>1.0</td>\n      <td>3.0</td>\n      <td>1.0</td>\n    </tr>\n    <tr>\n      <th>4130</th>\n      <td>16790454</td>\n      <td>89903437</td>\n      <td>0.0</td>\n      <td>0.0</td>\n      <td>3.0</td>\n      <td>1.0</td>\n    </tr>\n    <tr>\n      <th>4131</th>\n      <td>16790454</td>\n      <td>90114596</td>\n      <td>0.0</td>\n      <td>0.0</td>\n      <td>3.0</td>\n      <td>1.0</td>\n    </tr>\n    <tr>\n      <th>4132</th>\n      <td>16790454</td>\n      <td>90039222</td>\n      <td>0.0</td>\n      <td>0.0</td>\n      <td>3.0</td>\n      <td>1.0</td>\n    </tr>\n  </tbody>\n</table>\n<p>4133 rows × 6 columns</p>\n</div>"
     },
     "execution_count": 11,
     "metadata": {},
     "output_type": "execute_result"
    }
   ],
   "source": [
    "df_100"
   ],
   "metadata": {
    "collapsed": false,
    "pycharm": {
     "name": "#%%\n"
    }
   }
  },
  {
   "cell_type": "code",
   "execution_count": 12,
   "outputs": [
    {
     "data": {
      "text/plain": "   account_id  product_id  purchase  book_cluster  user_cluster\n0      100001    88440267       1.0           3.0           3.0\n1      100001    88440267       1.0           3.0           3.0\n2      100001    85951536       1.0           3.0           3.0\n3      100001    85951536       1.0           3.0           3.0\n4      100001    86895523       0.0           3.0           3.0",
      "text/html": "<div>\n<style scoped>\n    .dataframe tbody tr th:only-of-type {\n        vertical-align: middle;\n    }\n\n    .dataframe tbody tr th {\n        vertical-align: top;\n    }\n\n    .dataframe thead th {\n        text-align: right;\n    }\n</style>\n<table border=\"1\" class=\"dataframe\">\n  <thead>\n    <tr style=\"text-align: right;\">\n      <th></th>\n      <th>account_id</th>\n      <th>product_id</th>\n      <th>purchase</th>\n      <th>book_cluster</th>\n      <th>user_cluster</th>\n    </tr>\n  </thead>\n  <tbody>\n    <tr>\n      <th>0</th>\n      <td>100001</td>\n      <td>88440267</td>\n      <td>1.0</td>\n      <td>3.0</td>\n      <td>3.0</td>\n    </tr>\n    <tr>\n      <th>1</th>\n      <td>100001</td>\n      <td>88440267</td>\n      <td>1.0</td>\n      <td>3.0</td>\n      <td>3.0</td>\n    </tr>\n    <tr>\n      <th>2</th>\n      <td>100001</td>\n      <td>85951536</td>\n      <td>1.0</td>\n      <td>3.0</td>\n      <td>3.0</td>\n    </tr>\n    <tr>\n      <th>3</th>\n      <td>100001</td>\n      <td>85951536</td>\n      <td>1.0</td>\n      <td>3.0</td>\n      <td>3.0</td>\n    </tr>\n    <tr>\n      <th>4</th>\n      <td>100001</td>\n      <td>86895523</td>\n      <td>0.0</td>\n      <td>3.0</td>\n      <td>3.0</td>\n    </tr>\n  </tbody>\n</table>\n</div>"
     },
     "execution_count": 12,
     "metadata": {},
     "output_type": "execute_result"
    }
   ],
   "source": [
    "reward = pd.read_csv('reward_10000000_0630.csv')\n",
    "reward.head()"
   ],
   "metadata": {
    "collapsed": false,
    "pycharm": {
     "name": "#%%\n"
    }
   }
  },
  {
   "cell_type": "code",
   "execution_count": 6,
   "metadata": {
    "id": "rkHI9NNwQkcV"
   },
   "outputs": [
    {
     "data": {
      "text/plain": "        product_id  category_id_1  category_id_10  category_id_11  \\\n236       55868083              0               0               0   \n246       55869065              0               0               0   \n340       55936772              0               0               0   \n348       55944631              0               0               0   \n374       55976113              0               0               0   \n...            ...            ...             ...             ...   \n269937    85030922              0               0               0   \n270155    85108883              0               0               0   \n270172    85109178              0               0               0   \n270304    85112006              1               0               0   \n270432    85122333              0               0               0   \n\n        category_id_12  category_id_13  category_id_14  category_id_15  \\\n236                  0               0               0               0   \n246                  0               0               1               0   \n340                  0               0               0               0   \n348                  0               0               0               0   \n374                  0               0               0               0   \n...                ...             ...             ...             ...   \n269937               0               0               0               0   \n270155               0               0               0               0   \n270172               0               0               0               0   \n270304               0               0               0               0   \n270432               0               0               0               0   \n\n        category_id_16  category_id_17  ...  category_id_9  published_0  \\\n236                  0               0  ...              0            0   \n246                  0               0  ...              0            0   \n340                  0               0  ...              0            0   \n348                  0               0  ...              0            0   \n374                  0               0  ...              0            0   \n...                ...             ...  ...            ...          ...   \n269937               0               0  ...              0            0   \n270155               0               0  ...              0            0   \n270172               0               0  ...              0            0   \n270304               0               0  ...              0            1   \n270432               0               0  ...              0            0   \n\n        published_1  published_2  published_3  published_4  book_price_0  \\\n236               0            0            1            0             0   \n246               0            0            1            0             0   \n340               0            0            1            0             0   \n348               0            0            1            0             0   \n374               0            0            1            0             0   \n...             ...          ...          ...          ...           ...   \n269937            1            0            0            0             0   \n270155            1            0            0            0             0   \n270172            1            0            0            0             0   \n270304            0            0            0            0             0   \n270432            1            0            0            0             0   \n\n        book_price_1  book_price_2  book_price_3  \n236                0             1             0  \n246                0             1             0  \n340                0             1             0  \n348                0             1             0  \n374                0             1             0  \n...              ...           ...           ...  \n269937             0             1             0  \n270155             0             1             0  \n270172             0             1             0  \n270304             0             0             1  \n270432             0             1             0  \n\n[1781 rows x 35 columns]",
      "text/html": "<div>\n<style scoped>\n    .dataframe tbody tr th:only-of-type {\n        vertical-align: middle;\n    }\n\n    .dataframe tbody tr th {\n        vertical-align: top;\n    }\n\n    .dataframe thead th {\n        text-align: right;\n    }\n</style>\n<table border=\"1\" class=\"dataframe\">\n  <thead>\n    <tr style=\"text-align: right;\">\n      <th></th>\n      <th>product_id</th>\n      <th>category_id_1</th>\n      <th>category_id_10</th>\n      <th>category_id_11</th>\n      <th>category_id_12</th>\n      <th>category_id_13</th>\n      <th>category_id_14</th>\n      <th>category_id_15</th>\n      <th>category_id_16</th>\n      <th>category_id_17</th>\n      <th>...</th>\n      <th>category_id_9</th>\n      <th>published_0</th>\n      <th>published_1</th>\n      <th>published_2</th>\n      <th>published_3</th>\n      <th>published_4</th>\n      <th>book_price_0</th>\n      <th>book_price_1</th>\n      <th>book_price_2</th>\n      <th>book_price_3</th>\n    </tr>\n  </thead>\n  <tbody>\n    <tr>\n      <th>236</th>\n      <td>55868083</td>\n      <td>0</td>\n      <td>0</td>\n      <td>0</td>\n      <td>0</td>\n      <td>0</td>\n      <td>0</td>\n      <td>0</td>\n      <td>0</td>\n      <td>0</td>\n      <td>...</td>\n      <td>0</td>\n      <td>0</td>\n      <td>0</td>\n      <td>0</td>\n      <td>1</td>\n      <td>0</td>\n      <td>0</td>\n      <td>0</td>\n      <td>1</td>\n      <td>0</td>\n    </tr>\n    <tr>\n      <th>246</th>\n      <td>55869065</td>\n      <td>0</td>\n      <td>0</td>\n      <td>0</td>\n      <td>0</td>\n      <td>0</td>\n      <td>1</td>\n      <td>0</td>\n      <td>0</td>\n      <td>0</td>\n      <td>...</td>\n      <td>0</td>\n      <td>0</td>\n      <td>0</td>\n      <td>0</td>\n      <td>1</td>\n      <td>0</td>\n      <td>0</td>\n      <td>0</td>\n      <td>1</td>\n      <td>0</td>\n    </tr>\n    <tr>\n      <th>340</th>\n      <td>55936772</td>\n      <td>0</td>\n      <td>0</td>\n      <td>0</td>\n      <td>0</td>\n      <td>0</td>\n      <td>0</td>\n      <td>0</td>\n      <td>0</td>\n      <td>0</td>\n      <td>...</td>\n      <td>0</td>\n      <td>0</td>\n      <td>0</td>\n      <td>0</td>\n      <td>1</td>\n      <td>0</td>\n      <td>0</td>\n      <td>0</td>\n      <td>1</td>\n      <td>0</td>\n    </tr>\n    <tr>\n      <th>348</th>\n      <td>55944631</td>\n      <td>0</td>\n      <td>0</td>\n      <td>0</td>\n      <td>0</td>\n      <td>0</td>\n      <td>0</td>\n      <td>0</td>\n      <td>0</td>\n      <td>0</td>\n      <td>...</td>\n      <td>0</td>\n      <td>0</td>\n      <td>0</td>\n      <td>0</td>\n      <td>1</td>\n      <td>0</td>\n      <td>0</td>\n      <td>0</td>\n      <td>1</td>\n      <td>0</td>\n    </tr>\n    <tr>\n      <th>374</th>\n      <td>55976113</td>\n      <td>0</td>\n      <td>0</td>\n      <td>0</td>\n      <td>0</td>\n      <td>0</td>\n      <td>0</td>\n      <td>0</td>\n      <td>0</td>\n      <td>0</td>\n      <td>...</td>\n      <td>0</td>\n      <td>0</td>\n      <td>0</td>\n      <td>0</td>\n      <td>1</td>\n      <td>0</td>\n      <td>0</td>\n      <td>0</td>\n      <td>1</td>\n      <td>0</td>\n    </tr>\n    <tr>\n      <th>...</th>\n      <td>...</td>\n      <td>...</td>\n      <td>...</td>\n      <td>...</td>\n      <td>...</td>\n      <td>...</td>\n      <td>...</td>\n      <td>...</td>\n      <td>...</td>\n      <td>...</td>\n      <td>...</td>\n      <td>...</td>\n      <td>...</td>\n      <td>...</td>\n      <td>...</td>\n      <td>...</td>\n      <td>...</td>\n      <td>...</td>\n      <td>...</td>\n      <td>...</td>\n      <td>...</td>\n    </tr>\n    <tr>\n      <th>269937</th>\n      <td>85030922</td>\n      <td>0</td>\n      <td>0</td>\n      <td>0</td>\n      <td>0</td>\n      <td>0</td>\n      <td>0</td>\n      <td>0</td>\n      <td>0</td>\n      <td>0</td>\n      <td>...</td>\n      <td>0</td>\n      <td>0</td>\n      <td>1</td>\n      <td>0</td>\n      <td>0</td>\n      <td>0</td>\n      <td>0</td>\n      <td>0</td>\n      <td>1</td>\n      <td>0</td>\n    </tr>\n    <tr>\n      <th>270155</th>\n      <td>85108883</td>\n      <td>0</td>\n      <td>0</td>\n      <td>0</td>\n      <td>0</td>\n      <td>0</td>\n      <td>0</td>\n      <td>0</td>\n      <td>0</td>\n      <td>0</td>\n      <td>...</td>\n      <td>0</td>\n      <td>0</td>\n      <td>1</td>\n      <td>0</td>\n      <td>0</td>\n      <td>0</td>\n      <td>0</td>\n      <td>0</td>\n      <td>1</td>\n      <td>0</td>\n    </tr>\n    <tr>\n      <th>270172</th>\n      <td>85109178</td>\n      <td>0</td>\n      <td>0</td>\n      <td>0</td>\n      <td>0</td>\n      <td>0</td>\n      <td>0</td>\n      <td>0</td>\n      <td>0</td>\n      <td>0</td>\n      <td>...</td>\n      <td>0</td>\n      <td>0</td>\n      <td>1</td>\n      <td>0</td>\n      <td>0</td>\n      <td>0</td>\n      <td>0</td>\n      <td>0</td>\n      <td>1</td>\n      <td>0</td>\n    </tr>\n    <tr>\n      <th>270304</th>\n      <td>85112006</td>\n      <td>1</td>\n      <td>0</td>\n      <td>0</td>\n      <td>0</td>\n      <td>0</td>\n      <td>0</td>\n      <td>0</td>\n      <td>0</td>\n      <td>0</td>\n      <td>...</td>\n      <td>0</td>\n      <td>1</td>\n      <td>0</td>\n      <td>0</td>\n      <td>0</td>\n      <td>0</td>\n      <td>0</td>\n      <td>0</td>\n      <td>0</td>\n      <td>1</td>\n    </tr>\n    <tr>\n      <th>270432</th>\n      <td>85122333</td>\n      <td>0</td>\n      <td>0</td>\n      <td>0</td>\n      <td>0</td>\n      <td>0</td>\n      <td>0</td>\n      <td>0</td>\n      <td>0</td>\n      <td>0</td>\n      <td>...</td>\n      <td>0</td>\n      <td>0</td>\n      <td>1</td>\n      <td>0</td>\n      <td>0</td>\n      <td>0</td>\n      <td>0</td>\n      <td>0</td>\n      <td>1</td>\n      <td>0</td>\n    </tr>\n  </tbody>\n</table>\n<p>1781 rows × 35 columns</p>\n</div>"
     },
     "execution_count": 6,
     "metadata": {},
     "output_type": "execute_result"
    }
   ],
   "source": [
    "#df_100(random user 100명 데이터)에 있는 account, user data 추출\n",
    "user100_list = df_100['account_id'].unique()\n",
    "user_fin[user_fin['account_id'].isin(user100_list)]\n",
    "\n",
    "pro100_list = df_100['product_id'].unique()\n",
    "book_fin[book_fin['product_id'].isin(pro100_list)]"
   ]
  },
  {
   "cell_type": "code",
   "execution_count": 7,
   "metadata": {
    "id": "FK_mCYHPQmet"
   },
   "outputs": [],
   "source": [
    "#각 데이터 merge\n",
    "user_context_add = pd.merge(df_100,user_fin,on='account_id',how='left')\n",
    "user_context_add\n",
    "df_100_fin = pd.merge(user_context_add, book_fin, on='product_id',how='left')\n",
    "df_100_fin\n",
    "df_100_fin.to_csv('df100_test_0701.csv',index=False)"
   ]
  },
  {
   "cell_type": "code",
   "execution_count": 23,
   "outputs": [],
   "source": [
    "reward = pd.read_csv('reward_all.csv')"
   ],
   "metadata": {
    "collapsed": false,
    "pycharm": {
     "name": "#%%\n"
    }
   }
  },
  {
   "cell_type": "code",
   "execution_count": null,
   "outputs": [],
   "source": [
    "reward_user = reward[reward['account_id'].isin(user100_list)]\n",
    "reward_fin = reward_user[reward_user['product_id'].isin(pro100_list)]\n",
    "reward_fin.head()"
   ],
   "metadata": {
    "collapsed": false,
    "pycharm": {
     "name": "#%%\n"
    }
   }
  },
  {
   "cell_type": "code",
   "execution_count": 27,
   "outputs": [
    {
     "data": {
      "text/plain": "          account_id  product_id  reward\n366178      11588624    89584750       1\n366179      11588624    89584750       1\n366180      11588624    89584750       1\n366181      11588624    89584750       1\n366182      11588624    89584750       1\n...              ...         ...     ...\n59469465     7866802    90046741       0\n59469466     7866802    84659792       0\n59469467     7866802    90047118       0\n59469468     7866802    90076213       0\n59469469     7866802    78665011       0\n\n[8542 rows x 3 columns]",
      "text/html": "<div>\n<style scoped>\n    .dataframe tbody tr th:only-of-type {\n        vertical-align: middle;\n    }\n\n    .dataframe tbody tr th {\n        vertical-align: top;\n    }\n\n    .dataframe thead th {\n        text-align: right;\n    }\n</style>\n<table border=\"1\" class=\"dataframe\">\n  <thead>\n    <tr style=\"text-align: right;\">\n      <th></th>\n      <th>account_id</th>\n      <th>product_id</th>\n      <th>reward</th>\n    </tr>\n  </thead>\n  <tbody>\n    <tr>\n      <th>366178</th>\n      <td>11588624</td>\n      <td>89584750</td>\n      <td>1</td>\n    </tr>\n    <tr>\n      <th>366179</th>\n      <td>11588624</td>\n      <td>89584750</td>\n      <td>1</td>\n    </tr>\n    <tr>\n      <th>366180</th>\n      <td>11588624</td>\n      <td>89584750</td>\n      <td>1</td>\n    </tr>\n    <tr>\n      <th>366181</th>\n      <td>11588624</td>\n      <td>89584750</td>\n      <td>1</td>\n    </tr>\n    <tr>\n      <th>366182</th>\n      <td>11588624</td>\n      <td>89584750</td>\n      <td>1</td>\n    </tr>\n    <tr>\n      <th>...</th>\n      <td>...</td>\n      <td>...</td>\n      <td>...</td>\n    </tr>\n    <tr>\n      <th>59469465</th>\n      <td>7866802</td>\n      <td>90046741</td>\n      <td>0</td>\n    </tr>\n    <tr>\n      <th>59469466</th>\n      <td>7866802</td>\n      <td>84659792</td>\n      <td>0</td>\n    </tr>\n    <tr>\n      <th>59469467</th>\n      <td>7866802</td>\n      <td>90047118</td>\n      <td>0</td>\n    </tr>\n    <tr>\n      <th>59469468</th>\n      <td>7866802</td>\n      <td>90076213</td>\n      <td>0</td>\n    </tr>\n    <tr>\n      <th>59469469</th>\n      <td>7866802</td>\n      <td>78665011</td>\n      <td>0</td>\n    </tr>\n  </tbody>\n</table>\n<p>8542 rows × 3 columns</p>\n</div>"
     },
     "execution_count": 27,
     "metadata": {},
     "output_type": "execute_result"
    }
   ],
   "source": [
    "reward_fin"
   ],
   "metadata": {
    "collapsed": false,
    "pycharm": {
     "name": "#%%\n"
    }
   }
  },
  {
   "cell_type": "code",
   "execution_count": 28,
   "outputs": [],
   "source": [
    "df_100_fins = pd.merge(df_100_fin, reward_fin, how='left', on=['account_id', 'product_id'])"
   ],
   "metadata": {
    "collapsed": false,
    "pycharm": {
     "name": "#%%\n"
    }
   }
  },
  {
   "cell_type": "code",
   "execution_count": 39,
   "outputs": [],
   "source": [
    "df_100_fins.to_csv('df100_train.csv', index=None)"
   ],
   "metadata": {
    "collapsed": false,
    "pycharm": {
     "name": "#%%\n"
    }
   }
  },
  {
   "cell_type": "code",
   "execution_count": 71,
   "outputs": [],
   "source": [
    "#library import\n",
    "from __future__ import absolute_import\n",
    "from __future__ import division\n",
    "from __future__ import print_function\n",
    "\n",
    "import numpy as np\n",
    "import pandas as pd\n",
    "import tensorflow as tf\n",
    "import time\n",
    "\n",
    "\n",
    "##bandit\n",
    "from bandits.core.contextual_bandit import run_contextual_bandit\n",
    "from bandits.algorithms.linear_full_posterior_sampling import LinearFullPosteriorSampling\n",
    "\n",
    "#load data, data preprocessing\n",
    "from bandits.data.data_sampler import sample_census_data\n",
    "from bandits.data.data_sampler import one_hot,safe_std,remove_underrepresented_classes,classification_to_bandit_problem"
   ],
   "metadata": {
    "collapsed": false,
    "pycharm": {
     "name": "#%%\n"
    }
   }
  },
  {
   "cell_type": "code",
   "execution_count": 36,
   "outputs": [],
   "source": [
    "#결과출력함\n",
    "def display_results(algos, opt_rewards, opt_actions, h_rewards, t_init, name):\n",
    "    \"\"\"Displays summary statistics of the performance of each algorithm.\"\"\"\n",
    "\n",
    "    print('---------------------------------------------------')\n",
    "    print('---------------------------------------------------')\n",
    "    print('{} bandit completed after {} seconds.'.format(\n",
    "        name, time.time() - t_init))\n",
    "    print('---------------------------------------------------')\n",
    "\n",
    "    performance_pairs = []\n",
    "    for j, a in enumerate(algos):\n",
    "        performance_pairs.append((a.name, np.sum(h_rewards[:, j])))\n",
    "    performance_pairs = sorted(performance_pairs,\n",
    "                             key=lambda elt: elt[1],\n",
    "                             reverse=True)\n",
    "    for i, (name, reward) in enumerate(performance_pairs):\n",
    "        print('{:3}) {:20}| \\t \\t total reward = {:10}.'.format(i, name, reward))\n",
    "\n",
    "    print('---------------------------------------------------')\n",
    "    print('Optimal total reward = {}.'.format(np.sum(opt_rewards)))\n",
    "    print('Frequency of optimal actions (action, frequency):')\n",
    "    print([[elt, list(opt_actions).count(elt)] for elt in set(opt_actions)])\n",
    "    print('---------------------------------------------------')\n",
    "    print('---------------------------------------------------')"
   ],
   "metadata": {
    "collapsed": false,
    "pycharm": {
     "name": "#%%\n"
    }
   }
  },
  {
   "cell_type": "code",
   "execution_count": 43,
   "outputs": [],
   "source": [
    "df_100_fin = pd.read_csv('df100_train.csv')\n",
    "df_100_fin.head()"
   ],
   "metadata": {
    "collapsed": false,
    "pycharm": {
     "name": "#%%\n"
    }
   }
  },
  {
   "cell_type": "code",
   "execution_count": 49,
   "outputs": [
    {
     "data": {
      "text/plain": "   account_id  product_id  book_cluster  user_cluster  price  purchase  \\\n0      113512    89940862           4.0           3.0    0.0       0.0   \n1      113512    84434768           2.0           3.0    0.0       0.0   \n2      113512    74393338           2.0           3.0    0.0       0.0   \n3      113512    90108425           3.0           3.0    0.0       0.0   \n4      113512    85927898           3.0           3.0    0.0       0.0   \n\n   gender_0  gender_1  g_age_0  g_age_1  ...  category_id_9  published_0  \\\n0         1         0        0        0  ...              1            0   \n1         1         0        0        0  ...              0            0   \n2         1         0        0        0  ...              0            0   \n3         1         0        0        0  ...              0            1   \n4         1         0        0        0  ...              0            0   \n\n   published_1  published_2  published_3  published_4  book_price_0  \\\n0            0            0            0            1             0   \n1            1            0            0            0             0   \n2            0            1            0            0             0   \n3            0            0            0            0             0   \n4            1            0            0            0             0   \n\n   book_price_1  book_price_2  book_price_3  \n0             0             1             0  \n1             0             1             0  \n2             0             1             0  \n3             1             0             0  \n4             0             1             0  \n\n[5 rows x 78 columns]",
      "text/html": "<div>\n<style scoped>\n    .dataframe tbody tr th:only-of-type {\n        vertical-align: middle;\n    }\n\n    .dataframe tbody tr th {\n        vertical-align: top;\n    }\n\n    .dataframe thead th {\n        text-align: right;\n    }\n</style>\n<table border=\"1\" class=\"dataframe\">\n  <thead>\n    <tr style=\"text-align: right;\">\n      <th></th>\n      <th>account_id</th>\n      <th>product_id</th>\n      <th>book_cluster</th>\n      <th>user_cluster</th>\n      <th>price</th>\n      <th>purchase</th>\n      <th>gender_0</th>\n      <th>gender_1</th>\n      <th>g_age_0</th>\n      <th>g_age_1</th>\n      <th>...</th>\n      <th>category_id_9</th>\n      <th>published_0</th>\n      <th>published_1</th>\n      <th>published_2</th>\n      <th>published_3</th>\n      <th>published_4</th>\n      <th>book_price_0</th>\n      <th>book_price_1</th>\n      <th>book_price_2</th>\n      <th>book_price_3</th>\n    </tr>\n  </thead>\n  <tbody>\n    <tr>\n      <th>0</th>\n      <td>113512</td>\n      <td>89940862</td>\n      <td>4.0</td>\n      <td>3.0</td>\n      <td>0.0</td>\n      <td>0.0</td>\n      <td>1</td>\n      <td>0</td>\n      <td>0</td>\n      <td>0</td>\n      <td>...</td>\n      <td>1</td>\n      <td>0</td>\n      <td>0</td>\n      <td>0</td>\n      <td>0</td>\n      <td>1</td>\n      <td>0</td>\n      <td>0</td>\n      <td>1</td>\n      <td>0</td>\n    </tr>\n    <tr>\n      <th>1</th>\n      <td>113512</td>\n      <td>84434768</td>\n      <td>2.0</td>\n      <td>3.0</td>\n      <td>0.0</td>\n      <td>0.0</td>\n      <td>1</td>\n      <td>0</td>\n      <td>0</td>\n      <td>0</td>\n      <td>...</td>\n      <td>0</td>\n      <td>0</td>\n      <td>1</td>\n      <td>0</td>\n      <td>0</td>\n      <td>0</td>\n      <td>0</td>\n      <td>0</td>\n      <td>1</td>\n      <td>0</td>\n    </tr>\n    <tr>\n      <th>2</th>\n      <td>113512</td>\n      <td>74393338</td>\n      <td>2.0</td>\n      <td>3.0</td>\n      <td>0.0</td>\n      <td>0.0</td>\n      <td>1</td>\n      <td>0</td>\n      <td>0</td>\n      <td>0</td>\n      <td>...</td>\n      <td>0</td>\n      <td>0</td>\n      <td>0</td>\n      <td>1</td>\n      <td>0</td>\n      <td>0</td>\n      <td>0</td>\n      <td>0</td>\n      <td>1</td>\n      <td>0</td>\n    </tr>\n    <tr>\n      <th>3</th>\n      <td>113512</td>\n      <td>90108425</td>\n      <td>3.0</td>\n      <td>3.0</td>\n      <td>0.0</td>\n      <td>0.0</td>\n      <td>1</td>\n      <td>0</td>\n      <td>0</td>\n      <td>0</td>\n      <td>...</td>\n      <td>0</td>\n      <td>1</td>\n      <td>0</td>\n      <td>0</td>\n      <td>0</td>\n      <td>0</td>\n      <td>0</td>\n      <td>1</td>\n      <td>0</td>\n      <td>0</td>\n    </tr>\n    <tr>\n      <th>4</th>\n      <td>113512</td>\n      <td>85927898</td>\n      <td>3.0</td>\n      <td>3.0</td>\n      <td>0.0</td>\n      <td>0.0</td>\n      <td>1</td>\n      <td>0</td>\n      <td>0</td>\n      <td>0</td>\n      <td>...</td>\n      <td>0</td>\n      <td>0</td>\n      <td>1</td>\n      <td>0</td>\n      <td>0</td>\n      <td>0</td>\n      <td>0</td>\n      <td>0</td>\n      <td>1</td>\n      <td>0</td>\n    </tr>\n  </tbody>\n</table>\n<p>5 rows × 78 columns</p>\n</div>"
     },
     "execution_count": 49,
     "metadata": {},
     "output_type": "execute_result"
    }
   ],
   "source": [
    "df_100_fin.head()"
   ],
   "metadata": {
    "collapsed": false,
    "pycharm": {
     "name": "#%%\n"
    }
   }
  },
  {
   "cell_type": "code",
   "execution_count": 51,
   "outputs": [
    {
     "data": {
      "text/plain": "array([4., 2., 3., 0., 1.])"
     },
     "execution_count": 51,
     "metadata": {},
     "output_type": "execute_result"
    }
   ],
   "source": [
    "df_100_fin['book_cluster'].unique()"
   ],
   "metadata": {
    "collapsed": false,
    "pycharm": {
     "name": "#%%\n"
    }
   }
  },
  {
   "cell_type": "code",
   "execution_count": 102,
   "outputs": [],
   "source": [
    "def clf_to_bandit_problem(contexts, labels, num_actions=None):\n",
    "  \"\"\"Normalize contexts and encode deterministic rewards.\"\"\"\n",
    "\n",
    "  if num_actions is None:\n",
    "    num_actions = np.max(labels) + 1\n",
    "  num_contexts = contexts.shape[0]\n",
    "\n",
    "  # Due to random subsampling in small problems, some features may be constant\n",
    "  #sstd = safe_std(np.std(contexts, axis=0, keepdims=True)[0, :])\n",
    "\n",
    "  # Normalize features\n",
    "  #contexts = ((contexts - np.mean(contexts, axis=0, keepdims=True)) / sstd)\n",
    "  # One hot encode labels as rewards\n",
    "  rewards = np.zeros((num_contexts, num_actions))\n",
    "  rewards[np.arange(num_contexts), labels] = 1.0\n",
    "\n",
    "  return contexts, rewards, (np.ones(num_contexts), labels)"
   ],
   "metadata": {
    "collapsed": false,
    "pycharm": {
     "name": "#%%\n"
    }
   }
  },
  {
   "cell_type": "code",
   "execution_count": 104,
   "outputs": [
    {
     "name": "stdout",
     "output_type": "stream",
     "text": [
      "True\n",
      "Unique classes and their ratio of total: {0: 0.09040291556995343, 1: 0.12234257946952824, 2: 0.12244381453735574, 3: 0.5738509819801579, 4: 0.09095970844300466}\n"
     ]
    }
   ],
   "source": [
    "#data load\n",
    "num_actions = 5\n",
    "df_100_fin = pd.read_csv('df100_train.csv')\n",
    "df_100_fin['purchase'] = df_100_fin['reward']\n",
    "print(len(df_100_fin[df_100_fin['purchase'] == df_100_fin['reward']]) == len(df_100_fin))\n",
    "df_100_fin.drop('reward', axis=1, inplace=True)\n",
    "\n",
    "#context data와 label data로 나눔\n",
    "df_context = df_100_fin.iloc[:,6:]\n",
    "labels = df_100_fin.iloc[:,4].astype('int8').values\n",
    "\n",
    "#underrepresented label 삭제\n",
    "df_context, labels = remove_underrepresented_classes(df_context, labels)\n",
    "contexts = df_context.values\n",
    "\n",
    "#데이터 전처리 후 context, label, opt_reward, opt_action으로 데이터 나눔\n",
    "sampled_vals = clf_to_bandit_problem(contexts, labels, num_actions)\n",
    "contexts, rewards, (opt_rewards, opt_actions) = sampled_vals"
   ],
   "metadata": {
    "collapsed": false,
    "pycharm": {
     "name": "#%%\n"
    }
   }
  },
  {
   "cell_type": "code",
   "execution_count": null,
   "outputs": [],
   "source": [
    "dataset = np.hstack((contexts, reward))\n",
    "context_dim = contexts.shape[1]"
   ],
   "metadata": {
    "collapsed": false,
    "pycharm": {
     "name": "#%%\n"
    }
   }
  },
  {
   "cell_type": "code",
   "execution_count": 105,
   "outputs": [
    {
     "ename": "AttributeError",
     "evalue": "module 'tensorflow' has no attribute 'contrib'",
     "output_type": "error",
     "traceback": [
      "\u001B[0;31m---------------------------------------------------------------------------\u001B[0m",
      "\u001B[0;31mAttributeError\u001B[0m                            Traceback (most recent call last)",
      "\u001B[0;32m/var/folders/hr/gb6mblx17c92hbbhpn97s24m0000gn/T/ipykernel_12564/3989827738.py\u001B[0m in \u001B[0;36m<module>\u001B[0;34m\u001B[0m\n\u001B[1;32m      1\u001B[0m \u001B[0;31m#hyper parameter 설정\u001B[0m\u001B[0;34m\u001B[0m\u001B[0;34m\u001B[0m\u001B[0;34m\u001B[0m\u001B[0m\n\u001B[0;32m----> 2\u001B[0;31m \u001B[0mhparams\u001B[0m \u001B[0;34m=\u001B[0m \u001B[0mtf\u001B[0m\u001B[0;34m.\u001B[0m\u001B[0mcontrib\u001B[0m\u001B[0;34m.\u001B[0m\u001B[0mtraining\u001B[0m\u001B[0;34m.\u001B[0m\u001B[0mHParams\u001B[0m\u001B[0;34m(\u001B[0m\u001B[0mnum_actions\u001B[0m\u001B[0;34m=\u001B[0m\u001B[0mnum_actions\u001B[0m\u001B[0;34m)\u001B[0m\u001B[0;34m\u001B[0m\u001B[0;34m\u001B[0m\u001B[0m\n\u001B[0m\u001B[1;32m      3\u001B[0m hparams_linear = tf.contrib.training.HParams(num_actions=num_actions,\n\u001B[1;32m      4\u001B[0m                                                \u001B[0mcontext_dim\u001B[0m\u001B[0;34m=\u001B[0m\u001B[0mcontext_dim\u001B[0m\u001B[0;34m,\u001B[0m\u001B[0;34m\u001B[0m\u001B[0;34m\u001B[0m\u001B[0m\n\u001B[1;32m      5\u001B[0m                                                \u001B[0ma0\u001B[0m\u001B[0;34m=\u001B[0m\u001B[0;36m6\u001B[0m\u001B[0;34m,\u001B[0m\u001B[0;34m\u001B[0m\u001B[0;34m\u001B[0m\u001B[0m\n",
      "\u001B[0;31mAttributeError\u001B[0m: module 'tensorflow' has no attribute 'contrib'"
     ]
    }
   ],
   "source": [
    "#hyper parameter 설정\n",
    "hparams = tf.contrib.training.HParams(num_actions=num_actions)\n",
    "hparams_linear = tf.contrib.training.HParams(num_actions=num_actions,\n",
    "                                               context_dim=context_dim,\n",
    "                                               a0=6,\n",
    "                                              b0=6,\n",
    "                                               lambda_prior=0.25,\n",
    "                                               initial_pulls=2)"
   ],
   "metadata": {
    "collapsed": false,
    "pycharm": {
     "name": "#%%\n"
    }
   }
  },
  {
   "cell_type": "code",
   "execution_count": null,
   "outputs": [],
   "source": [
    "#algorithm > linearFullPosteriorSampling 사용\n",
    "algos = [LinearFullPosteriorSampling('LinFullPost', hparams_linear)]\n",
    "\n",
    "t_init2 = time.time()\n",
    "results2 = run_contextual_bandit(context_dim, num_actions, dataset2, algos)"
   ],
   "metadata": {
    "collapsed": false,
    "pycharm": {
     "name": "#%%\n"
    }
   }
  },
  {
   "cell_type": "markdown",
   "source": [
    "## 부록-simple model"
   ],
   "metadata": {
    "collapsed": false
   }
  },
  {
   "cell_type": "code",
   "execution_count": null,
   "outputs": [],
   "source": [],
   "metadata": {
    "collapsed": false,
    "pycharm": {
     "name": "#%%\n"
    }
   }
  }
 ],
 "metadata": {
  "colab": {
   "collapsed_sections": [],
   "name": "YES24_Recommendation2.ipynb",
   "provenance": []
  },
  "kernelspec": {
   "display_name": "Python 3",
   "name": "python3"
  },
  "accelerator": "TPU"
 },
 "nbformat": 4,
 "nbformat_minor": 0
}